{
 "cells": [
  {
   "cell_type": "code",
   "execution_count": 5,
   "metadata": {},
   "outputs": [
    {
     "ename": "NameError",
     "evalue": "name 'dataset' is not defined",
     "output_type": "error",
     "traceback": [
      "\u001b[0;31m---------------------------------------------------------------------------\u001b[0m",
      "\u001b[0;31mNameError\u001b[0m                                 Traceback (most recent call last)",
      "Cell \u001b[0;32mIn[5], line 15\u001b[0m\n\u001b[1;32m     13\u001b[0m one \u001b[38;5;241m=\u001b[39m dl\u001b[38;5;241m.\u001b[39mfrom_csv(\u001b[38;5;124m\"\u001b[39m\u001b[38;5;124m151_ideas_updated2.csv\u001b[39m\u001b[38;5;124m\"\u001b[39m,)\n\u001b[1;32m     14\u001b[0m \u001b[38;5;66;03m# one = dl.from_csv(\"151_ideas_updated2.csv\", fields=\"(Ideas\"),input_keys=(\"Ideas\")\u001b[39;00m\n\u001b[0;32m---> 15\u001b[0m sampled_example \u001b[38;5;241m=\u001b[39m dl\u001b[38;5;241m.\u001b[39msample(\u001b[43mdataset\u001b[49m, n\u001b[38;5;241m=\u001b[39m\u001b[38;5;241m5\u001b[39m) \u001b[38;5;66;03m# `dataset` is a List of dspy.Example\u001b[39;00m\n\u001b[1;32m     17\u001b[0m \u001b[38;5;66;03m# Example usage of answer_passage_match with data from the CSV\u001b[39;00m\n\u001b[1;32m     18\u001b[0m \u001b[38;5;66;03m# for index, row in csv_data.iterrows():\u001b[39;00m\n\u001b[1;32m     19\u001b[0m \u001b[38;5;66;03m#     example = {\u001b[39;00m\n\u001b[0;32m   (...)\u001b[0m\n\u001b[1;32m     27\u001b[0m \u001b[38;5;66;03m#     match_score = dspy.evaluate.metrics.answer_passage_match(example, pred)\u001b[39;00m\n\u001b[1;32m     28\u001b[0m \u001b[38;5;66;03m#     print(f\"Row {index} Match Score: {match_score}\")\u001b[39;00m\n",
      "\u001b[0;31mNameError\u001b[0m: name 'dataset' is not defined"
     ]
    }
   ],
   "source": [
    "import pandas as pd\n",
    "import dspy\n",
    "from dspy.datasets import DataLoader\n",
    "\n",
    "dl = DataLoader()\n",
    "\n",
    "\n",
    "\n",
    "# Load the CSV file\n",
    "csv_path = \"151_ideas_updated2.csv\"\n",
    "csv_data = pd.read_csv(csv_path)\n",
    "\n",
    "one = dl.from_csv(\"151_ideas_updated2.csv\",)\n",
    "# one = dl.from_csv(\"151_ideas_updated2.csv\", fields=\"(Ideas\"),input_keys=(\"Ideas\")\n",
    "sampled_example = dl.sample(d, n=5) # `dataset` is a List of dspy.Example\n",
    "\n",
    "# Example usage of answer_passage_match with data from the CSV\n",
    "# for index, row in csv_data.iterrows():\n",
    "#     example = {\n",
    "#         'answer': row['Ideas']  # Replace with the actual column name for expected answers\n",
    "#     }\n",
    "#     pred = {\n",
    "#         'context': row['Ideas']  # Replace with the actual column name for context\n",
    "#     }\n",
    "    \n",
    "#     # Use the answer_passage_match function\n",
    "#     match_score = dspy.evaluate.metrics.answer_passage_match(example, pred)\n",
    "#     print(f\"Row {index} Match Score: {match_score}\")\n"
   ]
  }
 ],
 "metadata": {
  "kernelspec": {
   "display_name": "nunu24",
   "language": "python",
   "name": "python3"
  },
  "language_info": {
   "codemirror_mode": {
    "name": "ipython",
    "version": 3
   },
   "file_extension": ".py",
   "mimetype": "text/x-python",
   "name": "python",
   "nbconvert_exporter": "python",
   "pygments_lexer": "ipython3",
   "version": "3.12.7"
  }
 },
 "nbformat": 4,
 "nbformat_minor": 2
}
