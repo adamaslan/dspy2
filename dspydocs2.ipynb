{
 "cells": [
  {
   "cell_type": "code",
   "execution_count": null,
   "metadata": {},
   "outputs": [
    {
     "ename": "SyntaxError",
     "evalue": "unmatched ')' (3471240795.py, line 13)",
     "output_type": "error",
     "traceback": [
      "\u001b[0;36m  Cell \u001b[0;32mIn[2], line 13\u001b[0;36m\u001b[0m\n\u001b[0;31m    one = dl.from_csv(\"151_ideas_updated2.csv\", fields=\"(Ideas\"),input_keys=(\"Ideas\"))\u001b[0m\n\u001b[0m                                                                                     ^\u001b[0m\n\u001b[0;31mSyntaxError\u001b[0m\u001b[0;31m:\u001b[0m unmatched ')'\n"
     ]
    }
   ],
   "source": [
    "import pandas as pd\n",
    "import dspy\n",
    "from dspy.datasets import DataLoader\n",
    "\n",
    "dl = DataLoader()\n",
    "\n",
    "\n",
    "\n",
    "# Load the CSV file\n",
    "csv_path = \"151_ideas_updated2.csv\"\n",
    "csv_data = pd.read_csv(csv_path)\n",
    "\n",
    "one = dl.from_csv(\"151_ideas_updated2.csv\", fields=\"(Ideas\"),input_keys=(\"Ideas\")\n",
    "\n",
    "\n",
    "# Example usage of answer_passage_match with data from the CSV\n",
    "for index, row in csv_data.iterrows():\n",
    "    example = {\n",
    "        'answer': row['Ideas']  # Replace with the actual column name for expected answers\n",
    "    }\n",
    "    pred = {\n",
    "        'context': row['Ideas']  # Replace with the actual column name for context\n",
    "    }\n",
    "    \n",
    "    # Use the answer_passage_match function\n",
    "    match_score = dspy.evaluate.metrics.answer_passage_match(example, pred)\n",
    "    print(f\"Row {index} Match Score: {match_score}\")\n"
   ]
  }
 ],
 "metadata": {
  "kernelspec": {
   "display_name": "nunu24",
   "language": "python",
   "name": "python3"
  },
  "language_info": {
   "codemirror_mode": {
    "name": "ipython",
    "version": 3
   },
   "file_extension": ".py",
   "mimetype": "text/x-python",
   "name": "python",
   "nbconvert_exporter": "python",
   "pygments_lexer": "ipython3",
   "version": "3.12.7"
  }
 },
 "nbformat": 4,
 "nbformat_minor": 2
}
