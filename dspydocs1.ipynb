{
 "cells": [
  {
   "cell_type": "code",
   "execution_count": 5,
   "metadata": {},
   "outputs": [
    {
     "ename": "IndexError",
     "evalue": "list index out of range",
     "output_type": "error",
     "traceback": [
      "\u001b[0;31m---------------------------------------------------------------------------\u001b[0m",
      "\u001b[0;31mIndexError\u001b[0m                                Traceback (most recent call last)",
      "Cell \u001b[0;32mIn[5], line 5\u001b[0m\n\u001b[1;32m      2\u001b[0m lm \u001b[38;5;241m=\u001b[39m dspy\u001b[38;5;241m.\u001b[39mLM(\u001b[38;5;124m'\u001b[39m\u001b[38;5;124mollama_chat/llama3.2\u001b[39m\u001b[38;5;124m'\u001b[39m, api_base\u001b[38;5;241m=\u001b[39m\u001b[38;5;124m'\u001b[39m\u001b[38;5;124mhttp://localhost:11434\u001b[39m\u001b[38;5;124m'\u001b[39m)\n\u001b[1;32m      3\u001b[0m dspy\u001b[38;5;241m.\u001b[39mconfigure(lm\u001b[38;5;241m=\u001b[39mlm)\n\u001b[0;32m----> 5\u001b[0m \u001b[43mlm\u001b[49m\u001b[38;5;241;43m.\u001b[39;49m\u001b[43mhistory\u001b[49m\u001b[43m[\u001b[49m\u001b[38;5;241;43m-\u001b[39;49m\u001b[38;5;241;43m1\u001b[39;49m\u001b[43m]\u001b[49m\u001b[38;5;241m.\u001b[39mkeys()  \u001b[38;5;66;03m# access the last call to the LM, with all metadata\u001b[39;00m\n",
      "\u001b[0;31mIndexError\u001b[0m: list index out of range"
     ]
    }
   ],
   "source": [
    "import dspy\n",
    "lm = dspy.LM('ollama_chat/llama3.2', api_base='http://localhost:11434')\n",
    "dspy.configure(lm=lm)\n",
    "\n",
    "# lm.history[-1].keys()  # access the last call to the LM, with all metadata\n",
    "\n"
   ]
  },
  {
   "cell_type": "code",
   "execution_count": 4,
   "metadata": {},
   "outputs": [
    {
     "data": {
      "text/plain": [
       "1"
      ]
     },
     "execution_count": 4,
     "metadata": {},
     "output_type": "execute_result"
    }
   ],
   "source": [
    "len(lm.history) "
   ]
  },
  {
   "cell_type": "code",
   "execution_count": 8,
   "metadata": {},
   "outputs": [
    {
     "data": {
      "text/plain": [
       "True"
      ]
     },
     "execution_count": 8,
     "metadata": {},
     "output_type": "execute_result"
    }
   ],
   "source": [
    "sentence = \"the power of pettiness\"  # example from the SST-2 dataset.\n",
    "\n",
    "classify = dspy.Predict('sentence -> sentiment: bool')  # we'll see an example with Literal[] later\n",
    "classify(sentence=sentence).sentiment\n",
    "# question = \"How do the rhizome and lines of flight relate to Deleuze?\"\n",
    "# rag(context=search_wikipedia(question), question=question)"
   ]
  },
  {
   "cell_type": "code",
   "execution_count": null,
   "metadata": {},
   "outputs": [],
   "source": []
  },
  {
   "cell_type": "code",
   "execution_count": 6,
   "metadata": {},
   "outputs": [
    {
     "name": "stdout",
     "output_type": "stream",
     "text": [
      "Result: 1) Maximize the Beauty - fully channel the beauty with in. Maybe ask what makes this moment beautiful? See if beauty can be increased in every situation. MtB also could be taken as a use of reason and also a disciplining of the senses to focus on beauty (i.e. all the pretty flowers, all the pretty birds). (Update 3-16-21 -This is one of the first 4 points created because they were on the top of my mind when I first started this project. Maximize the Beauty and Full Expression still are some of the concepts I am most influenced by, create an ethos around, consider to be primary to my concept of virtue, and aim to implement as much as possible.) \n",
      "Result: 30) feminism - gitty up! Update 2-19-19 Feminism is important to me because I see half the population of the world suffering from a patriarchical prejudice that is stunting the growth of civilization. If that’s not enough to be a feminist, I don’t know what is. Prejudice is inherently dumb. Patriarchy is a biased archaic system. Any ways I say gitty up because its little traveled territory for men to have a legit opinion on feminist issues, but if you see something say something, right? Taking the concept of full expression as an example of maximized beauty, we see its extreme importance in all of our lives. Older but mildly edited writing It’s about comfort to express fully - inequality runs deep - share your beautiful life grrrl! Be all you and that’s all you need to be satisfied… But for real tho sex positive feminism…. can’t say enough about it. You see in sexuality there’s a power of agenda (i.e. who sets the agenda is the powerful one). In that sense, feminist sexuality exists wherever women are controlling or have an equal role in the sexual agenda. I would also argue that feminist sexuality exists wherever women are satisfied with the sexual agenda or satisfied with their decision to engage in a sexual act even if they are totally lacking any control of the agenda. Update 2-19-19 – Is there a backlash against sex positivity in 2019? Could it be just a general distaste in men? Or could it be the influence of fascism in the world? Are we subtly acting more fascist towards how we approach sex?\n",
      "Result: 49) Satisfied – Frank Sinatra like Erin Prom Virginity off to College Ideals of Love<-- Romance & ageless Like Gramma Basement Dance Parties This Point is like 19 points – but it all surrounds Frank Sinatra Love and Satisfaction. First, there’s the ideals behind the music of Frank Sinatra which highlight a satisfaction with monogamous romantic love in all its ageless glory. I then give two anecdotes. The first is about my first real monogamous love Erin who I went to prom with, lost my virginity to, and continued to date my freshman year into my sophomore year. There was an agelessness to our senior prom that inspires me to love that moment in time to this day. The prom photos help. Also that time connects to the story my grandma told me about her friends dancing in their basement to these songs from the who knows when, but obviously from the 20’s to mid-40s would be my guess. All of this points to the ideals of love which state: a) Love involves the romantic events that truly fulfill us. b) The emotion of romantic love provides true satisfaction. c) Loving relationships are the poetry of human interactions. Affection as a deeper human beauty. \n"
     ]
    }
   ],
   "source": [
    "import pandas as pd\n",
    "from typing import List, Union\n",
    "\n",
    "class ColBERTv2:\n",
    "    def __init__(self, csv_path: str):\n",
    "        # Load the CSV into a DataFrame\n",
    "        self.data = pd.read_csv(csv_path)\n",
    "        # Ensure there is a column named \"Ideas\" to search\n",
    "        if \"Ideas\" not in self.data.columns:\n",
    "            raise ValueError(\"CSV must contain a column named 'Ideas'.\")\n",
    "\n",
    "    def __call__(self, query: str, k: int = 10, simplify: bool = False) -> Union[List[str], List[dict]]:\n",
    "        # Perform a simple search through the \"Ideas\" column\n",
    "        results = []\n",
    "        for idea in self.data[\"Ideas\"]:\n",
    "            if query.lower() in idea.lower():  # Basic substring matching\n",
    "                results.append(idea)\n",
    "                if len(results) >= k:\n",
    "                    break\n",
    "\n",
    "        if simplify:\n",
    "            return results  # List of strings\n",
    "        else:\n",
    "            return [{\"text\": idea} for idea in results]  # List of dictionaries\n",
    "\n",
    "# Usage Example\n",
    "csv_path = \"151_ideas_updated2.csv\"  # Path to your CSV file\n",
    "\n",
    "# Initialize the ColBERTv2 class with the CSV file\n",
    "colbert = ColBERTv2(csv_path)\n",
    "\n",
    "# Example query\n",
    "query = \"beauty\"\n",
    "results = colbert(query, k=3, simplify=True)\n",
    "\n",
    "# Display results\n",
    "for result in results:\n",
    "    print(\"Result:\", result)\n"
   ]
  },
  {
   "cell_type": "code",
   "execution_count": 7,
   "metadata": {},
   "outputs": [
    {
     "data": {
      "text/plain": [
       "Prediction(\n",
       "    reasoning=\"The concept of maximizing beauty is complex and can be approached from different philosophical and psychological perspectives. From a hedonistic standpoint, beauty can be seen as a means to achieve pleasure and happiness. However, this perspective raises questions about the nature of beauty itself, as it is often tied to cultural and societal norms.\\n\\nIn the context of the feminine beauty ideal, maximizing beauty may involve conforming to certain standards of physical attractiveness, which can have negative psychological effects such as depression, eating disorders, and low self-esteem. This highlights the need for a more nuanced understanding of beauty that prioritizes individuality and self-acceptance over societal expectations.\\n\\nFrom an aesthetic perspective, beauty is often seen as a subjective experience that varies from person to person. Maximizing beauty may involve exploring and expressing one's own unique sense of style and aesthetics, rather than striving for an idealized or universal definition of beauty.\",\n",
       "    response=\"Maximizing beauty is a highly individualized and context-dependent pursuit. While some may strive for physical perfection, others may focus on cultivating inner qualities such as kindness, empathy, and self-acceptance. Ultimately, the concept of maximizing beauty requires a deep understanding of one's own values, needs, and desires.\\n\\nIt's also worth noting that the idea of maximizing beauty can be problematic, as it often perpetuates unrealistic expectations and reinforces societal norms that can have negative consequences for mental health and well-being. A more inclusive and diverse definition of beauty may prioritize diversity, individuality, and self-expression over traditional notions of physical attractiveness.\"\n",
       ")"
      ]
     },
     "execution_count": 7,
     "metadata": {},
     "output_type": "execute_result"
    }
   ],
   "source": [
    "sentence = \"maximize the beauty.\"  # example from the SST-2 dataset.\n",
    "\n",
    "classify = dspy.Predict('sentence -> sentiment: bool')  # we'll see an example with Literal[] later\n",
    "classify(sentence=sentence).sentiment\n",
    "\n",
    "question = \"How do you maximize the beauty?\"\n",
    "rag(context=search_wikipedia(question), question=question)"
   ]
  },
  {
   "cell_type": "code",
   "execution_count": 13,
   "metadata": {},
   "outputs": [
    {
     "name": "stdout",
     "output_type": "stream",
     "text": [
      "Prediction(\n",
      "    reasoning='Pettiness can be defined as behavior that is petty, mean-spirited, or vindictive. It often involves taking small, insignificant actions to cause annoyance or harm to others.',\n",
      "    response=\"The power of pettiness lies in its ability to create a toxic environment and undermine relationships. When individuals engage in petty behavior, it can escalate quickly, causing more harm than intended. Pettiness can also be a coping mechanism for people dealing with their own emotions, such as anger or frustration. However, it's essential to recognize that pettiness is not an effective way to resolve conflicts or address issues.\"\n",
      ")\n"
     ]
    }
   ],
   "source": [
    "import pandas as pd\n",
    "import dspy\n",
    "from typing import List\n",
    "\n",
    "# Custom ColBERTv2 class for CSV-based search\n",
    "class ColBERTv2:\n",
    "    def __init__(self, csv_path: str):\n",
    "        self.data = pd.read_csv(csv_path)\n",
    "        if \"Ideas\" not in self.data.columns:\n",
    "            raise ValueError(\"CSV must contain a column named 'Ideas'.\")\n",
    "\n",
    "    def __call__(self, query: str, k: int = 10, simplify: bool = False) -> List[dict]:\n",
    "        # Simple substring match search\n",
    "        results = []\n",
    "        for idea in self.data[\"Ideas\"]:\n",
    "            if query.lower() in idea.lower():\n",
    "                results.append({\"text\": idea})\n",
    "                if len(results) >= k:\n",
    "                    break\n",
    "        return results if not simplify else [x[\"text\"] for x in results]\n",
    "\n",
    "# Initialize the ColBERTv2 instance with your CSV file\n",
    "colbertv2_csv = ColBERTv2(csv_path=\"151_ideas_updated2.csv\")\n",
    "\n",
    "\n",
    "# Adapted search function\n",
    "def search_csv(query: str) -> List[str]:\n",
    "    results = colbertv2_csv(query, k=3, simplify=True)\n",
    "    return results\n",
    "\n",
    "# DSPy ChainOfThought setup\n",
    "rag = dspy.ChainOfThought(\"context, question -> response\")\n",
    "\n",
    "# Example question\n",
    "question = \"what is the power of pettiness?\"\n",
    "\n",
    "# Pass context from the CSV search to the ChainOfThought model\n",
    "response = rag(context=search_csv(question), question=question)\n",
    "\n",
    "# Output response\n",
    "print(response)\n"
   ]
  },
  {
   "cell_type": "code",
   "execution_count": 22,
   "metadata": {},
   "outputs": [
    {
     "name": "stdout",
     "output_type": "stream",
     "text": [
      "Context: ['No exact matches found in the CSV, but here are some ideas to consider.']\n",
      "Response: Prediction(\n",
      "    reasoning='The concept of maximizing beauty is subjective and can vary greatly depending on personal taste, cultural background, and individual experiences. Beauty can be found in nature, art, architecture, or even everyday moments.',\n",
      "    response=\"While there's no one-size-fits-all approach to maximizing beauty, here are a few ideas to consider: appreciating the small things in life, finding joy in creative pursuits, cultivating meaningful relationships, and embracing diversity in all its forms. Ultimately, beauty is a personal and ever-evolving experience that can be discovered and nurtured with an open heart and mind.\"\n",
      ")\n"
     ]
    }
   ],
   "source": [
    "import pandas as pd\n",
    "import dspy\n",
    "from typing import List\n",
    "\n",
    "# Enhanced ColBERTv2 class for CSV-based search\n",
    "class ColBERTv2:\n",
    "    def __init__(self, csv_path: str):\n",
    "        self.data = pd.read_csv(csv_path)\n",
    "        if \"Ideas\" not in self.data.columns:\n",
    "            raise ValueError(\"CSV must contain a column named 'Ideas'.\")\n",
    "\n",
    "    def __call__(self, query: str, k: int = 10, simplify: bool = False) -> List[dict]:\n",
    "        # Perform substring match search\n",
    "        results = []\n",
    "        for idea in self.data[\"Ideas\"]:\n",
    "            if query.lower() in idea.lower():  # Basic match\n",
    "                results.append({\"text\": idea})\n",
    "                if len(results) >= k:\n",
    "                    break\n",
    "        return results if not simplify else [x[\"text\"] for x in results]\n",
    "\n",
    "# Initialize the ColBERTv2 instance with your CSV file\n",
    "colbertv2_csv = ColBERTv2(csv_path=\"151_ideas_updated2.csv\")\n",
    "\n",
    "# Adapted search function\n",
    "def search_csv(query: str) -> List[str]:\n",
    "    results = colbertv2_csv(query, k=3, simplify=True)\n",
    "    if not results:  # If no matches found, include a default context\n",
    "        results = [\"No exact matches found in the CSV, but here are some ideas to consider.\"]\n",
    "    return results\n",
    "\n",
    "# Correct DSPy ChainOfThought setup\n",
    "rag = dspy.ChainOfThought(\"context, question -> response\")\n",
    "\n",
    "# Example question\n",
    "question = \"How do you maximize the beauty?\"\n",
    "\n",
    "# Pass context from the CSV search to the ChainOfThought model\n",
    "context = search_csv(question)\n",
    "response = rag(context=context, question=question)\n",
    "\n",
    "# Output response\n",
    "print(\"Context:\", context)\n",
    "print(\"Response:\", response)\n"
   ]
  },
  {
   "cell_type": "code",
   "execution_count": 28,
   "metadata": {},
   "outputs": [
    {
     "name": "stderr",
     "output_type": "stream",
     "text": [
      "2025/01/14 17:37:14 INFO dspy.teleprompt.mipro_optimizer_v2: \n",
      "RUNNING WITH THE FOLLOWING MEDIUM AUTO RUN SETTINGS:\n",
      "num_trials: 25\n",
      "minibatch: False\n",
      "num_candidates: 19\n",
      "valset size: 1\n",
      "\n"
     ]
    },
    {
     "name": "stdout",
     "output_type": "stream",
     "text": [
      "Optimizing RAG system...\n"
     ]
    },
    {
     "name": "stderr",
     "output_type": "stream",
     "text": [
      "2025/01/14 17:38:44 INFO dspy.teleprompt.mipro_optimizer_v2: \n",
      "==> STEP 1: BOOTSTRAP FEWSHOT EXAMPLES <==\n",
      "2025/01/14 17:38:44 INFO dspy.teleprompt.mipro_optimizer_v2: These will be used as few-shot example candidates for our program and for creating instructions.\n",
      "\n",
      "2025/01/14 17:38:44 INFO dspy.teleprompt.mipro_optimizer_v2: Bootstrapping N=19 sets of demonstrations...\n",
      "python(1463) MallocStackLogging: can't turn off malloc stack logging because it was not enabled.\n"
     ]
    },
    {
     "name": "stdout",
     "output_type": "stream",
     "text": [
      "Bootstrapping set 1/19\n",
      "Bootstrapping set 2/19\n",
      "Bootstrapping set 3/19\n"
     ]
    },
    {
     "name": "stderr",
     "output_type": "stream",
     "text": [
      "  0%|          | 0/1 [00:00<?, ?it/s]2025/01/14 17:38:44 ERROR dspy.teleprompt.bootstrap: Failed to run or to evaluate example {'question': 'How can we maximize beauty?'} with module = Predict(StringSignature(question, ground_truth, system_response -> reasoning, ground_truth_key_ideas, system_response_key_ideas, discussion, recall, precision\n",
      "    instructions=\"Compare a system's response to the ground truth to compute recall and precision of key ideas.\\nYou will first enumerate key ideas in each response, discuss their overlap, and then report recall and precision.\"\n",
      "    question = Field(annotation=str required=True json_schema_extra={'__dspy_field_type': 'input', 'prefix': 'Question:', 'desc': '${question}'})\n",
      "    ground_truth = Field(annotation=str required=True json_schema_extra={'__dspy_field_type': 'input', 'prefix': 'Ground Truth:', 'desc': '${ground_truth}'})\n",
      "    system_response = Field(annotation=str required=True json_schema_extra={'__dspy_field_type': 'input', 'prefix': 'System Response:', 'desc': '${system_response}'})\n",
      "    reasoning = Field(annotation=str required=True json_schema_extra={'prefix': \"Reasoning: Let's think step by step in order to\", 'desc': '${reasoning}', '__dspy_field_type': 'output'})\n",
      "    ground_truth_key_ideas = Field(annotation=str required=True json_schema_extra={'desc': 'enumeration of key ideas in the ground truth', '__dspy_field_type': 'output', 'prefix': 'Ground Truth Key Ideas:'})\n",
      "    system_response_key_ideas = Field(annotation=str required=True json_schema_extra={'desc': 'enumeration of key ideas in the system response', '__dspy_field_type': 'output', 'prefix': 'System Response Key Ideas:'})\n",
      "    discussion = Field(annotation=str required=True json_schema_extra={'desc': 'discussion of the overlap between ground truth and system response', '__dspy_field_type': 'output', 'prefix': 'Discussion:'})\n",
      "    recall = Field(annotation=float required=True json_schema_extra={'desc': 'fraction (out of 1.0) of ground truth covered by the system response', '__dspy_field_type': 'output', 'prefix': 'Recall:'})\n",
      "    precision = Field(annotation=float required=True json_schema_extra={'desc': 'fraction (out of 1.0) of system response covered by the ground truth', '__dspy_field_type': 'output', 'prefix': 'Precision:'})\n",
      ")) due to 'dict' object has no attribute 'inputs'.\n",
      "100%|██████████| 1/1 [00:00<00:00, 336.14it/s]\n"
     ]
    },
    {
     "name": "stdout",
     "output_type": "stream",
     "text": [
      "Bootstrapped 0 full traces after 0 examples for up to 1 rounds, amounting to 1 attempts.\n",
      "Bootstrapping set 4/19\n"
     ]
    },
    {
     "name": "stderr",
     "output_type": "stream",
     "text": [
      "  0%|          | 0/1 [00:00<?, ?it/s]2025/01/14 17:38:44 ERROR dspy.teleprompt.bootstrap: Failed to run or to evaluate example {'question': 'How can we maximize beauty?'} with module = Predict(StringSignature(question, ground_truth, system_response -> reasoning, ground_truth_key_ideas, system_response_key_ideas, discussion, recall, precision\n",
      "    instructions=\"Compare a system's response to the ground truth to compute recall and precision of key ideas.\\nYou will first enumerate key ideas in each response, discuss their overlap, and then report recall and precision.\"\n",
      "    question = Field(annotation=str required=True json_schema_extra={'__dspy_field_type': 'input', 'prefix': 'Question:', 'desc': '${question}'})\n",
      "    ground_truth = Field(annotation=str required=True json_schema_extra={'__dspy_field_type': 'input', 'prefix': 'Ground Truth:', 'desc': '${ground_truth}'})\n",
      "    system_response = Field(annotation=str required=True json_schema_extra={'__dspy_field_type': 'input', 'prefix': 'System Response:', 'desc': '${system_response}'})\n",
      "    reasoning = Field(annotation=str required=True json_schema_extra={'prefix': \"Reasoning: Let's think step by step in order to\", 'desc': '${reasoning}', '__dspy_field_type': 'output'})\n",
      "    ground_truth_key_ideas = Field(annotation=str required=True json_schema_extra={'desc': 'enumeration of key ideas in the ground truth', '__dspy_field_type': 'output', 'prefix': 'Ground Truth Key Ideas:'})\n",
      "    system_response_key_ideas = Field(annotation=str required=True json_schema_extra={'desc': 'enumeration of key ideas in the system response', '__dspy_field_type': 'output', 'prefix': 'System Response Key Ideas:'})\n",
      "    discussion = Field(annotation=str required=True json_schema_extra={'desc': 'discussion of the overlap between ground truth and system response', '__dspy_field_type': 'output', 'prefix': 'Discussion:'})\n",
      "    recall = Field(annotation=float required=True json_schema_extra={'desc': 'fraction (out of 1.0) of ground truth covered by the system response', '__dspy_field_type': 'output', 'prefix': 'Recall:'})\n",
      "    precision = Field(annotation=float required=True json_schema_extra={'desc': 'fraction (out of 1.0) of system response covered by the ground truth', '__dspy_field_type': 'output', 'prefix': 'Precision:'})\n",
      ")) due to 'dict' object has no attribute 'inputs'.\n",
      "100%|██████████| 1/1 [00:00<00:00, 1326.47it/s]\n"
     ]
    },
    {
     "name": "stdout",
     "output_type": "stream",
     "text": [
      "Bootstrapped 0 full traces after 0 examples for up to 1 rounds, amounting to 1 attempts.\n",
      "Bootstrapping set 5/19\n"
     ]
    },
    {
     "name": "stderr",
     "output_type": "stream",
     "text": [
      "  0%|          | 0/1 [00:00<?, ?it/s]2025/01/14 17:38:44 ERROR dspy.teleprompt.bootstrap: Failed to run or to evaluate example {'question': 'How can we maximize beauty?'} with module = Predict(StringSignature(question, ground_truth, system_response -> reasoning, ground_truth_key_ideas, system_response_key_ideas, discussion, recall, precision\n",
      "    instructions=\"Compare a system's response to the ground truth to compute recall and precision of key ideas.\\nYou will first enumerate key ideas in each response, discuss their overlap, and then report recall and precision.\"\n",
      "    question = Field(annotation=str required=True json_schema_extra={'__dspy_field_type': 'input', 'prefix': 'Question:', 'desc': '${question}'})\n",
      "    ground_truth = Field(annotation=str required=True json_schema_extra={'__dspy_field_type': 'input', 'prefix': 'Ground Truth:', 'desc': '${ground_truth}'})\n",
      "    system_response = Field(annotation=str required=True json_schema_extra={'__dspy_field_type': 'input', 'prefix': 'System Response:', 'desc': '${system_response}'})\n",
      "    reasoning = Field(annotation=str required=True json_schema_extra={'prefix': \"Reasoning: Let's think step by step in order to\", 'desc': '${reasoning}', '__dspy_field_type': 'output'})\n",
      "    ground_truth_key_ideas = Field(annotation=str required=True json_schema_extra={'desc': 'enumeration of key ideas in the ground truth', '__dspy_field_type': 'output', 'prefix': 'Ground Truth Key Ideas:'})\n",
      "    system_response_key_ideas = Field(annotation=str required=True json_schema_extra={'desc': 'enumeration of key ideas in the system response', '__dspy_field_type': 'output', 'prefix': 'System Response Key Ideas:'})\n",
      "    discussion = Field(annotation=str required=True json_schema_extra={'desc': 'discussion of the overlap between ground truth and system response', '__dspy_field_type': 'output', 'prefix': 'Discussion:'})\n",
      "    recall = Field(annotation=float required=True json_schema_extra={'desc': 'fraction (out of 1.0) of ground truth covered by the system response', '__dspy_field_type': 'output', 'prefix': 'Recall:'})\n",
      "    precision = Field(annotation=float required=True json_schema_extra={'desc': 'fraction (out of 1.0) of system response covered by the ground truth', '__dspy_field_type': 'output', 'prefix': 'Precision:'})\n",
      ")) due to 'dict' object has no attribute 'inputs'.\n",
      "100%|██████████| 1/1 [00:00<00:00, 1703.62it/s]\n"
     ]
    },
    {
     "name": "stdout",
     "output_type": "stream",
     "text": [
      "Bootstrapped 0 full traces after 0 examples for up to 1 rounds, amounting to 1 attempts.\n",
      "Bootstrapping set 6/19\n"
     ]
    },
    {
     "name": "stderr",
     "output_type": "stream",
     "text": [
      "  0%|          | 0/1 [00:00<?, ?it/s]2025/01/14 17:38:44 ERROR dspy.teleprompt.bootstrap: Failed to run or to evaluate example {'question': 'How can we maximize beauty?'} with module = Predict(StringSignature(question, ground_truth, system_response -> reasoning, ground_truth_key_ideas, system_response_key_ideas, discussion, recall, precision\n",
      "    instructions=\"Compare a system's response to the ground truth to compute recall and precision of key ideas.\\nYou will first enumerate key ideas in each response, discuss their overlap, and then report recall and precision.\"\n",
      "    question = Field(annotation=str required=True json_schema_extra={'__dspy_field_type': 'input', 'prefix': 'Question:', 'desc': '${question}'})\n",
      "    ground_truth = Field(annotation=str required=True json_schema_extra={'__dspy_field_type': 'input', 'prefix': 'Ground Truth:', 'desc': '${ground_truth}'})\n",
      "    system_response = Field(annotation=str required=True json_schema_extra={'__dspy_field_type': 'input', 'prefix': 'System Response:', 'desc': '${system_response}'})\n",
      "    reasoning = Field(annotation=str required=True json_schema_extra={'prefix': \"Reasoning: Let's think step by step in order to\", 'desc': '${reasoning}', '__dspy_field_type': 'output'})\n",
      "    ground_truth_key_ideas = Field(annotation=str required=True json_schema_extra={'desc': 'enumeration of key ideas in the ground truth', '__dspy_field_type': 'output', 'prefix': 'Ground Truth Key Ideas:'})\n",
      "    system_response_key_ideas = Field(annotation=str required=True json_schema_extra={'desc': 'enumeration of key ideas in the system response', '__dspy_field_type': 'output', 'prefix': 'System Response Key Ideas:'})\n",
      "    discussion = Field(annotation=str required=True json_schema_extra={'desc': 'discussion of the overlap between ground truth and system response', '__dspy_field_type': 'output', 'prefix': 'Discussion:'})\n",
      "    recall = Field(annotation=float required=True json_schema_extra={'desc': 'fraction (out of 1.0) of ground truth covered by the system response', '__dspy_field_type': 'output', 'prefix': 'Recall:'})\n",
      "    precision = Field(annotation=float required=True json_schema_extra={'desc': 'fraction (out of 1.0) of system response covered by the ground truth', '__dspy_field_type': 'output', 'prefix': 'Precision:'})\n",
      ")) due to 'dict' object has no attribute 'inputs'.\n",
      "100%|██████████| 1/1 [00:00<00:00, 1187.52it/s]\n"
     ]
    },
    {
     "name": "stdout",
     "output_type": "stream",
     "text": [
      "Bootstrapped 0 full traces after 0 examples for up to 1 rounds, amounting to 1 attempts.\n",
      "Bootstrapping set 7/19\n"
     ]
    },
    {
     "name": "stderr",
     "output_type": "stream",
     "text": [
      "  0%|          | 0/1 [00:00<?, ?it/s]2025/01/14 17:38:44 ERROR dspy.teleprompt.bootstrap: Failed to run or to evaluate example {'question': 'How can we maximize beauty?'} with module = Predict(StringSignature(question, ground_truth, system_response -> reasoning, ground_truth_key_ideas, system_response_key_ideas, discussion, recall, precision\n",
      "    instructions=\"Compare a system's response to the ground truth to compute recall and precision of key ideas.\\nYou will first enumerate key ideas in each response, discuss their overlap, and then report recall and precision.\"\n",
      "    question = Field(annotation=str required=True json_schema_extra={'__dspy_field_type': 'input', 'prefix': 'Question:', 'desc': '${question}'})\n",
      "    ground_truth = Field(annotation=str required=True json_schema_extra={'__dspy_field_type': 'input', 'prefix': 'Ground Truth:', 'desc': '${ground_truth}'})\n",
      "    system_response = Field(annotation=str required=True json_schema_extra={'__dspy_field_type': 'input', 'prefix': 'System Response:', 'desc': '${system_response}'})\n",
      "    reasoning = Field(annotation=str required=True json_schema_extra={'prefix': \"Reasoning: Let's think step by step in order to\", 'desc': '${reasoning}', '__dspy_field_type': 'output'})\n",
      "    ground_truth_key_ideas = Field(annotation=str required=True json_schema_extra={'desc': 'enumeration of key ideas in the ground truth', '__dspy_field_type': 'output', 'prefix': 'Ground Truth Key Ideas:'})\n",
      "    system_response_key_ideas = Field(annotation=str required=True json_schema_extra={'desc': 'enumeration of key ideas in the system response', '__dspy_field_type': 'output', 'prefix': 'System Response Key Ideas:'})\n",
      "    discussion = Field(annotation=str required=True json_schema_extra={'desc': 'discussion of the overlap between ground truth and system response', '__dspy_field_type': 'output', 'prefix': 'Discussion:'})\n",
      "    recall = Field(annotation=float required=True json_schema_extra={'desc': 'fraction (out of 1.0) of ground truth covered by the system response', '__dspy_field_type': 'output', 'prefix': 'Recall:'})\n",
      "    precision = Field(annotation=float required=True json_schema_extra={'desc': 'fraction (out of 1.0) of system response covered by the ground truth', '__dspy_field_type': 'output', 'prefix': 'Precision:'})\n",
      ")) due to 'dict' object has no attribute 'inputs'.\n",
      "100%|██████████| 1/1 [00:00<00:00, 1147.87it/s]\n"
     ]
    },
    {
     "name": "stdout",
     "output_type": "stream",
     "text": [
      "Bootstrapped 0 full traces after 0 examples for up to 1 rounds, amounting to 1 attempts.\n",
      "Bootstrapping set 8/19\n"
     ]
    },
    {
     "name": "stderr",
     "output_type": "stream",
     "text": [
      "  0%|          | 0/1 [00:00<?, ?it/s]2025/01/14 17:38:44 ERROR dspy.teleprompt.bootstrap: Failed to run or to evaluate example {'question': 'How can we maximize beauty?'} with module = Predict(StringSignature(question, ground_truth, system_response -> reasoning, ground_truth_key_ideas, system_response_key_ideas, discussion, recall, precision\n",
      "    instructions=\"Compare a system's response to the ground truth to compute recall and precision of key ideas.\\nYou will first enumerate key ideas in each response, discuss their overlap, and then report recall and precision.\"\n",
      "    question = Field(annotation=str required=True json_schema_extra={'__dspy_field_type': 'input', 'prefix': 'Question:', 'desc': '${question}'})\n",
      "    ground_truth = Field(annotation=str required=True json_schema_extra={'__dspy_field_type': 'input', 'prefix': 'Ground Truth:', 'desc': '${ground_truth}'})\n",
      "    system_response = Field(annotation=str required=True json_schema_extra={'__dspy_field_type': 'input', 'prefix': 'System Response:', 'desc': '${system_response}'})\n",
      "    reasoning = Field(annotation=str required=True json_schema_extra={'prefix': \"Reasoning: Let's think step by step in order to\", 'desc': '${reasoning}', '__dspy_field_type': 'output'})\n",
      "    ground_truth_key_ideas = Field(annotation=str required=True json_schema_extra={'desc': 'enumeration of key ideas in the ground truth', '__dspy_field_type': 'output', 'prefix': 'Ground Truth Key Ideas:'})\n",
      "    system_response_key_ideas = Field(annotation=str required=True json_schema_extra={'desc': 'enumeration of key ideas in the system response', '__dspy_field_type': 'output', 'prefix': 'System Response Key Ideas:'})\n",
      "    discussion = Field(annotation=str required=True json_schema_extra={'desc': 'discussion of the overlap between ground truth and system response', '__dspy_field_type': 'output', 'prefix': 'Discussion:'})\n",
      "    recall = Field(annotation=float required=True json_schema_extra={'desc': 'fraction (out of 1.0) of ground truth covered by the system response', '__dspy_field_type': 'output', 'prefix': 'Recall:'})\n",
      "    precision = Field(annotation=float required=True json_schema_extra={'desc': 'fraction (out of 1.0) of system response covered by the ground truth', '__dspy_field_type': 'output', 'prefix': 'Precision:'})\n",
      ")) due to 'dict' object has no attribute 'inputs'.\n",
      "100%|██████████| 1/1 [00:00<00:00, 1242.02it/s]\n"
     ]
    },
    {
     "name": "stdout",
     "output_type": "stream",
     "text": [
      "Bootstrapped 0 full traces after 0 examples for up to 1 rounds, amounting to 1 attempts.\n",
      "Bootstrapping set 9/19\n"
     ]
    },
    {
     "name": "stderr",
     "output_type": "stream",
     "text": [
      "  0%|          | 0/1 [00:00<?, ?it/s]2025/01/14 17:38:44 ERROR dspy.teleprompt.bootstrap: Failed to run or to evaluate example {'question': 'How can we maximize beauty?'} with module = Predict(StringSignature(question, ground_truth, system_response -> reasoning, ground_truth_key_ideas, system_response_key_ideas, discussion, recall, precision\n",
      "    instructions=\"Compare a system's response to the ground truth to compute recall and precision of key ideas.\\nYou will first enumerate key ideas in each response, discuss their overlap, and then report recall and precision.\"\n",
      "    question = Field(annotation=str required=True json_schema_extra={'__dspy_field_type': 'input', 'prefix': 'Question:', 'desc': '${question}'})\n",
      "    ground_truth = Field(annotation=str required=True json_schema_extra={'__dspy_field_type': 'input', 'prefix': 'Ground Truth:', 'desc': '${ground_truth}'})\n",
      "    system_response = Field(annotation=str required=True json_schema_extra={'__dspy_field_type': 'input', 'prefix': 'System Response:', 'desc': '${system_response}'})\n",
      "    reasoning = Field(annotation=str required=True json_schema_extra={'prefix': \"Reasoning: Let's think step by step in order to\", 'desc': '${reasoning}', '__dspy_field_type': 'output'})\n",
      "    ground_truth_key_ideas = Field(annotation=str required=True json_schema_extra={'desc': 'enumeration of key ideas in the ground truth', '__dspy_field_type': 'output', 'prefix': 'Ground Truth Key Ideas:'})\n",
      "    system_response_key_ideas = Field(annotation=str required=True json_schema_extra={'desc': 'enumeration of key ideas in the system response', '__dspy_field_type': 'output', 'prefix': 'System Response Key Ideas:'})\n",
      "    discussion = Field(annotation=str required=True json_schema_extra={'desc': 'discussion of the overlap between ground truth and system response', '__dspy_field_type': 'output', 'prefix': 'Discussion:'})\n",
      "    recall = Field(annotation=float required=True json_schema_extra={'desc': 'fraction (out of 1.0) of ground truth covered by the system response', '__dspy_field_type': 'output', 'prefix': 'Recall:'})\n",
      "    precision = Field(annotation=float required=True json_schema_extra={'desc': 'fraction (out of 1.0) of system response covered by the ground truth', '__dspy_field_type': 'output', 'prefix': 'Precision:'})\n",
      ")) due to 'dict' object has no attribute 'inputs'.\n",
      "100%|██████████| 1/1 [00:00<00:00, 576.06it/s]\n"
     ]
    },
    {
     "name": "stdout",
     "output_type": "stream",
     "text": [
      "Bootstrapped 0 full traces after 0 examples for up to 1 rounds, amounting to 1 attempts.\n",
      "Bootstrapping set 10/19\n"
     ]
    },
    {
     "name": "stderr",
     "output_type": "stream",
     "text": [
      "  0%|          | 0/1 [00:00<?, ?it/s]2025/01/14 17:38:44 ERROR dspy.teleprompt.bootstrap: Failed to run or to evaluate example {'question': 'How can we maximize beauty?'} with module = Predict(StringSignature(question, ground_truth, system_response -> reasoning, ground_truth_key_ideas, system_response_key_ideas, discussion, recall, precision\n",
      "    instructions=\"Compare a system's response to the ground truth to compute recall and precision of key ideas.\\nYou will first enumerate key ideas in each response, discuss their overlap, and then report recall and precision.\"\n",
      "    question = Field(annotation=str required=True json_schema_extra={'__dspy_field_type': 'input', 'prefix': 'Question:', 'desc': '${question}'})\n",
      "    ground_truth = Field(annotation=str required=True json_schema_extra={'__dspy_field_type': 'input', 'prefix': 'Ground Truth:', 'desc': '${ground_truth}'})\n",
      "    system_response = Field(annotation=str required=True json_schema_extra={'__dspy_field_type': 'input', 'prefix': 'System Response:', 'desc': '${system_response}'})\n",
      "    reasoning = Field(annotation=str required=True json_schema_extra={'prefix': \"Reasoning: Let's think step by step in order to\", 'desc': '${reasoning}', '__dspy_field_type': 'output'})\n",
      "    ground_truth_key_ideas = Field(annotation=str required=True json_schema_extra={'desc': 'enumeration of key ideas in the ground truth', '__dspy_field_type': 'output', 'prefix': 'Ground Truth Key Ideas:'})\n",
      "    system_response_key_ideas = Field(annotation=str required=True json_schema_extra={'desc': 'enumeration of key ideas in the system response', '__dspy_field_type': 'output', 'prefix': 'System Response Key Ideas:'})\n",
      "    discussion = Field(annotation=str required=True json_schema_extra={'desc': 'discussion of the overlap between ground truth and system response', '__dspy_field_type': 'output', 'prefix': 'Discussion:'})\n",
      "    recall = Field(annotation=float required=True json_schema_extra={'desc': 'fraction (out of 1.0) of ground truth covered by the system response', '__dspy_field_type': 'output', 'prefix': 'Recall:'})\n",
      "    precision = Field(annotation=float required=True json_schema_extra={'desc': 'fraction (out of 1.0) of system response covered by the ground truth', '__dspy_field_type': 'output', 'prefix': 'Precision:'})\n",
      ")) due to 'dict' object has no attribute 'inputs'.\n",
      "100%|██████████| 1/1 [00:00<00:00, 663.97it/s]\n"
     ]
    },
    {
     "name": "stdout",
     "output_type": "stream",
     "text": [
      "Bootstrapped 0 full traces after 0 examples for up to 1 rounds, amounting to 1 attempts.\n",
      "Bootstrapping set 11/19\n"
     ]
    },
    {
     "name": "stderr",
     "output_type": "stream",
     "text": [
      "  0%|          | 0/1 [00:00<?, ?it/s]2025/01/14 17:38:44 ERROR dspy.teleprompt.bootstrap: Failed to run or to evaluate example {'question': 'How can we maximize beauty?'} with module = Predict(StringSignature(question, ground_truth, system_response -> reasoning, ground_truth_key_ideas, system_response_key_ideas, discussion, recall, precision\n",
      "    instructions=\"Compare a system's response to the ground truth to compute recall and precision of key ideas.\\nYou will first enumerate key ideas in each response, discuss their overlap, and then report recall and precision.\"\n",
      "    question = Field(annotation=str required=True json_schema_extra={'__dspy_field_type': 'input', 'prefix': 'Question:', 'desc': '${question}'})\n",
      "    ground_truth = Field(annotation=str required=True json_schema_extra={'__dspy_field_type': 'input', 'prefix': 'Ground Truth:', 'desc': '${ground_truth}'})\n",
      "    system_response = Field(annotation=str required=True json_schema_extra={'__dspy_field_type': 'input', 'prefix': 'System Response:', 'desc': '${system_response}'})\n",
      "    reasoning = Field(annotation=str required=True json_schema_extra={'prefix': \"Reasoning: Let's think step by step in order to\", 'desc': '${reasoning}', '__dspy_field_type': 'output'})\n",
      "    ground_truth_key_ideas = Field(annotation=str required=True json_schema_extra={'desc': 'enumeration of key ideas in the ground truth', '__dspy_field_type': 'output', 'prefix': 'Ground Truth Key Ideas:'})\n",
      "    system_response_key_ideas = Field(annotation=str required=True json_schema_extra={'desc': 'enumeration of key ideas in the system response', '__dspy_field_type': 'output', 'prefix': 'System Response Key Ideas:'})\n",
      "    discussion = Field(annotation=str required=True json_schema_extra={'desc': 'discussion of the overlap between ground truth and system response', '__dspy_field_type': 'output', 'prefix': 'Discussion:'})\n",
      "    recall = Field(annotation=float required=True json_schema_extra={'desc': 'fraction (out of 1.0) of ground truth covered by the system response', '__dspy_field_type': 'output', 'prefix': 'Recall:'})\n",
      "    precision = Field(annotation=float required=True json_schema_extra={'desc': 'fraction (out of 1.0) of system response covered by the ground truth', '__dspy_field_type': 'output', 'prefix': 'Precision:'})\n",
      ")) due to 'dict' object has no attribute 'inputs'.\n",
      "100%|██████████| 1/1 [00:00<00:00, 1732.47it/s]\n"
     ]
    },
    {
     "name": "stdout",
     "output_type": "stream",
     "text": [
      "Bootstrapped 0 full traces after 0 examples for up to 1 rounds, amounting to 1 attempts.\n",
      "Bootstrapping set 12/19\n"
     ]
    },
    {
     "name": "stderr",
     "output_type": "stream",
     "text": [
      "  0%|          | 0/1 [00:00<?, ?it/s]2025/01/14 17:38:44 ERROR dspy.teleprompt.bootstrap: Failed to run or to evaluate example {'question': 'How can we maximize beauty?'} with module = Predict(StringSignature(question, ground_truth, system_response -> reasoning, ground_truth_key_ideas, system_response_key_ideas, discussion, recall, precision\n",
      "    instructions=\"Compare a system's response to the ground truth to compute recall and precision of key ideas.\\nYou will first enumerate key ideas in each response, discuss their overlap, and then report recall and precision.\"\n",
      "    question = Field(annotation=str required=True json_schema_extra={'__dspy_field_type': 'input', 'prefix': 'Question:', 'desc': '${question}'})\n",
      "    ground_truth = Field(annotation=str required=True json_schema_extra={'__dspy_field_type': 'input', 'prefix': 'Ground Truth:', 'desc': '${ground_truth}'})\n",
      "    system_response = Field(annotation=str required=True json_schema_extra={'__dspy_field_type': 'input', 'prefix': 'System Response:', 'desc': '${system_response}'})\n",
      "    reasoning = Field(annotation=str required=True json_schema_extra={'prefix': \"Reasoning: Let's think step by step in order to\", 'desc': '${reasoning}', '__dspy_field_type': 'output'})\n",
      "    ground_truth_key_ideas = Field(annotation=str required=True json_schema_extra={'desc': 'enumeration of key ideas in the ground truth', '__dspy_field_type': 'output', 'prefix': 'Ground Truth Key Ideas:'})\n",
      "    system_response_key_ideas = Field(annotation=str required=True json_schema_extra={'desc': 'enumeration of key ideas in the system response', '__dspy_field_type': 'output', 'prefix': 'System Response Key Ideas:'})\n",
      "    discussion = Field(annotation=str required=True json_schema_extra={'desc': 'discussion of the overlap between ground truth and system response', '__dspy_field_type': 'output', 'prefix': 'Discussion:'})\n",
      "    recall = Field(annotation=float required=True json_schema_extra={'desc': 'fraction (out of 1.0) of ground truth covered by the system response', '__dspy_field_type': 'output', 'prefix': 'Recall:'})\n",
      "    precision = Field(annotation=float required=True json_schema_extra={'desc': 'fraction (out of 1.0) of system response covered by the ground truth', '__dspy_field_type': 'output', 'prefix': 'Precision:'})\n",
      ")) due to 'dict' object has no attribute 'inputs'.\n",
      "100%|██████████| 1/1 [00:00<00:00, 1941.81it/s]\n"
     ]
    },
    {
     "name": "stdout",
     "output_type": "stream",
     "text": [
      "Bootstrapped 0 full traces after 0 examples for up to 1 rounds, amounting to 1 attempts.\n",
      "Bootstrapping set 13/19\n"
     ]
    },
    {
     "name": "stderr",
     "output_type": "stream",
     "text": [
      "  0%|          | 0/1 [00:00<?, ?it/s]2025/01/14 17:38:44 ERROR dspy.teleprompt.bootstrap: Failed to run or to evaluate example {'question': 'How can we maximize beauty?'} with module = Predict(StringSignature(question, ground_truth, system_response -> reasoning, ground_truth_key_ideas, system_response_key_ideas, discussion, recall, precision\n",
      "    instructions=\"Compare a system's response to the ground truth to compute recall and precision of key ideas.\\nYou will first enumerate key ideas in each response, discuss their overlap, and then report recall and precision.\"\n",
      "    question = Field(annotation=str required=True json_schema_extra={'__dspy_field_type': 'input', 'prefix': 'Question:', 'desc': '${question}'})\n",
      "    ground_truth = Field(annotation=str required=True json_schema_extra={'__dspy_field_type': 'input', 'prefix': 'Ground Truth:', 'desc': '${ground_truth}'})\n",
      "    system_response = Field(annotation=str required=True json_schema_extra={'__dspy_field_type': 'input', 'prefix': 'System Response:', 'desc': '${system_response}'})\n",
      "    reasoning = Field(annotation=str required=True json_schema_extra={'prefix': \"Reasoning: Let's think step by step in order to\", 'desc': '${reasoning}', '__dspy_field_type': 'output'})\n",
      "    ground_truth_key_ideas = Field(annotation=str required=True json_schema_extra={'desc': 'enumeration of key ideas in the ground truth', '__dspy_field_type': 'output', 'prefix': 'Ground Truth Key Ideas:'})\n",
      "    system_response_key_ideas = Field(annotation=str required=True json_schema_extra={'desc': 'enumeration of key ideas in the system response', '__dspy_field_type': 'output', 'prefix': 'System Response Key Ideas:'})\n",
      "    discussion = Field(annotation=str required=True json_schema_extra={'desc': 'discussion of the overlap between ground truth and system response', '__dspy_field_type': 'output', 'prefix': 'Discussion:'})\n",
      "    recall = Field(annotation=float required=True json_schema_extra={'desc': 'fraction (out of 1.0) of ground truth covered by the system response', '__dspy_field_type': 'output', 'prefix': 'Recall:'})\n",
      "    precision = Field(annotation=float required=True json_schema_extra={'desc': 'fraction (out of 1.0) of system response covered by the ground truth', '__dspy_field_type': 'output', 'prefix': 'Precision:'})\n",
      ")) due to 'dict' object has no attribute 'inputs'.\n",
      "100%|██████████| 1/1 [00:00<00:00, 1196.32it/s]\n"
     ]
    },
    {
     "name": "stdout",
     "output_type": "stream",
     "text": [
      "Bootstrapped 0 full traces after 0 examples for up to 1 rounds, amounting to 1 attempts.\n",
      "Bootstrapping set 14/19\n"
     ]
    },
    {
     "name": "stderr",
     "output_type": "stream",
     "text": [
      "  0%|          | 0/1 [00:00<?, ?it/s]2025/01/14 17:38:44 ERROR dspy.teleprompt.bootstrap: Failed to run or to evaluate example {'question': 'How can we maximize beauty?'} with module = Predict(StringSignature(question, ground_truth, system_response -> reasoning, ground_truth_key_ideas, system_response_key_ideas, discussion, recall, precision\n",
      "    instructions=\"Compare a system's response to the ground truth to compute recall and precision of key ideas.\\nYou will first enumerate key ideas in each response, discuss their overlap, and then report recall and precision.\"\n",
      "    question = Field(annotation=str required=True json_schema_extra={'__dspy_field_type': 'input', 'prefix': 'Question:', 'desc': '${question}'})\n",
      "    ground_truth = Field(annotation=str required=True json_schema_extra={'__dspy_field_type': 'input', 'prefix': 'Ground Truth:', 'desc': '${ground_truth}'})\n",
      "    system_response = Field(annotation=str required=True json_schema_extra={'__dspy_field_type': 'input', 'prefix': 'System Response:', 'desc': '${system_response}'})\n",
      "    reasoning = Field(annotation=str required=True json_schema_extra={'prefix': \"Reasoning: Let's think step by step in order to\", 'desc': '${reasoning}', '__dspy_field_type': 'output'})\n",
      "    ground_truth_key_ideas = Field(annotation=str required=True json_schema_extra={'desc': 'enumeration of key ideas in the ground truth', '__dspy_field_type': 'output', 'prefix': 'Ground Truth Key Ideas:'})\n",
      "    system_response_key_ideas = Field(annotation=str required=True json_schema_extra={'desc': 'enumeration of key ideas in the system response', '__dspy_field_type': 'output', 'prefix': 'System Response Key Ideas:'})\n",
      "    discussion = Field(annotation=str required=True json_schema_extra={'desc': 'discussion of the overlap between ground truth and system response', '__dspy_field_type': 'output', 'prefix': 'Discussion:'})\n",
      "    recall = Field(annotation=float required=True json_schema_extra={'desc': 'fraction (out of 1.0) of ground truth covered by the system response', '__dspy_field_type': 'output', 'prefix': 'Recall:'})\n",
      "    precision = Field(annotation=float required=True json_schema_extra={'desc': 'fraction (out of 1.0) of system response covered by the ground truth', '__dspy_field_type': 'output', 'prefix': 'Precision:'})\n",
      ")) due to 'dict' object has no attribute 'inputs'.\n",
      "100%|██████████| 1/1 [00:00<00:00, 939.16it/s]\n"
     ]
    },
    {
     "name": "stdout",
     "output_type": "stream",
     "text": [
      "Bootstrapped 0 full traces after 0 examples for up to 1 rounds, amounting to 1 attempts.\n",
      "Bootstrapping set 15/19\n"
     ]
    },
    {
     "name": "stderr",
     "output_type": "stream",
     "text": [
      "  0%|          | 0/1 [00:00<?, ?it/s]2025/01/14 17:38:44 ERROR dspy.teleprompt.bootstrap: Failed to run or to evaluate example {'question': 'How can we maximize beauty?'} with module = Predict(StringSignature(question, ground_truth, system_response -> reasoning, ground_truth_key_ideas, system_response_key_ideas, discussion, recall, precision\n",
      "    instructions=\"Compare a system's response to the ground truth to compute recall and precision of key ideas.\\nYou will first enumerate key ideas in each response, discuss their overlap, and then report recall and precision.\"\n",
      "    question = Field(annotation=str required=True json_schema_extra={'__dspy_field_type': 'input', 'prefix': 'Question:', 'desc': '${question}'})\n",
      "    ground_truth = Field(annotation=str required=True json_schema_extra={'__dspy_field_type': 'input', 'prefix': 'Ground Truth:', 'desc': '${ground_truth}'})\n",
      "    system_response = Field(annotation=str required=True json_schema_extra={'__dspy_field_type': 'input', 'prefix': 'System Response:', 'desc': '${system_response}'})\n",
      "    reasoning = Field(annotation=str required=True json_schema_extra={'prefix': \"Reasoning: Let's think step by step in order to\", 'desc': '${reasoning}', '__dspy_field_type': 'output'})\n",
      "    ground_truth_key_ideas = Field(annotation=str required=True json_schema_extra={'desc': 'enumeration of key ideas in the ground truth', '__dspy_field_type': 'output', 'prefix': 'Ground Truth Key Ideas:'})\n",
      "    system_response_key_ideas = Field(annotation=str required=True json_schema_extra={'desc': 'enumeration of key ideas in the system response', '__dspy_field_type': 'output', 'prefix': 'System Response Key Ideas:'})\n",
      "    discussion = Field(annotation=str required=True json_schema_extra={'desc': 'discussion of the overlap between ground truth and system response', '__dspy_field_type': 'output', 'prefix': 'Discussion:'})\n",
      "    recall = Field(annotation=float required=True json_schema_extra={'desc': 'fraction (out of 1.0) of ground truth covered by the system response', '__dspy_field_type': 'output', 'prefix': 'Recall:'})\n",
      "    precision = Field(annotation=float required=True json_schema_extra={'desc': 'fraction (out of 1.0) of system response covered by the ground truth', '__dspy_field_type': 'output', 'prefix': 'Precision:'})\n",
      ")) due to 'dict' object has no attribute 'inputs'.\n",
      "100%|██████████| 1/1 [00:00<00:00, 103.71it/s]\n"
     ]
    },
    {
     "name": "stdout",
     "output_type": "stream",
     "text": [
      "Bootstrapped 0 full traces after 0 examples for up to 1 rounds, amounting to 1 attempts.\n",
      "Bootstrapping set 16/19\n"
     ]
    },
    {
     "name": "stderr",
     "output_type": "stream",
     "text": [
      "  0%|          | 0/1 [00:00<?, ?it/s]2025/01/14 17:38:44 ERROR dspy.teleprompt.bootstrap: Failed to run or to evaluate example {'question': 'How can we maximize beauty?'} with module = Predict(StringSignature(question, ground_truth, system_response -> reasoning, ground_truth_key_ideas, system_response_key_ideas, discussion, recall, precision\n",
      "    instructions=\"Compare a system's response to the ground truth to compute recall and precision of key ideas.\\nYou will first enumerate key ideas in each response, discuss their overlap, and then report recall and precision.\"\n",
      "    question = Field(annotation=str required=True json_schema_extra={'__dspy_field_type': 'input', 'prefix': 'Question:', 'desc': '${question}'})\n",
      "    ground_truth = Field(annotation=str required=True json_schema_extra={'__dspy_field_type': 'input', 'prefix': 'Ground Truth:', 'desc': '${ground_truth}'})\n",
      "    system_response = Field(annotation=str required=True json_schema_extra={'__dspy_field_type': 'input', 'prefix': 'System Response:', 'desc': '${system_response}'})\n",
      "    reasoning = Field(annotation=str required=True json_schema_extra={'prefix': \"Reasoning: Let's think step by step in order to\", 'desc': '${reasoning}', '__dspy_field_type': 'output'})\n",
      "    ground_truth_key_ideas = Field(annotation=str required=True json_schema_extra={'desc': 'enumeration of key ideas in the ground truth', '__dspy_field_type': 'output', 'prefix': 'Ground Truth Key Ideas:'})\n",
      "    system_response_key_ideas = Field(annotation=str required=True json_schema_extra={'desc': 'enumeration of key ideas in the system response', '__dspy_field_type': 'output', 'prefix': 'System Response Key Ideas:'})\n",
      "    discussion = Field(annotation=str required=True json_schema_extra={'desc': 'discussion of the overlap between ground truth and system response', '__dspy_field_type': 'output', 'prefix': 'Discussion:'})\n",
      "    recall = Field(annotation=float required=True json_schema_extra={'desc': 'fraction (out of 1.0) of ground truth covered by the system response', '__dspy_field_type': 'output', 'prefix': 'Recall:'})\n",
      "    precision = Field(annotation=float required=True json_schema_extra={'desc': 'fraction (out of 1.0) of system response covered by the ground truth', '__dspy_field_type': 'output', 'prefix': 'Precision:'})\n",
      ")) due to 'dict' object has no attribute 'inputs'.\n",
      "100%|██████████| 1/1 [00:00<00:00, 654.95it/s]\n"
     ]
    },
    {
     "name": "stdout",
     "output_type": "stream",
     "text": [
      "Bootstrapped 0 full traces after 0 examples for up to 1 rounds, amounting to 1 attempts.\n",
      "Bootstrapping set 17/19\n"
     ]
    },
    {
     "name": "stderr",
     "output_type": "stream",
     "text": [
      "  0%|          | 0/1 [00:00<?, ?it/s]2025/01/14 17:38:44 ERROR dspy.teleprompt.bootstrap: Failed to run or to evaluate example {'question': 'How can we maximize beauty?'} with module = Predict(StringSignature(question, ground_truth, system_response -> reasoning, ground_truth_key_ideas, system_response_key_ideas, discussion, recall, precision\n",
      "    instructions=\"Compare a system's response to the ground truth to compute recall and precision of key ideas.\\nYou will first enumerate key ideas in each response, discuss their overlap, and then report recall and precision.\"\n",
      "    question = Field(annotation=str required=True json_schema_extra={'__dspy_field_type': 'input', 'prefix': 'Question:', 'desc': '${question}'})\n",
      "    ground_truth = Field(annotation=str required=True json_schema_extra={'__dspy_field_type': 'input', 'prefix': 'Ground Truth:', 'desc': '${ground_truth}'})\n",
      "    system_response = Field(annotation=str required=True json_schema_extra={'__dspy_field_type': 'input', 'prefix': 'System Response:', 'desc': '${system_response}'})\n",
      "    reasoning = Field(annotation=str required=True json_schema_extra={'prefix': \"Reasoning: Let's think step by step in order to\", 'desc': '${reasoning}', '__dspy_field_type': 'output'})\n",
      "    ground_truth_key_ideas = Field(annotation=str required=True json_schema_extra={'desc': 'enumeration of key ideas in the ground truth', '__dspy_field_type': 'output', 'prefix': 'Ground Truth Key Ideas:'})\n",
      "    system_response_key_ideas = Field(annotation=str required=True json_schema_extra={'desc': 'enumeration of key ideas in the system response', '__dspy_field_type': 'output', 'prefix': 'System Response Key Ideas:'})\n",
      "    discussion = Field(annotation=str required=True json_schema_extra={'desc': 'discussion of the overlap between ground truth and system response', '__dspy_field_type': 'output', 'prefix': 'Discussion:'})\n",
      "    recall = Field(annotation=float required=True json_schema_extra={'desc': 'fraction (out of 1.0) of ground truth covered by the system response', '__dspy_field_type': 'output', 'prefix': 'Recall:'})\n",
      "    precision = Field(annotation=float required=True json_schema_extra={'desc': 'fraction (out of 1.0) of system response covered by the ground truth', '__dspy_field_type': 'output', 'prefix': 'Precision:'})\n",
      ")) due to 'dict' object has no attribute 'inputs'.\n",
      "100%|██████████| 1/1 [00:00<00:00, 2118.34it/s]\n"
     ]
    },
    {
     "name": "stdout",
     "output_type": "stream",
     "text": [
      "Bootstrapped 0 full traces after 0 examples for up to 1 rounds, amounting to 1 attempts.\n",
      "Bootstrapping set 18/19\n"
     ]
    },
    {
     "name": "stderr",
     "output_type": "stream",
     "text": [
      "  0%|          | 0/1 [00:00<?, ?it/s]2025/01/14 17:38:44 ERROR dspy.teleprompt.bootstrap: Failed to run or to evaluate example {'question': 'How can we maximize beauty?'} with module = Predict(StringSignature(question, ground_truth, system_response -> reasoning, ground_truth_key_ideas, system_response_key_ideas, discussion, recall, precision\n",
      "    instructions=\"Compare a system's response to the ground truth to compute recall and precision of key ideas.\\nYou will first enumerate key ideas in each response, discuss their overlap, and then report recall and precision.\"\n",
      "    question = Field(annotation=str required=True json_schema_extra={'__dspy_field_type': 'input', 'prefix': 'Question:', 'desc': '${question}'})\n",
      "    ground_truth = Field(annotation=str required=True json_schema_extra={'__dspy_field_type': 'input', 'prefix': 'Ground Truth:', 'desc': '${ground_truth}'})\n",
      "    system_response = Field(annotation=str required=True json_schema_extra={'__dspy_field_type': 'input', 'prefix': 'System Response:', 'desc': '${system_response}'})\n",
      "    reasoning = Field(annotation=str required=True json_schema_extra={'prefix': \"Reasoning: Let's think step by step in order to\", 'desc': '${reasoning}', '__dspy_field_type': 'output'})\n",
      "    ground_truth_key_ideas = Field(annotation=str required=True json_schema_extra={'desc': 'enumeration of key ideas in the ground truth', '__dspy_field_type': 'output', 'prefix': 'Ground Truth Key Ideas:'})\n",
      "    system_response_key_ideas = Field(annotation=str required=True json_schema_extra={'desc': 'enumeration of key ideas in the system response', '__dspy_field_type': 'output', 'prefix': 'System Response Key Ideas:'})\n",
      "    discussion = Field(annotation=str required=True json_schema_extra={'desc': 'discussion of the overlap between ground truth and system response', '__dspy_field_type': 'output', 'prefix': 'Discussion:'})\n",
      "    recall = Field(annotation=float required=True json_schema_extra={'desc': 'fraction (out of 1.0) of ground truth covered by the system response', '__dspy_field_type': 'output', 'prefix': 'Recall:'})\n",
      "    precision = Field(annotation=float required=True json_schema_extra={'desc': 'fraction (out of 1.0) of system response covered by the ground truth', '__dspy_field_type': 'output', 'prefix': 'Precision:'})\n",
      ")) due to 'dict' object has no attribute 'inputs'.\n",
      "100%|██████████| 1/1 [00:00<00:00, 1270.62it/s]\n"
     ]
    },
    {
     "name": "stdout",
     "output_type": "stream",
     "text": [
      "Bootstrapped 0 full traces after 0 examples for up to 1 rounds, amounting to 1 attempts.\n",
      "Bootstrapping set 19/19\n"
     ]
    },
    {
     "name": "stderr",
     "output_type": "stream",
     "text": [
      "  0%|          | 0/1 [00:00<?, ?it/s]2025/01/14 17:38:44 ERROR dspy.teleprompt.bootstrap: Failed to run or to evaluate example {'question': 'How can we maximize beauty?'} with module = Predict(StringSignature(question, ground_truth, system_response -> reasoning, ground_truth_key_ideas, system_response_key_ideas, discussion, recall, precision\n",
      "    instructions=\"Compare a system's response to the ground truth to compute recall and precision of key ideas.\\nYou will first enumerate key ideas in each response, discuss their overlap, and then report recall and precision.\"\n",
      "    question = Field(annotation=str required=True json_schema_extra={'__dspy_field_type': 'input', 'prefix': 'Question:', 'desc': '${question}'})\n",
      "    ground_truth = Field(annotation=str required=True json_schema_extra={'__dspy_field_type': 'input', 'prefix': 'Ground Truth:', 'desc': '${ground_truth}'})\n",
      "    system_response = Field(annotation=str required=True json_schema_extra={'__dspy_field_type': 'input', 'prefix': 'System Response:', 'desc': '${system_response}'})\n",
      "    reasoning = Field(annotation=str required=True json_schema_extra={'prefix': \"Reasoning: Let's think step by step in order to\", 'desc': '${reasoning}', '__dspy_field_type': 'output'})\n",
      "    ground_truth_key_ideas = Field(annotation=str required=True json_schema_extra={'desc': 'enumeration of key ideas in the ground truth', '__dspy_field_type': 'output', 'prefix': 'Ground Truth Key Ideas:'})\n",
      "    system_response_key_ideas = Field(annotation=str required=True json_schema_extra={'desc': 'enumeration of key ideas in the system response', '__dspy_field_type': 'output', 'prefix': 'System Response Key Ideas:'})\n",
      "    discussion = Field(annotation=str required=True json_schema_extra={'desc': 'discussion of the overlap between ground truth and system response', '__dspy_field_type': 'output', 'prefix': 'Discussion:'})\n",
      "    recall = Field(annotation=float required=True json_schema_extra={'desc': 'fraction (out of 1.0) of ground truth covered by the system response', '__dspy_field_type': 'output', 'prefix': 'Recall:'})\n",
      "    precision = Field(annotation=float required=True json_schema_extra={'desc': 'fraction (out of 1.0) of system response covered by the ground truth', '__dspy_field_type': 'output', 'prefix': 'Precision:'})\n",
      ")) due to 'dict' object has no attribute 'inputs'.\n",
      "100%|██████████| 1/1 [00:00<00:00, 1988.76it/s]\n",
      "2025/01/14 17:38:44 INFO dspy.teleprompt.mipro_optimizer_v2: \n",
      "==> STEP 2: PROPOSE INSTRUCTION CANDIDATES <==\n",
      "2025/01/14 17:38:44 INFO dspy.teleprompt.mipro_optimizer_v2: We will use the few-shot examples from the previous step, a generated dataset summary, a summary of the program code, and a randomly selected prompting tip to propose instructions.\n"
     ]
    },
    {
     "name": "stdout",
     "output_type": "stream",
     "text": [
      "Bootstrapped 0 full traces after 0 examples for up to 1 rounds, amounting to 1 attempts.\n"
     ]
    },
    {
     "name": "stderr",
     "output_type": "stream",
     "text": [
      "2025/01/14 17:39:23 INFO dspy.teleprompt.mipro_optimizer_v2: \n",
      "Proposing instructions...\n",
      "\n",
      "2025/01/14 17:40:52 INFO dspy.teleprompt.mipro_optimizer_v2: Proposed Instructions for Predictor 0:\n",
      "\n",
      "2025/01/14 17:40:52 INFO dspy.teleprompt.mipro_optimizer_v2: 0: Given the fields `context`, `question`, produce the fields `response`.\n",
      "\n",
      "2025/01/14 17:40:52 INFO dspy.teleprompt.mipro_optimizer_v2: 1: Prompt a Language Model to generate a response to a user question based on a given context by providing the input fields `context` and `question`, and requesting the output fields `reasoning` and `response`.\n",
      "\n",
      "2025/01/14 17:40:52 INFO dspy.teleprompt.mipro_optimizer_v2: 2: Prompt a Language Model to generate a response to a user question based on a given context by providing the input fields `context` and `question`, and requesting the output fields `reasoning` and `response`.\n",
      "\n",
      "2025/01/14 17:40:52 INFO dspy.teleprompt.mipro_optimizer_v2: 3: Given the context of a user's question and the response that can be generated based on it, produce a human-like answer that addresses the user's inquiry.\n",
      "\n",
      "2025/01/14 17:40:52 INFO dspy.teleprompt.mipro_optimizer_v2: 4: Given a human-like conversation between two individuals where one person asks a question about art and the other responds with an opinion on beauty, generate a response that provides insight into what makes art beautiful.\n",
      "\n",
      "2025/01/14 17:40:52 INFO dspy.teleprompt.mipro_optimizer_v2: 5: Given a human-like conversation between two individuals where one person asks a question about art and the other responds with an opinion on beauty, generate a response that provides insight into what makes art beautiful.\n",
      "\n",
      "2025/01/14 17:40:52 INFO dspy.teleprompt.mipro_optimizer_v2: 6: Prompt a Language Model to generate a response to a user question based on a given context by providing the input fields `context` and `question`, and requesting the output fields `reasoning` and `response`.\n",
      "\n",
      "2025/01/14 17:40:52 INFO dspy.teleprompt.mipro_optimizer_v2: 7: Given you are a researcher studying aesthetics and beauty optimization, please provide a context describing your current research project and a question related to it. Generate a response that explains your reasoning behind this particular approach.\n",
      "\n",
      "2025/01/14 17:40:52 INFO dspy.teleprompt.mipro_optimizer_v2: 8: Given the context of a user's question, generate a response that takes into account the reasoning process required to address the query.\n",
      "\n",
      "2025/01/14 17:40:52 INFO dspy.teleprompt.mipro_optimizer_v2: 9: Given you are a researcher studying aesthetics and beauty optimization, please provide a context describing your current research project and a question related to it. Generate a response that explains your reasoning behind this particular approach.\n",
      "\n",
      "2025/01/14 17:40:52 INFO dspy.teleprompt.mipro_optimizer_v2: 10: Prompt a Language Model to generate a response to a user question based on a given context by providing the input fields `context` and `question`, and requesting the output fields `reasoning` and `response`.\n",
      "\n",
      "2025/01/14 17:40:52 INFO dspy.teleprompt.mipro_optimizer_v2: 11: Given a context and question, generate a response that takes into account reasoning steps to arrive at an answer.\n",
      "\n",
      "2025/01/14 17:40:52 INFO dspy.teleprompt.mipro_optimizer_v2: 12: Given the context of a user's question and the response that can be generated based on it, produce a human-like answer that addresses the user's inquiry.\n",
      "\n",
      "2025/01/14 17:40:52 INFO dspy.teleprompt.mipro_optimizer_v2: 13: Given you are a researcher studying aesthetics and beauty optimization, please provide a context describing your current research project and a question related to it. Generate a response that explains your reasoning behind this particular approach.\n",
      "\n",
      "2025/01/14 17:40:52 INFO dspy.teleprompt.mipro_optimizer_v2: 14: Given the context of a user's question and the response that can be generated based on it, produce a human-like answer that addresses the user's inquiry.\n",
      "\n",
      "2025/01/14 17:40:52 INFO dspy.teleprompt.mipro_optimizer_v2: 15: Given you are a researcher studying aesthetics and beauty optimization, please provide a context describing your current research project and a question related to it. Generate a response that explains your reasoning behind this particular approach.\n",
      "\n",
      "2025/01/14 17:40:52 INFO dspy.teleprompt.mipro_optimizer_v2: 16: Given the context of a user's question, generate a response that takes into account the reasoning process required to address the query.\n",
      "\n",
      "2025/01/14 17:40:52 INFO dspy.teleprompt.mipro_optimizer_v2: 17: Prompt a Language Model to generate a response to a user question based on a given context by providing the input fields `context` and `question`, and requesting the output fields `reasoning` and `response`.\n",
      "\n",
      "2025/01/14 17:40:52 INFO dspy.teleprompt.mipro_optimizer_v2: 18: Given a context and question, generate a response that takes into account reasoning steps to arrive at an answer.\n",
      "\n",
      "2025/01/14 17:40:52 INFO dspy.teleprompt.mipro_optimizer_v2: \n",
      "\n",
      "2025/01/14 17:40:52 INFO dspy.teleprompt.mipro_optimizer_v2: Evaluating the default program...\n",
      "\n",
      "2025/01/14 17:40:52 ERROR dspy.utils.parallelizer: Error processing item {'question': 'What are some creative ideas?'}: 'dict' object has no attribute 'inputs'. Set `provide_traceback=True` to see the stack trace.\n"
     ]
    },
    {
     "name": "stdout",
     "output_type": "stream",
     "text": [
      "Average Metric: 0.00 / 0 (0%): 100%|██████████| 1/1 [00:00<00:00, 440.35it/s]"
     ]
    },
    {
     "name": "stderr",
     "output_type": "stream",
     "text": [
      "2025/01/14 17:40:52 INFO dspy.evaluate.evaluate: Average Metric: 0.0 / 1 (0.0%)\n",
      "2025/01/14 17:40:52 INFO dspy.teleprompt.mipro_optimizer_v2: Default program score: 0.0\n",
      "\n"
     ]
    },
    {
     "name": "stdout",
     "output_type": "stream",
     "text": [
      "\n"
     ]
    },
    {
     "name": "stderr",
     "output_type": "stream",
     "text": [
      "2025/01/14 17:40:52 INFO dspy.teleprompt.mipro_optimizer_v2: ==> STEP 3: FINDING OPTIMAL PROMPT PARAMETERS <==\n",
      "2025/01/14 17:40:52 INFO dspy.teleprompt.mipro_optimizer_v2: We will evaluate the program over a series of trials with different combinations of instructions and few-shot examples to find the optimal combination using Bayesian Optimization.\n",
      "\n",
      "/opt/homebrew/Caskroom/miniforge/base/envs/nunu24/lib/python3.12/site-packages/optuna/_experimental.py:31: ExperimentalWarning: Argument ``multivariate`` is an experimental feature. The interface can change in the future.\n",
      "  warnings.warn(\n",
      "2025/01/14 17:40:52 INFO dspy.teleprompt.mipro_optimizer_v2: ===== Trial 1 / 25 =====\n",
      "2025/01/14 17:40:52 ERROR dspy.utils.parallelizer: Error processing item {'question': 'What are some creative ideas?'}: 'dict' object has no attribute 'inputs'. Set `provide_traceback=True` to see the stack trace.\n"
     ]
    },
    {
     "name": "stdout",
     "output_type": "stream",
     "text": [
      "Average Metric: 0.00 / 0 (0%): 100%|██████████| 1/1 [00:00<00:00, 1207.34it/s]"
     ]
    },
    {
     "name": "stderr",
     "output_type": "stream",
     "text": [
      "2025/01/14 17:40:52 INFO dspy.evaluate.evaluate: Average Metric: 0.0 / 1 (0.0%)\n",
      "2025/01/14 17:40:52 INFO dspy.teleprompt.mipro_optimizer_v2: Score: 0.0 with parameters ['Predictor 0: Instruction 12', 'Predictor 0: Few-Shot Set 7'].\n",
      "2025/01/14 17:40:52 INFO dspy.teleprompt.mipro_optimizer_v2: Scores so far: [0.0, 0.0]\n",
      "2025/01/14 17:40:52 INFO dspy.teleprompt.mipro_optimizer_v2: Best score so far: 0.0\n",
      "2025/01/14 17:40:52 INFO dspy.teleprompt.mipro_optimizer_v2: ========================\n",
      "\n",
      "\n",
      "2025/01/14 17:40:52 INFO dspy.teleprompt.mipro_optimizer_v2: ===== Trial 2 / 25 =====\n",
      "2025/01/14 17:40:52 ERROR dspy.utils.parallelizer: Error processing item {'question': 'What are some creative ideas?'}: 'dict' object has no attribute 'inputs'. Set `provide_traceback=True` to see the stack trace.\n"
     ]
    },
    {
     "name": "stdout",
     "output_type": "stream",
     "text": [
      "\n",
      "Average Metric: 0.00 / 0 (0%): 100%|██████████| 1/1 [00:00<00:00, 301.10it/s]"
     ]
    },
    {
     "name": "stderr",
     "output_type": "stream",
     "text": [
      "2025/01/14 17:40:52 INFO dspy.evaluate.evaluate: Average Metric: 0.0 / 1 (0.0%)\n",
      "2025/01/14 17:40:52 INFO dspy.teleprompt.mipro_optimizer_v2: Score: 0.0 with parameters ['Predictor 0: Instruction 10', 'Predictor 0: Few-Shot Set 7'].\n",
      "2025/01/14 17:40:52 INFO dspy.teleprompt.mipro_optimizer_v2: Scores so far: [0.0, 0.0, 0.0]\n",
      "2025/01/14 17:40:52 INFO dspy.teleprompt.mipro_optimizer_v2: Best score so far: 0.0\n",
      "2025/01/14 17:40:52 INFO dspy.teleprompt.mipro_optimizer_v2: ========================\n",
      "\n",
      "\n",
      "2025/01/14 17:40:52 INFO dspy.teleprompt.mipro_optimizer_v2: ===== Trial 3 / 25 =====\n",
      "2025/01/14 17:40:52 ERROR dspy.utils.parallelizer: Error processing item {'question': 'What are some creative ideas?'}: 'dict' object has no attribute 'inputs'. Set `provide_traceback=True` to see the stack trace.\n"
     ]
    },
    {
     "name": "stdout",
     "output_type": "stream",
     "text": [
      "\n",
      "Average Metric: 0.00 / 0 (0%): 100%|██████████| 1/1 [00:00<00:00, 2673.23it/s]"
     ]
    },
    {
     "name": "stderr",
     "output_type": "stream",
     "text": [
      "2025/01/14 17:40:52 INFO dspy.evaluate.evaluate: Average Metric: 0.0 / 1 (0.0%)\n",
      "2025/01/14 17:40:52 INFO dspy.teleprompt.mipro_optimizer_v2: Score: 0.0 with parameters ['Predictor 0: Instruction 7', 'Predictor 0: Few-Shot Set 18'].\n",
      "2025/01/14 17:40:52 INFO dspy.teleprompt.mipro_optimizer_v2: Scores so far: [0.0, 0.0, 0.0, 0.0]\n",
      "2025/01/14 17:40:52 INFO dspy.teleprompt.mipro_optimizer_v2: Best score so far: 0.0\n",
      "2025/01/14 17:40:52 INFO dspy.teleprompt.mipro_optimizer_v2: ========================\n",
      "\n",
      "\n",
      "2025/01/14 17:40:52 INFO dspy.teleprompt.mipro_optimizer_v2: ===== Trial 4 / 25 =====\n",
      "2025/01/14 17:40:52 ERROR dspy.utils.parallelizer: Error processing item {'question': 'What are some creative ideas?'}: 'dict' object has no attribute 'inputs'. Set `provide_traceback=True` to see the stack trace.\n"
     ]
    },
    {
     "name": "stdout",
     "output_type": "stream",
     "text": [
      "\n",
      "Average Metric: 0.00 / 0 (0%): 100%|██████████| 1/1 [00:00<00:00, 2371.00it/s]"
     ]
    },
    {
     "name": "stderr",
     "output_type": "stream",
     "text": [
      "2025/01/14 17:40:52 INFO dspy.evaluate.evaluate: Average Metric: 0.0 / 1 (0.0%)\n",
      "2025/01/14 17:40:52 INFO dspy.teleprompt.mipro_optimizer_v2: Score: 0.0 with parameters ['Predictor 0: Instruction 15', 'Predictor 0: Few-Shot Set 2'].\n",
      "2025/01/14 17:40:52 INFO dspy.teleprompt.mipro_optimizer_v2: Scores so far: [0.0, 0.0, 0.0, 0.0, 0.0]\n",
      "2025/01/14 17:40:52 INFO dspy.teleprompt.mipro_optimizer_v2: Best score so far: 0.0\n",
      "2025/01/14 17:40:52 INFO dspy.teleprompt.mipro_optimizer_v2: ========================\n",
      "\n",
      "\n",
      "2025/01/14 17:40:52 INFO dspy.teleprompt.mipro_optimizer_v2: ===== Trial 5 / 25 =====\n",
      "2025/01/14 17:40:52 ERROR dspy.utils.parallelizer: Error processing item {'question': 'What are some creative ideas?'}: 'dict' object has no attribute 'inputs'. Set `provide_traceback=True` to see the stack trace.\n"
     ]
    },
    {
     "name": "stdout",
     "output_type": "stream",
     "text": [
      "\n",
      "Average Metric: 0.00 / 0 (0%): 100%|██████████| 1/1 [00:00<00:00, 30.03it/s]"
     ]
    },
    {
     "name": "stderr",
     "output_type": "stream",
     "text": [
      "2025/01/14 17:40:52 INFO dspy.evaluate.evaluate: Average Metric: 0.0 / 1 (0.0%)\n",
      "2025/01/14 17:40:52 INFO dspy.teleprompt.mipro_optimizer_v2: Score: 0.0 with parameters ['Predictor 0: Instruction 8', 'Predictor 0: Few-Shot Set 18'].\n",
      "2025/01/14 17:40:52 INFO dspy.teleprompt.mipro_optimizer_v2: Scores so far: [0.0, 0.0, 0.0, 0.0, 0.0, 0.0]\n",
      "2025/01/14 17:40:52 INFO dspy.teleprompt.mipro_optimizer_v2: Best score so far: 0.0\n",
      "2025/01/14 17:40:52 INFO dspy.teleprompt.mipro_optimizer_v2: ========================\n",
      "\n",
      "\n",
      "2025/01/14 17:40:52 INFO dspy.teleprompt.mipro_optimizer_v2: ===== Trial 6 / 25 =====\n",
      "2025/01/14 17:40:52 ERROR dspy.utils.parallelizer: Error processing item {'question': 'What are some creative ideas?'}: 'dict' object has no attribute 'inputs'. Set `provide_traceback=True` to see the stack trace.\n"
     ]
    },
    {
     "name": "stdout",
     "output_type": "stream",
     "text": [
      "\n",
      "Average Metric: 0.00 / 0 (0%): 100%|██████████| 1/1 [00:00<00:00, 845.28it/s]"
     ]
    },
    {
     "name": "stderr",
     "output_type": "stream",
     "text": [
      "2025/01/14 17:40:52 INFO dspy.evaluate.evaluate: Average Metric: 0.0 / 1 (0.0%)\n",
      "2025/01/14 17:40:52 INFO dspy.teleprompt.mipro_optimizer_v2: Score: 0.0 with parameters ['Predictor 0: Instruction 7', 'Predictor 0: Few-Shot Set 1'].\n",
      "2025/01/14 17:40:52 INFO dspy.teleprompt.mipro_optimizer_v2: Scores so far: [0.0, 0.0, 0.0, 0.0, 0.0, 0.0, 0.0]\n",
      "2025/01/14 17:40:52 INFO dspy.teleprompt.mipro_optimizer_v2: Best score so far: 0.0\n",
      "2025/01/14 17:40:52 INFO dspy.teleprompt.mipro_optimizer_v2: ========================\n",
      "\n",
      "\n",
      "2025/01/14 17:40:52 INFO dspy.teleprompt.mipro_optimizer_v2: ===== Trial 7 / 25 =====\n",
      "2025/01/14 17:40:52 ERROR dspy.utils.parallelizer: Error processing item {'question': 'What are some creative ideas?'}: 'dict' object has no attribute 'inputs'. Set `provide_traceback=True` to see the stack trace.\n"
     ]
    },
    {
     "name": "stdout",
     "output_type": "stream",
     "text": [
      "\n",
      "Average Metric: 0.00 / 0 (0%): 100%|██████████| 1/1 [00:00<00:00, 1720.39it/s]"
     ]
    },
    {
     "name": "stderr",
     "output_type": "stream",
     "text": [
      "2025/01/14 17:40:52 INFO dspy.evaluate.evaluate: Average Metric: 0.0 / 1 (0.0%)\n",
      "2025/01/14 17:40:52 INFO dspy.teleprompt.mipro_optimizer_v2: Score: 0.0 with parameters ['Predictor 0: Instruction 7', 'Predictor 0: Few-Shot Set 12'].\n",
      "2025/01/14 17:40:52 INFO dspy.teleprompt.mipro_optimizer_v2: Scores so far: [0.0, 0.0, 0.0, 0.0, 0.0, 0.0, 0.0, 0.0]\n",
      "2025/01/14 17:40:52 INFO dspy.teleprompt.mipro_optimizer_v2: Best score so far: 0.0\n",
      "2025/01/14 17:40:52 INFO dspy.teleprompt.mipro_optimizer_v2: ========================\n",
      "\n",
      "\n",
      "2025/01/14 17:40:52 INFO dspy.teleprompt.mipro_optimizer_v2: ===== Trial 8 / 25 =====\n",
      "2025/01/14 17:40:52 ERROR dspy.utils.parallelizer: Error processing item {'question': 'What are some creative ideas?'}: 'dict' object has no attribute 'inputs'. Set `provide_traceback=True` to see the stack trace.\n"
     ]
    },
    {
     "name": "stdout",
     "output_type": "stream",
     "text": [
      "\n",
      "Average Metric: 0.00 / 0 (0%): 100%|██████████| 1/1 [00:00<00:00, 1739.65it/s]"
     ]
    },
    {
     "name": "stderr",
     "output_type": "stream",
     "text": [
      "2025/01/14 17:40:52 INFO dspy.evaluate.evaluate: Average Metric: 0.0 / 1 (0.0%)\n",
      "2025/01/14 17:40:52 INFO dspy.teleprompt.mipro_optimizer_v2: Score: 0.0 with parameters ['Predictor 0: Instruction 11', 'Predictor 0: Few-Shot Set 13'].\n",
      "2025/01/14 17:40:52 INFO dspy.teleprompt.mipro_optimizer_v2: Scores so far: [0.0, 0.0, 0.0, 0.0, 0.0, 0.0, 0.0, 0.0, 0.0]\n",
      "2025/01/14 17:40:52 INFO dspy.teleprompt.mipro_optimizer_v2: Best score so far: 0.0\n",
      "2025/01/14 17:40:52 INFO dspy.teleprompt.mipro_optimizer_v2: ========================\n",
      "\n",
      "\n",
      "2025/01/14 17:40:52 INFO dspy.teleprompt.mipro_optimizer_v2: ===== Trial 9 / 25 =====\n",
      "2025/01/14 17:40:52 ERROR dspy.utils.parallelizer: Error processing item {'question': 'What are some creative ideas?'}: 'dict' object has no attribute 'inputs'. Set `provide_traceback=True` to see the stack trace.\n"
     ]
    },
    {
     "name": "stdout",
     "output_type": "stream",
     "text": [
      "\n",
      "Average Metric: 0.00 / 0 (0%): 100%|██████████| 1/1 [00:00<00:00, 1470.14it/s]"
     ]
    },
    {
     "name": "stderr",
     "output_type": "stream",
     "text": [
      "2025/01/14 17:40:52 INFO dspy.evaluate.evaluate: Average Metric: 0.0 / 1 (0.0%)\n",
      "2025/01/14 17:40:52 INFO dspy.teleprompt.mipro_optimizer_v2: Score: 0.0 with parameters ['Predictor 0: Instruction 5', 'Predictor 0: Few-Shot Set 4'].\n",
      "2025/01/14 17:40:52 INFO dspy.teleprompt.mipro_optimizer_v2: Scores so far: [0.0, 0.0, 0.0, 0.0, 0.0, 0.0, 0.0, 0.0, 0.0, 0.0]\n",
      "2025/01/14 17:40:52 INFO dspy.teleprompt.mipro_optimizer_v2: Best score so far: 0.0\n",
      "2025/01/14 17:40:52 INFO dspy.teleprompt.mipro_optimizer_v2: ========================\n",
      "\n",
      "\n",
      "2025/01/14 17:40:52 INFO dspy.teleprompt.mipro_optimizer_v2: ===== Trial 10 / 25 =====\n",
      "2025/01/14 17:40:52 ERROR dspy.utils.parallelizer: Error processing item {'question': 'What are some creative ideas?'}: 'dict' object has no attribute 'inputs'. Set `provide_traceback=True` to see the stack trace.\n"
     ]
    },
    {
     "name": "stdout",
     "output_type": "stream",
     "text": [
      "\n",
      "Average Metric: 0.00 / 0 (0%): 100%|██████████| 1/1 [00:00<00:00, 1167.03it/s]"
     ]
    },
    {
     "name": "stderr",
     "output_type": "stream",
     "text": [
      "2025/01/14 17:40:52 INFO dspy.evaluate.evaluate: Average Metric: 0.0 / 1 (0.0%)\n",
      "2025/01/14 17:40:52 INFO dspy.teleprompt.mipro_optimizer_v2: Score: 0.0 with parameters ['Predictor 0: Instruction 14', 'Predictor 0: Few-Shot Set 1'].\n",
      "2025/01/14 17:40:52 INFO dspy.teleprompt.mipro_optimizer_v2: Scores so far: [0.0, 0.0, 0.0, 0.0, 0.0, 0.0, 0.0, 0.0, 0.0, 0.0, 0.0]\n",
      "2025/01/14 17:40:52 INFO dspy.teleprompt.mipro_optimizer_v2: Best score so far: 0.0\n",
      "2025/01/14 17:40:52 INFO dspy.teleprompt.mipro_optimizer_v2: =========================\n",
      "\n",
      "\n",
      "2025/01/14 17:40:52 INFO dspy.teleprompt.mipro_optimizer_v2: ===== Trial 11 / 25 =====\n"
     ]
    },
    {
     "name": "stdout",
     "output_type": "stream",
     "text": [
      "\n"
     ]
    },
    {
     "name": "stderr",
     "output_type": "stream",
     "text": [
      "2025/01/14 17:40:52 ERROR dspy.utils.parallelizer: Error processing item {'question': 'What are some creative ideas?'}: 'dict' object has no attribute 'inputs'. Set `provide_traceback=True` to see the stack trace.\n"
     ]
    },
    {
     "name": "stdout",
     "output_type": "stream",
     "text": [
      "Average Metric: 0.00 / 0 (0%): 100%|██████████| 1/1 [00:00<00:00, 1683.78it/s]\n"
     ]
    },
    {
     "name": "stderr",
     "output_type": "stream",
     "text": [
      "2025/01/14 17:40:52 INFO dspy.evaluate.evaluate: Average Metric: 0.0 / 1 (0.0%)\n",
      "2025/01/14 17:40:52 INFO dspy.teleprompt.mipro_optimizer_v2: Score: 0.0 with parameters ['Predictor 0: Instruction 12', 'Predictor 0: Few-Shot Set 3'].\n",
      "2025/01/14 17:40:52 INFO dspy.teleprompt.mipro_optimizer_v2: Scores so far: [0.0, 0.0, 0.0, 0.0, 0.0, 0.0, 0.0, 0.0, 0.0, 0.0, 0.0, 0.0]\n",
      "2025/01/14 17:40:52 INFO dspy.teleprompt.mipro_optimizer_v2: Best score so far: 0.0\n",
      "2025/01/14 17:40:52 INFO dspy.teleprompt.mipro_optimizer_v2: =========================\n",
      "\n",
      "\n",
      "2025/01/14 17:40:52 INFO dspy.teleprompt.mipro_optimizer_v2: ===== Trial 12 / 25 =====\n",
      "2025/01/14 17:40:52 ERROR dspy.utils.parallelizer: Error processing item {'question': 'What are some creative ideas?'}: 'dict' object has no attribute 'inputs'. Set `provide_traceback=True` to see the stack trace.\n"
     ]
    },
    {
     "name": "stdout",
     "output_type": "stream",
     "text": [
      "Average Metric: 0.00 / 0 (0%): 100%|██████████| 1/1 [00:00<00:00, 463.36it/s]"
     ]
    },
    {
     "name": "stderr",
     "output_type": "stream",
     "text": [
      "2025/01/14 17:40:52 INFO dspy.evaluate.evaluate: Average Metric: 0.0 / 1 (0.0%)\n",
      "2025/01/14 17:40:52 INFO dspy.teleprompt.mipro_optimizer_v2: Score: 0.0 with parameters ['Predictor 0: Instruction 12', 'Predictor 0: Few-Shot Set 7'].\n",
      "2025/01/14 17:40:52 INFO dspy.teleprompt.mipro_optimizer_v2: Scores so far: [0.0, 0.0, 0.0, 0.0, 0.0, 0.0, 0.0, 0.0, 0.0, 0.0, 0.0, 0.0, 0.0]\n",
      "2025/01/14 17:40:52 INFO dspy.teleprompt.mipro_optimizer_v2: Best score so far: 0.0\n",
      "2025/01/14 17:40:52 INFO dspy.teleprompt.mipro_optimizer_v2: =========================\n",
      "\n",
      "\n"
     ]
    },
    {
     "name": "stdout",
     "output_type": "stream",
     "text": [
      "\n"
     ]
    },
    {
     "name": "stderr",
     "output_type": "stream",
     "text": [
      "2025/01/14 17:40:52 INFO dspy.teleprompt.mipro_optimizer_v2: ===== Trial 13 / 25 =====\n",
      "2025/01/14 17:40:52 ERROR dspy.utils.parallelizer: Error processing item {'question': 'What are some creative ideas?'}: 'dict' object has no attribute 'inputs'. Set `provide_traceback=True` to see the stack trace.\n"
     ]
    },
    {
     "name": "stdout",
     "output_type": "stream",
     "text": [
      "Average Metric: 0.00 / 0 (0%): 100%|██████████| 1/1 [00:00<00:00, 657.00it/s]"
     ]
    },
    {
     "name": "stderr",
     "output_type": "stream",
     "text": [
      "2025/01/14 17:40:52 INFO dspy.evaluate.evaluate: Average Metric: 0.0 / 1 (0.0%)\n",
      "2025/01/14 17:40:52 INFO dspy.teleprompt.mipro_optimizer_v2: Score: 0.0 with parameters ['Predictor 0: Instruction 0', 'Predictor 0: Few-Shot Set 7'].\n",
      "2025/01/14 17:40:52 INFO dspy.teleprompt.mipro_optimizer_v2: Scores so far: [0.0, 0.0, 0.0, 0.0, 0.0, 0.0, 0.0, 0.0, 0.0, 0.0, 0.0, 0.0, 0.0, 0.0]\n",
      "2025/01/14 17:40:52 INFO dspy.teleprompt.mipro_optimizer_v2: Best score so far: 0.0\n"
     ]
    },
    {
     "name": "stdout",
     "output_type": "stream",
     "text": [
      "\n"
     ]
    },
    {
     "name": "stderr",
     "output_type": "stream",
     "text": [
      "2025/01/14 17:40:52 INFO dspy.teleprompt.mipro_optimizer_v2: =========================\n",
      "\n",
      "\n",
      "2025/01/14 17:40:52 INFO dspy.teleprompt.mipro_optimizer_v2: ===== Trial 14 / 25 =====\n",
      "2025/01/14 17:40:52 ERROR dspy.utils.parallelizer: Error processing item {'question': 'What are some creative ideas?'}: 'dict' object has no attribute 'inputs'. Set `provide_traceback=True` to see the stack trace.\n"
     ]
    },
    {
     "name": "stdout",
     "output_type": "stream",
     "text": [
      "Average Metric: 0.00 / 0 (0%): 100%|██████████| 1/1 [00:00<00:00, 2538.92it/s]"
     ]
    },
    {
     "name": "stderr",
     "output_type": "stream",
     "text": [
      "2025/01/14 17:40:52 INFO dspy.evaluate.evaluate: Average Metric: 0.0 / 1 (0.0%)\n",
      "2025/01/14 17:40:52 INFO dspy.teleprompt.mipro_optimizer_v2: Score: 0.0 with parameters ['Predictor 0: Instruction 10', 'Predictor 0: Few-Shot Set 0'].\n",
      "2025/01/14 17:40:52 INFO dspy.teleprompt.mipro_optimizer_v2: Scores so far: [0.0, 0.0, 0.0, 0.0, 0.0, 0.0, 0.0, 0.0, 0.0, 0.0, 0.0, 0.0, 0.0, 0.0, 0.0]\n",
      "2025/01/14 17:40:52 INFO dspy.teleprompt.mipro_optimizer_v2: Best score so far: 0.0\n",
      "2025/01/14 17:40:52 INFO dspy.teleprompt.mipro_optimizer_v2: =========================\n",
      "\n",
      "\n",
      "2025/01/14 17:40:52 INFO dspy.teleprompt.mipro_optimizer_v2: ===== Trial 15 / 25 =====\n",
      "2025/01/14 17:40:52 ERROR dspy.utils.parallelizer: Error processing item {'question': 'What are some creative ideas?'}: 'dict' object has no attribute 'inputs'. Set `provide_traceback=True` to see the stack trace.\n"
     ]
    },
    {
     "name": "stdout",
     "output_type": "stream",
     "text": [
      "\n",
      "Average Metric: 0.00 / 0 (0%): 100%|██████████| 1/1 [00:00<00:00, 1607.63it/s]"
     ]
    },
    {
     "name": "stderr",
     "output_type": "stream",
     "text": [
      "2025/01/14 17:40:52 INFO dspy.evaluate.evaluate: Average Metric: 0.0 / 1 (0.0%)\n",
      "2025/01/14 17:40:52 INFO dspy.teleprompt.mipro_optimizer_v2: Score: 0.0 with parameters ['Predictor 0: Instruction 2', 'Predictor 0: Few-Shot Set 7'].\n"
     ]
    },
    {
     "name": "stdout",
     "output_type": "stream",
     "text": [
      "\n"
     ]
    },
    {
     "name": "stderr",
     "output_type": "stream",
     "text": [
      "2025/01/14 17:40:52 INFO dspy.teleprompt.mipro_optimizer_v2: Scores so far: [0.0, 0.0, 0.0, 0.0, 0.0, 0.0, 0.0, 0.0, 0.0, 0.0, 0.0, 0.0, 0.0, 0.0, 0.0, 0.0]\n",
      "2025/01/14 17:40:52 INFO dspy.teleprompt.mipro_optimizer_v2: Best score so far: 0.0\n",
      "2025/01/14 17:40:52 INFO dspy.teleprompt.mipro_optimizer_v2: =========================\n",
      "\n",
      "\n",
      "2025/01/14 17:40:52 INFO dspy.teleprompt.mipro_optimizer_v2: ===== Trial 16 / 25 =====\n",
      "2025/01/14 17:40:52 ERROR dspy.utils.parallelizer: Error processing item {'question': 'What are some creative ideas?'}: 'dict' object has no attribute 'inputs'. Set `provide_traceback=True` to see the stack trace.\n"
     ]
    },
    {
     "name": "stdout",
     "output_type": "stream",
     "text": [
      "Average Metric: 0.00 / 0 (0%): 100%|██████████| 1/1 [00:00<00:00, 2611.65it/s]"
     ]
    },
    {
     "name": "stderr",
     "output_type": "stream",
     "text": [
      "2025/01/14 17:40:52 INFO dspy.evaluate.evaluate: Average Metric: 0.0 / 1 (0.0%)\n",
      "2025/01/14 17:40:52 INFO dspy.teleprompt.mipro_optimizer_v2: Score: 0.0 with parameters ['Predictor 0: Instruction 10', 'Predictor 0: Few-Shot Set 5'].\n",
      "2025/01/14 17:40:52 INFO dspy.teleprompt.mipro_optimizer_v2: Scores so far: [0.0, 0.0, 0.0, 0.0, 0.0, 0.0, 0.0, 0.0, 0.0, 0.0, 0.0, 0.0, 0.0, 0.0, 0.0, 0.0, 0.0]\n",
      "2025/01/14 17:40:52 INFO dspy.teleprompt.mipro_optimizer_v2: Best score so far: 0.0\n",
      "2025/01/14 17:40:52 INFO dspy.teleprompt.mipro_optimizer_v2: =========================\n",
      "\n",
      "\n",
      "2025/01/14 17:40:52 INFO dspy.teleprompt.mipro_optimizer_v2: ===== Trial 17 / 25 =====\n"
     ]
    },
    {
     "name": "stdout",
     "output_type": "stream",
     "text": [
      "\n"
     ]
    },
    {
     "name": "stderr",
     "output_type": "stream",
     "text": [
      "2025/01/14 17:40:52 ERROR dspy.utils.parallelizer: Error processing item {'question': 'What are some creative ideas?'}: 'dict' object has no attribute 'inputs'. Set `provide_traceback=True` to see the stack trace.\n"
     ]
    },
    {
     "name": "stdout",
     "output_type": "stream",
     "text": [
      "Average Metric: 0.00 / 0 (0%): 100%|██████████| 1/1 [00:00<00:00, 1841.22it/s]"
     ]
    },
    {
     "name": "stderr",
     "output_type": "stream",
     "text": [
      "2025/01/14 17:40:52 INFO dspy.evaluate.evaluate: Average Metric: 0.0 / 1 (0.0%)\n",
      "2025/01/14 17:40:52 INFO dspy.teleprompt.mipro_optimizer_v2: Score: 0.0 with parameters ['Predictor 0: Instruction 13', 'Predictor 0: Few-Shot Set 10'].\n",
      "2025/01/14 17:40:52 INFO dspy.teleprompt.mipro_optimizer_v2: Scores so far: [0.0, 0.0, 0.0, 0.0, 0.0, 0.0, 0.0, 0.0, 0.0, 0.0, 0.0, 0.0, 0.0, 0.0, 0.0, 0.0, 0.0, 0.0]\n",
      "2025/01/14 17:40:52 INFO dspy.teleprompt.mipro_optimizer_v2: Best score so far: 0.0\n"
     ]
    },
    {
     "name": "stdout",
     "output_type": "stream",
     "text": [
      "\n"
     ]
    },
    {
     "name": "stderr",
     "output_type": "stream",
     "text": [
      "2025/01/14 17:40:52 INFO dspy.teleprompt.mipro_optimizer_v2: =========================\n",
      "\n",
      "\n",
      "2025/01/14 17:40:52 INFO dspy.teleprompt.mipro_optimizer_v2: ===== Trial 18 / 25 =====\n",
      "2025/01/14 17:40:52 ERROR dspy.utils.parallelizer: Error processing item {'question': 'What are some creative ideas?'}: 'dict' object has no attribute 'inputs'. Set `provide_traceback=True` to see the stack trace.\n"
     ]
    },
    {
     "name": "stdout",
     "output_type": "stream",
     "text": [
      "Average Metric: 0.00 / 0 (0%): 100%|██████████| 1/1 [00:00<00:00, 3423.92it/s]"
     ]
    },
    {
     "name": "stderr",
     "output_type": "stream",
     "text": [
      "2025/01/14 17:40:52 INFO dspy.evaluate.evaluate: Average Metric: 0.0 / 1 (0.0%)\n",
      "2025/01/14 17:40:52 INFO dspy.teleprompt.mipro_optimizer_v2: Score: 0.0 with parameters ['Predictor 0: Instruction 1', 'Predictor 0: Few-Shot Set 6'].\n",
      "2025/01/14 17:40:52 INFO dspy.teleprompt.mipro_optimizer_v2: Scores so far: [0.0, 0.0, 0.0, 0.0, 0.0, 0.0, 0.0, 0.0, 0.0, 0.0, 0.0, 0.0, 0.0, 0.0, 0.0, 0.0, 0.0, 0.0, 0.0]\n",
      "2025/01/14 17:40:52 INFO dspy.teleprompt.mipro_optimizer_v2: Best score so far: 0.0\n",
      "2025/01/14 17:40:52 INFO dspy.teleprompt.mipro_optimizer_v2: =========================\n",
      "\n",
      "\n",
      "2025/01/14 17:40:52 INFO dspy.teleprompt.mipro_optimizer_v2: ===== Trial 19 / 25 =====\n"
     ]
    },
    {
     "name": "stdout",
     "output_type": "stream",
     "text": [
      "\n"
     ]
    },
    {
     "name": "stderr",
     "output_type": "stream",
     "text": [
      "2025/01/14 17:40:52 ERROR dspy.utils.parallelizer: Error processing item {'question': 'What are some creative ideas?'}: 'dict' object has no attribute 'inputs'. Set `provide_traceback=True` to see the stack trace.\n"
     ]
    },
    {
     "name": "stdout",
     "output_type": "stream",
     "text": [
      "Average Metric: 0.00 / 0 (0%): 100%|██████████| 1/1 [00:00<00:00, 2755.78it/s]"
     ]
    },
    {
     "name": "stderr",
     "output_type": "stream",
     "text": [
      "2025/01/14 17:40:52 INFO dspy.evaluate.evaluate: Average Metric: 0.0 / 1 (0.0%)\n",
      "2025/01/14 17:40:52 INFO dspy.teleprompt.mipro_optimizer_v2: Score: 0.0 with parameters ['Predictor 0: Instruction 10', 'Predictor 0: Few-Shot Set 7'].\n",
      "2025/01/14 17:40:52 INFO dspy.teleprompt.mipro_optimizer_v2: Scores so far: [0.0, 0.0, 0.0, 0.0, 0.0, 0.0, 0.0, 0.0, 0.0, 0.0, 0.0, 0.0, 0.0, 0.0, 0.0, 0.0, 0.0, 0.0, 0.0, 0.0]\n"
     ]
    },
    {
     "name": "stdout",
     "output_type": "stream",
     "text": [
      "\n"
     ]
    },
    {
     "name": "stderr",
     "output_type": "stream",
     "text": [
      "2025/01/14 17:40:52 INFO dspy.teleprompt.mipro_optimizer_v2: Best score so far: 0.0\n",
      "2025/01/14 17:40:52 INFO dspy.teleprompt.mipro_optimizer_v2: =========================\n",
      "\n",
      "\n",
      "2025/01/14 17:40:52 INFO dspy.teleprompt.mipro_optimizer_v2: ===== Trial 20 / 25 =====\n",
      "2025/01/14 17:40:52 ERROR dspy.utils.parallelizer: Error processing item {'question': 'What are some creative ideas?'}: 'dict' object has no attribute 'inputs'. Set `provide_traceback=True` to see the stack trace.\n"
     ]
    },
    {
     "name": "stdout",
     "output_type": "stream",
     "text": [
      "Average Metric: 0.00 / 0 (0%): 100%|██████████| 1/1 [00:00<00:00, 2083.61it/s]"
     ]
    },
    {
     "name": "stderr",
     "output_type": "stream",
     "text": [
      "2025/01/14 17:40:52 INFO dspy.evaluate.evaluate: Average Metric: 0.0 / 1 (0.0%)\n",
      "2025/01/14 17:40:52 INFO dspy.teleprompt.mipro_optimizer_v2: Score: 0.0 with parameters ['Predictor 0: Instruction 12', 'Predictor 0: Few-Shot Set 17'].\n",
      "2025/01/14 17:40:52 INFO dspy.teleprompt.mipro_optimizer_v2: Scores so far: [0.0, 0.0, 0.0, 0.0, 0.0, 0.0, 0.0, 0.0, 0.0, 0.0, 0.0, 0.0, 0.0, 0.0, 0.0, 0.0, 0.0, 0.0, 0.0, 0.0, 0.0]\n",
      "2025/01/14 17:40:52 INFO dspy.teleprompt.mipro_optimizer_v2: Best score so far: 0.0\n",
      "2025/01/14 17:40:52 INFO dspy.teleprompt.mipro_optimizer_v2: =========================\n",
      "\n",
      "\n",
      "2025/01/14 17:40:52 INFO dspy.teleprompt.mipro_optimizer_v2: ===== Trial 21 / 25 =====\n",
      "2025/01/14 17:40:52 ERROR dspy.utils.parallelizer: Error processing item {'question': 'What are some creative ideas?'}: 'dict' object has no attribute 'inputs'. Set `provide_traceback=True` to see the stack trace.\n"
     ]
    },
    {
     "name": "stdout",
     "output_type": "stream",
     "text": [
      "\n",
      "Average Metric: 0.00 / 0 (0%): 100%|██████████| 1/1 [00:00<00:00, 892.22it/s]"
     ]
    },
    {
     "name": "stderr",
     "output_type": "stream",
     "text": [
      "2025/01/14 17:40:52 INFO dspy.evaluate.evaluate: Average Metric: 0.0 / 1 (0.0%)\n",
      "2025/01/14 17:40:52 INFO dspy.teleprompt.mipro_optimizer_v2: Score: 0.0 with parameters ['Predictor 0: Instruction 16', 'Predictor 0: Few-Shot Set 15'].\n",
      "2025/01/14 17:40:52 INFO dspy.teleprompt.mipro_optimizer_v2: Scores so far: [0.0, 0.0, 0.0, 0.0, 0.0, 0.0, 0.0, 0.0, 0.0, 0.0, 0.0, 0.0, 0.0, 0.0, 0.0, 0.0, 0.0, 0.0, 0.0, 0.0, 0.0, 0.0]\n",
      "2025/01/14 17:40:52 INFO dspy.teleprompt.mipro_optimizer_v2: Best score so far: 0.0\n",
      "2025/01/14 17:40:52 INFO dspy.teleprompt.mipro_optimizer_v2: =========================\n",
      "\n",
      "\n",
      "2025/01/14 17:40:52 INFO dspy.teleprompt.mipro_optimizer_v2: ===== Trial 22 / 25 =====\n",
      "2025/01/14 17:40:52 ERROR dspy.utils.parallelizer: Error processing item {'question': 'What are some creative ideas?'}: 'dict' object has no attribute 'inputs'. Set `provide_traceback=True` to see the stack trace.\n"
     ]
    },
    {
     "name": "stdout",
     "output_type": "stream",
     "text": [
      "\n",
      "Average Metric: 0.00 / 0 (0%): 100%|██████████| 1/1 [00:00<00:00, 2695.57it/s]"
     ]
    },
    {
     "name": "stderr",
     "output_type": "stream",
     "text": [
      "2025/01/14 17:40:52 INFO dspy.evaluate.evaluate: Average Metric: 0.0 / 1 (0.0%)\n",
      "2025/01/14 17:40:52 INFO dspy.teleprompt.mipro_optimizer_v2: Score: 0.0 with parameters ['Predictor 0: Instruction 17', 'Predictor 0: Few-Shot Set 14'].\n",
      "2025/01/14 17:40:52 INFO dspy.teleprompt.mipro_optimizer_v2: Scores so far: [0.0, 0.0, 0.0, 0.0, 0.0, 0.0, 0.0, 0.0, 0.0, 0.0, 0.0, 0.0, 0.0, 0.0, 0.0, 0.0, 0.0, 0.0, 0.0, 0.0, 0.0, 0.0, 0.0]\n",
      "2025/01/14 17:40:52 INFO dspy.teleprompt.mipro_optimizer_v2: Best score so far: 0.0\n",
      "2025/01/14 17:40:52 INFO dspy.teleprompt.mipro_optimizer_v2: =========================\n",
      "\n",
      "\n",
      "2025/01/14 17:40:52 INFO dspy.teleprompt.mipro_optimizer_v2: ===== Trial 23 / 25 =====\n"
     ]
    },
    {
     "name": "stdout",
     "output_type": "stream",
     "text": [
      "\n"
     ]
    },
    {
     "name": "stderr",
     "output_type": "stream",
     "text": [
      "2025/01/14 17:40:52 ERROR dspy.utils.parallelizer: Error processing item {'question': 'What are some creative ideas?'}: 'dict' object has no attribute 'inputs'. Set `provide_traceback=True` to see the stack trace.\n"
     ]
    },
    {
     "name": "stdout",
     "output_type": "stream",
     "text": [
      "Average Metric: 0.00 / 0 (0%): 100%|██████████| 1/1 [00:00<00:00, 2832.08it/s]"
     ]
    },
    {
     "name": "stderr",
     "output_type": "stream",
     "text": [
      "2025/01/14 17:40:52 INFO dspy.evaluate.evaluate: Average Metric: 0.0 / 1 (0.0%)\n",
      "2025/01/14 17:40:52 INFO dspy.teleprompt.mipro_optimizer_v2: Score: 0.0 with parameters ['Predictor 0: Instruction 4', 'Predictor 0: Few-Shot Set 18'].\n",
      "2025/01/14 17:40:52 INFO dspy.teleprompt.mipro_optimizer_v2: Scores so far: [0.0, 0.0, 0.0, 0.0, 0.0, 0.0, 0.0, 0.0, 0.0, 0.0, 0.0, 0.0, 0.0, 0.0, 0.0, 0.0, 0.0, 0.0, 0.0, 0.0, 0.0, 0.0, 0.0, 0.0]\n"
     ]
    },
    {
     "name": "stdout",
     "output_type": "stream",
     "text": [
      "\n"
     ]
    },
    {
     "name": "stderr",
     "output_type": "stream",
     "text": [
      "2025/01/14 17:40:52 INFO dspy.teleprompt.mipro_optimizer_v2: Best score so far: 0.0\n",
      "2025/01/14 17:40:52 INFO dspy.teleprompt.mipro_optimizer_v2: =========================\n",
      "\n",
      "\n",
      "2025/01/14 17:40:52 INFO dspy.teleprompt.mipro_optimizer_v2: ===== Trial 24 / 25 =====\n",
      "2025/01/14 17:40:52 ERROR dspy.utils.parallelizer: Error processing item {'question': 'What are some creative ideas?'}: 'dict' object has no attribute 'inputs'. Set `provide_traceback=True` to see the stack trace.\n"
     ]
    },
    {
     "name": "stdout",
     "output_type": "stream",
     "text": [
      "Average Metric: 0.00 / 0 (0%): 100%|██████████| 1/1 [00:00<00:00, 1825.99it/s]\n"
     ]
    },
    {
     "name": "stderr",
     "output_type": "stream",
     "text": [
      "2025/01/14 17:40:52 INFO dspy.evaluate.evaluate: Average Metric: 0.0 / 1 (0.0%)\n",
      "2025/01/14 17:40:52 INFO dspy.teleprompt.mipro_optimizer_v2: Score: 0.0 with parameters ['Predictor 0: Instruction 18', 'Predictor 0: Few-Shot Set 8'].\n",
      "2025/01/14 17:40:52 INFO dspy.teleprompt.mipro_optimizer_v2: Scores so far: [0.0, 0.0, 0.0, 0.0, 0.0, 0.0, 0.0, 0.0, 0.0, 0.0, 0.0, 0.0, 0.0, 0.0, 0.0, 0.0, 0.0, 0.0, 0.0, 0.0, 0.0, 0.0, 0.0, 0.0, 0.0]\n",
      "2025/01/14 17:40:52 INFO dspy.teleprompt.mipro_optimizer_v2: Best score so far: 0.0\n",
      "2025/01/14 17:40:52 INFO dspy.teleprompt.mipro_optimizer_v2: =========================\n",
      "\n",
      "\n",
      "2025/01/14 17:40:52 INFO dspy.teleprompt.mipro_optimizer_v2: ===== Trial 25 / 25 =====\n",
      "2025/01/14 17:40:52 ERROR dspy.utils.parallelizer: Error processing item {'question': 'What are some creative ideas?'}: 'dict' object has no attribute 'inputs'. Set `provide_traceback=True` to see the stack trace.\n"
     ]
    },
    {
     "name": "stdout",
     "output_type": "stream",
     "text": [
      "Average Metric: 0.00 / 0 (0%): 100%|██████████| 1/1 [00:00<00:00, 367.24it/s]"
     ]
    },
    {
     "name": "stderr",
     "output_type": "stream",
     "text": [
      "2025/01/14 17:40:52 INFO dspy.evaluate.evaluate: Average Metric: 0.0 / 1 (0.0%)\n",
      "2025/01/14 17:40:52 INFO dspy.teleprompt.mipro_optimizer_v2: Score: 0.0 with parameters ['Predictor 0: Instruction 7', 'Predictor 0: Few-Shot Set 18'].\n",
      "2025/01/14 17:40:52 INFO dspy.teleprompt.mipro_optimizer_v2: Scores so far: [0.0, 0.0, 0.0, 0.0, 0.0, 0.0, 0.0, 0.0, 0.0, 0.0, 0.0, 0.0, 0.0, 0.0, 0.0, 0.0, 0.0, 0.0, 0.0, 0.0, 0.0, 0.0, 0.0, 0.0, 0.0, 0.0]\n",
      "2025/01/14 17:40:52 INFO dspy.teleprompt.mipro_optimizer_v2: Best score so far: 0.0\n",
      "2025/01/14 17:40:52 INFO dspy.teleprompt.mipro_optimizer_v2: =========================\n",
      "\n",
      "\n",
      "2025/01/14 17:40:52 INFO dspy.teleprompt.mipro_optimizer_v2: Returning best identified program with score 0.0!\n"
     ]
    },
    {
     "name": "stdout",
     "output_type": "stream",
     "text": [
      "\n",
      "\n",
      "Question: How do you maximize the beauty?\n",
      "\n",
      "Response: There is no one-size-fits-all answer to maximizing beauty, as it varies greatly from person to person. However, some common ways to appreciate and enhance beauty include appreciating nature, art, music, and cultural heritage, while also taking care of oneself and others.\n"
     ]
    }
   ],
   "source": [
    "import pandas as pd\n",
    "import dspy\n",
    "from typing import List, Dict\n",
    "\n",
    "# Step 1: Create the basic CSV search class\n",
    "class ColBERTv2:\n",
    "    def __init__(self, csv_path: str):\n",
    "        self.data = pd.read_csv(csv_path)\n",
    "        if \"Ideas\" not in self.data.columns:\n",
    "            raise ValueError(\"CSV must contain a column named 'Ideas'.\")\n",
    "\n",
    "    def __call__(self, query: str, k: int = 10) -> List[str]:\n",
    "        results = []\n",
    "        for idea in self.data[\"Ideas\"].values:\n",
    "            if query.lower() in str(idea).lower():\n",
    "                results.append(idea)\n",
    "                if len(results) >= k:\n",
    "                    break\n",
    "        return results\n",
    "\n",
    "# Step 2: Initialize search and define search function\n",
    "colbertv2_csv = ColBERTv2(csv_path=\"151_ideas_updated2.csv\")\n",
    "\n",
    "def search(query: str, k: int = 3) -> List[str]:\n",
    "    return colbertv2_csv(query, k=k)\n",
    "\n",
    "# Step 3: Define RAG module with correct signature format\n",
    "class RAG(dspy.Module):\n",
    "    def __init__(self, num_docs=3):\n",
    "        super().__init__()\n",
    "        self.num_docs = num_docs\n",
    "        \n",
    "        # Correct signature format: inputs -> outputs\n",
    "        self.retrieve_and_respond = dspy.ChainOfThought(\n",
    "            \"context, question -> response\"\n",
    "        )\n",
    "\n",
    "    def forward(self, question):\n",
    "        # Retrieve context\n",
    "        context = search(question, k=self.num_docs)\n",
    "        \n",
    "        # Generate response\n",
    "        prediction = self.retrieve_and_respond(\n",
    "            context=context,\n",
    "            question=question\n",
    "        )\n",
    "        \n",
    "        return prediction.response\n",
    "\n",
    "# Step 4: Create simple training examples\n",
    "def generate_training_examples() -> List[Dict]:\n",
    "    # Start with just a few simple examples\n",
    "    return [\n",
    "        {\"question\": \"How can we maximize beauty?\"},\n",
    "        {\"question\": \"What are some creative ideas?\"}\n",
    "    ]\n",
    "\n",
    "# Step 5: Set up optimization function\n",
    "def optimize_rag():\n",
    "    # Create training set\n",
    "    trainset = generate_training_examples()\n",
    "    \n",
    "    # Initialize the optimizer with basic settings\n",
    "    tp = dspy.MIPROv2(\n",
    "        metric=dspy.evaluate.SemanticF1(decompositional=True),\n",
    "        auto=\"medium\",\n",
    "        num_threads=4  # Reduced from 24 for testing\n",
    "    )\n",
    "    \n",
    "    # Compile and optimize\n",
    "    optimized_rag = tp.compile(\n",
    "        RAG(),\n",
    "        trainset=trainset,\n",
    "        max_bootstrapped_demos=2,\n",
    "        max_labeled_demos=2\n",
    "    )\n",
    "    \n",
    "    return optimized_rag\n",
    "\n",
    "# Step 6: Main function with error handling\n",
    "def main():\n",
    "    try:\n",
    "        print(\"Optimizing RAG system...\")\n",
    "        optimized_rag = optimize_rag()\n",
    "        \n",
    "        question = \"How do you maximize the beauty?\"\n",
    "        print(f\"\\nQuestion: {question}\")\n",
    "        \n",
    "        response = optimized_rag(question)\n",
    "        print(f\"\\nResponse: {response}\")\n",
    "        \n",
    "    except Exception as e:\n",
    "        \n",
    "        print(f\"An error occurred: {str(e)}\")\n",
    "\n",
    "if __name__ == \"__main__\":\n",
    "    main()"
   ]
  },
  {
   "cell_type": "code",
   "execution_count": 30,
   "metadata": {},
   "outputs": [
    {
     "name": "stderr",
     "output_type": "stream",
     "text": [
      "2025/01/14 17:47:32 INFO dspy.teleprompt.mipro_optimizer_v2: \n",
      "RUNNING WITH THE FOLLOWING MEDIUM AUTO RUN SETTINGS:\n",
      "num_trials: 25\n",
      "minibatch: False\n",
      "num_candidates: 19\n",
      "valset size: 2\n",
      "\n"
     ]
    },
    {
     "name": "stdout",
     "output_type": "stream",
     "text": [
      "Optimizing RAG system...\n"
     ]
    },
    {
     "name": "stderr",
     "output_type": "stream",
     "text": [
      "2025/01/14 17:47:37 INFO dspy.teleprompt.mipro_optimizer_v2: \n",
      "==> STEP 1: BOOTSTRAP FEWSHOT EXAMPLES <==\n",
      "2025/01/14 17:47:37 INFO dspy.teleprompt.mipro_optimizer_v2: These will be used as few-shot example candidates for our program and for creating instructions.\n",
      "\n",
      "2025/01/14 17:47:37 INFO dspy.teleprompt.mipro_optimizer_v2: Bootstrapping N=19 sets of demonstrations...\n"
     ]
    },
    {
     "name": "stdout",
     "output_type": "stream",
     "text": [
      "Bootstrapping set 1/19\n",
      "Bootstrapping set 2/19\n",
      "Bootstrapping set 3/19\n"
     ]
    },
    {
     "name": "stderr",
     "output_type": "stream",
     "text": [
      "  0%|          | 0/1 [00:00<?, ?it/s]2025/01/14 17:47:37 ERROR dspy.teleprompt.bootstrap: Failed to run or to evaluate example {'question': 'How can we maximize beauty?', 'response': \"Based on the philosophical ideas presented, maximizing beauty involves fully channeling the beauty within and actively seeking beauty in every situation. This includes disciplining our senses to focus on beauty in our surroundings, such as appreciating flowers and birds. It's considered a fundamental virtue that requires conscious implementation and can be enhanced by questioning what makes each moment beautiful.\"} with module = Predict(StringSignature(question, ground_truth, system_response -> reasoning, ground_truth_key_ideas, system_response_key_ideas, discussion, recall, precision\n",
      "    instructions=\"Compare a system's response to the ground truth to compute recall and precision of key ideas.\\nYou will first enumerate key ideas in each response, discuss their overlap, and then report recall and precision.\"\n",
      "    question = Field(annotation=str required=True json_schema_extra={'__dspy_field_type': 'input', 'prefix': 'Question:', 'desc': '${question}'})\n",
      "    ground_truth = Field(annotation=str required=True json_schema_extra={'__dspy_field_type': 'input', 'prefix': 'Ground Truth:', 'desc': '${ground_truth}'})\n",
      "    system_response = Field(annotation=str required=True json_schema_extra={'__dspy_field_type': 'input', 'prefix': 'System Response:', 'desc': '${system_response}'})\n",
      "    reasoning = Field(annotation=str required=True json_schema_extra={'prefix': \"Reasoning: Let's think step by step in order to\", 'desc': '${reasoning}', '__dspy_field_type': 'output'})\n",
      "    ground_truth_key_ideas = Field(annotation=str required=True json_schema_extra={'desc': 'enumeration of key ideas in the ground truth', '__dspy_field_type': 'output', 'prefix': 'Ground Truth Key Ideas:'})\n",
      "    system_response_key_ideas = Field(annotation=str required=True json_schema_extra={'desc': 'enumeration of key ideas in the system response', '__dspy_field_type': 'output', 'prefix': 'System Response Key Ideas:'})\n",
      "    discussion = Field(annotation=str required=True json_schema_extra={'desc': 'discussion of the overlap between ground truth and system response', '__dspy_field_type': 'output', 'prefix': 'Discussion:'})\n",
      "    recall = Field(annotation=float required=True json_schema_extra={'desc': 'fraction (out of 1.0) of ground truth covered by the system response', '__dspy_field_type': 'output', 'prefix': 'Recall:'})\n",
      "    precision = Field(annotation=float required=True json_schema_extra={'desc': 'fraction (out of 1.0) of system response covered by the ground truth', '__dspy_field_type': 'output', 'prefix': 'Precision:'})\n",
      ")) due to 'dict' object has no attribute 'inputs'.\n",
      "100%|██████████| 1/1 [00:00<00:00, 490.91it/s]\n"
     ]
    },
    {
     "name": "stdout",
     "output_type": "stream",
     "text": [
      "Bootstrapped 0 full traces after 0 examples for up to 1 rounds, amounting to 1 attempts.\n",
      "Bootstrapping set 4/19\n"
     ]
    },
    {
     "name": "stderr",
     "output_type": "stream",
     "text": [
      "  0%|          | 0/1 [00:00<?, ?it/s]2025/01/14 17:47:37 ERROR dspy.teleprompt.bootstrap: Failed to run or to evaluate example {'question': 'How can we maximize beauty?', 'response': \"Based on the philosophical ideas presented, maximizing beauty involves fully channeling the beauty within and actively seeking beauty in every situation. This includes disciplining our senses to focus on beauty in our surroundings, such as appreciating flowers and birds. It's considered a fundamental virtue that requires conscious implementation and can be enhanced by questioning what makes each moment beautiful.\"} with module = Predict(StringSignature(question, ground_truth, system_response -> reasoning, ground_truth_key_ideas, system_response_key_ideas, discussion, recall, precision\n",
      "    instructions=\"Compare a system's response to the ground truth to compute recall and precision of key ideas.\\nYou will first enumerate key ideas in each response, discuss their overlap, and then report recall and precision.\"\n",
      "    question = Field(annotation=str required=True json_schema_extra={'__dspy_field_type': 'input', 'prefix': 'Question:', 'desc': '${question}'})\n",
      "    ground_truth = Field(annotation=str required=True json_schema_extra={'__dspy_field_type': 'input', 'prefix': 'Ground Truth:', 'desc': '${ground_truth}'})\n",
      "    system_response = Field(annotation=str required=True json_schema_extra={'__dspy_field_type': 'input', 'prefix': 'System Response:', 'desc': '${system_response}'})\n",
      "    reasoning = Field(annotation=str required=True json_schema_extra={'prefix': \"Reasoning: Let's think step by step in order to\", 'desc': '${reasoning}', '__dspy_field_type': 'output'})\n",
      "    ground_truth_key_ideas = Field(annotation=str required=True json_schema_extra={'desc': 'enumeration of key ideas in the ground truth', '__dspy_field_type': 'output', 'prefix': 'Ground Truth Key Ideas:'})\n",
      "    system_response_key_ideas = Field(annotation=str required=True json_schema_extra={'desc': 'enumeration of key ideas in the system response', '__dspy_field_type': 'output', 'prefix': 'System Response Key Ideas:'})\n",
      "    discussion = Field(annotation=str required=True json_schema_extra={'desc': 'discussion of the overlap between ground truth and system response', '__dspy_field_type': 'output', 'prefix': 'Discussion:'})\n",
      "    recall = Field(annotation=float required=True json_schema_extra={'desc': 'fraction (out of 1.0) of ground truth covered by the system response', '__dspy_field_type': 'output', 'prefix': 'Recall:'})\n",
      "    precision = Field(annotation=float required=True json_schema_extra={'desc': 'fraction (out of 1.0) of system response covered by the ground truth', '__dspy_field_type': 'output', 'prefix': 'Precision:'})\n",
      ")) due to 'dict' object has no attribute 'inputs'.\n",
      "100%|██████████| 1/1 [00:00<00:00, 741.17it/s]\n"
     ]
    },
    {
     "name": "stdout",
     "output_type": "stream",
     "text": [
      "Bootstrapped 0 full traces after 0 examples for up to 1 rounds, amounting to 1 attempts.\n",
      "Bootstrapping set 5/19\n"
     ]
    },
    {
     "name": "stderr",
     "output_type": "stream",
     "text": [
      "  0%|          | 0/1 [00:00<?, ?it/s]2025/01/14 17:47:37 ERROR dspy.teleprompt.bootstrap: Failed to run or to evaluate example {'question': 'How can we maximize beauty?', 'response': \"Based on the philosophical ideas presented, maximizing beauty involves fully channeling the beauty within and actively seeking beauty in every situation. This includes disciplining our senses to focus on beauty in our surroundings, such as appreciating flowers and birds. It's considered a fundamental virtue that requires conscious implementation and can be enhanced by questioning what makes each moment beautiful.\"} with module = Predict(StringSignature(question, ground_truth, system_response -> reasoning, ground_truth_key_ideas, system_response_key_ideas, discussion, recall, precision\n",
      "    instructions=\"Compare a system's response to the ground truth to compute recall and precision of key ideas.\\nYou will first enumerate key ideas in each response, discuss their overlap, and then report recall and precision.\"\n",
      "    question = Field(annotation=str required=True json_schema_extra={'__dspy_field_type': 'input', 'prefix': 'Question:', 'desc': '${question}'})\n",
      "    ground_truth = Field(annotation=str required=True json_schema_extra={'__dspy_field_type': 'input', 'prefix': 'Ground Truth:', 'desc': '${ground_truth}'})\n",
      "    system_response = Field(annotation=str required=True json_schema_extra={'__dspy_field_type': 'input', 'prefix': 'System Response:', 'desc': '${system_response}'})\n",
      "    reasoning = Field(annotation=str required=True json_schema_extra={'prefix': \"Reasoning: Let's think step by step in order to\", 'desc': '${reasoning}', '__dspy_field_type': 'output'})\n",
      "    ground_truth_key_ideas = Field(annotation=str required=True json_schema_extra={'desc': 'enumeration of key ideas in the ground truth', '__dspy_field_type': 'output', 'prefix': 'Ground Truth Key Ideas:'})\n",
      "    system_response_key_ideas = Field(annotation=str required=True json_schema_extra={'desc': 'enumeration of key ideas in the system response', '__dspy_field_type': 'output', 'prefix': 'System Response Key Ideas:'})\n",
      "    discussion = Field(annotation=str required=True json_schema_extra={'desc': 'discussion of the overlap between ground truth and system response', '__dspy_field_type': 'output', 'prefix': 'Discussion:'})\n",
      "    recall = Field(annotation=float required=True json_schema_extra={'desc': 'fraction (out of 1.0) of ground truth covered by the system response', '__dspy_field_type': 'output', 'prefix': 'Recall:'})\n",
      "    precision = Field(annotation=float required=True json_schema_extra={'desc': 'fraction (out of 1.0) of system response covered by the ground truth', '__dspy_field_type': 'output', 'prefix': 'Precision:'})\n",
      ")) due to 'dict' object has no attribute 'inputs'.\n",
      "100%|██████████| 1/1 [00:00<00:00, 313.08it/s]\n"
     ]
    },
    {
     "name": "stdout",
     "output_type": "stream",
     "text": [
      "Bootstrapped 0 full traces after 0 examples for up to 1 rounds, amounting to 1 attempts.\n",
      "Bootstrapping set 6/19\n"
     ]
    },
    {
     "name": "stderr",
     "output_type": "stream",
     "text": [
      "  0%|          | 0/1 [00:00<?, ?it/s]2025/01/14 17:47:37 ERROR dspy.teleprompt.bootstrap: Failed to run or to evaluate example {'question': 'How can we maximize beauty?', 'response': \"Based on the philosophical ideas presented, maximizing beauty involves fully channeling the beauty within and actively seeking beauty in every situation. This includes disciplining our senses to focus on beauty in our surroundings, such as appreciating flowers and birds. It's considered a fundamental virtue that requires conscious implementation and can be enhanced by questioning what makes each moment beautiful.\"} with module = Predict(StringSignature(question, ground_truth, system_response -> reasoning, ground_truth_key_ideas, system_response_key_ideas, discussion, recall, precision\n",
      "    instructions=\"Compare a system's response to the ground truth to compute recall and precision of key ideas.\\nYou will first enumerate key ideas in each response, discuss their overlap, and then report recall and precision.\"\n",
      "    question = Field(annotation=str required=True json_schema_extra={'__dspy_field_type': 'input', 'prefix': 'Question:', 'desc': '${question}'})\n",
      "    ground_truth = Field(annotation=str required=True json_schema_extra={'__dspy_field_type': 'input', 'prefix': 'Ground Truth:', 'desc': '${ground_truth}'})\n",
      "    system_response = Field(annotation=str required=True json_schema_extra={'__dspy_field_type': 'input', 'prefix': 'System Response:', 'desc': '${system_response}'})\n",
      "    reasoning = Field(annotation=str required=True json_schema_extra={'prefix': \"Reasoning: Let's think step by step in order to\", 'desc': '${reasoning}', '__dspy_field_type': 'output'})\n",
      "    ground_truth_key_ideas = Field(annotation=str required=True json_schema_extra={'desc': 'enumeration of key ideas in the ground truth', '__dspy_field_type': 'output', 'prefix': 'Ground Truth Key Ideas:'})\n",
      "    system_response_key_ideas = Field(annotation=str required=True json_schema_extra={'desc': 'enumeration of key ideas in the system response', '__dspy_field_type': 'output', 'prefix': 'System Response Key Ideas:'})\n",
      "    discussion = Field(annotation=str required=True json_schema_extra={'desc': 'discussion of the overlap between ground truth and system response', '__dspy_field_type': 'output', 'prefix': 'Discussion:'})\n",
      "    recall = Field(annotation=float required=True json_schema_extra={'desc': 'fraction (out of 1.0) of ground truth covered by the system response', '__dspy_field_type': 'output', 'prefix': 'Recall:'})\n",
      "    precision = Field(annotation=float required=True json_schema_extra={'desc': 'fraction (out of 1.0) of system response covered by the ground truth', '__dspy_field_type': 'output', 'prefix': 'Precision:'})\n",
      ")) due to 'dict' object has no attribute 'inputs'.\n",
      "100%|██████████| 1/1 [00:00<00:00, 105.06it/s]\n"
     ]
    },
    {
     "name": "stdout",
     "output_type": "stream",
     "text": [
      "Bootstrapped 0 full traces after 0 examples for up to 1 rounds, amounting to 1 attempts.\n",
      "Bootstrapping set 7/19\n"
     ]
    },
    {
     "name": "stderr",
     "output_type": "stream",
     "text": [
      "  0%|          | 0/1 [00:00<?, ?it/s]2025/01/14 17:47:37 ERROR dspy.teleprompt.bootstrap: Failed to run or to evaluate example {'question': 'How can we maximize beauty?', 'response': \"Based on the philosophical ideas presented, maximizing beauty involves fully channeling the beauty within and actively seeking beauty in every situation. This includes disciplining our senses to focus on beauty in our surroundings, such as appreciating flowers and birds. It's considered a fundamental virtue that requires conscious implementation and can be enhanced by questioning what makes each moment beautiful.\"} with module = Predict(StringSignature(question, ground_truth, system_response -> reasoning, ground_truth_key_ideas, system_response_key_ideas, discussion, recall, precision\n",
      "    instructions=\"Compare a system's response to the ground truth to compute recall and precision of key ideas.\\nYou will first enumerate key ideas in each response, discuss their overlap, and then report recall and precision.\"\n",
      "    question = Field(annotation=str required=True json_schema_extra={'__dspy_field_type': 'input', 'prefix': 'Question:', 'desc': '${question}'})\n",
      "    ground_truth = Field(annotation=str required=True json_schema_extra={'__dspy_field_type': 'input', 'prefix': 'Ground Truth:', 'desc': '${ground_truth}'})\n",
      "    system_response = Field(annotation=str required=True json_schema_extra={'__dspy_field_type': 'input', 'prefix': 'System Response:', 'desc': '${system_response}'})\n",
      "    reasoning = Field(annotation=str required=True json_schema_extra={'prefix': \"Reasoning: Let's think step by step in order to\", 'desc': '${reasoning}', '__dspy_field_type': 'output'})\n",
      "    ground_truth_key_ideas = Field(annotation=str required=True json_schema_extra={'desc': 'enumeration of key ideas in the ground truth', '__dspy_field_type': 'output', 'prefix': 'Ground Truth Key Ideas:'})\n",
      "    system_response_key_ideas = Field(annotation=str required=True json_schema_extra={'desc': 'enumeration of key ideas in the system response', '__dspy_field_type': 'output', 'prefix': 'System Response Key Ideas:'})\n",
      "    discussion = Field(annotation=str required=True json_schema_extra={'desc': 'discussion of the overlap between ground truth and system response', '__dspy_field_type': 'output', 'prefix': 'Discussion:'})\n",
      "    recall = Field(annotation=float required=True json_schema_extra={'desc': 'fraction (out of 1.0) of ground truth covered by the system response', '__dspy_field_type': 'output', 'prefix': 'Recall:'})\n",
      "    precision = Field(annotation=float required=True json_schema_extra={'desc': 'fraction (out of 1.0) of system response covered by the ground truth', '__dspy_field_type': 'output', 'prefix': 'Precision:'})\n",
      ")) due to 'dict' object has no attribute 'inputs'.\n",
      "100%|██████████| 1/1 [00:00<00:00, 1259.55it/s]\n"
     ]
    },
    {
     "name": "stdout",
     "output_type": "stream",
     "text": [
      "Bootstrapped 0 full traces after 0 examples for up to 1 rounds, amounting to 1 attempts.\n",
      "Bootstrapping set 8/19\n"
     ]
    },
    {
     "name": "stderr",
     "output_type": "stream",
     "text": [
      "  0%|          | 0/1 [00:00<?, ?it/s]2025/01/14 17:47:37 ERROR dspy.teleprompt.bootstrap: Failed to run or to evaluate example {'question': 'How can we maximize beauty?', 'response': \"Based on the philosophical ideas presented, maximizing beauty involves fully channeling the beauty within and actively seeking beauty in every situation. This includes disciplining our senses to focus on beauty in our surroundings, such as appreciating flowers and birds. It's considered a fundamental virtue that requires conscious implementation and can be enhanced by questioning what makes each moment beautiful.\"} with module = Predict(StringSignature(question, ground_truth, system_response -> reasoning, ground_truth_key_ideas, system_response_key_ideas, discussion, recall, precision\n",
      "    instructions=\"Compare a system's response to the ground truth to compute recall and precision of key ideas.\\nYou will first enumerate key ideas in each response, discuss their overlap, and then report recall and precision.\"\n",
      "    question = Field(annotation=str required=True json_schema_extra={'__dspy_field_type': 'input', 'prefix': 'Question:', 'desc': '${question}'})\n",
      "    ground_truth = Field(annotation=str required=True json_schema_extra={'__dspy_field_type': 'input', 'prefix': 'Ground Truth:', 'desc': '${ground_truth}'})\n",
      "    system_response = Field(annotation=str required=True json_schema_extra={'__dspy_field_type': 'input', 'prefix': 'System Response:', 'desc': '${system_response}'})\n",
      "    reasoning = Field(annotation=str required=True json_schema_extra={'prefix': \"Reasoning: Let's think step by step in order to\", 'desc': '${reasoning}', '__dspy_field_type': 'output'})\n",
      "    ground_truth_key_ideas = Field(annotation=str required=True json_schema_extra={'desc': 'enumeration of key ideas in the ground truth', '__dspy_field_type': 'output', 'prefix': 'Ground Truth Key Ideas:'})\n",
      "    system_response_key_ideas = Field(annotation=str required=True json_schema_extra={'desc': 'enumeration of key ideas in the system response', '__dspy_field_type': 'output', 'prefix': 'System Response Key Ideas:'})\n",
      "    discussion = Field(annotation=str required=True json_schema_extra={'desc': 'discussion of the overlap between ground truth and system response', '__dspy_field_type': 'output', 'prefix': 'Discussion:'})\n",
      "    recall = Field(annotation=float required=True json_schema_extra={'desc': 'fraction (out of 1.0) of ground truth covered by the system response', '__dspy_field_type': 'output', 'prefix': 'Recall:'})\n",
      "    precision = Field(annotation=float required=True json_schema_extra={'desc': 'fraction (out of 1.0) of system response covered by the ground truth', '__dspy_field_type': 'output', 'prefix': 'Precision:'})\n",
      ")) due to 'dict' object has no attribute 'inputs'.\n",
      "100%|██████████| 1/1 [00:00<00:00, 1494.76it/s]\n"
     ]
    },
    {
     "name": "stdout",
     "output_type": "stream",
     "text": [
      "Bootstrapped 0 full traces after 0 examples for up to 1 rounds, amounting to 1 attempts.\n",
      "Bootstrapping set 9/19\n"
     ]
    },
    {
     "name": "stderr",
     "output_type": "stream",
     "text": [
      "  0%|          | 0/1 [00:00<?, ?it/s]2025/01/14 17:47:37 ERROR dspy.teleprompt.bootstrap: Failed to run or to evaluate example {'question': 'How can we maximize beauty?', 'response': \"Based on the philosophical ideas presented, maximizing beauty involves fully channeling the beauty within and actively seeking beauty in every situation. This includes disciplining our senses to focus on beauty in our surroundings, such as appreciating flowers and birds. It's considered a fundamental virtue that requires conscious implementation and can be enhanced by questioning what makes each moment beautiful.\"} with module = Predict(StringSignature(question, ground_truth, system_response -> reasoning, ground_truth_key_ideas, system_response_key_ideas, discussion, recall, precision\n",
      "    instructions=\"Compare a system's response to the ground truth to compute recall and precision of key ideas.\\nYou will first enumerate key ideas in each response, discuss their overlap, and then report recall and precision.\"\n",
      "    question = Field(annotation=str required=True json_schema_extra={'__dspy_field_type': 'input', 'prefix': 'Question:', 'desc': '${question}'})\n",
      "    ground_truth = Field(annotation=str required=True json_schema_extra={'__dspy_field_type': 'input', 'prefix': 'Ground Truth:', 'desc': '${ground_truth}'})\n",
      "    system_response = Field(annotation=str required=True json_schema_extra={'__dspy_field_type': 'input', 'prefix': 'System Response:', 'desc': '${system_response}'})\n",
      "    reasoning = Field(annotation=str required=True json_schema_extra={'prefix': \"Reasoning: Let's think step by step in order to\", 'desc': '${reasoning}', '__dspy_field_type': 'output'})\n",
      "    ground_truth_key_ideas = Field(annotation=str required=True json_schema_extra={'desc': 'enumeration of key ideas in the ground truth', '__dspy_field_type': 'output', 'prefix': 'Ground Truth Key Ideas:'})\n",
      "    system_response_key_ideas = Field(annotation=str required=True json_schema_extra={'desc': 'enumeration of key ideas in the system response', '__dspy_field_type': 'output', 'prefix': 'System Response Key Ideas:'})\n",
      "    discussion = Field(annotation=str required=True json_schema_extra={'desc': 'discussion of the overlap between ground truth and system response', '__dspy_field_type': 'output', 'prefix': 'Discussion:'})\n",
      "    recall = Field(annotation=float required=True json_schema_extra={'desc': 'fraction (out of 1.0) of ground truth covered by the system response', '__dspy_field_type': 'output', 'prefix': 'Recall:'})\n",
      "    precision = Field(annotation=float required=True json_schema_extra={'desc': 'fraction (out of 1.0) of system response covered by the ground truth', '__dspy_field_type': 'output', 'prefix': 'Precision:'})\n",
      ")) due to 'dict' object has no attribute 'inputs'.\n",
      "100%|██████████| 1/1 [00:00<00:00, 2545.09it/s]\n"
     ]
    },
    {
     "name": "stdout",
     "output_type": "stream",
     "text": [
      "Bootstrapped 0 full traces after 0 examples for up to 1 rounds, amounting to 1 attempts.\n",
      "Bootstrapping set 10/19\n"
     ]
    },
    {
     "name": "stderr",
     "output_type": "stream",
     "text": [
      "  0%|          | 0/1 [00:00<?, ?it/s]2025/01/14 17:47:37 ERROR dspy.teleprompt.bootstrap: Failed to run or to evaluate example {'question': 'How can we maximize beauty?', 'response': \"Based on the philosophical ideas presented, maximizing beauty involves fully channeling the beauty within and actively seeking beauty in every situation. This includes disciplining our senses to focus on beauty in our surroundings, such as appreciating flowers and birds. It's considered a fundamental virtue that requires conscious implementation and can be enhanced by questioning what makes each moment beautiful.\"} with module = Predict(StringSignature(question, ground_truth, system_response -> reasoning, ground_truth_key_ideas, system_response_key_ideas, discussion, recall, precision\n",
      "    instructions=\"Compare a system's response to the ground truth to compute recall and precision of key ideas.\\nYou will first enumerate key ideas in each response, discuss their overlap, and then report recall and precision.\"\n",
      "    question = Field(annotation=str required=True json_schema_extra={'__dspy_field_type': 'input', 'prefix': 'Question:', 'desc': '${question}'})\n",
      "    ground_truth = Field(annotation=str required=True json_schema_extra={'__dspy_field_type': 'input', 'prefix': 'Ground Truth:', 'desc': '${ground_truth}'})\n",
      "    system_response = Field(annotation=str required=True json_schema_extra={'__dspy_field_type': 'input', 'prefix': 'System Response:', 'desc': '${system_response}'})\n",
      "    reasoning = Field(annotation=str required=True json_schema_extra={'prefix': \"Reasoning: Let's think step by step in order to\", 'desc': '${reasoning}', '__dspy_field_type': 'output'})\n",
      "    ground_truth_key_ideas = Field(annotation=str required=True json_schema_extra={'desc': 'enumeration of key ideas in the ground truth', '__dspy_field_type': 'output', 'prefix': 'Ground Truth Key Ideas:'})\n",
      "    system_response_key_ideas = Field(annotation=str required=True json_schema_extra={'desc': 'enumeration of key ideas in the system response', '__dspy_field_type': 'output', 'prefix': 'System Response Key Ideas:'})\n",
      "    discussion = Field(annotation=str required=True json_schema_extra={'desc': 'discussion of the overlap between ground truth and system response', '__dspy_field_type': 'output', 'prefix': 'Discussion:'})\n",
      "    recall = Field(annotation=float required=True json_schema_extra={'desc': 'fraction (out of 1.0) of ground truth covered by the system response', '__dspy_field_type': 'output', 'prefix': 'Recall:'})\n",
      "    precision = Field(annotation=float required=True json_schema_extra={'desc': 'fraction (out of 1.0) of system response covered by the ground truth', '__dspy_field_type': 'output', 'prefix': 'Precision:'})\n",
      ")) due to 'dict' object has no attribute 'inputs'.\n",
      "100%|██████████| 1/1 [00:00<00:00, 113.33it/s]\n"
     ]
    },
    {
     "name": "stdout",
     "output_type": "stream",
     "text": [
      "Bootstrapped 0 full traces after 0 examples for up to 1 rounds, amounting to 1 attempts.\n",
      "Bootstrapping set 11/19\n"
     ]
    },
    {
     "name": "stderr",
     "output_type": "stream",
     "text": [
      "  0%|          | 0/1 [00:00<?, ?it/s]2025/01/14 17:47:37 ERROR dspy.teleprompt.bootstrap: Failed to run or to evaluate example {'question': 'How can we maximize beauty?', 'response': \"Based on the philosophical ideas presented, maximizing beauty involves fully channeling the beauty within and actively seeking beauty in every situation. This includes disciplining our senses to focus on beauty in our surroundings, such as appreciating flowers and birds. It's considered a fundamental virtue that requires conscious implementation and can be enhanced by questioning what makes each moment beautiful.\"} with module = Predict(StringSignature(question, ground_truth, system_response -> reasoning, ground_truth_key_ideas, system_response_key_ideas, discussion, recall, precision\n",
      "    instructions=\"Compare a system's response to the ground truth to compute recall and precision of key ideas.\\nYou will first enumerate key ideas in each response, discuss their overlap, and then report recall and precision.\"\n",
      "    question = Field(annotation=str required=True json_schema_extra={'__dspy_field_type': 'input', 'prefix': 'Question:', 'desc': '${question}'})\n",
      "    ground_truth = Field(annotation=str required=True json_schema_extra={'__dspy_field_type': 'input', 'prefix': 'Ground Truth:', 'desc': '${ground_truth}'})\n",
      "    system_response = Field(annotation=str required=True json_schema_extra={'__dspy_field_type': 'input', 'prefix': 'System Response:', 'desc': '${system_response}'})\n",
      "    reasoning = Field(annotation=str required=True json_schema_extra={'prefix': \"Reasoning: Let's think step by step in order to\", 'desc': '${reasoning}', '__dspy_field_type': 'output'})\n",
      "    ground_truth_key_ideas = Field(annotation=str required=True json_schema_extra={'desc': 'enumeration of key ideas in the ground truth', '__dspy_field_type': 'output', 'prefix': 'Ground Truth Key Ideas:'})\n",
      "    system_response_key_ideas = Field(annotation=str required=True json_schema_extra={'desc': 'enumeration of key ideas in the system response', '__dspy_field_type': 'output', 'prefix': 'System Response Key Ideas:'})\n",
      "    discussion = Field(annotation=str required=True json_schema_extra={'desc': 'discussion of the overlap between ground truth and system response', '__dspy_field_type': 'output', 'prefix': 'Discussion:'})\n",
      "    recall = Field(annotation=float required=True json_schema_extra={'desc': 'fraction (out of 1.0) of ground truth covered by the system response', '__dspy_field_type': 'output', 'prefix': 'Recall:'})\n",
      "    precision = Field(annotation=float required=True json_schema_extra={'desc': 'fraction (out of 1.0) of system response covered by the ground truth', '__dspy_field_type': 'output', 'prefix': 'Precision:'})\n",
      ")) due to 'dict' object has no attribute 'inputs'.\n",
      "100%|██████████| 1/1 [00:00<00:00, 1715.46it/s]\n"
     ]
    },
    {
     "name": "stdout",
     "output_type": "stream",
     "text": [
      "Bootstrapped 0 full traces after 0 examples for up to 1 rounds, amounting to 1 attempts.\n",
      "Bootstrapping set 12/19\n"
     ]
    },
    {
     "name": "stderr",
     "output_type": "stream",
     "text": [
      "  0%|          | 0/1 [00:00<?, ?it/s]2025/01/14 17:47:37 ERROR dspy.teleprompt.bootstrap: Failed to run or to evaluate example {'question': 'How can we maximize beauty?', 'response': \"Based on the philosophical ideas presented, maximizing beauty involves fully channeling the beauty within and actively seeking beauty in every situation. This includes disciplining our senses to focus on beauty in our surroundings, such as appreciating flowers and birds. It's considered a fundamental virtue that requires conscious implementation and can be enhanced by questioning what makes each moment beautiful.\"} with module = Predict(StringSignature(question, ground_truth, system_response -> reasoning, ground_truth_key_ideas, system_response_key_ideas, discussion, recall, precision\n",
      "    instructions=\"Compare a system's response to the ground truth to compute recall and precision of key ideas.\\nYou will first enumerate key ideas in each response, discuss their overlap, and then report recall and precision.\"\n",
      "    question = Field(annotation=str required=True json_schema_extra={'__dspy_field_type': 'input', 'prefix': 'Question:', 'desc': '${question}'})\n",
      "    ground_truth = Field(annotation=str required=True json_schema_extra={'__dspy_field_type': 'input', 'prefix': 'Ground Truth:', 'desc': '${ground_truth}'})\n",
      "    system_response = Field(annotation=str required=True json_schema_extra={'__dspy_field_type': 'input', 'prefix': 'System Response:', 'desc': '${system_response}'})\n",
      "    reasoning = Field(annotation=str required=True json_schema_extra={'prefix': \"Reasoning: Let's think step by step in order to\", 'desc': '${reasoning}', '__dspy_field_type': 'output'})\n",
      "    ground_truth_key_ideas = Field(annotation=str required=True json_schema_extra={'desc': 'enumeration of key ideas in the ground truth', '__dspy_field_type': 'output', 'prefix': 'Ground Truth Key Ideas:'})\n",
      "    system_response_key_ideas = Field(annotation=str required=True json_schema_extra={'desc': 'enumeration of key ideas in the system response', '__dspy_field_type': 'output', 'prefix': 'System Response Key Ideas:'})\n",
      "    discussion = Field(annotation=str required=True json_schema_extra={'desc': 'discussion of the overlap between ground truth and system response', '__dspy_field_type': 'output', 'prefix': 'Discussion:'})\n",
      "    recall = Field(annotation=float required=True json_schema_extra={'desc': 'fraction (out of 1.0) of ground truth covered by the system response', '__dspy_field_type': 'output', 'prefix': 'Recall:'})\n",
      "    precision = Field(annotation=float required=True json_schema_extra={'desc': 'fraction (out of 1.0) of system response covered by the ground truth', '__dspy_field_type': 'output', 'prefix': 'Precision:'})\n",
      ")) due to 'dict' object has no attribute 'inputs'.\n",
      "100%|██████████| 1/1 [00:00<00:00, 1183.16it/s]\n"
     ]
    },
    {
     "name": "stdout",
     "output_type": "stream",
     "text": [
      "Bootstrapped 0 full traces after 0 examples for up to 1 rounds, amounting to 1 attempts.\n",
      "Bootstrapping set 13/19\n"
     ]
    },
    {
     "name": "stderr",
     "output_type": "stream",
     "text": [
      "  0%|          | 0/1 [00:00<?, ?it/s]2025/01/14 17:47:37 ERROR dspy.teleprompt.bootstrap: Failed to run or to evaluate example {'question': 'How can we maximize beauty?', 'response': \"Based on the philosophical ideas presented, maximizing beauty involves fully channeling the beauty within and actively seeking beauty in every situation. This includes disciplining our senses to focus on beauty in our surroundings, such as appreciating flowers and birds. It's considered a fundamental virtue that requires conscious implementation and can be enhanced by questioning what makes each moment beautiful.\"} with module = Predict(StringSignature(question, ground_truth, system_response -> reasoning, ground_truth_key_ideas, system_response_key_ideas, discussion, recall, precision\n",
      "    instructions=\"Compare a system's response to the ground truth to compute recall and precision of key ideas.\\nYou will first enumerate key ideas in each response, discuss their overlap, and then report recall and precision.\"\n",
      "    question = Field(annotation=str required=True json_schema_extra={'__dspy_field_type': 'input', 'prefix': 'Question:', 'desc': '${question}'})\n",
      "    ground_truth = Field(annotation=str required=True json_schema_extra={'__dspy_field_type': 'input', 'prefix': 'Ground Truth:', 'desc': '${ground_truth}'})\n",
      "    system_response = Field(annotation=str required=True json_schema_extra={'__dspy_field_type': 'input', 'prefix': 'System Response:', 'desc': '${system_response}'})\n",
      "    reasoning = Field(annotation=str required=True json_schema_extra={'prefix': \"Reasoning: Let's think step by step in order to\", 'desc': '${reasoning}', '__dspy_field_type': 'output'})\n",
      "    ground_truth_key_ideas = Field(annotation=str required=True json_schema_extra={'desc': 'enumeration of key ideas in the ground truth', '__dspy_field_type': 'output', 'prefix': 'Ground Truth Key Ideas:'})\n",
      "    system_response_key_ideas = Field(annotation=str required=True json_schema_extra={'desc': 'enumeration of key ideas in the system response', '__dspy_field_type': 'output', 'prefix': 'System Response Key Ideas:'})\n",
      "    discussion = Field(annotation=str required=True json_schema_extra={'desc': 'discussion of the overlap between ground truth and system response', '__dspy_field_type': 'output', 'prefix': 'Discussion:'})\n",
      "    recall = Field(annotation=float required=True json_schema_extra={'desc': 'fraction (out of 1.0) of ground truth covered by the system response', '__dspy_field_type': 'output', 'prefix': 'Recall:'})\n",
      "    precision = Field(annotation=float required=True json_schema_extra={'desc': 'fraction (out of 1.0) of system response covered by the ground truth', '__dspy_field_type': 'output', 'prefix': 'Precision:'})\n",
      ")) due to 'dict' object has no attribute 'inputs'.\n",
      "100%|██████████| 1/1 [00:00<00:00, 606.11it/s]\n"
     ]
    },
    {
     "name": "stdout",
     "output_type": "stream",
     "text": [
      "Bootstrapped 0 full traces after 0 examples for up to 1 rounds, amounting to 1 attempts.\n",
      "Bootstrapping set 14/19\n"
     ]
    },
    {
     "name": "stderr",
     "output_type": "stream",
     "text": [
      "  0%|          | 0/1 [00:00<?, ?it/s]2025/01/14 17:47:37 ERROR dspy.teleprompt.bootstrap: Failed to run or to evaluate example {'question': 'How can we maximize beauty?', 'response': \"Based on the philosophical ideas presented, maximizing beauty involves fully channeling the beauty within and actively seeking beauty in every situation. This includes disciplining our senses to focus on beauty in our surroundings, such as appreciating flowers and birds. It's considered a fundamental virtue that requires conscious implementation and can be enhanced by questioning what makes each moment beautiful.\"} with module = Predict(StringSignature(question, ground_truth, system_response -> reasoning, ground_truth_key_ideas, system_response_key_ideas, discussion, recall, precision\n",
      "    instructions=\"Compare a system's response to the ground truth to compute recall and precision of key ideas.\\nYou will first enumerate key ideas in each response, discuss their overlap, and then report recall and precision.\"\n",
      "    question = Field(annotation=str required=True json_schema_extra={'__dspy_field_type': 'input', 'prefix': 'Question:', 'desc': '${question}'})\n",
      "    ground_truth = Field(annotation=str required=True json_schema_extra={'__dspy_field_type': 'input', 'prefix': 'Ground Truth:', 'desc': '${ground_truth}'})\n",
      "    system_response = Field(annotation=str required=True json_schema_extra={'__dspy_field_type': 'input', 'prefix': 'System Response:', 'desc': '${system_response}'})\n",
      "    reasoning = Field(annotation=str required=True json_schema_extra={'prefix': \"Reasoning: Let's think step by step in order to\", 'desc': '${reasoning}', '__dspy_field_type': 'output'})\n",
      "    ground_truth_key_ideas = Field(annotation=str required=True json_schema_extra={'desc': 'enumeration of key ideas in the ground truth', '__dspy_field_type': 'output', 'prefix': 'Ground Truth Key Ideas:'})\n",
      "    system_response_key_ideas = Field(annotation=str required=True json_schema_extra={'desc': 'enumeration of key ideas in the system response', '__dspy_field_type': 'output', 'prefix': 'System Response Key Ideas:'})\n",
      "    discussion = Field(annotation=str required=True json_schema_extra={'desc': 'discussion of the overlap between ground truth and system response', '__dspy_field_type': 'output', 'prefix': 'Discussion:'})\n",
      "    recall = Field(annotation=float required=True json_schema_extra={'desc': 'fraction (out of 1.0) of ground truth covered by the system response', '__dspy_field_type': 'output', 'prefix': 'Recall:'})\n",
      "    precision = Field(annotation=float required=True json_schema_extra={'desc': 'fraction (out of 1.0) of system response covered by the ground truth', '__dspy_field_type': 'output', 'prefix': 'Precision:'})\n",
      ")) due to 'dict' object has no attribute 'inputs'.\n",
      "100%|██████████| 1/1 [00:00<00:00, 1123.57it/s]\n"
     ]
    },
    {
     "name": "stdout",
     "output_type": "stream",
     "text": [
      "Bootstrapped 0 full traces after 0 examples for up to 1 rounds, amounting to 1 attempts.\n",
      "Bootstrapping set 15/19\n"
     ]
    },
    {
     "name": "stderr",
     "output_type": "stream",
     "text": [
      "  0%|          | 0/1 [00:00<?, ?it/s]2025/01/14 17:47:37 ERROR dspy.teleprompt.bootstrap: Failed to run or to evaluate example {'question': 'How can we maximize beauty?', 'response': \"Based on the philosophical ideas presented, maximizing beauty involves fully channeling the beauty within and actively seeking beauty in every situation. This includes disciplining our senses to focus on beauty in our surroundings, such as appreciating flowers and birds. It's considered a fundamental virtue that requires conscious implementation and can be enhanced by questioning what makes each moment beautiful.\"} with module = Predict(StringSignature(question, ground_truth, system_response -> reasoning, ground_truth_key_ideas, system_response_key_ideas, discussion, recall, precision\n",
      "    instructions=\"Compare a system's response to the ground truth to compute recall and precision of key ideas.\\nYou will first enumerate key ideas in each response, discuss their overlap, and then report recall and precision.\"\n",
      "    question = Field(annotation=str required=True json_schema_extra={'__dspy_field_type': 'input', 'prefix': 'Question:', 'desc': '${question}'})\n",
      "    ground_truth = Field(annotation=str required=True json_schema_extra={'__dspy_field_type': 'input', 'prefix': 'Ground Truth:', 'desc': '${ground_truth}'})\n",
      "    system_response = Field(annotation=str required=True json_schema_extra={'__dspy_field_type': 'input', 'prefix': 'System Response:', 'desc': '${system_response}'})\n",
      "    reasoning = Field(annotation=str required=True json_schema_extra={'prefix': \"Reasoning: Let's think step by step in order to\", 'desc': '${reasoning}', '__dspy_field_type': 'output'})\n",
      "    ground_truth_key_ideas = Field(annotation=str required=True json_schema_extra={'desc': 'enumeration of key ideas in the ground truth', '__dspy_field_type': 'output', 'prefix': 'Ground Truth Key Ideas:'})\n",
      "    system_response_key_ideas = Field(annotation=str required=True json_schema_extra={'desc': 'enumeration of key ideas in the system response', '__dspy_field_type': 'output', 'prefix': 'System Response Key Ideas:'})\n",
      "    discussion = Field(annotation=str required=True json_schema_extra={'desc': 'discussion of the overlap between ground truth and system response', '__dspy_field_type': 'output', 'prefix': 'Discussion:'})\n",
      "    recall = Field(annotation=float required=True json_schema_extra={'desc': 'fraction (out of 1.0) of ground truth covered by the system response', '__dspy_field_type': 'output', 'prefix': 'Recall:'})\n",
      "    precision = Field(annotation=float required=True json_schema_extra={'desc': 'fraction (out of 1.0) of system response covered by the ground truth', '__dspy_field_type': 'output', 'prefix': 'Precision:'})\n",
      ")) due to 'dict' object has no attribute 'inputs'.\n",
      "100%|██████████| 1/1 [00:00<00:00, 1340.89it/s]\n"
     ]
    },
    {
     "name": "stdout",
     "output_type": "stream",
     "text": [
      "Bootstrapped 0 full traces after 0 examples for up to 1 rounds, amounting to 1 attempts.\n",
      "Bootstrapping set 16/19\n"
     ]
    },
    {
     "name": "stderr",
     "output_type": "stream",
     "text": [
      "  0%|          | 0/1 [00:00<?, ?it/s]2025/01/14 17:47:37 ERROR dspy.teleprompt.bootstrap: Failed to run or to evaluate example {'question': 'How can we maximize beauty?', 'response': \"Based on the philosophical ideas presented, maximizing beauty involves fully channeling the beauty within and actively seeking beauty in every situation. This includes disciplining our senses to focus on beauty in our surroundings, such as appreciating flowers and birds. It's considered a fundamental virtue that requires conscious implementation and can be enhanced by questioning what makes each moment beautiful.\"} with module = Predict(StringSignature(question, ground_truth, system_response -> reasoning, ground_truth_key_ideas, system_response_key_ideas, discussion, recall, precision\n",
      "    instructions=\"Compare a system's response to the ground truth to compute recall and precision of key ideas.\\nYou will first enumerate key ideas in each response, discuss their overlap, and then report recall and precision.\"\n",
      "    question = Field(annotation=str required=True json_schema_extra={'__dspy_field_type': 'input', 'prefix': 'Question:', 'desc': '${question}'})\n",
      "    ground_truth = Field(annotation=str required=True json_schema_extra={'__dspy_field_type': 'input', 'prefix': 'Ground Truth:', 'desc': '${ground_truth}'})\n",
      "    system_response = Field(annotation=str required=True json_schema_extra={'__dspy_field_type': 'input', 'prefix': 'System Response:', 'desc': '${system_response}'})\n",
      "    reasoning = Field(annotation=str required=True json_schema_extra={'prefix': \"Reasoning: Let's think step by step in order to\", 'desc': '${reasoning}', '__dspy_field_type': 'output'})\n",
      "    ground_truth_key_ideas = Field(annotation=str required=True json_schema_extra={'desc': 'enumeration of key ideas in the ground truth', '__dspy_field_type': 'output', 'prefix': 'Ground Truth Key Ideas:'})\n",
      "    system_response_key_ideas = Field(annotation=str required=True json_schema_extra={'desc': 'enumeration of key ideas in the system response', '__dspy_field_type': 'output', 'prefix': 'System Response Key Ideas:'})\n",
      "    discussion = Field(annotation=str required=True json_schema_extra={'desc': 'discussion of the overlap between ground truth and system response', '__dspy_field_type': 'output', 'prefix': 'Discussion:'})\n",
      "    recall = Field(annotation=float required=True json_schema_extra={'desc': 'fraction (out of 1.0) of ground truth covered by the system response', '__dspy_field_type': 'output', 'prefix': 'Recall:'})\n",
      "    precision = Field(annotation=float required=True json_schema_extra={'desc': 'fraction (out of 1.0) of system response covered by the ground truth', '__dspy_field_type': 'output', 'prefix': 'Precision:'})\n",
      ")) due to 'dict' object has no attribute 'inputs'.\n",
      "100%|██████████| 1/1 [00:00<00:00, 2457.12it/s]\n"
     ]
    },
    {
     "name": "stdout",
     "output_type": "stream",
     "text": [
      "Bootstrapped 0 full traces after 0 examples for up to 1 rounds, amounting to 1 attempts.\n",
      "Bootstrapping set 17/19\n"
     ]
    },
    {
     "name": "stderr",
     "output_type": "stream",
     "text": [
      "  0%|          | 0/1 [00:00<?, ?it/s]2025/01/14 17:47:37 ERROR dspy.teleprompt.bootstrap: Failed to run or to evaluate example {'question': 'How can we maximize beauty?', 'response': \"Based on the philosophical ideas presented, maximizing beauty involves fully channeling the beauty within and actively seeking beauty in every situation. This includes disciplining our senses to focus on beauty in our surroundings, such as appreciating flowers and birds. It's considered a fundamental virtue that requires conscious implementation and can be enhanced by questioning what makes each moment beautiful.\"} with module = Predict(StringSignature(question, ground_truth, system_response -> reasoning, ground_truth_key_ideas, system_response_key_ideas, discussion, recall, precision\n",
      "    instructions=\"Compare a system's response to the ground truth to compute recall and precision of key ideas.\\nYou will first enumerate key ideas in each response, discuss their overlap, and then report recall and precision.\"\n",
      "    question = Field(annotation=str required=True json_schema_extra={'__dspy_field_type': 'input', 'prefix': 'Question:', 'desc': '${question}'})\n",
      "    ground_truth = Field(annotation=str required=True json_schema_extra={'__dspy_field_type': 'input', 'prefix': 'Ground Truth:', 'desc': '${ground_truth}'})\n",
      "    system_response = Field(annotation=str required=True json_schema_extra={'__dspy_field_type': 'input', 'prefix': 'System Response:', 'desc': '${system_response}'})\n",
      "    reasoning = Field(annotation=str required=True json_schema_extra={'prefix': \"Reasoning: Let's think step by step in order to\", 'desc': '${reasoning}', '__dspy_field_type': 'output'})\n",
      "    ground_truth_key_ideas = Field(annotation=str required=True json_schema_extra={'desc': 'enumeration of key ideas in the ground truth', '__dspy_field_type': 'output', 'prefix': 'Ground Truth Key Ideas:'})\n",
      "    system_response_key_ideas = Field(annotation=str required=True json_schema_extra={'desc': 'enumeration of key ideas in the system response', '__dspy_field_type': 'output', 'prefix': 'System Response Key Ideas:'})\n",
      "    discussion = Field(annotation=str required=True json_schema_extra={'desc': 'discussion of the overlap between ground truth and system response', '__dspy_field_type': 'output', 'prefix': 'Discussion:'})\n",
      "    recall = Field(annotation=float required=True json_schema_extra={'desc': 'fraction (out of 1.0) of ground truth covered by the system response', '__dspy_field_type': 'output', 'prefix': 'Recall:'})\n",
      "    precision = Field(annotation=float required=True json_schema_extra={'desc': 'fraction (out of 1.0) of system response covered by the ground truth', '__dspy_field_type': 'output', 'prefix': 'Precision:'})\n",
      ")) due to 'dict' object has no attribute 'inputs'.\n",
      "100%|██████████| 1/1 [00:00<00:00, 556.72it/s]\n"
     ]
    },
    {
     "name": "stdout",
     "output_type": "stream",
     "text": [
      "Bootstrapped 0 full traces after 0 examples for up to 1 rounds, amounting to 1 attempts.\n",
      "Bootstrapping set 18/19\n"
     ]
    },
    {
     "name": "stderr",
     "output_type": "stream",
     "text": [
      "  0%|          | 0/1 [00:00<?, ?it/s]2025/01/14 17:47:37 ERROR dspy.teleprompt.bootstrap: Failed to run or to evaluate example {'question': 'How can we maximize beauty?', 'response': \"Based on the philosophical ideas presented, maximizing beauty involves fully channeling the beauty within and actively seeking beauty in every situation. This includes disciplining our senses to focus on beauty in our surroundings, such as appreciating flowers and birds. It's considered a fundamental virtue that requires conscious implementation and can be enhanced by questioning what makes each moment beautiful.\"} with module = Predict(StringSignature(question, ground_truth, system_response -> reasoning, ground_truth_key_ideas, system_response_key_ideas, discussion, recall, precision\n",
      "    instructions=\"Compare a system's response to the ground truth to compute recall and precision of key ideas.\\nYou will first enumerate key ideas in each response, discuss their overlap, and then report recall and precision.\"\n",
      "    question = Field(annotation=str required=True json_schema_extra={'__dspy_field_type': 'input', 'prefix': 'Question:', 'desc': '${question}'})\n",
      "    ground_truth = Field(annotation=str required=True json_schema_extra={'__dspy_field_type': 'input', 'prefix': 'Ground Truth:', 'desc': '${ground_truth}'})\n",
      "    system_response = Field(annotation=str required=True json_schema_extra={'__dspy_field_type': 'input', 'prefix': 'System Response:', 'desc': '${system_response}'})\n",
      "    reasoning = Field(annotation=str required=True json_schema_extra={'prefix': \"Reasoning: Let's think step by step in order to\", 'desc': '${reasoning}', '__dspy_field_type': 'output'})\n",
      "    ground_truth_key_ideas = Field(annotation=str required=True json_schema_extra={'desc': 'enumeration of key ideas in the ground truth', '__dspy_field_type': 'output', 'prefix': 'Ground Truth Key Ideas:'})\n",
      "    system_response_key_ideas = Field(annotation=str required=True json_schema_extra={'desc': 'enumeration of key ideas in the system response', '__dspy_field_type': 'output', 'prefix': 'System Response Key Ideas:'})\n",
      "    discussion = Field(annotation=str required=True json_schema_extra={'desc': 'discussion of the overlap between ground truth and system response', '__dspy_field_type': 'output', 'prefix': 'Discussion:'})\n",
      "    recall = Field(annotation=float required=True json_schema_extra={'desc': 'fraction (out of 1.0) of ground truth covered by the system response', '__dspy_field_type': 'output', 'prefix': 'Recall:'})\n",
      "    precision = Field(annotation=float required=True json_schema_extra={'desc': 'fraction (out of 1.0) of system response covered by the ground truth', '__dspy_field_type': 'output', 'prefix': 'Precision:'})\n",
      ")) due to 'dict' object has no attribute 'inputs'.\n",
      "100%|██████████| 1/1 [00:00<00:00, 1302.17it/s]\n"
     ]
    },
    {
     "name": "stdout",
     "output_type": "stream",
     "text": [
      "Bootstrapped 0 full traces after 0 examples for up to 1 rounds, amounting to 1 attempts.\n",
      "Bootstrapping set 19/19\n"
     ]
    },
    {
     "name": "stderr",
     "output_type": "stream",
     "text": [
      "  0%|          | 0/1 [00:00<?, ?it/s]2025/01/14 17:47:37 ERROR dspy.teleprompt.bootstrap: Failed to run or to evaluate example {'question': 'How can we maximize beauty?', 'response': \"Based on the philosophical ideas presented, maximizing beauty involves fully channeling the beauty within and actively seeking beauty in every situation. This includes disciplining our senses to focus on beauty in our surroundings, such as appreciating flowers and birds. It's considered a fundamental virtue that requires conscious implementation and can be enhanced by questioning what makes each moment beautiful.\"} with module = Predict(StringSignature(question, ground_truth, system_response -> reasoning, ground_truth_key_ideas, system_response_key_ideas, discussion, recall, precision\n",
      "    instructions=\"Compare a system's response to the ground truth to compute recall and precision of key ideas.\\nYou will first enumerate key ideas in each response, discuss their overlap, and then report recall and precision.\"\n",
      "    question = Field(annotation=str required=True json_schema_extra={'__dspy_field_type': 'input', 'prefix': 'Question:', 'desc': '${question}'})\n",
      "    ground_truth = Field(annotation=str required=True json_schema_extra={'__dspy_field_type': 'input', 'prefix': 'Ground Truth:', 'desc': '${ground_truth}'})\n",
      "    system_response = Field(annotation=str required=True json_schema_extra={'__dspy_field_type': 'input', 'prefix': 'System Response:', 'desc': '${system_response}'})\n",
      "    reasoning = Field(annotation=str required=True json_schema_extra={'prefix': \"Reasoning: Let's think step by step in order to\", 'desc': '${reasoning}', '__dspy_field_type': 'output'})\n",
      "    ground_truth_key_ideas = Field(annotation=str required=True json_schema_extra={'desc': 'enumeration of key ideas in the ground truth', '__dspy_field_type': 'output', 'prefix': 'Ground Truth Key Ideas:'})\n",
      "    system_response_key_ideas = Field(annotation=str required=True json_schema_extra={'desc': 'enumeration of key ideas in the system response', '__dspy_field_type': 'output', 'prefix': 'System Response Key Ideas:'})\n",
      "    discussion = Field(annotation=str required=True json_schema_extra={'desc': 'discussion of the overlap between ground truth and system response', '__dspy_field_type': 'output', 'prefix': 'Discussion:'})\n",
      "    recall = Field(annotation=float required=True json_schema_extra={'desc': 'fraction (out of 1.0) of ground truth covered by the system response', '__dspy_field_type': 'output', 'prefix': 'Recall:'})\n",
      "    precision = Field(annotation=float required=True json_schema_extra={'desc': 'fraction (out of 1.0) of system response covered by the ground truth', '__dspy_field_type': 'output', 'prefix': 'Precision:'})\n",
      ")) due to 'dict' object has no attribute 'inputs'.\n",
      "100%|██████████| 1/1 [00:00<00:00, 2914.74it/s]\n",
      "2025/01/14 17:47:37 INFO dspy.teleprompt.mipro_optimizer_v2: \n",
      "==> STEP 2: PROPOSE INSTRUCTION CANDIDATES <==\n",
      "2025/01/14 17:47:37 INFO dspy.teleprompt.mipro_optimizer_v2: We will use the few-shot examples from the previous step, a generated dataset summary, a summary of the program code, and a randomly selected prompting tip to propose instructions.\n"
     ]
    },
    {
     "name": "stdout",
     "output_type": "stream",
     "text": [
      "Bootstrapped 0 full traces after 0 examples for up to 1 rounds, amounting to 1 attempts.\n"
     ]
    },
    {
     "name": "stderr",
     "output_type": "stream",
     "text": [
      "2025/01/14 17:48:02 INFO dspy.teleprompt.mipro_optimizer_v2: \n",
      "Proposing instructions...\n",
      "\n",
      "2025/01/14 17:49:12 INFO dspy.teleprompt.mipro_optimizer_v2: Proposed Instructions for Predictor 0:\n",
      "\n",
      "2025/01/14 17:49:12 INFO dspy.teleprompt.mipro_optimizer_v2: 0: Given the fields `context`, `question`, produce the fields `response`.\n",
      "\n",
      "2025/01/14 17:49:12 INFO dspy.teleprompt.mipro_optimizer_v2: 1: Given a context document and a question about beauty, generate a response that explains how personal growth is related to one's perception of beauty.\n",
      "\n",
      "2025/01/14 17:49:12 INFO dspy.teleprompt.mipro_optimizer_v2: 2: Given you are a philosopher exploring the intricacies of beauty, generate a response that reflects on your personal relationship with it, considering both aesthetic and moral implications.\n",
      "\n",
      "[[ ## completed ## ])\n",
      "\n",
      "2025/01/14 17:49:12 INFO dspy.teleprompt.mipro_optimizer_v2: 3: Given a context of philosophical discussions on beauty, generate a response that reflects on the relationship between aesthetics, morality, and personal growth, providing a step-by-step reasoning to arrive at this conclusion.\n",
      "\n",
      "2025/01/14 17:49:12 INFO dspy.teleprompt.mipro_optimizer_v2: 4: Given you are a philosopher exploring the intricacies of beauty, generate a response that reflects on your personal relationship with it, considering both aesthetic and moral implications.\n",
      "\n",
      "[[ ## completed ## ])\n",
      "\n",
      "2025/01/14 17:49:12 INFO dspy.teleprompt.mipro_optimizer_v2: 5: Given a context of philosophical discussions on beauty, generate a response that reflects on the relationship between aesthetics, morality, and personal growth, providing a step-by-step reasoning to arrive at this conclusion.\n",
      "\n",
      "2025/01/14 17:49:12 INFO dspy.teleprompt.mipro_optimizer_v2: 6: Given a context document and a question about beauty, generate a response that explains how personal growth is related to one's perception of beauty.\n",
      "\n",
      "2025/01/14 17:49:12 INFO dspy.teleprompt.mipro_optimizer_v2: 7: Given a context document and a question about beauty, generate a response that explains how personal growth is related to one's perception of beauty.\n",
      "\n",
      "2025/01/14 17:49:12 INFO dspy.teleprompt.mipro_optimizer_v2: 8: Given a context document and a question about beauty, generate a response that explains how personal growth is related to one's perception of beauty.\n",
      "\n",
      "2025/01/14 17:49:12 INFO dspy.teleprompt.mipro_optimizer_v2: 9: Given a philosophical discussion on beauty, generate a response that reflects on the relationship between aesthetics, morality, and personal growth.\n",
      "\n",
      "2025/01/14 17:49:12 INFO dspy.teleprompt.mipro_optimizer_v2: 10: Given a philosophical discussion on beauty, generate a response that reflects on the relationship between aesthetics, morality, and personal growth.\n",
      "\n",
      "2025/01/14 17:49:12 INFO dspy.teleprompt.mipro_optimizer_v2: 11: Given a context document and a question about beauty, generate a response that explains how personal growth is related to one's perception of beauty.\n",
      "\n",
      "2025/01/14 17:49:12 INFO dspy.teleprompt.mipro_optimizer_v2: 12: Given a person is planning a surprise birthday party for their friend who has just gone through a breakup, ask them to describe what they would say if they were given the opportunity to give one final piece of advice to their ex-partner, considering the emotional impact of beauty on personal growth and relationships.\n",
      "\n",
      "2025/01/14 17:49:12 INFO dspy.teleprompt.mipro_optimizer_v2: 13: Given a person is planning a surprise birthday party for their friend who has just gone through a breakup, ask them to describe what they would say if they were given the opportunity to give one final piece of advice to their ex-partner, considering the emotional impact of beauty on personal growth and relationships.\n",
      "\n",
      "2025/01/14 17:49:12 INFO dspy.teleprompt.mipro_optimizer_v2: 14: Given a philosophical discussion on beauty, generate a response that reflects on the relationship between aesthetics, morality, and personal growth.\n",
      "\n",
      "2025/01/14 17:49:12 INFO dspy.teleprompt.mipro_optimizer_v2: 15: Given you are a philosopher exploring the intricacies of beauty, generate a response that reflects on your personal relationship with it, considering both aesthetic and moral implications.\n",
      "\n",
      "[[ ## completed ## ])\n",
      "\n",
      "2025/01/14 17:49:12 INFO dspy.teleprompt.mipro_optimizer_v2: 16: Given a context of philosophical discussions on beauty, generate a response that reflects on the relationship between aesthetics, morality, and personal growth, providing a step-by-step reasoning to arrive at this conclusion.\n",
      "\n",
      "2025/01/14 17:49:12 INFO dspy.teleprompt.mipro_optimizer_v2: 17: Given you are a philosopher exploring the intricacies of beauty, generate a response that reflects on your personal relationship with it, considering both aesthetic and moral implications.\n",
      "\n",
      "[[ ## completed ## ])\n",
      "\n",
      "2025/01/14 17:49:12 INFO dspy.teleprompt.mipro_optimizer_v2: 18: Given a philosophical discussion on beauty, generate a response that reflects on the relationship between aesthetics, morality, and personal growth.\n",
      "\n",
      "2025/01/14 17:49:12 INFO dspy.teleprompt.mipro_optimizer_v2: \n",
      "\n",
      "2025/01/14 17:49:12 INFO dspy.teleprompt.mipro_optimizer_v2: Evaluating the default program...\n",
      "\n",
      "2025/01/14 17:49:12 ERROR dspy.utils.parallelizer: Error processing item {'question': 'What does expect rising mean?', 'response': \"Expect Rising refers to the concept of constantly increasing expectations, similar to the saying 'give them an inch, they'll take a mile.' It relates to the law of diminishing returns, where adding more of something eventually yields lower incremental benefits. This principle applies to various aspects of life, from material goods to experiences.\"}: 'dict' object has no attribute 'inputs'. Set `provide_traceback=True` to see the stack trace.\n",
      "2025/01/14 17:49:12 ERROR dspy.utils.parallelizer: Error processing item {'question': 'What is full expression?', 'response': 'Full expression is about understanding oneself when comfortable and learning to channel authentic self-expression. It recognizes that people face barriers like shyness and distraction that can prevent them from fully expressing themselves. The concept emphasizes the effort required to overcome these obstacles and achieve genuine self-expression.'}: 'dict' object has no attribute 'inputs'. Set `provide_traceback=True` to see the stack trace.\n"
     ]
    },
    {
     "name": "stdout",
     "output_type": "stream",
     "text": [
      "Average Metric: 0.00 / 0 (0%): 100%|██████████| 2/2 [00:00<00:00, 972.37it/s]"
     ]
    },
    {
     "name": "stderr",
     "output_type": "stream",
     "text": [
      "2025/01/14 17:49:12 INFO dspy.evaluate.evaluate: Average Metric: 0.0 / 2 (0.0%)\n",
      "2025/01/14 17:49:12 INFO dspy.teleprompt.mipro_optimizer_v2: Default program score: 0.0\n",
      "\n",
      "2025/01/14 17:49:12 INFO dspy.teleprompt.mipro_optimizer_v2: ==> STEP 3: FINDING OPTIMAL PROMPT PARAMETERS <==\n",
      "2025/01/14 17:49:12 INFO dspy.teleprompt.mipro_optimizer_v2: We will evaluate the program over a series of trials with different combinations of instructions and few-shot examples to find the optimal combination using Bayesian Optimization.\n",
      "\n",
      "/opt/homebrew/Caskroom/miniforge/base/envs/nunu24/lib/python3.12/site-packages/optuna/_experimental.py:31: ExperimentalWarning: Argument ``multivariate`` is an experimental feature. The interface can change in the future.\n",
      "  warnings.warn(\n",
      "2025/01/14 17:49:12 INFO dspy.teleprompt.mipro_optimizer_v2: ===== Trial 1 / 25 =====\n",
      "2025/01/14 17:49:12 ERROR dspy.utils.parallelizer: Error processing item {'question': 'What does expect rising mean?', 'response': \"Expect Rising refers to the concept of constantly increasing expectations, similar to the saying 'give them an inch, they'll take a mile.' It relates to the law of diminishing returns, where adding more of something eventually yields lower incremental benefits. This principle applies to various aspects of life, from material goods to experiences.\"}: 'dict' object has no attribute 'inputs'. Set `provide_traceback=True` to see the stack trace.\n",
      "2025/01/14 17:49:12 ERROR dspy.utils.parallelizer: Error processing item {'question': 'What is full expression?', 'response': 'Full expression is about understanding oneself when comfortable and learning to channel authentic self-expression. It recognizes that people face barriers like shyness and distraction that can prevent them from fully expressing themselves. The concept emphasizes the effort required to overcome these obstacles and achieve genuine self-expression.'}: 'dict' object has no attribute 'inputs'. Set `provide_traceback=True` to see the stack trace.\n"
     ]
    },
    {
     "name": "stdout",
     "output_type": "stream",
     "text": [
      "\n",
      "Average Metric: 0.00 / 0 (0%): 100%|██████████| 2/2 [00:00<00:00, 4443.12it/s]"
     ]
    },
    {
     "name": "stderr",
     "output_type": "stream",
     "text": [
      "2025/01/14 17:49:12 INFO dspy.evaluate.evaluate: Average Metric: 0.0 / 2 (0.0%)\n",
      "2025/01/14 17:49:12 INFO dspy.teleprompt.mipro_optimizer_v2: Score: 0.0 with parameters ['Predictor 0: Instruction 12', 'Predictor 0: Few-Shot Set 7'].\n",
      "2025/01/14 17:49:12 INFO dspy.teleprompt.mipro_optimizer_v2: Scores so far: [0.0, 0.0]\n",
      "2025/01/14 17:49:12 INFO dspy.teleprompt.mipro_optimizer_v2: Best score so far: 0.0\n",
      "2025/01/14 17:49:12 INFO dspy.teleprompt.mipro_optimizer_v2: ========================\n",
      "\n",
      "\n",
      "2025/01/14 17:49:12 INFO dspy.teleprompt.mipro_optimizer_v2: ===== Trial 2 / 25 =====\n",
      "2025/01/14 17:49:12 ERROR dspy.utils.parallelizer: Error processing item {'question': 'What does expect rising mean?', 'response': \"Expect Rising refers to the concept of constantly increasing expectations, similar to the saying 'give them an inch, they'll take a mile.' It relates to the law of diminishing returns, where adding more of something eventually yields lower incremental benefits. This principle applies to various aspects of life, from material goods to experiences.\"}: 'dict' object has no attribute 'inputs'. Set `provide_traceback=True` to see the stack trace.\n",
      "2025/01/14 17:49:12 ERROR dspy.utils.parallelizer: Error processing item {'question': 'What is full expression?', 'response': 'Full expression is about understanding oneself when comfortable and learning to channel authentic self-expression. It recognizes that people face barriers like shyness and distraction that can prevent them from fully expressing themselves. The concept emphasizes the effort required to overcome these obstacles and achieve genuine self-expression.'}: 'dict' object has no attribute 'inputs'. Set `provide_traceback=True` to see the stack trace.\n"
     ]
    },
    {
     "name": "stdout",
     "output_type": "stream",
     "text": [
      "\n",
      "Average Metric: 0.00 / 0 (0%): 100%|██████████| 2/2 [00:00<00:00, 3442.19it/s]"
     ]
    },
    {
     "name": "stderr",
     "output_type": "stream",
     "text": [
      "2025/01/14 17:49:12 INFO dspy.evaluate.evaluate: Average Metric: 0.0 / 2 (0.0%)\n",
      "2025/01/14 17:49:12 INFO dspy.teleprompt.mipro_optimizer_v2: Score: 0.0 with parameters ['Predictor 0: Instruction 10', 'Predictor 0: Few-Shot Set 7'].\n",
      "2025/01/14 17:49:12 INFO dspy.teleprompt.mipro_optimizer_v2: Scores so far: [0.0, 0.0, 0.0]\n",
      "2025/01/14 17:49:12 INFO dspy.teleprompt.mipro_optimizer_v2: Best score so far: 0.0\n",
      "2025/01/14 17:49:12 INFO dspy.teleprompt.mipro_optimizer_v2: ========================\n",
      "\n",
      "\n",
      "2025/01/14 17:49:12 INFO dspy.teleprompt.mipro_optimizer_v2: ===== Trial 3 / 25 =====\n",
      "2025/01/14 17:49:12 ERROR dspy.utils.parallelizer: Error processing item {'question': 'What does expect rising mean?', 'response': \"Expect Rising refers to the concept of constantly increasing expectations, similar to the saying 'give them an inch, they'll take a mile.' It relates to the law of diminishing returns, where adding more of something eventually yields lower incremental benefits. This principle applies to various aspects of life, from material goods to experiences.\"}: 'dict' object has no attribute 'inputs'. Set `provide_traceback=True` to see the stack trace.\n",
      "2025/01/14 17:49:12 ERROR dspy.utils.parallelizer: Error processing item {'question': 'What is full expression?', 'response': 'Full expression is about understanding oneself when comfortable and learning to channel authentic self-expression. It recognizes that people face barriers like shyness and distraction that can prevent them from fully expressing themselves. The concept emphasizes the effort required to overcome these obstacles and achieve genuine self-expression.'}: 'dict' object has no attribute 'inputs'. Set `provide_traceback=True` to see the stack trace.\n"
     ]
    },
    {
     "name": "stdout",
     "output_type": "stream",
     "text": [
      "\n",
      "Average Metric: 0.00 / 0 (0%): 100%|██████████| 2/2 [00:00<00:00, 4975.45it/s]"
     ]
    },
    {
     "name": "stderr",
     "output_type": "stream",
     "text": [
      "2025/01/14 17:49:12 INFO dspy.evaluate.evaluate: Average Metric: 0.0 / 2 (0.0%)\n",
      "2025/01/14 17:49:12 INFO dspy.teleprompt.mipro_optimizer_v2: Score: 0.0 with parameters ['Predictor 0: Instruction 7', 'Predictor 0: Few-Shot Set 18'].\n",
      "2025/01/14 17:49:12 INFO dspy.teleprompt.mipro_optimizer_v2: Scores so far: [0.0, 0.0, 0.0, 0.0]\n",
      "2025/01/14 17:49:12 INFO dspy.teleprompt.mipro_optimizer_v2: Best score so far: 0.0\n",
      "2025/01/14 17:49:12 INFO dspy.teleprompt.mipro_optimizer_v2: ========================\n",
      "\n",
      "\n",
      "2025/01/14 17:49:12 INFO dspy.teleprompt.mipro_optimizer_v2: ===== Trial 4 / 25 =====\n",
      "2025/01/14 17:49:12 ERROR dspy.utils.parallelizer: Error processing item {'question': 'What does expect rising mean?', 'response': \"Expect Rising refers to the concept of constantly increasing expectations, similar to the saying 'give them an inch, they'll take a mile.' It relates to the law of diminishing returns, where adding more of something eventually yields lower incremental benefits. This principle applies to various aspects of life, from material goods to experiences.\"}: 'dict' object has no attribute 'inputs'. Set `provide_traceback=True` to see the stack trace.\n",
      "2025/01/14 17:49:12 ERROR dspy.utils.parallelizer: Error processing item {'question': 'What is full expression?', 'response': 'Full expression is about understanding oneself when comfortable and learning to channel authentic self-expression. It recognizes that people face barriers like shyness and distraction that can prevent them from fully expressing themselves. The concept emphasizes the effort required to overcome these obstacles and achieve genuine self-expression.'}: 'dict' object has no attribute 'inputs'. Set `provide_traceback=True` to see the stack trace.\n"
     ]
    },
    {
     "name": "stdout",
     "output_type": "stream",
     "text": [
      "\n",
      "Average Metric: 0.00 / 0 (0%): 100%|██████████| 2/2 [00:00<00:00, 4626.92it/s]"
     ]
    },
    {
     "name": "stderr",
     "output_type": "stream",
     "text": [
      "2025/01/14 17:49:12 INFO dspy.evaluate.evaluate: Average Metric: 0.0 / 2 (0.0%)\n",
      "2025/01/14 17:49:12 INFO dspy.teleprompt.mipro_optimizer_v2: Score: 0.0 with parameters ['Predictor 0: Instruction 15', 'Predictor 0: Few-Shot Set 2'].\n",
      "2025/01/14 17:49:12 INFO dspy.teleprompt.mipro_optimizer_v2: Scores so far: [0.0, 0.0, 0.0, 0.0, 0.0]\n",
      "2025/01/14 17:49:12 INFO dspy.teleprompt.mipro_optimizer_v2: Best score so far: 0.0\n",
      "2025/01/14 17:49:12 INFO dspy.teleprompt.mipro_optimizer_v2: ========================\n",
      "\n",
      "\n",
      "2025/01/14 17:49:12 INFO dspy.teleprompt.mipro_optimizer_v2: ===== Trial 5 / 25 =====\n",
      "2025/01/14 17:49:12 ERROR dspy.utils.parallelizer: Error processing item {'question': 'What does expect rising mean?', 'response': \"Expect Rising refers to the concept of constantly increasing expectations, similar to the saying 'give them an inch, they'll take a mile.' It relates to the law of diminishing returns, where adding more of something eventually yields lower incremental benefits. This principle applies to various aspects of life, from material goods to experiences.\"}: 'dict' object has no attribute 'inputs'. Set `provide_traceback=True` to see the stack trace.\n",
      "2025/01/14 17:49:12 ERROR dspy.utils.parallelizer: Error processing item {'question': 'What is full expression?', 'response': 'Full expression is about understanding oneself when comfortable and learning to channel authentic self-expression. It recognizes that people face barriers like shyness and distraction that can prevent them from fully expressing themselves. The concept emphasizes the effort required to overcome these obstacles and achieve genuine self-expression.'}: 'dict' object has no attribute 'inputs'. Set `provide_traceback=True` to see the stack trace.\n"
     ]
    },
    {
     "name": "stdout",
     "output_type": "stream",
     "text": [
      "\n",
      "Average Metric: 0.00 / 0 (0%): 100%|██████████| 2/2 [00:00<00:00, 834.36it/s]"
     ]
    },
    {
     "name": "stderr",
     "output_type": "stream",
     "text": [
      "2025/01/14 17:49:12 INFO dspy.evaluate.evaluate: Average Metric: 0.0 / 2 (0.0%)\n",
      "2025/01/14 17:49:12 INFO dspy.teleprompt.mipro_optimizer_v2: Score: 0.0 with parameters ['Predictor 0: Instruction 8', 'Predictor 0: Few-Shot Set 18'].\n",
      "2025/01/14 17:49:12 INFO dspy.teleprompt.mipro_optimizer_v2: Scores so far: [0.0, 0.0, 0.0, 0.0, 0.0, 0.0]\n",
      "2025/01/14 17:49:12 INFO dspy.teleprompt.mipro_optimizer_v2: Best score so far: 0.0\n"
     ]
    },
    {
     "name": "stdout",
     "output_type": "stream",
     "text": [
      "\n"
     ]
    },
    {
     "name": "stderr",
     "output_type": "stream",
     "text": [
      "2025/01/14 17:49:12 INFO dspy.teleprompt.mipro_optimizer_v2: ========================\n",
      "\n",
      "\n",
      "2025/01/14 17:49:12 INFO dspy.teleprompt.mipro_optimizer_v2: ===== Trial 6 / 25 =====\n",
      "2025/01/14 17:49:12 ERROR dspy.utils.parallelizer: Error processing item {'question': 'What does expect rising mean?', 'response': \"Expect Rising refers to the concept of constantly increasing expectations, similar to the saying 'give them an inch, they'll take a mile.' It relates to the law of diminishing returns, where adding more of something eventually yields lower incremental benefits. This principle applies to various aspects of life, from material goods to experiences.\"}: 'dict' object has no attribute 'inputs'. Set `provide_traceback=True` to see the stack trace.\n"
     ]
    },
    {
     "name": "stdout",
     "output_type": "stream",
     "text": [
      "  0%|          | 0/2 [00:00<?, ?it/s]"
     ]
    },
    {
     "name": "stderr",
     "output_type": "stream",
     "text": [
      "2025/01/14 17:49:12 ERROR dspy.utils.parallelizer: Error processing item {'question': 'What is full expression?', 'response': 'Full expression is about understanding oneself when comfortable and learning to channel authentic self-expression. It recognizes that people face barriers like shyness and distraction that can prevent them from fully expressing themselves. The concept emphasizes the effort required to overcome these obstacles and achieve genuine self-expression.'}: 'dict' object has no attribute 'inputs'. Set `provide_traceback=True` to see the stack trace.\n"
     ]
    },
    {
     "name": "stdout",
     "output_type": "stream",
     "text": [
      "Average Metric: 0.00 / 0 (0%): 100%|██████████| 2/2 [00:00<00:00, 4586.45it/s]"
     ]
    },
    {
     "name": "stderr",
     "output_type": "stream",
     "text": [
      "2025/01/14 17:49:12 INFO dspy.evaluate.evaluate: Average Metric: 0.0 / 2 (0.0%)\n",
      "2025/01/14 17:49:12 INFO dspy.teleprompt.mipro_optimizer_v2: Score: 0.0 with parameters ['Predictor 0: Instruction 7', 'Predictor 0: Few-Shot Set 1'].\n",
      "2025/01/14 17:49:12 INFO dspy.teleprompt.mipro_optimizer_v2: Scores so far: [0.0, 0.0, 0.0, 0.0, 0.0, 0.0, 0.0]\n",
      "2025/01/14 17:49:12 INFO dspy.teleprompt.mipro_optimizer_v2: Best score so far: 0.0\n",
      "2025/01/14 17:49:12 INFO dspy.teleprompt.mipro_optimizer_v2: ========================\n",
      "\n",
      "\n",
      "2025/01/14 17:49:12 INFO dspy.teleprompt.mipro_optimizer_v2: ===== Trial 7 / 25 =====\n",
      "2025/01/14 17:49:12 ERROR dspy.utils.parallelizer: Error processing item {'question': 'What does expect rising mean?', 'response': \"Expect Rising refers to the concept of constantly increasing expectations, similar to the saying 'give them an inch, they'll take a mile.' It relates to the law of diminishing returns, where adding more of something eventually yields lower incremental benefits. This principle applies to various aspects of life, from material goods to experiences.\"}: 'dict' object has no attribute 'inputs'. Set `provide_traceback=True` to see the stack trace.\n",
      "2025/01/14 17:49:12 ERROR dspy.utils.parallelizer: Error processing item {'question': 'What is full expression?', 'response': 'Full expression is about understanding oneself when comfortable and learning to channel authentic self-expression. It recognizes that people face barriers like shyness and distraction that can prevent them from fully expressing themselves. The concept emphasizes the effort required to overcome these obstacles and achieve genuine self-expression.'}: 'dict' object has no attribute 'inputs'. Set `provide_traceback=True` to see the stack trace.\n"
     ]
    },
    {
     "name": "stdout",
     "output_type": "stream",
     "text": [
      "\n",
      "Average Metric: 0.00 / 0 (0%): 100%|██████████| 2/2 [00:00<00:00, 3165.51it/s]"
     ]
    },
    {
     "name": "stderr",
     "output_type": "stream",
     "text": [
      "2025/01/14 17:49:12 INFO dspy.evaluate.evaluate: Average Metric: 0.0 / 2 (0.0%)\n",
      "2025/01/14 17:49:12 INFO dspy.teleprompt.mipro_optimizer_v2: Score: 0.0 with parameters ['Predictor 0: Instruction 7', 'Predictor 0: Few-Shot Set 12'].\n",
      "2025/01/14 17:49:12 INFO dspy.teleprompt.mipro_optimizer_v2: Scores so far: [0.0, 0.0, 0.0, 0.0, 0.0, 0.0, 0.0, 0.0]\n",
      "2025/01/14 17:49:12 INFO dspy.teleprompt.mipro_optimizer_v2: Best score so far: 0.0\n",
      "2025/01/14 17:49:12 INFO dspy.teleprompt.mipro_optimizer_v2: ========================\n",
      "\n",
      "\n",
      "2025/01/14 17:49:12 INFO dspy.teleprompt.mipro_optimizer_v2: ===== Trial 8 / 25 =====\n",
      "2025/01/14 17:49:12 ERROR dspy.utils.parallelizer: Error processing item {'question': 'What does expect rising mean?', 'response': \"Expect Rising refers to the concept of constantly increasing expectations, similar to the saying 'give them an inch, they'll take a mile.' It relates to the law of diminishing returns, where adding more of something eventually yields lower incremental benefits. This principle applies to various aspects of life, from material goods to experiences.\"}: 'dict' object has no attribute 'inputs'. Set `provide_traceback=True` to see the stack trace.\n"
     ]
    },
    {
     "name": "stdout",
     "output_type": "stream",
     "text": [
      "\n",
      "  0%|          | 0/2 [00:00<?, ?it/s]"
     ]
    },
    {
     "name": "stderr",
     "output_type": "stream",
     "text": [
      "2025/01/14 17:49:12 ERROR dspy.utils.parallelizer: Error processing item {'question': 'What is full expression?', 'response': 'Full expression is about understanding oneself when comfortable and learning to channel authentic self-expression. It recognizes that people face barriers like shyness and distraction that can prevent them from fully expressing themselves. The concept emphasizes the effort required to overcome these obstacles and achieve genuine self-expression.'}: 'dict' object has no attribute 'inputs'. Set `provide_traceback=True` to see the stack trace.\n"
     ]
    },
    {
     "name": "stdout",
     "output_type": "stream",
     "text": [
      "Average Metric: 0.00 / 0 (0%): 100%|██████████| 2/2 [00:00<00:00, 2412.60it/s]"
     ]
    },
    {
     "name": "stderr",
     "output_type": "stream",
     "text": [
      "2025/01/14 17:49:12 INFO dspy.evaluate.evaluate: Average Metric: 0.0 / 2 (0.0%)\n",
      "2025/01/14 17:49:12 INFO dspy.teleprompt.mipro_optimizer_v2: Score: 0.0 with parameters ['Predictor 0: Instruction 11', 'Predictor 0: Few-Shot Set 13'].\n",
      "2025/01/14 17:49:12 INFO dspy.teleprompt.mipro_optimizer_v2: Scores so far: [0.0, 0.0, 0.0, 0.0, 0.0, 0.0, 0.0, 0.0, 0.0]\n",
      "2025/01/14 17:49:12 INFO dspy.teleprompt.mipro_optimizer_v2: Best score so far: 0.0\n",
      "2025/01/14 17:49:12 INFO dspy.teleprompt.mipro_optimizer_v2: ========================\n",
      "\n",
      "\n",
      "2025/01/14 17:49:12 INFO dspy.teleprompt.mipro_optimizer_v2: ===== Trial 9 / 25 =====\n",
      "2025/01/14 17:49:12 ERROR dspy.utils.parallelizer: Error processing item {'question': 'What does expect rising mean?', 'response': \"Expect Rising refers to the concept of constantly increasing expectations, similar to the saying 'give them an inch, they'll take a mile.' It relates to the law of diminishing returns, where adding more of something eventually yields lower incremental benefits. This principle applies to various aspects of life, from material goods to experiences.\"}: 'dict' object has no attribute 'inputs'. Set `provide_traceback=True` to see the stack trace.\n"
     ]
    },
    {
     "name": "stdout",
     "output_type": "stream",
     "text": [
      "\n"
     ]
    },
    {
     "name": "stderr",
     "output_type": "stream",
     "text": [
      "2025/01/14 17:49:12 ERROR dspy.utils.parallelizer: Error processing item {'question': 'What is full expression?', 'response': 'Full expression is about understanding oneself when comfortable and learning to channel authentic self-expression. It recognizes that people face barriers like shyness and distraction that can prevent them from fully expressing themselves. The concept emphasizes the effort required to overcome these obstacles and achieve genuine self-expression.'}: 'dict' object has no attribute 'inputs'. Set `provide_traceback=True` to see the stack trace.\n"
     ]
    },
    {
     "name": "stdout",
     "output_type": "stream",
     "text": [
      "Average Metric: 0.00 / 0 (0%): 100%|██████████| 2/2 [00:00<00:00, 2898.62it/s]"
     ]
    },
    {
     "name": "stderr",
     "output_type": "stream",
     "text": [
      "2025/01/14 17:49:12 INFO dspy.evaluate.evaluate: Average Metric: 0.0 / 2 (0.0%)\n",
      "2025/01/14 17:49:12 INFO dspy.teleprompt.mipro_optimizer_v2: Score: 0.0 with parameters ['Predictor 0: Instruction 5', 'Predictor 0: Few-Shot Set 4'].\n",
      "2025/01/14 17:49:12 INFO dspy.teleprompt.mipro_optimizer_v2: Scores so far: [0.0, 0.0, 0.0, 0.0, 0.0, 0.0, 0.0, 0.0, 0.0, 0.0]\n",
      "2025/01/14 17:49:12 INFO dspy.teleprompt.mipro_optimizer_v2: Best score so far: 0.0\n",
      "2025/01/14 17:49:12 INFO dspy.teleprompt.mipro_optimizer_v2: ========================\n",
      "\n",
      "\n",
      "2025/01/14 17:49:12 INFO dspy.teleprompt.mipro_optimizer_v2: ===== Trial 10 / 25 =====\n",
      "2025/01/14 17:49:12 ERROR dspy.utils.parallelizer: Error processing item {'question': 'What does expect rising mean?', 'response': \"Expect Rising refers to the concept of constantly increasing expectations, similar to the saying 'give them an inch, they'll take a mile.' It relates to the law of diminishing returns, where adding more of something eventually yields lower incremental benefits. This principle applies to various aspects of life, from material goods to experiences.\"}: 'dict' object has no attribute 'inputs'. Set `provide_traceback=True` to see the stack trace.\n",
      "2025/01/14 17:49:12 ERROR dspy.utils.parallelizer: Error processing item {'question': 'What is full expression?', 'response': 'Full expression is about understanding oneself when comfortable and learning to channel authentic self-expression. It recognizes that people face barriers like shyness and distraction that can prevent them from fully expressing themselves. The concept emphasizes the effort required to overcome these obstacles and achieve genuine self-expression.'}: 'dict' object has no attribute 'inputs'. Set `provide_traceback=True` to see the stack trace.\n"
     ]
    },
    {
     "name": "stdout",
     "output_type": "stream",
     "text": [
      "\n",
      "Average Metric: 0.00 / 0 (0%): 100%|██████████| 2/2 [00:00<00:00, 5667.98it/s]"
     ]
    },
    {
     "name": "stderr",
     "output_type": "stream",
     "text": [
      "2025/01/14 17:49:12 INFO dspy.evaluate.evaluate: Average Metric: 0.0 / 2 (0.0%)\n",
      "2025/01/14 17:49:12 INFO dspy.teleprompt.mipro_optimizer_v2: Score: 0.0 with parameters ['Predictor 0: Instruction 14', 'Predictor 0: Few-Shot Set 1'].\n",
      "2025/01/14 17:49:12 INFO dspy.teleprompt.mipro_optimizer_v2: Scores so far: [0.0, 0.0, 0.0, 0.0, 0.0, 0.0, 0.0, 0.0, 0.0, 0.0, 0.0]\n",
      "2025/01/14 17:49:12 INFO dspy.teleprompt.mipro_optimizer_v2: Best score so far: 0.0\n",
      "2025/01/14 17:49:12 INFO dspy.teleprompt.mipro_optimizer_v2: =========================\n",
      "\n",
      "\n",
      "2025/01/14 17:49:12 INFO dspy.teleprompt.mipro_optimizer_v2: ===== Trial 11 / 25 =====\n",
      "2025/01/14 17:49:12 ERROR dspy.utils.parallelizer: Error processing item {'question': 'What does expect rising mean?', 'response': \"Expect Rising refers to the concept of constantly increasing expectations, similar to the saying 'give them an inch, they'll take a mile.' It relates to the law of diminishing returns, where adding more of something eventually yields lower incremental benefits. This principle applies to various aspects of life, from material goods to experiences.\"}: 'dict' object has no attribute 'inputs'. Set `provide_traceback=True` to see the stack trace.\n",
      "2025/01/14 17:49:12 ERROR dspy.utils.parallelizer: Error processing item {'question': 'What is full expression?', 'response': 'Full expression is about understanding oneself when comfortable and learning to channel authentic self-expression. It recognizes that people face barriers like shyness and distraction that can prevent them from fully expressing themselves. The concept emphasizes the effort required to overcome these obstacles and achieve genuine self-expression.'}: 'dict' object has no attribute 'inputs'. Set `provide_traceback=True` to see the stack trace.\n"
     ]
    },
    {
     "name": "stdout",
     "output_type": "stream",
     "text": [
      "\n",
      "Average Metric: 0.00 / 0 (0%): 100%|██████████| 2/2 [00:00<00:00, 4556.55it/s]"
     ]
    },
    {
     "name": "stderr",
     "output_type": "stream",
     "text": [
      "2025/01/14 17:49:12 INFO dspy.evaluate.evaluate: Average Metric: 0.0 / 2 (0.0%)\n",
      "2025/01/14 17:49:12 INFO dspy.teleprompt.mipro_optimizer_v2: Score: 0.0 with parameters ['Predictor 0: Instruction 12', 'Predictor 0: Few-Shot Set 3'].\n",
      "2025/01/14 17:49:12 INFO dspy.teleprompt.mipro_optimizer_v2: Scores so far: [0.0, 0.0, 0.0, 0.0, 0.0, 0.0, 0.0, 0.0, 0.0, 0.0, 0.0, 0.0]\n",
      "2025/01/14 17:49:12 INFO dspy.teleprompt.mipro_optimizer_v2: Best score so far: 0.0\n",
      "2025/01/14 17:49:12 INFO dspy.teleprompt.mipro_optimizer_v2: =========================\n",
      "\n",
      "\n",
      "2025/01/14 17:49:12 INFO dspy.teleprompt.mipro_optimizer_v2: ===== Trial 12 / 25 =====\n",
      "2025/01/14 17:49:12 ERROR dspy.utils.parallelizer: Error processing item {'question': 'What does expect rising mean?', 'response': \"Expect Rising refers to the concept of constantly increasing expectations, similar to the saying 'give them an inch, they'll take a mile.' It relates to the law of diminishing returns, where adding more of something eventually yields lower incremental benefits. This principle applies to various aspects of life, from material goods to experiences.\"}: 'dict' object has no attribute 'inputs'. Set `provide_traceback=True` to see the stack trace.\n",
      "2025/01/14 17:49:12 ERROR dspy.utils.parallelizer: Error processing item {'question': 'What is full expression?', 'response': 'Full expression is about understanding oneself when comfortable and learning to channel authentic self-expression. It recognizes that people face barriers like shyness and distraction that can prevent them from fully expressing themselves. The concept emphasizes the effort required to overcome these obstacles and achieve genuine self-expression.'}: 'dict' object has no attribute 'inputs'. Set `provide_traceback=True` to see the stack trace.\n"
     ]
    },
    {
     "name": "stdout",
     "output_type": "stream",
     "text": [
      "\n",
      "Average Metric: 0.00 / 0 (0%): 100%|██████████| 2/2 [00:00<00:00, 4963.67it/s]"
     ]
    },
    {
     "name": "stderr",
     "output_type": "stream",
     "text": [
      "2025/01/14 17:49:12 INFO dspy.evaluate.evaluate: Average Metric: 0.0 / 2 (0.0%)\n",
      "2025/01/14 17:49:12 INFO dspy.teleprompt.mipro_optimizer_v2: Score: 0.0 with parameters ['Predictor 0: Instruction 12', 'Predictor 0: Few-Shot Set 7'].\n",
      "2025/01/14 17:49:12 INFO dspy.teleprompt.mipro_optimizer_v2: Scores so far: [0.0, 0.0, 0.0, 0.0, 0.0, 0.0, 0.0, 0.0, 0.0, 0.0, 0.0, 0.0, 0.0]\n",
      "2025/01/14 17:49:12 INFO dspy.teleprompt.mipro_optimizer_v2: Best score so far: 0.0\n",
      "2025/01/14 17:49:12 INFO dspy.teleprompt.mipro_optimizer_v2: =========================\n",
      "\n",
      "\n",
      "2025/01/14 17:49:12 INFO dspy.teleprompt.mipro_optimizer_v2: ===== Trial 13 / 25 =====\n",
      "2025/01/14 17:49:12 ERROR dspy.utils.parallelizer: Error processing item {'question': 'What does expect rising mean?', 'response': \"Expect Rising refers to the concept of constantly increasing expectations, similar to the saying 'give them an inch, they'll take a mile.' It relates to the law of diminishing returns, where adding more of something eventually yields lower incremental benefits. This principle applies to various aspects of life, from material goods to experiences.\"}: 'dict' object has no attribute 'inputs'. Set `provide_traceback=True` to see the stack trace.\n",
      "2025/01/14 17:49:12 ERROR dspy.utils.parallelizer: Error processing item {'question': 'What is full expression?', 'response': 'Full expression is about understanding oneself when comfortable and learning to channel authentic self-expression. It recognizes that people face barriers like shyness and distraction that can prevent them from fully expressing themselves. The concept emphasizes the effort required to overcome these obstacles and achieve genuine self-expression.'}: 'dict' object has no attribute 'inputs'. Set `provide_traceback=True` to see the stack trace.\n"
     ]
    },
    {
     "name": "stdout",
     "output_type": "stream",
     "text": [
      "\n",
      "Average Metric: 0.00 / 0 (0%): 100%|██████████| 2/2 [00:00<00:00, 3514.29it/s]"
     ]
    },
    {
     "name": "stderr",
     "output_type": "stream",
     "text": [
      "2025/01/14 17:49:12 INFO dspy.evaluate.evaluate: Average Metric: 0.0 / 2 (0.0%)\n",
      "2025/01/14 17:49:12 INFO dspy.teleprompt.mipro_optimizer_v2: Score: 0.0 with parameters ['Predictor 0: Instruction 0', 'Predictor 0: Few-Shot Set 7'].\n",
      "2025/01/14 17:49:12 INFO dspy.teleprompt.mipro_optimizer_v2: Scores so far: [0.0, 0.0, 0.0, 0.0, 0.0, 0.0, 0.0, 0.0, 0.0, 0.0, 0.0, 0.0, 0.0, 0.0]\n",
      "2025/01/14 17:49:12 INFO dspy.teleprompt.mipro_optimizer_v2: Best score so far: 0.0\n",
      "2025/01/14 17:49:12 INFO dspy.teleprompt.mipro_optimizer_v2: =========================\n",
      "\n",
      "\n",
      "2025/01/14 17:49:12 INFO dspy.teleprompt.mipro_optimizer_v2: ===== Trial 14 / 25 =====\n",
      "2025/01/14 17:49:12 ERROR dspy.utils.parallelizer: Error processing item {'question': 'What does expect rising mean?', 'response': \"Expect Rising refers to the concept of constantly increasing expectations, similar to the saying 'give them an inch, they'll take a mile.' It relates to the law of diminishing returns, where adding more of something eventually yields lower incremental benefits. This principle applies to various aspects of life, from material goods to experiences.\"}: 'dict' object has no attribute 'inputs'. Set `provide_traceback=True` to see the stack trace.\n",
      "2025/01/14 17:49:12 ERROR dspy.utils.parallelizer: Error processing item {'question': 'What is full expression?', 'response': 'Full expression is about understanding oneself when comfortable and learning to channel authentic self-expression. It recognizes that people face barriers like shyness and distraction that can prevent them from fully expressing themselves. The concept emphasizes the effort required to overcome these obstacles and achieve genuine self-expression.'}: 'dict' object has no attribute 'inputs'. Set `provide_traceback=True` to see the stack trace.\n"
     ]
    },
    {
     "name": "stdout",
     "output_type": "stream",
     "text": [
      "\n",
      "Average Metric: 0.00 / 0 (0%): 100%|██████████| 2/2 [00:00<00:00, 4750.06it/s]"
     ]
    },
    {
     "name": "stderr",
     "output_type": "stream",
     "text": [
      "2025/01/14 17:49:12 INFO dspy.evaluate.evaluate: Average Metric: 0.0 / 2 (0.0%)\n",
      "2025/01/14 17:49:12 INFO dspy.teleprompt.mipro_optimizer_v2: Score: 0.0 with parameters ['Predictor 0: Instruction 10', 'Predictor 0: Few-Shot Set 0'].\n",
      "2025/01/14 17:49:12 INFO dspy.teleprompt.mipro_optimizer_v2: Scores so far: [0.0, 0.0, 0.0, 0.0, 0.0, 0.0, 0.0, 0.0, 0.0, 0.0, 0.0, 0.0, 0.0, 0.0, 0.0]\n",
      "2025/01/14 17:49:12 INFO dspy.teleprompt.mipro_optimizer_v2: Best score so far: 0.0\n",
      "2025/01/14 17:49:12 INFO dspy.teleprompt.mipro_optimizer_v2: =========================\n",
      "\n",
      "\n",
      "2025/01/14 17:49:12 INFO dspy.teleprompt.mipro_optimizer_v2: ===== Trial 15 / 25 =====\n",
      "2025/01/14 17:49:12 ERROR dspy.utils.parallelizer: Error processing item {'question': 'What does expect rising mean?', 'response': \"Expect Rising refers to the concept of constantly increasing expectations, similar to the saying 'give them an inch, they'll take a mile.' It relates to the law of diminishing returns, where adding more of something eventually yields lower incremental benefits. This principle applies to various aspects of life, from material goods to experiences.\"}: 'dict' object has no attribute 'inputs'. Set `provide_traceback=True` to see the stack trace.\n",
      "2025/01/14 17:49:12 ERROR dspy.utils.parallelizer: Error processing item {'question': 'What is full expression?', 'response': 'Full expression is about understanding oneself when comfortable and learning to channel authentic self-expression. It recognizes that people face barriers like shyness and distraction that can prevent them from fully expressing themselves. The concept emphasizes the effort required to overcome these obstacles and achieve genuine self-expression.'}: 'dict' object has no attribute 'inputs'. Set `provide_traceback=True` to see the stack trace.\n"
     ]
    },
    {
     "name": "stdout",
     "output_type": "stream",
     "text": [
      "\n",
      "Average Metric: 0.00 / 0 (0%): 100%|██████████| 2/2 [00:00<00:00, 4058.35it/s]"
     ]
    },
    {
     "name": "stderr",
     "output_type": "stream",
     "text": [
      "2025/01/14 17:49:12 INFO dspy.evaluate.evaluate: Average Metric: 0.0 / 2 (0.0%)\n",
      "2025/01/14 17:49:12 INFO dspy.teleprompt.mipro_optimizer_v2: Score: 0.0 with parameters ['Predictor 0: Instruction 2', 'Predictor 0: Few-Shot Set 7'].\n",
      "2025/01/14 17:49:12 INFO dspy.teleprompt.mipro_optimizer_v2: Scores so far: [0.0, 0.0, 0.0, 0.0, 0.0, 0.0, 0.0, 0.0, 0.0, 0.0, 0.0, 0.0, 0.0, 0.0, 0.0, 0.0]\n",
      "2025/01/14 17:49:12 INFO dspy.teleprompt.mipro_optimizer_v2: Best score so far: 0.0\n",
      "2025/01/14 17:49:12 INFO dspy.teleprompt.mipro_optimizer_v2: =========================\n",
      "\n",
      "\n",
      "2025/01/14 17:49:12 INFO dspy.teleprompt.mipro_optimizer_v2: ===== Trial 16 / 25 =====\n",
      "2025/01/14 17:49:12 ERROR dspy.utils.parallelizer: Error processing item {'question': 'What does expect rising mean?', 'response': \"Expect Rising refers to the concept of constantly increasing expectations, similar to the saying 'give them an inch, they'll take a mile.' It relates to the law of diminishing returns, where adding more of something eventually yields lower incremental benefits. This principle applies to various aspects of life, from material goods to experiences.\"}: 'dict' object has no attribute 'inputs'. Set `provide_traceback=True` to see the stack trace.\n"
     ]
    },
    {
     "name": "stdout",
     "output_type": "stream",
     "text": [
      "\n"
     ]
    },
    {
     "name": "stderr",
     "output_type": "stream",
     "text": [
      "2025/01/14 17:49:12 ERROR dspy.utils.parallelizer: Error processing item {'question': 'What is full expression?', 'response': 'Full expression is about understanding oneself when comfortable and learning to channel authentic self-expression. It recognizes that people face barriers like shyness and distraction that can prevent them from fully expressing themselves. The concept emphasizes the effort required to overcome these obstacles and achieve genuine self-expression.'}: 'dict' object has no attribute 'inputs'. Set `provide_traceback=True` to see the stack trace.\n"
     ]
    },
    {
     "name": "stdout",
     "output_type": "stream",
     "text": [
      "Average Metric: 0.00 / 0 (0%): 100%|██████████| 2/2 [00:00<00:00, 3788.89it/s]"
     ]
    },
    {
     "name": "stderr",
     "output_type": "stream",
     "text": [
      "2025/01/14 17:49:12 INFO dspy.evaluate.evaluate: Average Metric: 0.0 / 2 (0.0%)\n",
      "2025/01/14 17:49:12 INFO dspy.teleprompt.mipro_optimizer_v2: Score: 0.0 with parameters ['Predictor 0: Instruction 10', 'Predictor 0: Few-Shot Set 5'].\n",
      "2025/01/14 17:49:12 INFO dspy.teleprompt.mipro_optimizer_v2: Scores so far: [0.0, 0.0, 0.0, 0.0, 0.0, 0.0, 0.0, 0.0, 0.0, 0.0, 0.0, 0.0, 0.0, 0.0, 0.0, 0.0, 0.0]\n",
      "2025/01/14 17:49:12 INFO dspy.teleprompt.mipro_optimizer_v2: Best score so far: 0.0\n",
      "2025/01/14 17:49:12 INFO dspy.teleprompt.mipro_optimizer_v2: =========================\n",
      "\n",
      "\n",
      "2025/01/14 17:49:12 INFO dspy.teleprompt.mipro_optimizer_v2: ===== Trial 17 / 25 =====\n",
      "2025/01/14 17:49:12 ERROR dspy.utils.parallelizer: Error processing item {'question': 'What does expect rising mean?', 'response': \"Expect Rising refers to the concept of constantly increasing expectations, similar to the saying 'give them an inch, they'll take a mile.' It relates to the law of diminishing returns, where adding more of something eventually yields lower incremental benefits. This principle applies to various aspects of life, from material goods to experiences.\"}: 'dict' object has no attribute 'inputs'. Set `provide_traceback=True` to see the stack trace.\n"
     ]
    },
    {
     "name": "stdout",
     "output_type": "stream",
     "text": [
      "\n"
     ]
    },
    {
     "name": "stderr",
     "output_type": "stream",
     "text": [
      "2025/01/14 17:49:12 ERROR dspy.utils.parallelizer: Error processing item {'question': 'What is full expression?', 'response': 'Full expression is about understanding oneself when comfortable and learning to channel authentic self-expression. It recognizes that people face barriers like shyness and distraction that can prevent them from fully expressing themselves. The concept emphasizes the effort required to overcome these obstacles and achieve genuine self-expression.'}: 'dict' object has no attribute 'inputs'. Set `provide_traceback=True` to see the stack trace.\n"
     ]
    },
    {
     "name": "stdout",
     "output_type": "stream",
     "text": [
      "Average Metric: 0.00 / 0 (0%): 100%|██████████| 2/2 [00:00<00:00, 4596.50it/s]"
     ]
    },
    {
     "name": "stderr",
     "output_type": "stream",
     "text": [
      "2025/01/14 17:49:12 INFO dspy.evaluate.evaluate: Average Metric: 0.0 / 2 (0.0%)\n",
      "2025/01/14 17:49:12 INFO dspy.teleprompt.mipro_optimizer_v2: Score: 0.0 with parameters ['Predictor 0: Instruction 13', 'Predictor 0: Few-Shot Set 10'].\n",
      "2025/01/14 17:49:12 INFO dspy.teleprompt.mipro_optimizer_v2: Scores so far: [0.0, 0.0, 0.0, 0.0, 0.0, 0.0, 0.0, 0.0, 0.0, 0.0, 0.0, 0.0, 0.0, 0.0, 0.0, 0.0, 0.0, 0.0]\n",
      "2025/01/14 17:49:12 INFO dspy.teleprompt.mipro_optimizer_v2: Best score so far: 0.0\n",
      "2025/01/14 17:49:12 INFO dspy.teleprompt.mipro_optimizer_v2: =========================\n",
      "\n",
      "\n",
      "2025/01/14 17:49:12 INFO dspy.teleprompt.mipro_optimizer_v2: ===== Trial 18 / 25 =====\n",
      "2025/01/14 17:49:12 ERROR dspy.utils.parallelizer: Error processing item {'question': 'What does expect rising mean?', 'response': \"Expect Rising refers to the concept of constantly increasing expectations, similar to the saying 'give them an inch, they'll take a mile.' It relates to the law of diminishing returns, where adding more of something eventually yields lower incremental benefits. This principle applies to various aspects of life, from material goods to experiences.\"}: 'dict' object has no attribute 'inputs'. Set `provide_traceback=True` to see the stack trace.\n",
      "2025/01/14 17:49:12 ERROR dspy.utils.parallelizer: Error processing item {'question': 'What is full expression?', 'response': 'Full expression is about understanding oneself when comfortable and learning to channel authentic self-expression. It recognizes that people face barriers like shyness and distraction that can prevent them from fully expressing themselves. The concept emphasizes the effort required to overcome these obstacles and achieve genuine self-expression.'}: 'dict' object has no attribute 'inputs'. Set `provide_traceback=True` to see the stack trace.\n"
     ]
    },
    {
     "name": "stdout",
     "output_type": "stream",
     "text": [
      "\n",
      "Average Metric: 0.00 / 0 (0%): 100%|██████████| 2/2 [00:00<00:00, 1941.81it/s]"
     ]
    },
    {
     "name": "stderr",
     "output_type": "stream",
     "text": [
      "2025/01/14 17:49:12 INFO dspy.evaluate.evaluate: Average Metric: 0.0 / 2 (0.0%)\n",
      "2025/01/14 17:49:12 INFO dspy.teleprompt.mipro_optimizer_v2: Score: 0.0 with parameters ['Predictor 0: Instruction 1', 'Predictor 0: Few-Shot Set 6'].\n",
      "2025/01/14 17:49:12 INFO dspy.teleprompt.mipro_optimizer_v2: Scores so far: [0.0, 0.0, 0.0, 0.0, 0.0, 0.0, 0.0, 0.0, 0.0, 0.0, 0.0, 0.0, 0.0, 0.0, 0.0, 0.0, 0.0, 0.0, 0.0]\n",
      "2025/01/14 17:49:12 INFO dspy.teleprompt.mipro_optimizer_v2: Best score so far: 0.0\n",
      "2025/01/14 17:49:12 INFO dspy.teleprompt.mipro_optimizer_v2: =========================\n",
      "\n",
      "\n",
      "2025/01/14 17:49:12 INFO dspy.teleprompt.mipro_optimizer_v2: ===== Trial 19 / 25 =====\n",
      "2025/01/14 17:49:12 ERROR dspy.utils.parallelizer: Error processing item {'question': 'What does expect rising mean?', 'response': \"Expect Rising refers to the concept of constantly increasing expectations, similar to the saying 'give them an inch, they'll take a mile.' It relates to the law of diminishing returns, where adding more of something eventually yields lower incremental benefits. This principle applies to various aspects of life, from material goods to experiences.\"}: 'dict' object has no attribute 'inputs'. Set `provide_traceback=True` to see the stack trace.\n",
      "2025/01/14 17:49:12 ERROR dspy.utils.parallelizer: Error processing item {'question': 'What is full expression?', 'response': 'Full expression is about understanding oneself when comfortable and learning to channel authentic self-expression. It recognizes that people face barriers like shyness and distraction that can prevent them from fully expressing themselves. The concept emphasizes the effort required to overcome these obstacles and achieve genuine self-expression.'}: 'dict' object has no attribute 'inputs'. Set `provide_traceback=True` to see the stack trace.\n"
     ]
    },
    {
     "name": "stdout",
     "output_type": "stream",
     "text": [
      "\n",
      "Average Metric: 0.00 / 0 (0%): 100%|██████████| 2/2 [00:00<00:00, 5555.37it/s]"
     ]
    },
    {
     "name": "stderr",
     "output_type": "stream",
     "text": [
      "2025/01/14 17:49:12 INFO dspy.evaluate.evaluate: Average Metric: 0.0 / 2 (0.0%)\n",
      "2025/01/14 17:49:12 INFO dspy.teleprompt.mipro_optimizer_v2: Score: 0.0 with parameters ['Predictor 0: Instruction 10', 'Predictor 0: Few-Shot Set 7'].\n",
      "2025/01/14 17:49:12 INFO dspy.teleprompt.mipro_optimizer_v2: Scores so far: [0.0, 0.0, 0.0, 0.0, 0.0, 0.0, 0.0, 0.0, 0.0, 0.0, 0.0, 0.0, 0.0, 0.0, 0.0, 0.0, 0.0, 0.0, 0.0, 0.0]\n",
      "2025/01/14 17:49:12 INFO dspy.teleprompt.mipro_optimizer_v2: Best score so far: 0.0\n",
      "2025/01/14 17:49:12 INFO dspy.teleprompt.mipro_optimizer_v2: =========================\n",
      "\n",
      "\n",
      "2025/01/14 17:49:12 INFO dspy.teleprompt.mipro_optimizer_v2: ===== Trial 20 / 25 =====\n",
      "2025/01/14 17:49:12 ERROR dspy.utils.parallelizer: Error processing item {'question': 'What does expect rising mean?', 'response': \"Expect Rising refers to the concept of constantly increasing expectations, similar to the saying 'give them an inch, they'll take a mile.' It relates to the law of diminishing returns, where adding more of something eventually yields lower incremental benefits. This principle applies to various aspects of life, from material goods to experiences.\"}: 'dict' object has no attribute 'inputs'. Set `provide_traceback=True` to see the stack trace.\n",
      "2025/01/14 17:49:12 ERROR dspy.utils.parallelizer: Error processing item {'question': 'What is full expression?', 'response': 'Full expression is about understanding oneself when comfortable and learning to channel authentic self-expression. It recognizes that people face barriers like shyness and distraction that can prevent them from fully expressing themselves. The concept emphasizes the effort required to overcome these obstacles and achieve genuine self-expression.'}: 'dict' object has no attribute 'inputs'. Set `provide_traceback=True` to see the stack trace.\n"
     ]
    },
    {
     "name": "stdout",
     "output_type": "stream",
     "text": [
      "\n",
      "Average Metric: 0.00 / 0 (0%): 100%|██████████| 2/2 [00:00<00:00, 4888.47it/s]"
     ]
    },
    {
     "name": "stderr",
     "output_type": "stream",
     "text": [
      "2025/01/14 17:49:12 INFO dspy.evaluate.evaluate: Average Metric: 0.0 / 2 (0.0%)\n",
      "2025/01/14 17:49:12 INFO dspy.teleprompt.mipro_optimizer_v2: Score: 0.0 with parameters ['Predictor 0: Instruction 12', 'Predictor 0: Few-Shot Set 17'].\n",
      "2025/01/14 17:49:12 INFO dspy.teleprompt.mipro_optimizer_v2: Scores so far: [0.0, 0.0, 0.0, 0.0, 0.0, 0.0, 0.0, 0.0, 0.0, 0.0, 0.0, 0.0, 0.0, 0.0, 0.0, 0.0, 0.0, 0.0, 0.0, 0.0, 0.0]\n",
      "2025/01/14 17:49:12 INFO dspy.teleprompt.mipro_optimizer_v2: Best score so far: 0.0\n",
      "2025/01/14 17:49:12 INFO dspy.teleprompt.mipro_optimizer_v2: =========================\n",
      "\n",
      "\n",
      "2025/01/14 17:49:12 INFO dspy.teleprompt.mipro_optimizer_v2: ===== Trial 21 / 25 =====\n",
      "2025/01/14 17:49:12 ERROR dspy.utils.parallelizer: Error processing item {'question': 'What does expect rising mean?', 'response': \"Expect Rising refers to the concept of constantly increasing expectations, similar to the saying 'give them an inch, they'll take a mile.' It relates to the law of diminishing returns, where adding more of something eventually yields lower incremental benefits. This principle applies to various aspects of life, from material goods to experiences.\"}: 'dict' object has no attribute 'inputs'. Set `provide_traceback=True` to see the stack trace.\n",
      "2025/01/14 17:49:12 ERROR dspy.utils.parallelizer: Error processing item {'question': 'What is full expression?', 'response': 'Full expression is about understanding oneself when comfortable and learning to channel authentic self-expression. It recognizes that people face barriers like shyness and distraction that can prevent them from fully expressing themselves. The concept emphasizes the effort required to overcome these obstacles and achieve genuine self-expression.'}: 'dict' object has no attribute 'inputs'. Set `provide_traceback=True` to see the stack trace.\n"
     ]
    },
    {
     "name": "stdout",
     "output_type": "stream",
     "text": [
      "\n",
      "Average Metric: 0.00 / 0 (0%): 100%|██████████| 2/2 [00:00<00:00, 4536.84it/s]"
     ]
    },
    {
     "name": "stderr",
     "output_type": "stream",
     "text": [
      "2025/01/14 17:49:12 INFO dspy.evaluate.evaluate: Average Metric: 0.0 / 2 (0.0%)\n",
      "2025/01/14 17:49:12 INFO dspy.teleprompt.mipro_optimizer_v2: Score: 0.0 with parameters ['Predictor 0: Instruction 16', 'Predictor 0: Few-Shot Set 15'].\n",
      "2025/01/14 17:49:12 INFO dspy.teleprompt.mipro_optimizer_v2: Scores so far: [0.0, 0.0, 0.0, 0.0, 0.0, 0.0, 0.0, 0.0, 0.0, 0.0, 0.0, 0.0, 0.0, 0.0, 0.0, 0.0, 0.0, 0.0, 0.0, 0.0, 0.0, 0.0]\n",
      "2025/01/14 17:49:12 INFO dspy.teleprompt.mipro_optimizer_v2: Best score so far: 0.0\n",
      "2025/01/14 17:49:12 INFO dspy.teleprompt.mipro_optimizer_v2: =========================\n",
      "\n",
      "\n",
      "2025/01/14 17:49:12 INFO dspy.teleprompt.mipro_optimizer_v2: ===== Trial 22 / 25 =====\n",
      "2025/01/14 17:49:12 ERROR dspy.utils.parallelizer: Error processing item {'question': 'What does expect rising mean?', 'response': \"Expect Rising refers to the concept of constantly increasing expectations, similar to the saying 'give them an inch, they'll take a mile.' It relates to the law of diminishing returns, where adding more of something eventually yields lower incremental benefits. This principle applies to various aspects of life, from material goods to experiences.\"}: 'dict' object has no attribute 'inputs'. Set `provide_traceback=True` to see the stack trace.\n"
     ]
    },
    {
     "name": "stdout",
     "output_type": "stream",
     "text": [
      "\n"
     ]
    },
    {
     "name": "stderr",
     "output_type": "stream",
     "text": [
      "2025/01/14 17:49:12 ERROR dspy.utils.parallelizer: Error processing item {'question': 'What is full expression?', 'response': 'Full expression is about understanding oneself when comfortable and learning to channel authentic self-expression. It recognizes that people face barriers like shyness and distraction that can prevent them from fully expressing themselves. The concept emphasizes the effort required to overcome these obstacles and achieve genuine self-expression.'}: 'dict' object has no attribute 'inputs'. Set `provide_traceback=True` to see the stack trace.\n"
     ]
    },
    {
     "name": "stdout",
     "output_type": "stream",
     "text": [
      "Average Metric: 0.00 / 0 (0%): 100%|██████████| 2/2 [00:00<00:00, 3860.38it/s]"
     ]
    },
    {
     "name": "stderr",
     "output_type": "stream",
     "text": [
      "2025/01/14 17:49:12 INFO dspy.evaluate.evaluate: Average Metric: 0.0 / 2 (0.0%)\n",
      "2025/01/14 17:49:12 INFO dspy.teleprompt.mipro_optimizer_v2: Score: 0.0 with parameters ['Predictor 0: Instruction 17', 'Predictor 0: Few-Shot Set 14'].\n",
      "2025/01/14 17:49:12 INFO dspy.teleprompt.mipro_optimizer_v2: Scores so far: [0.0, 0.0, 0.0, 0.0, 0.0, 0.0, 0.0, 0.0, 0.0, 0.0, 0.0, 0.0, 0.0, 0.0, 0.0, 0.0, 0.0, 0.0, 0.0, 0.0, 0.0, 0.0, 0.0]\n",
      "2025/01/14 17:49:12 INFO dspy.teleprompt.mipro_optimizer_v2: Best score so far: 0.0\n",
      "2025/01/14 17:49:12 INFO dspy.teleprompt.mipro_optimizer_v2: =========================\n",
      "\n",
      "\n",
      "2025/01/14 17:49:12 INFO dspy.teleprompt.mipro_optimizer_v2: ===== Trial 23 / 25 =====\n",
      "2025/01/14 17:49:12 ERROR dspy.utils.parallelizer: Error processing item {'question': 'What does expect rising mean?', 'response': \"Expect Rising refers to the concept of constantly increasing expectations, similar to the saying 'give them an inch, they'll take a mile.' It relates to the law of diminishing returns, where adding more of something eventually yields lower incremental benefits. This principle applies to various aspects of life, from material goods to experiences.\"}: 'dict' object has no attribute 'inputs'. Set `provide_traceback=True` to see the stack trace.\n",
      "2025/01/14 17:49:12 ERROR dspy.utils.parallelizer: Error processing item {'question': 'What is full expression?', 'response': 'Full expression is about understanding oneself when comfortable and learning to channel authentic self-expression. It recognizes that people face barriers like shyness and distraction that can prevent them from fully expressing themselves. The concept emphasizes the effort required to overcome these obstacles and achieve genuine self-expression.'}: 'dict' object has no attribute 'inputs'. Set `provide_traceback=True` to see the stack trace.\n"
     ]
    },
    {
     "name": "stdout",
     "output_type": "stream",
     "text": [
      "\n",
      "Average Metric: 0.00 / 0 (0%): 100%|██████████| 2/2 [00:00<00:00, 3371.63it/s]"
     ]
    },
    {
     "name": "stderr",
     "output_type": "stream",
     "text": [
      "2025/01/14 17:49:12 INFO dspy.evaluate.evaluate: Average Metric: 0.0 / 2 (0.0%)\n",
      "2025/01/14 17:49:12 INFO dspy.teleprompt.mipro_optimizer_v2: Score: 0.0 with parameters ['Predictor 0: Instruction 4', 'Predictor 0: Few-Shot Set 18'].\n",
      "2025/01/14 17:49:12 INFO dspy.teleprompt.mipro_optimizer_v2: Scores so far: [0.0, 0.0, 0.0, 0.0, 0.0, 0.0, 0.0, 0.0, 0.0, 0.0, 0.0, 0.0, 0.0, 0.0, 0.0, 0.0, 0.0, 0.0, 0.0, 0.0, 0.0, 0.0, 0.0, 0.0]\n",
      "2025/01/14 17:49:12 INFO dspy.teleprompt.mipro_optimizer_v2: Best score so far: 0.0\n",
      "2025/01/14 17:49:12 INFO dspy.teleprompt.mipro_optimizer_v2: =========================\n",
      "\n",
      "\n",
      "2025/01/14 17:49:12 INFO dspy.teleprompt.mipro_optimizer_v2: ===== Trial 24 / 25 =====\n",
      "2025/01/14 17:49:12 ERROR dspy.utils.parallelizer: Error processing item {'question': 'What does expect rising mean?', 'response': \"Expect Rising refers to the concept of constantly increasing expectations, similar to the saying 'give them an inch, they'll take a mile.' It relates to the law of diminishing returns, where adding more of something eventually yields lower incremental benefits. This principle applies to various aspects of life, from material goods to experiences.\"}: 'dict' object has no attribute 'inputs'. Set `provide_traceback=True` to see the stack trace.\n",
      "2025/01/14 17:49:12 ERROR dspy.utils.parallelizer: Error processing item {'question': 'What is full expression?', 'response': 'Full expression is about understanding oneself when comfortable and learning to channel authentic self-expression. It recognizes that people face barriers like shyness and distraction that can prevent them from fully expressing themselves. The concept emphasizes the effort required to overcome these obstacles and achieve genuine self-expression.'}: 'dict' object has no attribute 'inputs'. Set `provide_traceback=True` to see the stack trace.\n"
     ]
    },
    {
     "name": "stdout",
     "output_type": "stream",
     "text": [
      "\n",
      "Average Metric: 0.00 / 0 (0%): 100%|██████████| 2/2 [00:00<00:00, 4415.06it/s]"
     ]
    },
    {
     "name": "stderr",
     "output_type": "stream",
     "text": [
      "2025/01/14 17:49:12 INFO dspy.evaluate.evaluate: Average Metric: 0.0 / 2 (0.0%)\n",
      "2025/01/14 17:49:12 INFO dspy.teleprompt.mipro_optimizer_v2: Score: 0.0 with parameters ['Predictor 0: Instruction 18', 'Predictor 0: Few-Shot Set 8'].\n",
      "2025/01/14 17:49:12 INFO dspy.teleprompt.mipro_optimizer_v2: Scores so far: [0.0, 0.0, 0.0, 0.0, 0.0, 0.0, 0.0, 0.0, 0.0, 0.0, 0.0, 0.0, 0.0, 0.0, 0.0, 0.0, 0.0, 0.0, 0.0, 0.0, 0.0, 0.0, 0.0, 0.0, 0.0]\n",
      "2025/01/14 17:49:12 INFO dspy.teleprompt.mipro_optimizer_v2: Best score so far: 0.0\n",
      "2025/01/14 17:49:12 INFO dspy.teleprompt.mipro_optimizer_v2: =========================\n",
      "\n",
      "\n",
      "2025/01/14 17:49:12 INFO dspy.teleprompt.mipro_optimizer_v2: ===== Trial 25 / 25 =====\n",
      "2025/01/14 17:49:12 ERROR dspy.utils.parallelizer: Error processing item {'question': 'What does expect rising mean?', 'response': \"Expect Rising refers to the concept of constantly increasing expectations, similar to the saying 'give them an inch, they'll take a mile.' It relates to the law of diminishing returns, where adding more of something eventually yields lower incremental benefits. This principle applies to various aspects of life, from material goods to experiences.\"}: 'dict' object has no attribute 'inputs'. Set `provide_traceback=True` to see the stack trace.\n",
      "2025/01/14 17:49:12 ERROR dspy.utils.parallelizer: Error processing item {'question': 'What is full expression?', 'response': 'Full expression is about understanding oneself when comfortable and learning to channel authentic self-expression. It recognizes that people face barriers like shyness and distraction that can prevent them from fully expressing themselves. The concept emphasizes the effort required to overcome these obstacles and achieve genuine self-expression.'}: 'dict' object has no attribute 'inputs'. Set `provide_traceback=True` to see the stack trace.\n"
     ]
    },
    {
     "name": "stdout",
     "output_type": "stream",
     "text": [
      "\n",
      "Average Metric: 0.00 / 0 (0%): 100%|██████████| 2/2 [00:00<00:00, 1926.64it/s]"
     ]
    },
    {
     "name": "stderr",
     "output_type": "stream",
     "text": [
      "2025/01/14 17:49:12 INFO dspy.evaluate.evaluate: Average Metric: 0.0 / 2 (0.0%)\n",
      "2025/01/14 17:49:12 INFO dspy.teleprompt.mipro_optimizer_v2: Score: 0.0 with parameters ['Predictor 0: Instruction 7', 'Predictor 0: Few-Shot Set 18'].\n",
      "2025/01/14 17:49:12 INFO dspy.teleprompt.mipro_optimizer_v2: Scores so far: [0.0, 0.0, 0.0, 0.0, 0.0, 0.0, 0.0, 0.0, 0.0, 0.0, 0.0, 0.0, 0.0, 0.0, 0.0, 0.0, 0.0, 0.0, 0.0, 0.0, 0.0, 0.0, 0.0, 0.0, 0.0, 0.0]\n",
      "2025/01/14 17:49:12 INFO dspy.teleprompt.mipro_optimizer_v2: Best score so far: 0.0\n",
      "2025/01/14 17:49:12 INFO dspy.teleprompt.mipro_optimizer_v2: =========================\n",
      "\n",
      "\n",
      "2025/01/14 17:49:12 INFO dspy.teleprompt.mipro_optimizer_v2: Returning best identified program with score 0.0!\n"
     ]
    },
    {
     "name": "stdout",
     "output_type": "stream",
     "text": [
      "\n",
      "\n",
      "Question: How do you maximize the beauty?\n",
      "Response: The concept of beauty is subjective and can be influenced by various elements, including historical context, cultural norms, and individual experiences. Maximizing the beauty in a given situation or work of art may require a deep understanding of its intended message, audience, and the emotions it aims to evoke.\n",
      "\n",
      "--------------------------------------------------\n",
      "\n",
      "Question: What is the power of pettiness?\n",
      "Response: Pettiness can be a powerful tool for social manipulation, allowing individuals to exert influence over others without directly confronting them. However, it can also lead to feelings of resentment and frustration among those on the receiving end, ultimately undermining any potential power or control that pettiness may offer.\n",
      "\n",
      "--------------------------------------------------\n",
      "\n",
      "Question: How can we achieve full expression?\n",
      "Response: To achieve full expression in a given statement or condition, it is essential to carefully consider the use of logical operators and grouping techniques. By doing so, we can create complex expressions that accurately convey our intended meaning and avoid ambiguity or errors.\n",
      "\n",
      "--------------------------------------------------\n"
     ]
    }
   ],
   "source": [
    "import pandas as pd\n",
    "import dspy\n",
    "from typing import List, Dict\n",
    "import re\n",
    "\n",
    "# Step 1: CSV handling class\n",
    "class ColBERTv2:\n",
    "    def __init__(self, csv_path: str):\n",
    "        self.data = pd.read_csv(csv_path, quoting=1)\n",
    "        if \"Ideas\" not in self.data.columns:\n",
    "            raise ValueError(\"CSV must contain a column named 'Ideas'.\")\n",
    "        \n",
    "        self.processed_ideas = self._preprocess_ideas()\n",
    "    \n",
    "    def _preprocess_ideas(self) -> List[Dict]:\n",
    "        processed = []\n",
    "        for idea in self.data[\"Ideas\"].values:\n",
    "            text = re.sub(r'^\\d+\\)\\s*', '', str(idea))\n",
    "            parts = text.split('-', 1)\n",
    "            if len(parts) > 1:\n",
    "                title = parts[0].strip()\n",
    "                content = parts[1].strip()\n",
    "            else:\n",
    "                title = \"\"\n",
    "                content = parts[0].strip()\n",
    "            \n",
    "            processed.append({\n",
    "                \"title\": title,\n",
    "                \"content\": content,\n",
    "                \"full_text\": text\n",
    "            })\n",
    "        return processed\n",
    "\n",
    "    def __call__(self, query: str, k: int = 10) -> List[str]:\n",
    "        results = []\n",
    "        query = query.lower()\n",
    "        \n",
    "        for idea in self.processed_ideas:\n",
    "            if (query in idea[\"title\"].lower() or \n",
    "                query in idea[\"content\"].lower()):\n",
    "                results.append(idea[\"full_text\"])\n",
    "                if len(results) >= k:\n",
    "                    break\n",
    "        return results\n",
    "\n",
    "# Step 2: Initialize search\n",
    "colbertv2_csv = ColBERTv2(csv_path=\"151_ideas_updated2.csv\")\n",
    "\n",
    "def search(query: str, k: int = 3) -> List[str]:\n",
    "    results = colbertv2_csv(query, k=k)\n",
    "    return [f\"Relevant idea: {result}\" for result in results]\n",
    "\n",
    "# Step 3: RAG module with fixed signature\n",
    "class RAG(dspy.Module):\n",
    "    def __init__(self, num_docs=3):\n",
    "        super().__init__()\n",
    "        self.num_docs = num_docs\n",
    "        # Simplified signature without additional instructions\n",
    "        self.retrieve_and_respond = dspy.ChainOfThought(\"context, question -> response\")\n",
    "\n",
    "    def forward(self, question):\n",
    "        context = search(question, k=self.num_docs)\n",
    "        prediction = self.retrieve_and_respond(\n",
    "            context=\"\\n\".join(context),\n",
    "            question=question\n",
    "        )\n",
    "        return prediction.response\n",
    "\n",
    "# Step 4: Training examples\n",
    "def generate_training_examples() -> List[Dict]:\n",
    "    return [\n",
    "        {\n",
    "            \"question\": \"How can we maximize beauty?\",\n",
    "            \"response\": \"Based on the philosophical ideas presented, maximizing beauty involves fully channeling the beauty within and actively seeking beauty in every situation. This includes disciplining our senses to focus on beauty in our surroundings, such as appreciating flowers and birds. It's considered a fundamental virtue that requires conscious implementation and can be enhanced by questioning what makes each moment beautiful.\"\n",
    "        },\n",
    "        {\n",
    "            \"question\": \"What is full expression?\",\n",
    "            \"response\": \"Full expression is about understanding oneself when comfortable and learning to channel authentic self-expression. It recognizes that people face barriers like shyness and distraction that can prevent them from fully expressing themselves. The concept emphasizes the effort required to overcome these obstacles and achieve genuine self-expression.\"\n",
    "        },\n",
    "        {\n",
    "            \"question\": \"What does expect rising mean?\",\n",
    "            \"response\": \"Expect Rising refers to the concept of constantly increasing expectations, similar to the saying 'give them an inch, they'll take a mile.' It relates to the law of diminishing returns, where adding more of something eventually yields lower incremental benefits. This principle applies to various aspects of life, from material goods to experiences.\"\n",
    "        }\n",
    "    ]\n",
    "\n",
    "# Step 5: Optimization\n",
    "def optimize_rag():\n",
    "    trainset = generate_training_examples()\n",
    "    \n",
    "    tp = dspy.MIPROv2(\n",
    "        metric=dspy.evaluate.SemanticF1(decompositional=True),\n",
    "        auto=\"medium\",\n",
    "        num_threads=4\n",
    "    )\n",
    "    \n",
    "    optimized_rag = tp.compile(\n",
    "        RAG(),\n",
    "        trainset=trainset,\n",
    "        max_bootstrapped_demos=3,\n",
    "        max_labeled_demos=3\n",
    "    )\n",
    "    \n",
    "    return optimized_rag\n",
    "\n",
    "# Step 6: Main function\n",
    "def main():\n",
    "    try:\n",
    "        print(\"Optimizing RAG system...\")\n",
    "        optimized_rag = optimize_rag()\n",
    "        \n",
    "        test_questions = [\n",
    "            \"How do you maximize the beauty?\",\n",
    "            \"What is the power of pettiness?\",\n",
    "            \"How can we achieve full expression?\"\n",
    "        ]\n",
    "        \n",
    "        for question in test_questions:\n",
    "            print(f\"\\nQuestion: {question}\")\n",
    "            response = optimized_rag(question)\n",
    "            print(f\"Response: {response}\\n\")\n",
    "            print(\"-\" * 50)\n",
    "        \n",
    "    except Exception as e:\n",
    "        print(f\"An error occurred: {str(e)}\")\n",
    "        raise\n",
    "\n",
    "if __name__ == \"__main__\":\n",
    "    main()"
   ]
  },
  {
   "cell_type": "code",
   "execution_count": 25,
   "metadata": {},
   "outputs": [
    {
     "ename": "SyntaxError",
     "evalue": "unterminated string literal (detected at line 2) (<unknown>, line 2)",
     "output_type": "error",
     "traceback": [
      "Traceback \u001b[0;36m(most recent call last)\u001b[0m:\n",
      "\u001b[0m  File \u001b[1;32m/opt/homebrew/Caskroom/miniforge/base/envs/nunu24/lib/python3.12/site-packages/IPython/core/interactiveshell.py:3577\u001b[0m in \u001b[1;35mrun_code\u001b[0m\n    exec(code_obj, self.user_global_ns, self.user_ns)\u001b[0m\n",
      "\u001b[0m  Cell \u001b[1;32mIn[25], line 31\u001b[0m\n    rag = dspy.ChainOfThought(\u001b[0m\n",
      "\u001b[0m  File \u001b[1;32m/opt/homebrew/Caskroom/miniforge/base/envs/nunu24/lib/python3.12/site-packages/dspy/predict/chain_of_thought.py:17\u001b[0m in \u001b[1;35m__init__\u001b[0m\n    self.signature = signature = ensure_signature(signature)\u001b[0m\n",
      "\u001b[0m  File \u001b[1;32m/opt/homebrew/Caskroom/miniforge/base/envs/nunu24/lib/python3.12/site-packages/dspy/signatures/signature.py:315\u001b[0m in \u001b[1;35mensure_signature\u001b[0m\n    return Signature(signature, instructions)\u001b[0m\n",
      "\u001b[0m  File \u001b[1;32m/opt/homebrew/Caskroom/miniforge/base/envs/nunu24/lib/python3.12/site-packages/dspy/signatures/signature.py:39\u001b[0m in \u001b[1;35m__call__\u001b[0m\n    return make_signature(*args, **kwargs)\u001b[0m\n",
      "\u001b[0m  File \u001b[1;32m/opt/homebrew/Caskroom/miniforge/base/envs/nunu24/lib/python3.12/site-packages/dspy/signatures/signature.py:338\u001b[0m in \u001b[1;35mmake_signature\u001b[0m\n    fields = _parse_signature(signature) if isinstance(signature, str) else signature\u001b[0m\n",
      "\u001b[0m  File \u001b[1;32m/opt/homebrew/Caskroom/miniforge/base/envs/nunu24/lib/python3.12/site-packages/dspy/signatures/signature.py:389\u001b[0m in \u001b[1;35m_parse_signature\u001b[0m\n    for name, type_ in _parse_arg_string(outputs_str):\u001b[0m\n",
      "\u001b[0m  File \u001b[1;32m/opt/homebrew/Caskroom/miniforge/base/envs/nunu24/lib/python3.12/site-packages/dspy/signatures/signature.py:396\u001b[0m in \u001b[1;35m_parse_arg_string\u001b[0m\n    args = ast.parse(\"def f(\" + string + \"): pass\").body[0].args.args\u001b[0m\n",
      "\u001b[0;36m  File \u001b[0;32m/opt/homebrew/Caskroom/miniforge/base/envs/nunu24/lib/python3.12/ast.py:52\u001b[0;36m in \u001b[0;35mparse\u001b[0;36m\n\u001b[0;31m    return compile(source, filename, mode, flags,\u001b[0;36m\n",
      "\u001b[0;36m  File \u001b[0;32m<unknown>:2\u001b[0;36m\u001b[0m\n\u001b[0;31m    context: A list of ideas directly retrieved from the CSV based on the user's query.\u001b[0m\n\u001b[0m                                                                              ^\u001b[0m\n\u001b[0;31mSyntaxError\u001b[0m\u001b[0;31m:\u001b[0m unterminated string literal (detected at line 2)\n"
     ]
    }
   ],
   "source": [
    "# failed advanced rag\n",
    "import pandas as pd\n",
    "import dspy\n",
    "from typing import List\n",
    "\n",
    "# Custom ColBERTv2 class for CSV-based search\n",
    "class ColBERTv2:\n",
    "    def __init__(self, csv_path: str):\n",
    "        self.data = pd.read_csv(csv_path)\n",
    "        if \"Ideas\" not in self.data.columns:\n",
    "            raise ValueError(\"CSV must contain a column named 'Ideas'.\")\n",
    "\n",
    "    def __call__(self, query: str, k: int = 10, simplify: bool = False) -> List[dict]:\n",
    "        # Simple substring match search\n",
    "        results = []\n",
    "        for idea in self.data[\"Ideas\"]:\n",
    "            if query.lower() in idea.lower():\n",
    "                results.append({\"text\": idea})\n",
    "                if len(results) >= k:\n",
    "                    break\n",
    "        return results if not simplify else [x[\"text\"] for x in results]\n",
    "\n",
    "# Initialize the ColBERTv2 instance with your CSV file\n",
    "colbertv2_csv = ColBERTv2(csv_path=\"151_ideas_updated2.csv\")\n",
    "\n",
    "# Adapted search function\n",
    "def search_csv(query: str) -> List[str]:\n",
    "    results = colbertv2_csv(query, k=3, simplify=True)\n",
    "    return results\n",
    "\n",
    "# DSPy ChainOfThought setup with explicit CSV dependency\n",
    "rag = dspy.ChainOfThought(\n",
    "    signature=(\n",
    "        \"context, question -> response\\n\"\n",
    "        \"context: A list of ideas directly retrieved from the CSV based on the user's query.\\n\"\n",
    "        \"Only use these ideas to answer the question. If no matches are found, respond with\\n\"\n",
    "        \"'No relevant information available in the CSV.'\\n\"\n",
    "        \"question: The user's query.\\n\"\n",
    "        \"response: A response strictly based on the ideas provided in the context.\"\n",
    "    )\n",
    ")\n",
    "\n",
    "# Example question\n",
    "question = \"How do you maximize the beauty?\"\n",
    "\n",
    "# Pass context from the CSV search to the ChainOfThought model\n",
    "response = rag(context=search_csv(question), question=question)\n",
    "\n",
    "# Output response\n",
    "print(response)"
   ]
  },
  {
   "cell_type": "code",
   "execution_count": null,
   "metadata": {},
   "outputs": [],
   "source": [
    "math = dspy.ChainOfThought(\"question -> answer: float\")\n",
    "math(question=\"Two dice are tossed. What is the probability that the sum equals two?\")"
   ]
  }
 ],
 "metadata": {
  "kernelspec": {
   "display_name": "nunu24",
   "language": "python",
   "name": "python3"
  },
  "language_info": {
   "codemirror_mode": {
    "name": "ipython",
    "version": 3
   },
   "file_extension": ".py",
   "mimetype": "text/x-python",
   "name": "python",
   "nbconvert_exporter": "python",
   "pygments_lexer": "ipython3",
   "version": "3.12.7"
  }
 },
 "nbformat": 4,
 "nbformat_minor": 2
}
