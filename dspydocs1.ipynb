{
 "cells": [
  {
   "cell_type": "code",
   "execution_count": 5,
   "metadata": {},
   "outputs": [
    {
     "ename": "IndexError",
     "evalue": "list index out of range",
     "output_type": "error",
     "traceback": [
      "\u001b[0;31m---------------------------------------------------------------------------\u001b[0m",
      "\u001b[0;31mIndexError\u001b[0m                                Traceback (most recent call last)",
      "Cell \u001b[0;32mIn[5], line 5\u001b[0m\n\u001b[1;32m      2\u001b[0m lm \u001b[38;5;241m=\u001b[39m dspy\u001b[38;5;241m.\u001b[39mLM(\u001b[38;5;124m'\u001b[39m\u001b[38;5;124mollama_chat/llama3.2\u001b[39m\u001b[38;5;124m'\u001b[39m, api_base\u001b[38;5;241m=\u001b[39m\u001b[38;5;124m'\u001b[39m\u001b[38;5;124mhttp://localhost:11434\u001b[39m\u001b[38;5;124m'\u001b[39m)\n\u001b[1;32m      3\u001b[0m dspy\u001b[38;5;241m.\u001b[39mconfigure(lm\u001b[38;5;241m=\u001b[39mlm)\n\u001b[0;32m----> 5\u001b[0m \u001b[43mlm\u001b[49m\u001b[38;5;241;43m.\u001b[39;49m\u001b[43mhistory\u001b[49m\u001b[43m[\u001b[49m\u001b[38;5;241;43m-\u001b[39;49m\u001b[38;5;241;43m1\u001b[39;49m\u001b[43m]\u001b[49m\u001b[38;5;241m.\u001b[39mkeys()  \u001b[38;5;66;03m# access the last call to the LM, with all metadata\u001b[39;00m\n",
      "\u001b[0;31mIndexError\u001b[0m: list index out of range"
     ]
    }
   ],
   "source": [
    "import dspy\n",
    "lm = dspy.LM('ollama_chat/llama3.2', api_base='http://localhost:11434')\n",
    "dspy.configure(lm=lm)\n",
    "\n",
    "# lm.history[-1].keys()  # access the last call to the LM, with all metadata\n",
    "\n"
   ]
  },
  {
   "cell_type": "code",
   "execution_count": 4,
   "metadata": {},
   "outputs": [
    {
     "data": {
      "text/plain": [
       "1"
      ]
     },
     "execution_count": 4,
     "metadata": {},
     "output_type": "execute_result"
    }
   ],
   "source": [
    "len(lm.history) "
   ]
  },
  {
   "cell_type": "code",
   "execution_count": null,
   "metadata": {},
   "outputs": [
    {
     "data": {
      "text/plain": [
       "False"
      ]
     },
     "execution_count": 9,
     "metadata": {},
     "output_type": "execute_result"
    }
   ],
   "source": [
    "sentence = \"the power of pettiness\"  # example from the SST-2 dataset.\n",
    "\n",
    "classify = dspy.Predict('sentence -> sentiment: bool')  # we'll see an example with Literal[] later\n",
    "classify(sentence=sentence).sentiment\n",
    "\n",
    "print(f\"Reasoning: {response.reasoning}\")\n",
    "print(f\"Answer: {response.answer}\")\n",
    "\n",
    "# question = \"How do the rhizome and lines of flight relate to Deleuze?\"\n",
    "# rag(context=search_wikipedia(question), question=question)"
   ]
  },
  {
   "cell_type": "code",
   "execution_count": null,
   "metadata": {},
   "outputs": [],
   "source": []
  },
  {
   "cell_type": "code",
   "execution_count": 1,
   "metadata": {},
   "outputs": [],
   "source": [
    "import pandas as pd\n",
    "from typing import List, Union\n",
    "\n",
    "class ColBERTv2:\n",
    "    def __init__(self, csv_path: str):\n",
    "        # Load the CSV into a DataFrame\n",
    "        self.data = pd.read_csv(csv_path)\n",
    "        # Ensure there is a column named \"Ideas\" to search\n",
    "        if \"Ideas\" not in self.data.columns:\n",
    "            raise ValueError(\"CSV must contain a column named 'Ideas'.\")\n",
    "\n",
    "    def __call__(self, query: str, k: int = 10, simplify: bool = False) -> Union[List[str], List[dict]]:\n",
    "        # Perform a simple search through the \"Ideas\" column\n",
    "        results = []\n",
    "        for idea in self.data[\"Ideas\"]:\n",
    "            if query.lower() in idea.lower():  # Basic substring matching\n",
    "                results.append(idea)\n",
    "                if len(results) >= k:\n",
    "                    break\n",
    "\n",
    "        if simplify:\n",
    "            return results  # List of strings\n",
    "        else:\n",
    "            return [{\"text\": idea} for idea in results]  # List of dictionaries\n",
    "\n",
    "# Usage Example\n",
    "csv_path = \"151_ideas_updated2.csv\"  # Path to your CSV file\n",
    "\n",
    "# Initialize the ColBERTv2 class with the CSV file\n",
    "colbert = ColBERTv2(csv_path)\n",
    "\n",
    "# Example query\n",
    "query = \"what is expression?\"\n",
    "results = colbert(query, k=3, simplify=True)\n",
    "\n",
    "# Display results\n",
    "for result in results:\n",
    "    print(\"Result:\", result)\n"
   ]
  },
  {
   "cell_type": "code",
   "execution_count": null,
   "metadata": {},
   "outputs": [],
   "source": []
  },
  {
   "cell_type": "code",
   "execution_count": 12,
   "metadata": {},
   "outputs": [
    {
     "ename": "NameError",
     "evalue": "name 'response' is not defined",
     "output_type": "error",
     "traceback": [
      "\u001b[0;31m---------------------------------------------------------------------------\u001b[0m",
      "\u001b[0;31mNameError\u001b[0m                                 Traceback (most recent call last)",
      "Cell \u001b[0;32mIn[12], line 7\u001b[0m\n\u001b[1;32m      4\u001b[0m classify(sentence\u001b[38;5;241m=\u001b[39msentence)\u001b[38;5;241m.\u001b[39msentiment\n\u001b[1;32m      6\u001b[0m \u001b[38;5;66;03m# 3) Access the output.\u001b[39;00m\n\u001b[0;32m----> 7\u001b[0m \u001b[38;5;28mprint\u001b[39m(\u001b[43mresponse\u001b[49m\u001b[38;5;241m.\u001b[39msentiment)\n\u001b[1;32m      9\u001b[0m \u001b[38;5;66;03m# question = \"How do you maximize the beauty?\"\u001b[39;00m\n\u001b[1;32m     10\u001b[0m \u001b[38;5;66;03m# rag(context=search_wikipedia(question), question=question)\u001b[39;00m\n",
      "\u001b[0;31mNameError\u001b[0m: name 'response' is not defined"
     ]
    }
   ],
   "source": [
    "sentence = \"maximize the beauty.\"  # example from the SST-2 dataset.\n",
    "\n",
    "classify = dspy.Predict('sentence -> sentiment: bool')  # we'll see an example with Literal[] later\n",
    "classify(sentence=sentence).sentiment\n",
    "\n",
    "# 3) Access the output.\n",
    "print(response.sentiment)\n",
    "\n",
    "# question = \"How do you maximize the beauty?\"\n",
    "# rag(context=search_wikipedia(question), question=question)"
   ]
  },
  {
   "cell_type": "code",
   "execution_count": 13,
   "metadata": {},
   "outputs": [
    {
     "name": "stdout",
     "output_type": "stream",
     "text": [
      "Prediction(\n",
      "    reasoning='Pettiness can be defined as behavior that is petty, mean-spirited, or vindictive. It often involves taking small, insignificant actions to cause annoyance or harm to others.',\n",
      "    response=\"The power of pettiness lies in its ability to create a toxic environment and undermine relationships. When individuals engage in petty behavior, it can escalate quickly, causing more harm than intended. Pettiness can also be a coping mechanism for people dealing with their own emotions, such as anger or frustration. However, it's essential to recognize that pettiness is not an effective way to resolve conflicts or address issues.\"\n",
      ")\n"
     ]
    }
   ],
   "source": [
    "import pandas as pd\n",
    "import dspy\n",
    "from typing import List\n",
    "\n",
    "# Custom ColBERTv2 class for CSV-based search\n",
    "class ColBERTv2:\n",
    "    def __init__(self, csv_path: str):\n",
    "        self.data = pd.read_csv(csv_path)\n",
    "        if \"Ideas\" not in self.data.columns:\n",
    "            raise ValueError(\"CSV must contain a column named 'Ideas'.\")\n",
    "\n",
    "    def __call__(self, query: str, k: int = 10, simplify: bool = False) -> List[dict]:\n",
    "        # Simple substring match search\n",
    "        results = []\n",
    "        for idea in self.data[\"Ideas\"]:\n",
    "            if query.lower() in idea.lower():\n",
    "                results.append({\"text\": idea})\n",
    "                if len(results) >= k:\n",
    "                    break\n",
    "        return results if not simplify else [x[\"text\"] for x in results]\n",
    "\n",
    "# Initialize the ColBERTv2 instance with your CSV file\n",
    "colbertv2_csv = ColBERTv2(csv_path=\"151_ideas_updated2.csv\")\n",
    "\n",
    "\n",
    "# Adapted search function\n",
    "def search_csv(query: str) -> List[str]:\n",
    "    results = colbertv2_csv(query, k=3, simplify=True)\n",
    "    return results\n",
    "\n",
    "# DSPy ChainOfThought setup\n",
    "rag = dspy.ChainOfThought(\"context, question -> response\")\n",
    "\n",
    "# Example question\n",
    "question = \"what is the power of pettiness?\"\n",
    "\n",
    "# Pass context from the CSV search to the ChainOfThought model\n",
    "response = rag(context=search_csv(question), question=question)\n",
    "\n",
    "# Output response\n",
    "print(response)\n"
   ]
  },
  {
   "cell_type": "code",
   "execution_count": null,
   "metadata": {},
   "outputs": [
    {
     "name": "stdout",
     "output_type": "stream",
     "text": [
      " * Serving Flask app '__main__'\n",
      " * Debug mode: off\n"
     ]
    },
    {
     "name": "stderr",
     "output_type": "stream",
     "text": [
      "WARNING: This is a development server. Do not use it in a production deployment. Use a production WSGI server instead.\n",
      " * Running on all addresses (0.0.0.0)\n",
      " * Running on http://127.0.0.1:5000\n",
      " * Running on http://192.168.1.202:5000\n",
      "INFO:werkzeug:\u001b[31m\u001b[1mWARNING: This is a development server. Do not use it in a production deployment. Use a production WSGI server instead.\u001b[0m\n",
      " * Running on all addresses (0.0.0.0)\n",
      " * Running on http://127.0.0.1:5000\n",
      " * Running on http://192.168.1.202:5000\n",
      "Press CTRL+C to quit\n",
      "INFO:werkzeug:\u001b[33mPress CTRL+C to quit\u001b[0m\n",
      "127.0.0.1 - - [31/Jan/2025 20:07:05] \"OPTIONS /chat HTTP/1.1\" 200 -\n",
      "INFO:werkzeug:127.0.0.1 - - [31/Jan/2025 20:07:05] \"OPTIONS /chat HTTP/1.1\" 200 -\n",
      "\u001b[92m20:07:05 - LiteLLM:INFO\u001b[0m: utils.py:2749 - \n",
      "LiteLLM completion() model= llama3.2; provider = ollama_chat\n",
      "INFO:LiteLLM:\n",
      "LiteLLM completion() model= llama3.2; provider = ollama_chat\n",
      "\u001b[92m20:07:27 - LiteLLM:INFO\u001b[0m: utils.py:944 - Wrapper: Completed Call, calling success_handler\n",
      "INFO:LiteLLM:Wrapper: Completed Call, calling success_handler\n",
      "127.0.0.1 - - [31/Jan/2025 20:07:27] \"POST /chat HTTP/1.1\" 200 -\n",
      "INFO:werkzeug:127.0.0.1 - - [31/Jan/2025 20:07:27] \"POST /chat HTTP/1.1\" 200 -\n",
      "INFO:httpx:HTTP Request: POST http://localhost:11434/api/show \"HTTP/1.1 404 Not Found\"\n",
      "127.0.0.1 - - [31/Jan/2025 20:07:39] \"OPTIONS /chat HTTP/1.1\" 200 -\n",
      "INFO:werkzeug:127.0.0.1 - - [31/Jan/2025 20:07:39] \"OPTIONS /chat HTTP/1.1\" 200 -\n",
      "\u001b[92m20:07:39 - LiteLLM:INFO\u001b[0m: utils.py:2749 - \n",
      "LiteLLM completion() model= llama3.2; provider = ollama_chat\n",
      "INFO:LiteLLM:\n",
      "LiteLLM completion() model= llama3.2; provider = ollama_chat\n",
      "\u001b[92m20:08:03 - LiteLLM:INFO\u001b[0m: utils.py:944 - Wrapper: Completed Call, calling success_handler\n",
      "INFO:LiteLLM:Wrapper: Completed Call, calling success_handler\n"
     ]
    }
   ],
   "source": [
    "from flask import Flask, request, jsonify\n",
    "from flask_cors import CORS\n",
    "import pandas as pd\n",
    "import dspy\n",
    "import logging\n",
    "from typing import List, Union\n",
    "\n",
    "lm = dspy.LM('ollama_chat/llama3.2', api_base='http://localhost:11434')\n",
    "dspy.configure(lm=lm)\n",
    "app = Flask(__name__)\n",
    "CORS(app)\n",
    "logging.basicConfig(level=logging.INFO)\n",
    "\n",
    "class ColBERTv2:\n",
    "    def __init__(self, csv_path: str):\n",
    "        try:\n",
    "            self.data = pd.read_csv(csv_path)\n",
    "            if \"Ideas\" not in self.data.columns:\n",
    "                raise ValueError(\"CSV must contain a column named 'Ideas'.\")\n",
    "        except FileNotFoundError:\n",
    "            logging.error(f\"CSV file not found at path: {csv_path}\")\n",
    "            raise\n",
    "\n",
    "    def __call__(self, query: str, k: int = 3, simplify: bool = True) -> Union[List[str], List[dict]]:\n",
    "        try:\n",
    "            if not isinstance(query, str):\n",
    "                raise TypeError(\"Query must be a string\")\n",
    "                \n",
    "            results = []\n",
    "            for idea in self.data[\"Ideas\"]:\n",
    "                if query.lower() in str(idea).lower():\n",
    "                    results.append({\"text\": str(idea)})\n",
    "                    if len(results) >= k:\n",
    "                        break\n",
    "            return [x[\"text\"] for x in results] if simplify else results\n",
    "        except Exception as e:\n",
    "            logging.error(f\"Search error: {str(e)}\")\n",
    "            return []\n",
    "\n",
    "colbertv2_csv = ColBERTv2(csv_path=\"151_ideas_updated2.csv\")\n",
    "rag = dspy.ChainOfThought(\"context, question -> response\")\n",
    "\n",
    "@app.route('/chat', methods=['POST'])\n",
    "def chat():\n",
    "    try:\n",
    "        data = request.get_json()\n",
    "        if not data or 'question' not in data:\n",
    "            return jsonify({\"response\": \"Invalid request format\", \"context\": []}), 400\n",
    "            \n",
    "        question = str(data['question']).strip()\n",
    "        if not question:\n",
    "            return jsonify({\"response\": \"Empty question provided\", \"context\": []}), 400\n",
    "\n",
    "        context = colbertv2_csv(question, k=3, simplify=True)\n",
    "        response = rag(context=context, question=question)\n",
    "        \n",
    "        return jsonify({\n",
    "            \"response\": str(response.response) if response else \"No response generated\",\n",
    "            \"context\": context if isinstance(context, list) else []\n",
    "        })\n",
    "        \n",
    "    except Exception as e:\n",
    "        logging.error(f\"API error: {str(e)}\")\n",
    "        return jsonify({\n",
    "            \"response\": \"Error processing request\",\n",
    "            \"context\": []\n",
    "        }), 500\n",
    "\n",
    "if __name__ == '__main__':\n",
    "    app.run(host='0.0.0.0', port=5000, debug=False)"
   ]
  },
  {
   "cell_type": "code",
   "execution_count": 19,
   "metadata": {},
   "outputs": [
    {
     "name": "stdout",
     "output_type": "stream",
     "text": [
      "Example object with Input fields only: Example({'article': 'This is an article.'}) (input_keys={'article'})\n",
      "Example object with Non-Input fields only: Example({'summary': 'This is a summary.'}) (input_keys=None)\n",
      "Context: ['No exact matches found in the CSV, but here are some ideas to consider.']\n",
      "Response: Prediction(\n",
      "    reasoning='The concept of maximizing beauty is subjective and can vary greatly depending on personal taste, cultural background, and individual experiences. Beauty can be found in nature, art, architecture, or even everyday moments.',\n",
      "    response=\"While there's no one-size-fits-all approach to maximizing beauty, here are a few ideas to consider: appreciating the small things in life, finding joy in creative pursuits, cultivating meaningful relationships, and embracing diversity in all its forms. Ultimately, beauty is a personal and ever-evolving experience that can be discovered and nurtured with an open heart and mind.\"\n",
      ")\n"
     ]
    }
   ],
   "source": [
    "import pandas as pd\n",
    "import dspy\n",
    "from typing import List\n",
    "\n",
    "# Enhanced ColBERTv2 class for CSV-based search\n",
    "class ColBERTv2:\n",
    "    def __init__(self, csv_path: str):\n",
    "        self.data = pd.read_csv(csv_path)\n",
    "        if \"Ideas\" not in self.data.columns:\n",
    "            raise ValueError(\"CSV must contain a column named 'Ideas'.\")\n",
    "\n",
    "    def __call__(self, query: str, k: int = 10, simplify: bool = False) -> List[dict]:\n",
    "        # Perform substring match search\n",
    "        results = []\n",
    "        for idea in self.data[\"Ideas\"]:\n",
    "            if query.lower() in idea.lower():  # Basic match\n",
    "                results.append({\"text\": idea})\n",
    "                if len(results) >= k:\n",
    "                    break\n",
    "        return results if not simplify else [x[\"text\"] for x in results]\n",
    "\n",
    "# Initialize the ColBERTv2 instance with your CSV file\n",
    "colbertv2_csv = ColBERTv2(csv_path=\"151_ideas_updated2.csv\")\n",
    "\n",
    "# Adapted search function\n",
    "def search_csv(query: str) -> List[str]:\n",
    "    results = colbertv2_csv(query, k=3, simplify=True)\n",
    "    if not results:  # If no matches found, include a default context\n",
    "        results = [\"No exact matches found in the CSV, but here are some ideas to consider.\"]\n",
    "    return results\n",
    "\n",
    "# Correct DSPy ChainOfThought setup\n",
    "rag = dspy.ChainOfThought(\"context, question -> response\")\n",
    "\n",
    "# Example question\n",
    "question = \"How do you maximize the beauty?\"\n",
    "\n",
    "# Pass context from the CSV search to the ChainOfThought model\n",
    "context = search_csv(question)\n",
    "response = rag(context=context, question=question)\n",
    "trainset = [dspy.Example(report=\"LONG REPORT 1\", summary=\"short summary 1\"), ...]\n",
    "article_summary = dspy.Example(article= \"This is an article.\", summary= \"This is a summary.\").with_inputs(\"article\")\n",
    "\n",
    "input_key_only = article_summary.inputs()\n",
    "non_input_key_only = article_summary.labels()\n",
    "\n",
    "print(\"Example object with Input fields only:\", input_key_only)\n",
    "print(\"Example object with Non-Input fields only:\", non_input_key_only)\n",
    "# Output response\n",
    "print(\"Context:\", context)\n",
    "print(\"Response:\", response)\n"
   ]
  },
  {
   "cell_type": "code",
   "execution_count": null,
   "metadata": {},
   "outputs": [
    {
     "ename": "NameError",
     "evalue": "name 'example' is not defined",
     "output_type": "error",
     "traceback": [
      "\u001b[0;31m---------------------------------------------------------------------------\u001b[0m",
      "\u001b[0;31mNameError\u001b[0m                                 Traceback (most recent call last)",
      "Cell \u001b[0;32mIn[20], line 16\u001b[0m\n\u001b[1;32m     14\u001b[0m         \u001b[38;5;28;01mreturn\u001b[39;00m answer_match \u001b[38;5;129;01mand\u001b[39;00m context_match\n\u001b[1;32m     15\u001b[0m scores \u001b[38;5;241m=\u001b[39m []\n\u001b[0;32m---> 16\u001b[0m \u001b[38;5;28;01mfor\u001b[39;00m x \u001b[38;5;129;01min\u001b[39;00m \u001b[43mexample\u001b[49m:\n\u001b[1;32m     17\u001b[0m     pred \u001b[38;5;241m=\u001b[39m example(\u001b[38;5;241m*\u001b[39m\u001b[38;5;241m*\u001b[39mx\u001b[38;5;241m.\u001b[39minputs())\n\u001b[1;32m     18\u001b[0m     score \u001b[38;5;241m=\u001b[39m metric(x, pred)\n",
      "\u001b[0;31mNameError\u001b[0m: name 'example' is not defined"
     ]
    }
   ],
   "source": [
    "def validate_answer(example, pred, trace=None):\n",
    "    return example.answer.lower() == pred.answer.lower()\n",
    "\n",
    "def validate_context_and_answer(example, pred, trace=None):\n",
    "    # check the gold label and the predicted answer are the same\n",
    "    answer_match = example.answer.lower() == pred.answer.lower()\n",
    "\n",
    "    # check the predicted answer comes from one of the retrieved contexts\n",
    "    context_match = any((pred.answer.lower() in c) for c in pred.context)\n",
    "\n",
    "    if trace is None: # if we're doing evaluation or optimization\n",
    "        return (answer_match + context_match) / 2.0\n",
    "    else: # if we're doing bootstrapping, i.e. self-generating good demonstrations of each step\n",
    "        return answer_match and context_match\n",
    "        "
   ]
  },
  {
   "cell_type": "code",
   "execution_count": null,
   "metadata": {},
   "outputs": [
    {
     "ename": "NameError",
     "evalue": "name 'generate_answer' is not defined",
     "output_type": "error",
     "traceback": [
      "\u001b[0;31m---------------------------------------------------------------------------\u001b[0m",
      "\u001b[0;31mNameError\u001b[0m                                 Traceback (most recent call last)",
      "Cell \u001b[0;32mIn[21], line 96\u001b[0m\n\u001b[1;32m     94\u001b[0m         \u001b[38;5;28mprint\u001b[39m(\u001b[38;5;124mf\u001b[39m\u001b[38;5;124m\"\u001b[39m\u001b[38;5;124mAn error occurred: \u001b[39m\u001b[38;5;132;01m{\u001b[39;00m\u001b[38;5;28mstr\u001b[39m(e)\u001b[38;5;132;01m}\u001b[39;00m\u001b[38;5;124m\"\u001b[39m)\n\u001b[1;32m     95\u001b[0m hint \u001b[38;5;241m=\u001b[39m \u001b[38;5;124m\"\u001b[39m\u001b[38;5;124mIt\u001b[39m\u001b[38;5;124m'\u001b[39m\u001b[38;5;124ms what you often see during a sunny day.\u001b[39m\u001b[38;5;124m\"\u001b[39m\n\u001b[0;32m---> 96\u001b[0m pred \u001b[38;5;241m=\u001b[39m \u001b[43mgenerate_answer\u001b[49m(question\u001b[38;5;241m=\u001b[39mquestion, hint\u001b[38;5;241m=\u001b[39mhint)\n\u001b[1;32m     97\u001b[0m \u001b[38;5;28;01mif\u001b[39;00m \u001b[38;5;18m__name__\u001b[39m \u001b[38;5;241m==\u001b[39m \u001b[38;5;124m\"\u001b[39m\u001b[38;5;124m__main__\u001b[39m\u001b[38;5;124m\"\u001b[39m:\n\u001b[1;32m     98\u001b[0m     main()\n",
      "\u001b[0;31mNameError\u001b[0m: name 'generate_answer' is not defined"
     ]
    }
   ],
   "source": [
    "import pandas as pd\n",
    "import dspy\n",
    "from typing import List, Dict\n",
    "\n",
    "# Step 1: Create the basic CSV search class\n",
    "class ColBERTv2:\n",
    "    def __init__(self, csv_path: str):\n",
    "        self.data = pd.read_csv(csv_path)\n",
    "        if \"Ideas\" not in self.data.columns:\n",
    "            raise ValueError(\"CSV must contain a column named 'Ideas'.\")\n",
    "\n",
    "    def __call__(self, query: str, k: int = 10) -> List[str]:\n",
    "        results = []\n",
    "        for idea in self.data[\"Ideas\"].values:\n",
    "            if query.lower() in str(idea).lower():\n",
    "                results.append(idea)\n",
    "                if len(results) >= k:\n",
    "                    break\n",
    "        return results\n",
    "\n",
    "# Step 2: Initialize search and define search function\n",
    "colbertv2_csv = ColBERTv2(csv_path=\"151_ideas_updated2.csv\")\n",
    "\n",
    "def search(query: str, k: int = 3) -> List[str]:\n",
    "    return colbertv2_csv(query, k=k)\n",
    "\n",
    "# Step 3: Define RAG module with correct signature format\n",
    "class RAG(dspy.Module):\n",
    "    def __init__(self, num_docs=3):\n",
    "        super().__init__()\n",
    "        self.num_docs = num_docs\n",
    "        \n",
    "        # Correct signature format: inputs -> outputs\n",
    "        self.retrieve_and_respond = dspy.ChainOfThought(\n",
    "            \"context, question -> response\"\n",
    "        )\n",
    "\n",
    "    def forward(self, question):\n",
    "        # Retrieve context\n",
    "        context = search(question, k=self.num_docs)\n",
    "        \n",
    "        # Generate response\n",
    "        prediction = self.retrieve_and_respond(\n",
    "            context=context,\n",
    "            question=question\n",
    "        )\n",
    "        \n",
    "        return prediction.response\n",
    "\n",
    "# Step 4: Create simple training examples\n",
    "def generate_training_examples() -> List[Dict]:\n",
    "    # Start with just a few simple examples\n",
    "    return [\n",
    "        {\"question\": \"How can we maximize beauty?\"},\n",
    "        {\"question\": \"What are some creative ideas?\"}\n",
    "    ]\n",
    "\n",
    "# Step 5: Set up optimization function\n",
    "def optimize_rag():\n",
    "    # Create training set\n",
    "    trainset = generate_training_examples()\n",
    "    \n",
    "    # Initialize the optimizer with basic settings\n",
    "    tp = dspy.MIPROv2(\n",
    "        metric=dspy.evaluate.SemanticF1(decompositional=True),\n",
    "        auto=\"medium\",\n",
    "        num_threads=4  # Reduced from 24 for testing\n",
    "    )\n",
    "    \n",
    "    # Compile and optimize\n",
    "    optimized_rag = tp.compile(\n",
    "        RAG(),\n",
    "        trainset=trainset,\n",
    "        max_bootstrapped_demos=2,\n",
    "        max_labeled_demos=2\n",
    "    )\n",
    "    \n",
    "    return optimized_rag\n",
    "\n",
    "# Step 6: Main function with error handling\n",
    "def main():\n",
    "    try:\n",
    "        print(\"Optimizing RAG system...\")\n",
    "        optimized_rag = optimize_rag()\n",
    "        \n",
    "        question = \"How do you maximize the beauty?\"\n",
    "        print(f\"\\nQuestion: {question}\")\n",
    "        \n",
    "        response = optimized_rag(question)\n",
    "        print(f\"\\nResponse: {response}\")\n",
    "        \n",
    "    except Exception as e:\n",
    "        \n",
    "        print(f\"An error occurred: {str(e)}\")\n",
    "\n",
    "if __name__ == \"__main__\":\n",
    "    main()"
   ]
  },
  {
   "cell_type": "code",
   "execution_count": 30,
   "metadata": {},
   "outputs": [
    {
     "name": "stderr",
     "output_type": "stream",
     "text": [
      "2025/01/14 17:47:32 INFO dspy.teleprompt.mipro_optimizer_v2: \n",
      "RUNNING WITH THE FOLLOWING MEDIUM AUTO RUN SETTINGS:\n",
      "num_trials: 25\n",
      "minibatch: False\n",
      "num_candidates: 19\n",
      "valset size: 2\n",
      "\n"
     ]
    },
    {
     "name": "stdout",
     "output_type": "stream",
     "text": [
      "Optimizing RAG system...\n"
     ]
    },
    {
     "name": "stderr",
     "output_type": "stream",
     "text": [
      "2025/01/14 17:47:37 INFO dspy.teleprompt.mipro_optimizer_v2: \n",
      "==> STEP 1: BOOTSTRAP FEWSHOT EXAMPLES <==\n",
      "2025/01/14 17:47:37 INFO dspy.teleprompt.mipro_optimizer_v2: These will be used as few-shot example candidates for our program and for creating instructions.\n",
      "\n",
      "2025/01/14 17:47:37 INFO dspy.teleprompt.mipro_optimizer_v2: Bootstrapping N=19 sets of demonstrations...\n"
     ]
    },
    {
     "name": "stdout",
     "output_type": "stream",
     "text": [
      "Bootstrapping set 1/19\n",
      "Bootstrapping set 2/19\n",
      "Bootstrapping set 3/19\n"
     ]
    },
    {
     "name": "stderr",
     "output_type": "stream",
     "text": [
      "  0%|          | 0/1 [00:00<?, ?it/s]2025/01/14 17:47:37 ERROR dspy.teleprompt.bootstrap: Failed to run or to evaluate example {'question': 'How can we maximize beauty?', 'response': \"Based on the philosophical ideas presented, maximizing beauty involves fully channeling the beauty within and actively seeking beauty in every situation. This includes disciplining our senses to focus on beauty in our surroundings, such as appreciating flowers and birds. It's considered a fundamental virtue that requires conscious implementation and can be enhanced by questioning what makes each moment beautiful.\"} with module = Predict(StringSignature(question, ground_truth, system_response -> reasoning, ground_truth_key_ideas, system_response_key_ideas, discussion, recall, precision\n",
      "    instructions=\"Compare a system's response to the ground truth to compute recall and precision of key ideas.\\nYou will first enumerate key ideas in each response, discuss their overlap, and then report recall and precision.\"\n",
      "    question = Field(annotation=str required=True json_schema_extra={'__dspy_field_type': 'input', 'prefix': 'Question:', 'desc': '${question}'})\n",
      "    ground_truth = Field(annotation=str required=True json_schema_extra={'__dspy_field_type': 'input', 'prefix': 'Ground Truth:', 'desc': '${ground_truth}'})\n",
      "    system_response = Field(annotation=str required=True json_schema_extra={'__dspy_field_type': 'input', 'prefix': 'System Response:', 'desc': '${system_response}'})\n",
      "    reasoning = Field(annotation=str required=True json_schema_extra={'prefix': \"Reasoning: Let's think step by step in order to\", 'desc': '${reasoning}', '__dspy_field_type': 'output'})\n",
      "    ground_truth_key_ideas = Field(annotation=str required=True json_schema_extra={'desc': 'enumeration of key ideas in the ground truth', '__dspy_field_type': 'output', 'prefix': 'Ground Truth Key Ideas:'})\n",
      "    system_response_key_ideas = Field(annotation=str required=True json_schema_extra={'desc': 'enumeration of key ideas in the system response', '__dspy_field_type': 'output', 'prefix': 'System Response Key Ideas:'})\n",
      "    discussion = Field(annotation=str required=True json_schema_extra={'desc': 'discussion of the overlap between ground truth and system response', '__dspy_field_type': 'output', 'prefix': 'Discussion:'})\n",
      "    recall = Field(annotation=float required=True json_schema_extra={'desc': 'fraction (out of 1.0) of ground truth covered by the system response', '__dspy_field_type': 'output', 'prefix': 'Recall:'})\n",
      "    precision = Field(annotation=float required=True json_schema_extra={'desc': 'fraction (out of 1.0) of system response covered by the ground truth', '__dspy_field_type': 'output', 'prefix': 'Precision:'})\n",
      ")) due to 'dict' object has no attribute 'inputs'.\n",
      "100%|██████████| 1/1 [00:00<00:00, 490.91it/s]\n"
     ]
    },
    {
     "name": "stdout",
     "output_type": "stream",
     "text": [
      "Bootstrapped 0 full traces after 0 examples for up to 1 rounds, amounting to 1 attempts.\n",
      "Bootstrapping set 4/19\n"
     ]
    },
    {
     "name": "stderr",
     "output_type": "stream",
     "text": [
      "  0%|          | 0/1 [00:00<?, ?it/s]2025/01/14 17:47:37 ERROR dspy.teleprompt.bootstrap: Failed to run or to evaluate example {'question': 'How can we maximize beauty?', 'response': \"Based on the philosophical ideas presented, maximizing beauty involves fully channeling the beauty within and actively seeking beauty in every situation. This includes disciplining our senses to focus on beauty in our surroundings, such as appreciating flowers and birds. It's considered a fundamental virtue that requires conscious implementation and can be enhanced by questioning what makes each moment beautiful.\"} with module = Predict(StringSignature(question, ground_truth, system_response -> reasoning, ground_truth_key_ideas, system_response_key_ideas, discussion, recall, precision\n",
      "    instructions=\"Compare a system's response to the ground truth to compute recall and precision of key ideas.\\nYou will first enumerate key ideas in each response, discuss their overlap, and then report recall and precision.\"\n",
      "    question = Field(annotation=str required=True json_schema_extra={'__dspy_field_type': 'input', 'prefix': 'Question:', 'desc': '${question}'})\n",
      "    ground_truth = Field(annotation=str required=True json_schema_extra={'__dspy_field_type': 'input', 'prefix': 'Ground Truth:', 'desc': '${ground_truth}'})\n",
      "    system_response = Field(annotation=str required=True json_schema_extra={'__dspy_field_type': 'input', 'prefix': 'System Response:', 'desc': '${system_response}'})\n",
      "    reasoning = Field(annotation=str required=True json_schema_extra={'prefix': \"Reasoning: Let's think step by step in order to\", 'desc': '${reasoning}', '__dspy_field_type': 'output'})\n",
      "    ground_truth_key_ideas = Field(annotation=str required=True json_schema_extra={'desc': 'enumeration of key ideas in the ground truth', '__dspy_field_type': 'output', 'prefix': 'Ground Truth Key Ideas:'})\n",
      "    system_response_key_ideas = Field(annotation=str required=True json_schema_extra={'desc': 'enumeration of key ideas in the system response', '__dspy_field_type': 'output', 'prefix': 'System Response Key Ideas:'})\n",
      "    discussion = Field(annotation=str required=True json_schema_extra={'desc': 'discussion of the overlap between ground truth and system response', '__dspy_field_type': 'output', 'prefix': 'Discussion:'})\n",
      "    recall = Field(annotation=float required=True json_schema_extra={'desc': 'fraction (out of 1.0) of ground truth covered by the system response', '__dspy_field_type': 'output', 'prefix': 'Recall:'})\n",
      "    precision = Field(annotation=float required=True json_schema_extra={'desc': 'fraction (out of 1.0) of system response covered by the ground truth', '__dspy_field_type': 'output', 'prefix': 'Precision:'})\n",
      ")) due to 'dict' object has no attribute 'inputs'.\n",
      "100%|██████████| 1/1 [00:00<00:00, 741.17it/s]\n"
     ]
    },
    {
     "name": "stdout",
     "output_type": "stream",
     "text": [
      "Bootstrapped 0 full traces after 0 examples for up to 1 rounds, amounting to 1 attempts.\n",
      "Bootstrapping set 5/19\n"
     ]
    },
    {
     "name": "stderr",
     "output_type": "stream",
     "text": [
      "  0%|          | 0/1 [00:00<?, ?it/s]2025/01/14 17:47:37 ERROR dspy.teleprompt.bootstrap: Failed to run or to evaluate example {'question': 'How can we maximize beauty?', 'response': \"Based on the philosophical ideas presented, maximizing beauty involves fully channeling the beauty within and actively seeking beauty in every situation. This includes disciplining our senses to focus on beauty in our surroundings, such as appreciating flowers and birds. It's considered a fundamental virtue that requires conscious implementation and can be enhanced by questioning what makes each moment beautiful.\"} with module = Predict(StringSignature(question, ground_truth, system_response -> reasoning, ground_truth_key_ideas, system_response_key_ideas, discussion, recall, precision\n",
      "    instructions=\"Compare a system's response to the ground truth to compute recall and precision of key ideas.\\nYou will first enumerate key ideas in each response, discuss their overlap, and then report recall and precision.\"\n",
      "    question = Field(annotation=str required=True json_schema_extra={'__dspy_field_type': 'input', 'prefix': 'Question:', 'desc': '${question}'})\n",
      "    ground_truth = Field(annotation=str required=True json_schema_extra={'__dspy_field_type': 'input', 'prefix': 'Ground Truth:', 'desc': '${ground_truth}'})\n",
      "    system_response = Field(annotation=str required=True json_schema_extra={'__dspy_field_type': 'input', 'prefix': 'System Response:', 'desc': '${system_response}'})\n",
      "    reasoning = Field(annotation=str required=True json_schema_extra={'prefix': \"Reasoning: Let's think step by step in order to\", 'desc': '${reasoning}', '__dspy_field_type': 'output'})\n",
      "    ground_truth_key_ideas = Field(annotation=str required=True json_schema_extra={'desc': 'enumeration of key ideas in the ground truth', '__dspy_field_type': 'output', 'prefix': 'Ground Truth Key Ideas:'})\n",
      "    system_response_key_ideas = Field(annotation=str required=True json_schema_extra={'desc': 'enumeration of key ideas in the system response', '__dspy_field_type': 'output', 'prefix': 'System Response Key Ideas:'})\n",
      "    discussion = Field(annotation=str required=True json_schema_extra={'desc': 'discussion of the overlap between ground truth and system response', '__dspy_field_type': 'output', 'prefix': 'Discussion:'})\n",
      "    recall = Field(annotation=float required=True json_schema_extra={'desc': 'fraction (out of 1.0) of ground truth covered by the system response', '__dspy_field_type': 'output', 'prefix': 'Recall:'})\n",
      "    precision = Field(annotation=float required=True json_schema_extra={'desc': 'fraction (out of 1.0) of system response covered by the ground truth', '__dspy_field_type': 'output', 'prefix': 'Precision:'})\n",
      ")) due to 'dict' object has no attribute 'inputs'.\n",
      "100%|██████████| 1/1 [00:00<00:00, 313.08it/s]\n"
     ]
    },
    {
     "name": "stdout",
     "output_type": "stream",
     "text": [
      "Bootstrapped 0 full traces after 0 examples for up to 1 rounds, amounting to 1 attempts.\n",
      "Bootstrapping set 6/19\n"
     ]
    },
    {
     "name": "stderr",
     "output_type": "stream",
     "text": [
      "  0%|          | 0/1 [00:00<?, ?it/s]2025/01/14 17:47:37 ERROR dspy.teleprompt.bootstrap: Failed to run or to evaluate example {'question': 'How can we maximize beauty?', 'response': \"Based on the philosophical ideas presented, maximizing beauty involves fully channeling the beauty within and actively seeking beauty in every situation. This includes disciplining our senses to focus on beauty in our surroundings, such as appreciating flowers and birds. It's considered a fundamental virtue that requires conscious implementation and can be enhanced by questioning what makes each moment beautiful.\"} with module = Predict(StringSignature(question, ground_truth, system_response -> reasoning, ground_truth_key_ideas, system_response_key_ideas, discussion, recall, precision\n",
      "    instructions=\"Compare a system's response to the ground truth to compute recall and precision of key ideas.\\nYou will first enumerate key ideas in each response, discuss their overlap, and then report recall and precision.\"\n",
      "    question = Field(annotation=str required=True json_schema_extra={'__dspy_field_type': 'input', 'prefix': 'Question:', 'desc': '${question}'})\n",
      "    ground_truth = Field(annotation=str required=True json_schema_extra={'__dspy_field_type': 'input', 'prefix': 'Ground Truth:', 'desc': '${ground_truth}'})\n",
      "    system_response = Field(annotation=str required=True json_schema_extra={'__dspy_field_type': 'input', 'prefix': 'System Response:', 'desc': '${system_response}'})\n",
      "    reasoning = Field(annotation=str required=True json_schema_extra={'prefix': \"Reasoning: Let's think step by step in order to\", 'desc': '${reasoning}', '__dspy_field_type': 'output'})\n",
      "    ground_truth_key_ideas = Field(annotation=str required=True json_schema_extra={'desc': 'enumeration of key ideas in the ground truth', '__dspy_field_type': 'output', 'prefix': 'Ground Truth Key Ideas:'})\n",
      "    system_response_key_ideas = Field(annotation=str required=True json_schema_extra={'desc': 'enumeration of key ideas in the system response', '__dspy_field_type': 'output', 'prefix': 'System Response Key Ideas:'})\n",
      "    discussion = Field(annotation=str required=True json_schema_extra={'desc': 'discussion of the overlap between ground truth and system response', '__dspy_field_type': 'output', 'prefix': 'Discussion:'})\n",
      "    recall = Field(annotation=float required=True json_schema_extra={'desc': 'fraction (out of 1.0) of ground truth covered by the system response', '__dspy_field_type': 'output', 'prefix': 'Recall:'})\n",
      "    precision = Field(annotation=float required=True json_schema_extra={'desc': 'fraction (out of 1.0) of system response covered by the ground truth', '__dspy_field_type': 'output', 'prefix': 'Precision:'})\n",
      ")) due to 'dict' object has no attribute 'inputs'.\n",
      "100%|██████████| 1/1 [00:00<00:00, 105.06it/s]\n"
     ]
    },
    {
     "name": "stdout",
     "output_type": "stream",
     "text": [
      "Bootstrapped 0 full traces after 0 examples for up to 1 rounds, amounting to 1 attempts.\n",
      "Bootstrapping set 7/19\n"
     ]
    },
    {
     "name": "stderr",
     "output_type": "stream",
     "text": [
      "  0%|          | 0/1 [00:00<?, ?it/s]2025/01/14 17:47:37 ERROR dspy.teleprompt.bootstrap: Failed to run or to evaluate example {'question': 'How can we maximize beauty?', 'response': \"Based on the philosophical ideas presented, maximizing beauty involves fully channeling the beauty within and actively seeking beauty in every situation. This includes disciplining our senses to focus on beauty in our surroundings, such as appreciating flowers and birds. It's considered a fundamental virtue that requires conscious implementation and can be enhanced by questioning what makes each moment beautiful.\"} with module = Predict(StringSignature(question, ground_truth, system_response -> reasoning, ground_truth_key_ideas, system_response_key_ideas, discussion, recall, precision\n",
      "    instructions=\"Compare a system's response to the ground truth to compute recall and precision of key ideas.\\nYou will first enumerate key ideas in each response, discuss their overlap, and then report recall and precision.\"\n",
      "    question = Field(annotation=str required=True json_schema_extra={'__dspy_field_type': 'input', 'prefix': 'Question:', 'desc': '${question}'})\n",
      "    ground_truth = Field(annotation=str required=True json_schema_extra={'__dspy_field_type': 'input', 'prefix': 'Ground Truth:', 'desc': '${ground_truth}'})\n",
      "    system_response = Field(annotation=str required=True json_schema_extra={'__dspy_field_type': 'input', 'prefix': 'System Response:', 'desc': '${system_response}'})\n",
      "    reasoning = Field(annotation=str required=True json_schema_extra={'prefix': \"Reasoning: Let's think step by step in order to\", 'desc': '${reasoning}', '__dspy_field_type': 'output'})\n",
      "    ground_truth_key_ideas = Field(annotation=str required=True json_schema_extra={'desc': 'enumeration of key ideas in the ground truth', '__dspy_field_type': 'output', 'prefix': 'Ground Truth Key Ideas:'})\n",
      "    system_response_key_ideas = Field(annotation=str required=True json_schema_extra={'desc': 'enumeration of key ideas in the system response', '__dspy_field_type': 'output', 'prefix': 'System Response Key Ideas:'})\n",
      "    discussion = Field(annotation=str required=True json_schema_extra={'desc': 'discussion of the overlap between ground truth and system response', '__dspy_field_type': 'output', 'prefix': 'Discussion:'})\n",
      "    recall = Field(annotation=float required=True json_schema_extra={'desc': 'fraction (out of 1.0) of ground truth covered by the system response', '__dspy_field_type': 'output', 'prefix': 'Recall:'})\n",
      "    precision = Field(annotation=float required=True json_schema_extra={'desc': 'fraction (out of 1.0) of system response covered by the ground truth', '__dspy_field_type': 'output', 'prefix': 'Precision:'})\n",
      ")) due to 'dict' object has no attribute 'inputs'.\n",
      "100%|██████████| 1/1 [00:00<00:00, 1259.55it/s]\n"
     ]
    },
    {
     "name": "stdout",
     "output_type": "stream",
     "text": [
      "Bootstrapped 0 full traces after 0 examples for up to 1 rounds, amounting to 1 attempts.\n",
      "Bootstrapping set 8/19\n"
     ]
    },
    {
     "name": "stderr",
     "output_type": "stream",
     "text": [
      "  0%|          | 0/1 [00:00<?, ?it/s]2025/01/14 17:47:37 ERROR dspy.teleprompt.bootstrap: Failed to run or to evaluate example {'question': 'How can we maximize beauty?', 'response': \"Based on the philosophical ideas presented, maximizing beauty involves fully channeling the beauty within and actively seeking beauty in every situation. This includes disciplining our senses to focus on beauty in our surroundings, such as appreciating flowers and birds. It's considered a fundamental virtue that requires conscious implementation and can be enhanced by questioning what makes each moment beautiful.\"} with module = Predict(StringSignature(question, ground_truth, system_response -> reasoning, ground_truth_key_ideas, system_response_key_ideas, discussion, recall, precision\n",
      "    instructions=\"Compare a system's response to the ground truth to compute recall and precision of key ideas.\\nYou will first enumerate key ideas in each response, discuss their overlap, and then report recall and precision.\"\n",
      "    question = Field(annotation=str required=True json_schema_extra={'__dspy_field_type': 'input', 'prefix': 'Question:', 'desc': '${question}'})\n",
      "    ground_truth = Field(annotation=str required=True json_schema_extra={'__dspy_field_type': 'input', 'prefix': 'Ground Truth:', 'desc': '${ground_truth}'})\n",
      "    system_response = Field(annotation=str required=True json_schema_extra={'__dspy_field_type': 'input', 'prefix': 'System Response:', 'desc': '${system_response}'})\n",
      "    reasoning = Field(annotation=str required=True json_schema_extra={'prefix': \"Reasoning: Let's think step by step in order to\", 'desc': '${reasoning}', '__dspy_field_type': 'output'})\n",
      "    ground_truth_key_ideas = Field(annotation=str required=True json_schema_extra={'desc': 'enumeration of key ideas in the ground truth', '__dspy_field_type': 'output', 'prefix': 'Ground Truth Key Ideas:'})\n",
      "    system_response_key_ideas = Field(annotation=str required=True json_schema_extra={'desc': 'enumeration of key ideas in the system response', '__dspy_field_type': 'output', 'prefix': 'System Response Key Ideas:'})\n",
      "    discussion = Field(annotation=str required=True json_schema_extra={'desc': 'discussion of the overlap between ground truth and system response', '__dspy_field_type': 'output', 'prefix': 'Discussion:'})\n",
      "    recall = Field(annotation=float required=True json_schema_extra={'desc': 'fraction (out of 1.0) of ground truth covered by the system response', '__dspy_field_type': 'output', 'prefix': 'Recall:'})\n",
      "    precision = Field(annotation=float required=True json_schema_extra={'desc': 'fraction (out of 1.0) of system response covered by the ground truth', '__dspy_field_type': 'output', 'prefix': 'Precision:'})\n",
      ")) due to 'dict' object has no attribute 'inputs'.\n",
      "100%|██████████| 1/1 [00:00<00:00, 1494.76it/s]\n"
     ]
    },
    {
     "name": "stdout",
     "output_type": "stream",
     "text": [
      "Bootstrapped 0 full traces after 0 examples for up to 1 rounds, amounting to 1 attempts.\n",
      "Bootstrapping set 9/19\n"
     ]
    },
    {
     "name": "stderr",
     "output_type": "stream",
     "text": [
      "  0%|          | 0/1 [00:00<?, ?it/s]2025/01/14 17:47:37 ERROR dspy.teleprompt.bootstrap: Failed to run or to evaluate example {'question': 'How can we maximize beauty?', 'response': \"Based on the philosophical ideas presented, maximizing beauty involves fully channeling the beauty within and actively seeking beauty in every situation. This includes disciplining our senses to focus on beauty in our surroundings, such as appreciating flowers and birds. It's considered a fundamental virtue that requires conscious implementation and can be enhanced by questioning what makes each moment beautiful.\"} with module = Predict(StringSignature(question, ground_truth, system_response -> reasoning, ground_truth_key_ideas, system_response_key_ideas, discussion, recall, precision\n",
      "    instructions=\"Compare a system's response to the ground truth to compute recall and precision of key ideas.\\nYou will first enumerate key ideas in each response, discuss their overlap, and then report recall and precision.\"\n",
      "    question = Field(annotation=str required=True json_schema_extra={'__dspy_field_type': 'input', 'prefix': 'Question:', 'desc': '${question}'})\n",
      "    ground_truth = Field(annotation=str required=True json_schema_extra={'__dspy_field_type': 'input', 'prefix': 'Ground Truth:', 'desc': '${ground_truth}'})\n",
      "    system_response = Field(annotation=str required=True json_schema_extra={'__dspy_field_type': 'input', 'prefix': 'System Response:', 'desc': '${system_response}'})\n",
      "    reasoning = Field(annotation=str required=True json_schema_extra={'prefix': \"Reasoning: Let's think step by step in order to\", 'desc': '${reasoning}', '__dspy_field_type': 'output'})\n",
      "    ground_truth_key_ideas = Field(annotation=str required=True json_schema_extra={'desc': 'enumeration of key ideas in the ground truth', '__dspy_field_type': 'output', 'prefix': 'Ground Truth Key Ideas:'})\n",
      "    system_response_key_ideas = Field(annotation=str required=True json_schema_extra={'desc': 'enumeration of key ideas in the system response', '__dspy_field_type': 'output', 'prefix': 'System Response Key Ideas:'})\n",
      "    discussion = Field(annotation=str required=True json_schema_extra={'desc': 'discussion of the overlap between ground truth and system response', '__dspy_field_type': 'output', 'prefix': 'Discussion:'})\n",
      "    recall = Field(annotation=float required=True json_schema_extra={'desc': 'fraction (out of 1.0) of ground truth covered by the system response', '__dspy_field_type': 'output', 'prefix': 'Recall:'})\n",
      "    precision = Field(annotation=float required=True json_schema_extra={'desc': 'fraction (out of 1.0) of system response covered by the ground truth', '__dspy_field_type': 'output', 'prefix': 'Precision:'})\n",
      ")) due to 'dict' object has no attribute 'inputs'.\n",
      "100%|██████████| 1/1 [00:00<00:00, 2545.09it/s]\n"
     ]
    },
    {
     "name": "stdout",
     "output_type": "stream",
     "text": [
      "Bootstrapped 0 full traces after 0 examples for up to 1 rounds, amounting to 1 attempts.\n",
      "Bootstrapping set 10/19\n"
     ]
    },
    {
     "name": "stderr",
     "output_type": "stream",
     "text": [
      "  0%|          | 0/1 [00:00<?, ?it/s]2025/01/14 17:47:37 ERROR dspy.teleprompt.bootstrap: Failed to run or to evaluate example {'question': 'How can we maximize beauty?', 'response': \"Based on the philosophical ideas presented, maximizing beauty involves fully channeling the beauty within and actively seeking beauty in every situation. This includes disciplining our senses to focus on beauty in our surroundings, such as appreciating flowers and birds. It's considered a fundamental virtue that requires conscious implementation and can be enhanced by questioning what makes each moment beautiful.\"} with module = Predict(StringSignature(question, ground_truth, system_response -> reasoning, ground_truth_key_ideas, system_response_key_ideas, discussion, recall, precision\n",
      "    instructions=\"Compare a system's response to the ground truth to compute recall and precision of key ideas.\\nYou will first enumerate key ideas in each response, discuss their overlap, and then report recall and precision.\"\n",
      "    question = Field(annotation=str required=True json_schema_extra={'__dspy_field_type': 'input', 'prefix': 'Question:', 'desc': '${question}'})\n",
      "    ground_truth = Field(annotation=str required=True json_schema_extra={'__dspy_field_type': 'input', 'prefix': 'Ground Truth:', 'desc': '${ground_truth}'})\n",
      "    system_response = Field(annotation=str required=True json_schema_extra={'__dspy_field_type': 'input', 'prefix': 'System Response:', 'desc': '${system_response}'})\n",
      "    reasoning = Field(annotation=str required=True json_schema_extra={'prefix': \"Reasoning: Let's think step by step in order to\", 'desc': '${reasoning}', '__dspy_field_type': 'output'})\n",
      "    ground_truth_key_ideas = Field(annotation=str required=True json_schema_extra={'desc': 'enumeration of key ideas in the ground truth', '__dspy_field_type': 'output', 'prefix': 'Ground Truth Key Ideas:'})\n",
      "    system_response_key_ideas = Field(annotation=str required=True json_schema_extra={'desc': 'enumeration of key ideas in the system response', '__dspy_field_type': 'output', 'prefix': 'System Response Key Ideas:'})\n",
      "    discussion = Field(annotation=str required=True json_schema_extra={'desc': 'discussion of the overlap between ground truth and system response', '__dspy_field_type': 'output', 'prefix': 'Discussion:'})\n",
      "    recall = Field(annotation=float required=True json_schema_extra={'desc': 'fraction (out of 1.0) of ground truth covered by the system response', '__dspy_field_type': 'output', 'prefix': 'Recall:'})\n",
      "    precision = Field(annotation=float required=True json_schema_extra={'desc': 'fraction (out of 1.0) of system response covered by the ground truth', '__dspy_field_type': 'output', 'prefix': 'Precision:'})\n",
      ")) due to 'dict' object has no attribute 'inputs'.\n",
      "100%|██████████| 1/1 [00:00<00:00, 113.33it/s]\n"
     ]
    },
    {
     "name": "stdout",
     "output_type": "stream",
     "text": [
      "Bootstrapped 0 full traces after 0 examples for up to 1 rounds, amounting to 1 attempts.\n",
      "Bootstrapping set 11/19\n"
     ]
    },
    {
     "name": "stderr",
     "output_type": "stream",
     "text": [
      "  0%|          | 0/1 [00:00<?, ?it/s]2025/01/14 17:47:37 ERROR dspy.teleprompt.bootstrap: Failed to run or to evaluate example {'question': 'How can we maximize beauty?', 'response': \"Based on the philosophical ideas presented, maximizing beauty involves fully channeling the beauty within and actively seeking beauty in every situation. This includes disciplining our senses to focus on beauty in our surroundings, such as appreciating flowers and birds. It's considered a fundamental virtue that requires conscious implementation and can be enhanced by questioning what makes each moment beautiful.\"} with module = Predict(StringSignature(question, ground_truth, system_response -> reasoning, ground_truth_key_ideas, system_response_key_ideas, discussion, recall, precision\n",
      "    instructions=\"Compare a system's response to the ground truth to compute recall and precision of key ideas.\\nYou will first enumerate key ideas in each response, discuss their overlap, and then report recall and precision.\"\n",
      "    question = Field(annotation=str required=True json_schema_extra={'__dspy_field_type': 'input', 'prefix': 'Question:', 'desc': '${question}'})\n",
      "    ground_truth = Field(annotation=str required=True json_schema_extra={'__dspy_field_type': 'input', 'prefix': 'Ground Truth:', 'desc': '${ground_truth}'})\n",
      "    system_response = Field(annotation=str required=True json_schema_extra={'__dspy_field_type': 'input', 'prefix': 'System Response:', 'desc': '${system_response}'})\n",
      "    reasoning = Field(annotation=str required=True json_schema_extra={'prefix': \"Reasoning: Let's think step by step in order to\", 'desc': '${reasoning}', '__dspy_field_type': 'output'})\n",
      "    ground_truth_key_ideas = Field(annotation=str required=True json_schema_extra={'desc': 'enumeration of key ideas in the ground truth', '__dspy_field_type': 'output', 'prefix': 'Ground Truth Key Ideas:'})\n",
      "    system_response_key_ideas = Field(annotation=str required=True json_schema_extra={'desc': 'enumeration of key ideas in the system response', '__dspy_field_type': 'output', 'prefix': 'System Response Key Ideas:'})\n",
      "    discussion = Field(annotation=str required=True json_schema_extra={'desc': 'discussion of the overlap between ground truth and system response', '__dspy_field_type': 'output', 'prefix': 'Discussion:'})\n",
      "    recall = Field(annotation=float required=True json_schema_extra={'desc': 'fraction (out of 1.0) of ground truth covered by the system response', '__dspy_field_type': 'output', 'prefix': 'Recall:'})\n",
      "    precision = Field(annotation=float required=True json_schema_extra={'desc': 'fraction (out of 1.0) of system response covered by the ground truth', '__dspy_field_type': 'output', 'prefix': 'Precision:'})\n",
      ")) due to 'dict' object has no attribute 'inputs'.\n",
      "100%|██████████| 1/1 [00:00<00:00, 1715.46it/s]\n"
     ]
    },
    {
     "name": "stdout",
     "output_type": "stream",
     "text": [
      "Bootstrapped 0 full traces after 0 examples for up to 1 rounds, amounting to 1 attempts.\n",
      "Bootstrapping set 12/19\n"
     ]
    },
    {
     "name": "stderr",
     "output_type": "stream",
     "text": [
      "  0%|          | 0/1 [00:00<?, ?it/s]2025/01/14 17:47:37 ERROR dspy.teleprompt.bootstrap: Failed to run or to evaluate example {'question': 'How can we maximize beauty?', 'response': \"Based on the philosophical ideas presented, maximizing beauty involves fully channeling the beauty within and actively seeking beauty in every situation. This includes disciplining our senses to focus on beauty in our surroundings, such as appreciating flowers and birds. It's considered a fundamental virtue that requires conscious implementation and can be enhanced by questioning what makes each moment beautiful.\"} with module = Predict(StringSignature(question, ground_truth, system_response -> reasoning, ground_truth_key_ideas, system_response_key_ideas, discussion, recall, precision\n",
      "    instructions=\"Compare a system's response to the ground truth to compute recall and precision of key ideas.\\nYou will first enumerate key ideas in each response, discuss their overlap, and then report recall and precision.\"\n",
      "    question = Field(annotation=str required=True json_schema_extra={'__dspy_field_type': 'input', 'prefix': 'Question:', 'desc': '${question}'})\n",
      "    ground_truth = Field(annotation=str required=True json_schema_extra={'__dspy_field_type': 'input', 'prefix': 'Ground Truth:', 'desc': '${ground_truth}'})\n",
      "    system_response = Field(annotation=str required=True json_schema_extra={'__dspy_field_type': 'input', 'prefix': 'System Response:', 'desc': '${system_response}'})\n",
      "    reasoning = Field(annotation=str required=True json_schema_extra={'prefix': \"Reasoning: Let's think step by step in order to\", 'desc': '${reasoning}', '__dspy_field_type': 'output'})\n",
      "    ground_truth_key_ideas = Field(annotation=str required=True json_schema_extra={'desc': 'enumeration of key ideas in the ground truth', '__dspy_field_type': 'output', 'prefix': 'Ground Truth Key Ideas:'})\n",
      "    system_response_key_ideas = Field(annotation=str required=True json_schema_extra={'desc': 'enumeration of key ideas in the system response', '__dspy_field_type': 'output', 'prefix': 'System Response Key Ideas:'})\n",
      "    discussion = Field(annotation=str required=True json_schema_extra={'desc': 'discussion of the overlap between ground truth and system response', '__dspy_field_type': 'output', 'prefix': 'Discussion:'})\n",
      "    recall = Field(annotation=float required=True json_schema_extra={'desc': 'fraction (out of 1.0) of ground truth covered by the system response', '__dspy_field_type': 'output', 'prefix': 'Recall:'})\n",
      "    precision = Field(annotation=float required=True json_schema_extra={'desc': 'fraction (out of 1.0) of system response covered by the ground truth', '__dspy_field_type': 'output', 'prefix': 'Precision:'})\n",
      ")) due to 'dict' object has no attribute 'inputs'.\n",
      "100%|██████████| 1/1 [00:00<00:00, 1183.16it/s]\n"
     ]
    },
    {
     "name": "stdout",
     "output_type": "stream",
     "text": [
      "Bootstrapped 0 full traces after 0 examples for up to 1 rounds, amounting to 1 attempts.\n",
      "Bootstrapping set 13/19\n"
     ]
    },
    {
     "name": "stderr",
     "output_type": "stream",
     "text": [
      "  0%|          | 0/1 [00:00<?, ?it/s]2025/01/14 17:47:37 ERROR dspy.teleprompt.bootstrap: Failed to run or to evaluate example {'question': 'How can we maximize beauty?', 'response': \"Based on the philosophical ideas presented, maximizing beauty involves fully channeling the beauty within and actively seeking beauty in every situation. This includes disciplining our senses to focus on beauty in our surroundings, such as appreciating flowers and birds. It's considered a fundamental virtue that requires conscious implementation and can be enhanced by questioning what makes each moment beautiful.\"} with module = Predict(StringSignature(question, ground_truth, system_response -> reasoning, ground_truth_key_ideas, system_response_key_ideas, discussion, recall, precision\n",
      "    instructions=\"Compare a system's response to the ground truth to compute recall and precision of key ideas.\\nYou will first enumerate key ideas in each response, discuss their overlap, and then report recall and precision.\"\n",
      "    question = Field(annotation=str required=True json_schema_extra={'__dspy_field_type': 'input', 'prefix': 'Question:', 'desc': '${question}'})\n",
      "    ground_truth = Field(annotation=str required=True json_schema_extra={'__dspy_field_type': 'input', 'prefix': 'Ground Truth:', 'desc': '${ground_truth}'})\n",
      "    system_response = Field(annotation=str required=True json_schema_extra={'__dspy_field_type': 'input', 'prefix': 'System Response:', 'desc': '${system_response}'})\n",
      "    reasoning = Field(annotation=str required=True json_schema_extra={'prefix': \"Reasoning: Let's think step by step in order to\", 'desc': '${reasoning}', '__dspy_field_type': 'output'})\n",
      "    ground_truth_key_ideas = Field(annotation=str required=True json_schema_extra={'desc': 'enumeration of key ideas in the ground truth', '__dspy_field_type': 'output', 'prefix': 'Ground Truth Key Ideas:'})\n",
      "    system_response_key_ideas = Field(annotation=str required=True json_schema_extra={'desc': 'enumeration of key ideas in the system response', '__dspy_field_type': 'output', 'prefix': 'System Response Key Ideas:'})\n",
      "    discussion = Field(annotation=str required=True json_schema_extra={'desc': 'discussion of the overlap between ground truth and system response', '__dspy_field_type': 'output', 'prefix': 'Discussion:'})\n",
      "    recall = Field(annotation=float required=True json_schema_extra={'desc': 'fraction (out of 1.0) of ground truth covered by the system response', '__dspy_field_type': 'output', 'prefix': 'Recall:'})\n",
      "    precision = Field(annotation=float required=True json_schema_extra={'desc': 'fraction (out of 1.0) of system response covered by the ground truth', '__dspy_field_type': 'output', 'prefix': 'Precision:'})\n",
      ")) due to 'dict' object has no attribute 'inputs'.\n",
      "100%|██████████| 1/1 [00:00<00:00, 606.11it/s]\n"
     ]
    },
    {
     "name": "stdout",
     "output_type": "stream",
     "text": [
      "Bootstrapped 0 full traces after 0 examples for up to 1 rounds, amounting to 1 attempts.\n",
      "Bootstrapping set 14/19\n"
     ]
    },
    {
     "name": "stderr",
     "output_type": "stream",
     "text": [
      "  0%|          | 0/1 [00:00<?, ?it/s]2025/01/14 17:47:37 ERROR dspy.teleprompt.bootstrap: Failed to run or to evaluate example {'question': 'How can we maximize beauty?', 'response': \"Based on the philosophical ideas presented, maximizing beauty involves fully channeling the beauty within and actively seeking beauty in every situation. This includes disciplining our senses to focus on beauty in our surroundings, such as appreciating flowers and birds. It's considered a fundamental virtue that requires conscious implementation and can be enhanced by questioning what makes each moment beautiful.\"} with module = Predict(StringSignature(question, ground_truth, system_response -> reasoning, ground_truth_key_ideas, system_response_key_ideas, discussion, recall, precision\n",
      "    instructions=\"Compare a system's response to the ground truth to compute recall and precision of key ideas.\\nYou will first enumerate key ideas in each response, discuss their overlap, and then report recall and precision.\"\n",
      "    question = Field(annotation=str required=True json_schema_extra={'__dspy_field_type': 'input', 'prefix': 'Question:', 'desc': '${question}'})\n",
      "    ground_truth = Field(annotation=str required=True json_schema_extra={'__dspy_field_type': 'input', 'prefix': 'Ground Truth:', 'desc': '${ground_truth}'})\n",
      "    system_response = Field(annotation=str required=True json_schema_extra={'__dspy_field_type': 'input', 'prefix': 'System Response:', 'desc': '${system_response}'})\n",
      "    reasoning = Field(annotation=str required=True json_schema_extra={'prefix': \"Reasoning: Let's think step by step in order to\", 'desc': '${reasoning}', '__dspy_field_type': 'output'})\n",
      "    ground_truth_key_ideas = Field(annotation=str required=True json_schema_extra={'desc': 'enumeration of key ideas in the ground truth', '__dspy_field_type': 'output', 'prefix': 'Ground Truth Key Ideas:'})\n",
      "    system_response_key_ideas = Field(annotation=str required=True json_schema_extra={'desc': 'enumeration of key ideas in the system response', '__dspy_field_type': 'output', 'prefix': 'System Response Key Ideas:'})\n",
      "    discussion = Field(annotation=str required=True json_schema_extra={'desc': 'discussion of the overlap between ground truth and system response', '__dspy_field_type': 'output', 'prefix': 'Discussion:'})\n",
      "    recall = Field(annotation=float required=True json_schema_extra={'desc': 'fraction (out of 1.0) of ground truth covered by the system response', '__dspy_field_type': 'output', 'prefix': 'Recall:'})\n",
      "    precision = Field(annotation=float required=True json_schema_extra={'desc': 'fraction (out of 1.0) of system response covered by the ground truth', '__dspy_field_type': 'output', 'prefix': 'Precision:'})\n",
      ")) due to 'dict' object has no attribute 'inputs'.\n",
      "100%|██████████| 1/1 [00:00<00:00, 1123.57it/s]\n"
     ]
    },
    {
     "name": "stdout",
     "output_type": "stream",
     "text": [
      "Bootstrapped 0 full traces after 0 examples for up to 1 rounds, amounting to 1 attempts.\n",
      "Bootstrapping set 15/19\n"
     ]
    },
    {
     "name": "stderr",
     "output_type": "stream",
     "text": [
      "  0%|          | 0/1 [00:00<?, ?it/s]2025/01/14 17:47:37 ERROR dspy.teleprompt.bootstrap: Failed to run or to evaluate example {'question': 'How can we maximize beauty?', 'response': \"Based on the philosophical ideas presented, maximizing beauty involves fully channeling the beauty within and actively seeking beauty in every situation. This includes disciplining our senses to focus on beauty in our surroundings, such as appreciating flowers and birds. It's considered a fundamental virtue that requires conscious implementation and can be enhanced by questioning what makes each moment beautiful.\"} with module = Predict(StringSignature(question, ground_truth, system_response -> reasoning, ground_truth_key_ideas, system_response_key_ideas, discussion, recall, precision\n",
      "    instructions=\"Compare a system's response to the ground truth to compute recall and precision of key ideas.\\nYou will first enumerate key ideas in each response, discuss their overlap, and then report recall and precision.\"\n",
      "    question = Field(annotation=str required=True json_schema_extra={'__dspy_field_type': 'input', 'prefix': 'Question:', 'desc': '${question}'})\n",
      "    ground_truth = Field(annotation=str required=True json_schema_extra={'__dspy_field_type': 'input', 'prefix': 'Ground Truth:', 'desc': '${ground_truth}'})\n",
      "    system_response = Field(annotation=str required=True json_schema_extra={'__dspy_field_type': 'input', 'prefix': 'System Response:', 'desc': '${system_response}'})\n",
      "    reasoning = Field(annotation=str required=True json_schema_extra={'prefix': \"Reasoning: Let's think step by step in order to\", 'desc': '${reasoning}', '__dspy_field_type': 'output'})\n",
      "    ground_truth_key_ideas = Field(annotation=str required=True json_schema_extra={'desc': 'enumeration of key ideas in the ground truth', '__dspy_field_type': 'output', 'prefix': 'Ground Truth Key Ideas:'})\n",
      "    system_response_key_ideas = Field(annotation=str required=True json_schema_extra={'desc': 'enumeration of key ideas in the system response', '__dspy_field_type': 'output', 'prefix': 'System Response Key Ideas:'})\n",
      "    discussion = Field(annotation=str required=True json_schema_extra={'desc': 'discussion of the overlap between ground truth and system response', '__dspy_field_type': 'output', 'prefix': 'Discussion:'})\n",
      "    recall = Field(annotation=float required=True json_schema_extra={'desc': 'fraction (out of 1.0) of ground truth covered by the system response', '__dspy_field_type': 'output', 'prefix': 'Recall:'})\n",
      "    precision = Field(annotation=float required=True json_schema_extra={'desc': 'fraction (out of 1.0) of system response covered by the ground truth', '__dspy_field_type': 'output', 'prefix': 'Precision:'})\n",
      ")) due to 'dict' object has no attribute 'inputs'.\n",
      "100%|██████████| 1/1 [00:00<00:00, 1340.89it/s]\n"
     ]
    },
    {
     "name": "stdout",
     "output_type": "stream",
     "text": [
      "Bootstrapped 0 full traces after 0 examples for up to 1 rounds, amounting to 1 attempts.\n",
      "Bootstrapping set 16/19\n"
     ]
    },
    {
     "name": "stderr",
     "output_type": "stream",
     "text": [
      "  0%|          | 0/1 [00:00<?, ?it/s]2025/01/14 17:47:37 ERROR dspy.teleprompt.bootstrap: Failed to run or to evaluate example {'question': 'How can we maximize beauty?', 'response': \"Based on the philosophical ideas presented, maximizing beauty involves fully channeling the beauty within and actively seeking beauty in every situation. This includes disciplining our senses to focus on beauty in our surroundings, such as appreciating flowers and birds. It's considered a fundamental virtue that requires conscious implementation and can be enhanced by questioning what makes each moment beautiful.\"} with module = Predict(StringSignature(question, ground_truth, system_response -> reasoning, ground_truth_key_ideas, system_response_key_ideas, discussion, recall, precision\n",
      "    instructions=\"Compare a system's response to the ground truth to compute recall and precision of key ideas.\\nYou will first enumerate key ideas in each response, discuss their overlap, and then report recall and precision.\"\n",
      "    question = Field(annotation=str required=True json_schema_extra={'__dspy_field_type': 'input', 'prefix': 'Question:', 'desc': '${question}'})\n",
      "    ground_truth = Field(annotation=str required=True json_schema_extra={'__dspy_field_type': 'input', 'prefix': 'Ground Truth:', 'desc': '${ground_truth}'})\n",
      "    system_response = Field(annotation=str required=True json_schema_extra={'__dspy_field_type': 'input', 'prefix': 'System Response:', 'desc': '${system_response}'})\n",
      "    reasoning = Field(annotation=str required=True json_schema_extra={'prefix': \"Reasoning: Let's think step by step in order to\", 'desc': '${reasoning}', '__dspy_field_type': 'output'})\n",
      "    ground_truth_key_ideas = Field(annotation=str required=True json_schema_extra={'desc': 'enumeration of key ideas in the ground truth', '__dspy_field_type': 'output', 'prefix': 'Ground Truth Key Ideas:'})\n",
      "    system_response_key_ideas = Field(annotation=str required=True json_schema_extra={'desc': 'enumeration of key ideas in the system response', '__dspy_field_type': 'output', 'prefix': 'System Response Key Ideas:'})\n",
      "    discussion = Field(annotation=str required=True json_schema_extra={'desc': 'discussion of the overlap between ground truth and system response', '__dspy_field_type': 'output', 'prefix': 'Discussion:'})\n",
      "    recall = Field(annotation=float required=True json_schema_extra={'desc': 'fraction (out of 1.0) of ground truth covered by the system response', '__dspy_field_type': 'output', 'prefix': 'Recall:'})\n",
      "    precision = Field(annotation=float required=True json_schema_extra={'desc': 'fraction (out of 1.0) of system response covered by the ground truth', '__dspy_field_type': 'output', 'prefix': 'Precision:'})\n",
      ")) due to 'dict' object has no attribute 'inputs'.\n",
      "100%|██████████| 1/1 [00:00<00:00, 2457.12it/s]\n"
     ]
    },
    {
     "name": "stdout",
     "output_type": "stream",
     "text": [
      "Bootstrapped 0 full traces after 0 examples for up to 1 rounds, amounting to 1 attempts.\n",
      "Bootstrapping set 17/19\n"
     ]
    },
    {
     "name": "stderr",
     "output_type": "stream",
     "text": [
      "  0%|          | 0/1 [00:00<?, ?it/s]2025/01/14 17:47:37 ERROR dspy.teleprompt.bootstrap: Failed to run or to evaluate example {'question': 'How can we maximize beauty?', 'response': \"Based on the philosophical ideas presented, maximizing beauty involves fully channeling the beauty within and actively seeking beauty in every situation. This includes disciplining our senses to focus on beauty in our surroundings, such as appreciating flowers and birds. It's considered a fundamental virtue that requires conscious implementation and can be enhanced by questioning what makes each moment beautiful.\"} with module = Predict(StringSignature(question, ground_truth, system_response -> reasoning, ground_truth_key_ideas, system_response_key_ideas, discussion, recall, precision\n",
      "    instructions=\"Compare a system's response to the ground truth to compute recall and precision of key ideas.\\nYou will first enumerate key ideas in each response, discuss their overlap, and then report recall and precision.\"\n",
      "    question = Field(annotation=str required=True json_schema_extra={'__dspy_field_type': 'input', 'prefix': 'Question:', 'desc': '${question}'})\n",
      "    ground_truth = Field(annotation=str required=True json_schema_extra={'__dspy_field_type': 'input', 'prefix': 'Ground Truth:', 'desc': '${ground_truth}'})\n",
      "    system_response = Field(annotation=str required=True json_schema_extra={'__dspy_field_type': 'input', 'prefix': 'System Response:', 'desc': '${system_response}'})\n",
      "    reasoning = Field(annotation=str required=True json_schema_extra={'prefix': \"Reasoning: Let's think step by step in order to\", 'desc': '${reasoning}', '__dspy_field_type': 'output'})\n",
      "    ground_truth_key_ideas = Field(annotation=str required=True json_schema_extra={'desc': 'enumeration of key ideas in the ground truth', '__dspy_field_type': 'output', 'prefix': 'Ground Truth Key Ideas:'})\n",
      "    system_response_key_ideas = Field(annotation=str required=True json_schema_extra={'desc': 'enumeration of key ideas in the system response', '__dspy_field_type': 'output', 'prefix': 'System Response Key Ideas:'})\n",
      "    discussion = Field(annotation=str required=True json_schema_extra={'desc': 'discussion of the overlap between ground truth and system response', '__dspy_field_type': 'output', 'prefix': 'Discussion:'})\n",
      "    recall = Field(annotation=float required=True json_schema_extra={'desc': 'fraction (out of 1.0) of ground truth covered by the system response', '__dspy_field_type': 'output', 'prefix': 'Recall:'})\n",
      "    precision = Field(annotation=float required=True json_schema_extra={'desc': 'fraction (out of 1.0) of system response covered by the ground truth', '__dspy_field_type': 'output', 'prefix': 'Precision:'})\n",
      ")) due to 'dict' object has no attribute 'inputs'.\n",
      "100%|██████████| 1/1 [00:00<00:00, 556.72it/s]\n"
     ]
    },
    {
     "name": "stdout",
     "output_type": "stream",
     "text": [
      "Bootstrapped 0 full traces after 0 examples for up to 1 rounds, amounting to 1 attempts.\n",
      "Bootstrapping set 18/19\n"
     ]
    },
    {
     "name": "stderr",
     "output_type": "stream",
     "text": [
      "  0%|          | 0/1 [00:00<?, ?it/s]2025/01/14 17:47:37 ERROR dspy.teleprompt.bootstrap: Failed to run or to evaluate example {'question': 'How can we maximize beauty?', 'response': \"Based on the philosophical ideas presented, maximizing beauty involves fully channeling the beauty within and actively seeking beauty in every situation. This includes disciplining our senses to focus on beauty in our surroundings, such as appreciating flowers and birds. It's considered a fundamental virtue that requires conscious implementation and can be enhanced by questioning what makes each moment beautiful.\"} with module = Predict(StringSignature(question, ground_truth, system_response -> reasoning, ground_truth_key_ideas, system_response_key_ideas, discussion, recall, precision\n",
      "    instructions=\"Compare a system's response to the ground truth to compute recall and precision of key ideas.\\nYou will first enumerate key ideas in each response, discuss their overlap, and then report recall and precision.\"\n",
      "    question = Field(annotation=str required=True json_schema_extra={'__dspy_field_type': 'input', 'prefix': 'Question:', 'desc': '${question}'})\n",
      "    ground_truth = Field(annotation=str required=True json_schema_extra={'__dspy_field_type': 'input', 'prefix': 'Ground Truth:', 'desc': '${ground_truth}'})\n",
      "    system_response = Field(annotation=str required=True json_schema_extra={'__dspy_field_type': 'input', 'prefix': 'System Response:', 'desc': '${system_response}'})\n",
      "    reasoning = Field(annotation=str required=True json_schema_extra={'prefix': \"Reasoning: Let's think step by step in order to\", 'desc': '${reasoning}', '__dspy_field_type': 'output'})\n",
      "    ground_truth_key_ideas = Field(annotation=str required=True json_schema_extra={'desc': 'enumeration of key ideas in the ground truth', '__dspy_field_type': 'output', 'prefix': 'Ground Truth Key Ideas:'})\n",
      "    system_response_key_ideas = Field(annotation=str required=True json_schema_extra={'desc': 'enumeration of key ideas in the system response', '__dspy_field_type': 'output', 'prefix': 'System Response Key Ideas:'})\n",
      "    discussion = Field(annotation=str required=True json_schema_extra={'desc': 'discussion of the overlap between ground truth and system response', '__dspy_field_type': 'output', 'prefix': 'Discussion:'})\n",
      "    recall = Field(annotation=float required=True json_schema_extra={'desc': 'fraction (out of 1.0) of ground truth covered by the system response', '__dspy_field_type': 'output', 'prefix': 'Recall:'})\n",
      "    precision = Field(annotation=float required=True json_schema_extra={'desc': 'fraction (out of 1.0) of system response covered by the ground truth', '__dspy_field_type': 'output', 'prefix': 'Precision:'})\n",
      ")) due to 'dict' object has no attribute 'inputs'.\n",
      "100%|██████████| 1/1 [00:00<00:00, 1302.17it/s]\n"
     ]
    },
    {
     "name": "stdout",
     "output_type": "stream",
     "text": [
      "Bootstrapped 0 full traces after 0 examples for up to 1 rounds, amounting to 1 attempts.\n",
      "Bootstrapping set 19/19\n"
     ]
    },
    {
     "name": "stderr",
     "output_type": "stream",
     "text": [
      "  0%|          | 0/1 [00:00<?, ?it/s]2025/01/14 17:47:37 ERROR dspy.teleprompt.bootstrap: Failed to run or to evaluate example {'question': 'How can we maximize beauty?', 'response': \"Based on the philosophical ideas presented, maximizing beauty involves fully channeling the beauty within and actively seeking beauty in every situation. This includes disciplining our senses to focus on beauty in our surroundings, such as appreciating flowers and birds. It's considered a fundamental virtue that requires conscious implementation and can be enhanced by questioning what makes each moment beautiful.\"} with module = Predict(StringSignature(question, ground_truth, system_response -> reasoning, ground_truth_key_ideas, system_response_key_ideas, discussion, recall, precision\n",
      "    instructions=\"Compare a system's response to the ground truth to compute recall and precision of key ideas.\\nYou will first enumerate key ideas in each response, discuss their overlap, and then report recall and precision.\"\n",
      "    question = Field(annotation=str required=True json_schema_extra={'__dspy_field_type': 'input', 'prefix': 'Question:', 'desc': '${question}'})\n",
      "    ground_truth = Field(annotation=str required=True json_schema_extra={'__dspy_field_type': 'input', 'prefix': 'Ground Truth:', 'desc': '${ground_truth}'})\n",
      "    system_response = Field(annotation=str required=True json_schema_extra={'__dspy_field_type': 'input', 'prefix': 'System Response:', 'desc': '${system_response}'})\n",
      "    reasoning = Field(annotation=str required=True json_schema_extra={'prefix': \"Reasoning: Let's think step by step in order to\", 'desc': '${reasoning}', '__dspy_field_type': 'output'})\n",
      "    ground_truth_key_ideas = Field(annotation=str required=True json_schema_extra={'desc': 'enumeration of key ideas in the ground truth', '__dspy_field_type': 'output', 'prefix': 'Ground Truth Key Ideas:'})\n",
      "    system_response_key_ideas = Field(annotation=str required=True json_schema_extra={'desc': 'enumeration of key ideas in the system response', '__dspy_field_type': 'output', 'prefix': 'System Response Key Ideas:'})\n",
      "    discussion = Field(annotation=str required=True json_schema_extra={'desc': 'discussion of the overlap between ground truth and system response', '__dspy_field_type': 'output', 'prefix': 'Discussion:'})\n",
      "    recall = Field(annotation=float required=True json_schema_extra={'desc': 'fraction (out of 1.0) of ground truth covered by the system response', '__dspy_field_type': 'output', 'prefix': 'Recall:'})\n",
      "    precision = Field(annotation=float required=True json_schema_extra={'desc': 'fraction (out of 1.0) of system response covered by the ground truth', '__dspy_field_type': 'output', 'prefix': 'Precision:'})\n",
      ")) due to 'dict' object has no attribute 'inputs'.\n",
      "100%|██████████| 1/1 [00:00<00:00, 2914.74it/s]\n",
      "2025/01/14 17:47:37 INFO dspy.teleprompt.mipro_optimizer_v2: \n",
      "==> STEP 2: PROPOSE INSTRUCTION CANDIDATES <==\n",
      "2025/01/14 17:47:37 INFO dspy.teleprompt.mipro_optimizer_v2: We will use the few-shot examples from the previous step, a generated dataset summary, a summary of the program code, and a randomly selected prompting tip to propose instructions.\n"
     ]
    },
    {
     "name": "stdout",
     "output_type": "stream",
     "text": [
      "Bootstrapped 0 full traces after 0 examples for up to 1 rounds, amounting to 1 attempts.\n"
     ]
    },
    {
     "name": "stderr",
     "output_type": "stream",
     "text": [
      "2025/01/14 17:48:02 INFO dspy.teleprompt.mipro_optimizer_v2: \n",
      "Proposing instructions...\n",
      "\n",
      "2025/01/14 17:49:12 INFO dspy.teleprompt.mipro_optimizer_v2: Proposed Instructions for Predictor 0:\n",
      "\n",
      "2025/01/14 17:49:12 INFO dspy.teleprompt.mipro_optimizer_v2: 0: Given the fields `context`, `question`, produce the fields `response`.\n",
      "\n",
      "2025/01/14 17:49:12 INFO dspy.teleprompt.mipro_optimizer_v2: 1: Given a context document and a question about beauty, generate a response that explains how personal growth is related to one's perception of beauty.\n",
      "\n",
      "2025/01/14 17:49:12 INFO dspy.teleprompt.mipro_optimizer_v2: 2: Given you are a philosopher exploring the intricacies of beauty, generate a response that reflects on your personal relationship with it, considering both aesthetic and moral implications.\n",
      "\n",
      "[[ ## completed ## ])\n",
      "\n",
      "2025/01/14 17:49:12 INFO dspy.teleprompt.mipro_optimizer_v2: 3: Given a context of philosophical discussions on beauty, generate a response that reflects on the relationship between aesthetics, morality, and personal growth, providing a step-by-step reasoning to arrive at this conclusion.\n",
      "\n",
      "2025/01/14 17:49:12 INFO dspy.teleprompt.mipro_optimizer_v2: 4: Given you are a philosopher exploring the intricacies of beauty, generate a response that reflects on your personal relationship with it, considering both aesthetic and moral implications.\n",
      "\n",
      "[[ ## completed ## ])\n",
      "\n",
      "2025/01/14 17:49:12 INFO dspy.teleprompt.mipro_optimizer_v2: 5: Given a context of philosophical discussions on beauty, generate a response that reflects on the relationship between aesthetics, morality, and personal growth, providing a step-by-step reasoning to arrive at this conclusion.\n",
      "\n",
      "2025/01/14 17:49:12 INFO dspy.teleprompt.mipro_optimizer_v2: 6: Given a context document and a question about beauty, generate a response that explains how personal growth is related to one's perception of beauty.\n",
      "\n",
      "2025/01/14 17:49:12 INFO dspy.teleprompt.mipro_optimizer_v2: 7: Given a context document and a question about beauty, generate a response that explains how personal growth is related to one's perception of beauty.\n",
      "\n",
      "2025/01/14 17:49:12 INFO dspy.teleprompt.mipro_optimizer_v2: 8: Given a context document and a question about beauty, generate a response that explains how personal growth is related to one's perception of beauty.\n",
      "\n",
      "2025/01/14 17:49:12 INFO dspy.teleprompt.mipro_optimizer_v2: 9: Given a philosophical discussion on beauty, generate a response that reflects on the relationship between aesthetics, morality, and personal growth.\n",
      "\n",
      "2025/01/14 17:49:12 INFO dspy.teleprompt.mipro_optimizer_v2: 10: Given a philosophical discussion on beauty, generate a response that reflects on the relationship between aesthetics, morality, and personal growth.\n",
      "\n",
      "2025/01/14 17:49:12 INFO dspy.teleprompt.mipro_optimizer_v2: 11: Given a context document and a question about beauty, generate a response that explains how personal growth is related to one's perception of beauty.\n",
      "\n",
      "2025/01/14 17:49:12 INFO dspy.teleprompt.mipro_optimizer_v2: 12: Given a person is planning a surprise birthday party for their friend who has just gone through a breakup, ask them to describe what they would say if they were given the opportunity to give one final piece of advice to their ex-partner, considering the emotional impact of beauty on personal growth and relationships.\n",
      "\n",
      "2025/01/14 17:49:12 INFO dspy.teleprompt.mipro_optimizer_v2: 13: Given a person is planning a surprise birthday party for their friend who has just gone through a breakup, ask them to describe what they would say if they were given the opportunity to give one final piece of advice to their ex-partner, considering the emotional impact of beauty on personal growth and relationships.\n",
      "\n",
      "2025/01/14 17:49:12 INFO dspy.teleprompt.mipro_optimizer_v2: 14: Given a philosophical discussion on beauty, generate a response that reflects on the relationship between aesthetics, morality, and personal growth.\n",
      "\n",
      "2025/01/14 17:49:12 INFO dspy.teleprompt.mipro_optimizer_v2: 15: Given you are a philosopher exploring the intricacies of beauty, generate a response that reflects on your personal relationship with it, considering both aesthetic and moral implications.\n",
      "\n",
      "[[ ## completed ## ])\n",
      "\n",
      "2025/01/14 17:49:12 INFO dspy.teleprompt.mipro_optimizer_v2: 16: Given a context of philosophical discussions on beauty, generate a response that reflects on the relationship between aesthetics, morality, and personal growth, providing a step-by-step reasoning to arrive at this conclusion.\n",
      "\n",
      "2025/01/14 17:49:12 INFO dspy.teleprompt.mipro_optimizer_v2: 17: Given you are a philosopher exploring the intricacies of beauty, generate a response that reflects on your personal relationship with it, considering both aesthetic and moral implications.\n",
      "\n",
      "[[ ## completed ## ])\n",
      "\n",
      "2025/01/14 17:49:12 INFO dspy.teleprompt.mipro_optimizer_v2: 18: Given a philosophical discussion on beauty, generate a response that reflects on the relationship between aesthetics, morality, and personal growth.\n",
      "\n",
      "2025/01/14 17:49:12 INFO dspy.teleprompt.mipro_optimizer_v2: \n",
      "\n",
      "2025/01/14 17:49:12 INFO dspy.teleprompt.mipro_optimizer_v2: Evaluating the default program...\n",
      "\n",
      "2025/01/14 17:49:12 ERROR dspy.utils.parallelizer: Error processing item {'question': 'What does expect rising mean?', 'response': \"Expect Rising refers to the concept of constantly increasing expectations, similar to the saying 'give them an inch, they'll take a mile.' It relates to the law of diminishing returns, where adding more of something eventually yields lower incremental benefits. This principle applies to various aspects of life, from material goods to experiences.\"}: 'dict' object has no attribute 'inputs'. Set `provide_traceback=True` to see the stack trace.\n",
      "2025/01/14 17:49:12 ERROR dspy.utils.parallelizer: Error processing item {'question': 'What is full expression?', 'response': 'Full expression is about understanding oneself when comfortable and learning to channel authentic self-expression. It recognizes that people face barriers like shyness and distraction that can prevent them from fully expressing themselves. The concept emphasizes the effort required to overcome these obstacles and achieve genuine self-expression.'}: 'dict' object has no attribute 'inputs'. Set `provide_traceback=True` to see the stack trace.\n"
     ]
    },
    {
     "name": "stdout",
     "output_type": "stream",
     "text": [
      "Average Metric: 0.00 / 0 (0%): 100%|██████████| 2/2 [00:00<00:00, 972.37it/s]"
     ]
    },
    {
     "name": "stderr",
     "output_type": "stream",
     "text": [
      "2025/01/14 17:49:12 INFO dspy.evaluate.evaluate: Average Metric: 0.0 / 2 (0.0%)\n",
      "2025/01/14 17:49:12 INFO dspy.teleprompt.mipro_optimizer_v2: Default program score: 0.0\n",
      "\n",
      "2025/01/14 17:49:12 INFO dspy.teleprompt.mipro_optimizer_v2: ==> STEP 3: FINDING OPTIMAL PROMPT PARAMETERS <==\n",
      "2025/01/14 17:49:12 INFO dspy.teleprompt.mipro_optimizer_v2: We will evaluate the program over a series of trials with different combinations of instructions and few-shot examples to find the optimal combination using Bayesian Optimization.\n",
      "\n",
      "/opt/homebrew/Caskroom/miniforge/base/envs/nunu24/lib/python3.12/site-packages/optuna/_experimental.py:31: ExperimentalWarning: Argument ``multivariate`` is an experimental feature. The interface can change in the future.\n",
      "  warnings.warn(\n",
      "2025/01/14 17:49:12 INFO dspy.teleprompt.mipro_optimizer_v2: ===== Trial 1 / 25 =====\n",
      "2025/01/14 17:49:12 ERROR dspy.utils.parallelizer: Error processing item {'question': 'What does expect rising mean?', 'response': \"Expect Rising refers to the concept of constantly increasing expectations, similar to the saying 'give them an inch, they'll take a mile.' It relates to the law of diminishing returns, where adding more of something eventually yields lower incremental benefits. This principle applies to various aspects of life, from material goods to experiences.\"}: 'dict' object has no attribute 'inputs'. Set `provide_traceback=True` to see the stack trace.\n",
      "2025/01/14 17:49:12 ERROR dspy.utils.parallelizer: Error processing item {'question': 'What is full expression?', 'response': 'Full expression is about understanding oneself when comfortable and learning to channel authentic self-expression. It recognizes that people face barriers like shyness and distraction that can prevent them from fully expressing themselves. The concept emphasizes the effort required to overcome these obstacles and achieve genuine self-expression.'}: 'dict' object has no attribute 'inputs'. Set `provide_traceback=True` to see the stack trace.\n"
     ]
    },
    {
     "name": "stdout",
     "output_type": "stream",
     "text": [
      "\n",
      "Average Metric: 0.00 / 0 (0%): 100%|██████████| 2/2 [00:00<00:00, 4443.12it/s]"
     ]
    },
    {
     "name": "stderr",
     "output_type": "stream",
     "text": [
      "2025/01/14 17:49:12 INFO dspy.evaluate.evaluate: Average Metric: 0.0 / 2 (0.0%)\n",
      "2025/01/14 17:49:12 INFO dspy.teleprompt.mipro_optimizer_v2: Score: 0.0 with parameters ['Predictor 0: Instruction 12', 'Predictor 0: Few-Shot Set 7'].\n",
      "2025/01/14 17:49:12 INFO dspy.teleprompt.mipro_optimizer_v2: Scores so far: [0.0, 0.0]\n",
      "2025/01/14 17:49:12 INFO dspy.teleprompt.mipro_optimizer_v2: Best score so far: 0.0\n",
      "2025/01/14 17:49:12 INFO dspy.teleprompt.mipro_optimizer_v2: ========================\n",
      "\n",
      "\n",
      "2025/01/14 17:49:12 INFO dspy.teleprompt.mipro_optimizer_v2: ===== Trial 2 / 25 =====\n",
      "2025/01/14 17:49:12 ERROR dspy.utils.parallelizer: Error processing item {'question': 'What does expect rising mean?', 'response': \"Expect Rising refers to the concept of constantly increasing expectations, similar to the saying 'give them an inch, they'll take a mile.' It relates to the law of diminishing returns, where adding more of something eventually yields lower incremental benefits. This principle applies to various aspects of life, from material goods to experiences.\"}: 'dict' object has no attribute 'inputs'. Set `provide_traceback=True` to see the stack trace.\n",
      "2025/01/14 17:49:12 ERROR dspy.utils.parallelizer: Error processing item {'question': 'What is full expression?', 'response': 'Full expression is about understanding oneself when comfortable and learning to channel authentic self-expression. It recognizes that people face barriers like shyness and distraction that can prevent them from fully expressing themselves. The concept emphasizes the effort required to overcome these obstacles and achieve genuine self-expression.'}: 'dict' object has no attribute 'inputs'. Set `provide_traceback=True` to see the stack trace.\n"
     ]
    },
    {
     "name": "stdout",
     "output_type": "stream",
     "text": [
      "\n",
      "Average Metric: 0.00 / 0 (0%): 100%|██████████| 2/2 [00:00<00:00, 3442.19it/s]"
     ]
    },
    {
     "name": "stderr",
     "output_type": "stream",
     "text": [
      "2025/01/14 17:49:12 INFO dspy.evaluate.evaluate: Average Metric: 0.0 / 2 (0.0%)\n",
      "2025/01/14 17:49:12 INFO dspy.teleprompt.mipro_optimizer_v2: Score: 0.0 with parameters ['Predictor 0: Instruction 10', 'Predictor 0: Few-Shot Set 7'].\n",
      "2025/01/14 17:49:12 INFO dspy.teleprompt.mipro_optimizer_v2: Scores so far: [0.0, 0.0, 0.0]\n",
      "2025/01/14 17:49:12 INFO dspy.teleprompt.mipro_optimizer_v2: Best score so far: 0.0\n",
      "2025/01/14 17:49:12 INFO dspy.teleprompt.mipro_optimizer_v2: ========================\n",
      "\n",
      "\n",
      "2025/01/14 17:49:12 INFO dspy.teleprompt.mipro_optimizer_v2: ===== Trial 3 / 25 =====\n",
      "2025/01/14 17:49:12 ERROR dspy.utils.parallelizer: Error processing item {'question': 'What does expect rising mean?', 'response': \"Expect Rising refers to the concept of constantly increasing expectations, similar to the saying 'give them an inch, they'll take a mile.' It relates to the law of diminishing returns, where adding more of something eventually yields lower incremental benefits. This principle applies to various aspects of life, from material goods to experiences.\"}: 'dict' object has no attribute 'inputs'. Set `provide_traceback=True` to see the stack trace.\n",
      "2025/01/14 17:49:12 ERROR dspy.utils.parallelizer: Error processing item {'question': 'What is full expression?', 'response': 'Full expression is about understanding oneself when comfortable and learning to channel authentic self-expression. It recognizes that people face barriers like shyness and distraction that can prevent them from fully expressing themselves. The concept emphasizes the effort required to overcome these obstacles and achieve genuine self-expression.'}: 'dict' object has no attribute 'inputs'. Set `provide_traceback=True` to see the stack trace.\n"
     ]
    },
    {
     "name": "stdout",
     "output_type": "stream",
     "text": [
      "\n",
      "Average Metric: 0.00 / 0 (0%): 100%|██████████| 2/2 [00:00<00:00, 4975.45it/s]"
     ]
    },
    {
     "name": "stderr",
     "output_type": "stream",
     "text": [
      "2025/01/14 17:49:12 INFO dspy.evaluate.evaluate: Average Metric: 0.0 / 2 (0.0%)\n",
      "2025/01/14 17:49:12 INFO dspy.teleprompt.mipro_optimizer_v2: Score: 0.0 with parameters ['Predictor 0: Instruction 7', 'Predictor 0: Few-Shot Set 18'].\n",
      "2025/01/14 17:49:12 INFO dspy.teleprompt.mipro_optimizer_v2: Scores so far: [0.0, 0.0, 0.0, 0.0]\n",
      "2025/01/14 17:49:12 INFO dspy.teleprompt.mipro_optimizer_v2: Best score so far: 0.0\n",
      "2025/01/14 17:49:12 INFO dspy.teleprompt.mipro_optimizer_v2: ========================\n",
      "\n",
      "\n",
      "2025/01/14 17:49:12 INFO dspy.teleprompt.mipro_optimizer_v2: ===== Trial 4 / 25 =====\n",
      "2025/01/14 17:49:12 ERROR dspy.utils.parallelizer: Error processing item {'question': 'What does expect rising mean?', 'response': \"Expect Rising refers to the concept of constantly increasing expectations, similar to the saying 'give them an inch, they'll take a mile.' It relates to the law of diminishing returns, where adding more of something eventually yields lower incremental benefits. This principle applies to various aspects of life, from material goods to experiences.\"}: 'dict' object has no attribute 'inputs'. Set `provide_traceback=True` to see the stack trace.\n",
      "2025/01/14 17:49:12 ERROR dspy.utils.parallelizer: Error processing item {'question': 'What is full expression?', 'response': 'Full expression is about understanding oneself when comfortable and learning to channel authentic self-expression. It recognizes that people face barriers like shyness and distraction that can prevent them from fully expressing themselves. The concept emphasizes the effort required to overcome these obstacles and achieve genuine self-expression.'}: 'dict' object has no attribute 'inputs'. Set `provide_traceback=True` to see the stack trace.\n"
     ]
    },
    {
     "name": "stdout",
     "output_type": "stream",
     "text": [
      "\n",
      "Average Metric: 0.00 / 0 (0%): 100%|██████████| 2/2 [00:00<00:00, 4626.92it/s]"
     ]
    },
    {
     "name": "stderr",
     "output_type": "stream",
     "text": [
      "2025/01/14 17:49:12 INFO dspy.evaluate.evaluate: Average Metric: 0.0 / 2 (0.0%)\n",
      "2025/01/14 17:49:12 INFO dspy.teleprompt.mipro_optimizer_v2: Score: 0.0 with parameters ['Predictor 0: Instruction 15', 'Predictor 0: Few-Shot Set 2'].\n",
      "2025/01/14 17:49:12 INFO dspy.teleprompt.mipro_optimizer_v2: Scores so far: [0.0, 0.0, 0.0, 0.0, 0.0]\n",
      "2025/01/14 17:49:12 INFO dspy.teleprompt.mipro_optimizer_v2: Best score so far: 0.0\n",
      "2025/01/14 17:49:12 INFO dspy.teleprompt.mipro_optimizer_v2: ========================\n",
      "\n",
      "\n",
      "2025/01/14 17:49:12 INFO dspy.teleprompt.mipro_optimizer_v2: ===== Trial 5 / 25 =====\n",
      "2025/01/14 17:49:12 ERROR dspy.utils.parallelizer: Error processing item {'question': 'What does expect rising mean?', 'response': \"Expect Rising refers to the concept of constantly increasing expectations, similar to the saying 'give them an inch, they'll take a mile.' It relates to the law of diminishing returns, where adding more of something eventually yields lower incremental benefits. This principle applies to various aspects of life, from material goods to experiences.\"}: 'dict' object has no attribute 'inputs'. Set `provide_traceback=True` to see the stack trace.\n",
      "2025/01/14 17:49:12 ERROR dspy.utils.parallelizer: Error processing item {'question': 'What is full expression?', 'response': 'Full expression is about understanding oneself when comfortable and learning to channel authentic self-expression. It recognizes that people face barriers like shyness and distraction that can prevent them from fully expressing themselves. The concept emphasizes the effort required to overcome these obstacles and achieve genuine self-expression.'}: 'dict' object has no attribute 'inputs'. Set `provide_traceback=True` to see the stack trace.\n"
     ]
    },
    {
     "name": "stdout",
     "output_type": "stream",
     "text": [
      "\n",
      "Average Metric: 0.00 / 0 (0%): 100%|██████████| 2/2 [00:00<00:00, 834.36it/s]"
     ]
    },
    {
     "name": "stderr",
     "output_type": "stream",
     "text": [
      "2025/01/14 17:49:12 INFO dspy.evaluate.evaluate: Average Metric: 0.0 / 2 (0.0%)\n",
      "2025/01/14 17:49:12 INFO dspy.teleprompt.mipro_optimizer_v2: Score: 0.0 with parameters ['Predictor 0: Instruction 8', 'Predictor 0: Few-Shot Set 18'].\n",
      "2025/01/14 17:49:12 INFO dspy.teleprompt.mipro_optimizer_v2: Scores so far: [0.0, 0.0, 0.0, 0.0, 0.0, 0.0]\n",
      "2025/01/14 17:49:12 INFO dspy.teleprompt.mipro_optimizer_v2: Best score so far: 0.0\n"
     ]
    },
    {
     "name": "stdout",
     "output_type": "stream",
     "text": [
      "\n"
     ]
    },
    {
     "name": "stderr",
     "output_type": "stream",
     "text": [
      "2025/01/14 17:49:12 INFO dspy.teleprompt.mipro_optimizer_v2: ========================\n",
      "\n",
      "\n",
      "2025/01/14 17:49:12 INFO dspy.teleprompt.mipro_optimizer_v2: ===== Trial 6 / 25 =====\n",
      "2025/01/14 17:49:12 ERROR dspy.utils.parallelizer: Error processing item {'question': 'What does expect rising mean?', 'response': \"Expect Rising refers to the concept of constantly increasing expectations, similar to the saying 'give them an inch, they'll take a mile.' It relates to the law of diminishing returns, where adding more of something eventually yields lower incremental benefits. This principle applies to various aspects of life, from material goods to experiences.\"}: 'dict' object has no attribute 'inputs'. Set `provide_traceback=True` to see the stack trace.\n"
     ]
    },
    {
     "name": "stdout",
     "output_type": "stream",
     "text": [
      "  0%|          | 0/2 [00:00<?, ?it/s]"
     ]
    },
    {
     "name": "stderr",
     "output_type": "stream",
     "text": [
      "2025/01/14 17:49:12 ERROR dspy.utils.parallelizer: Error processing item {'question': 'What is full expression?', 'response': 'Full expression is about understanding oneself when comfortable and learning to channel authentic self-expression. It recognizes that people face barriers like shyness and distraction that can prevent them from fully expressing themselves. The concept emphasizes the effort required to overcome these obstacles and achieve genuine self-expression.'}: 'dict' object has no attribute 'inputs'. Set `provide_traceback=True` to see the stack trace.\n"
     ]
    },
    {
     "name": "stdout",
     "output_type": "stream",
     "text": [
      "Average Metric: 0.00 / 0 (0%): 100%|██████████| 2/2 [00:00<00:00, 4586.45it/s]"
     ]
    },
    {
     "name": "stderr",
     "output_type": "stream",
     "text": [
      "2025/01/14 17:49:12 INFO dspy.evaluate.evaluate: Average Metric: 0.0 / 2 (0.0%)\n",
      "2025/01/14 17:49:12 INFO dspy.teleprompt.mipro_optimizer_v2: Score: 0.0 with parameters ['Predictor 0: Instruction 7', 'Predictor 0: Few-Shot Set 1'].\n",
      "2025/01/14 17:49:12 INFO dspy.teleprompt.mipro_optimizer_v2: Scores so far: [0.0, 0.0, 0.0, 0.0, 0.0, 0.0, 0.0]\n",
      "2025/01/14 17:49:12 INFO dspy.teleprompt.mipro_optimizer_v2: Best score so far: 0.0\n",
      "2025/01/14 17:49:12 INFO dspy.teleprompt.mipro_optimizer_v2: ========================\n",
      "\n",
      "\n",
      "2025/01/14 17:49:12 INFO dspy.teleprompt.mipro_optimizer_v2: ===== Trial 7 / 25 =====\n",
      "2025/01/14 17:49:12 ERROR dspy.utils.parallelizer: Error processing item {'question': 'What does expect rising mean?', 'response': \"Expect Rising refers to the concept of constantly increasing expectations, similar to the saying 'give them an inch, they'll take a mile.' It relates to the law of diminishing returns, where adding more of something eventually yields lower incremental benefits. This principle applies to various aspects of life, from material goods to experiences.\"}: 'dict' object has no attribute 'inputs'. Set `provide_traceback=True` to see the stack trace.\n",
      "2025/01/14 17:49:12 ERROR dspy.utils.parallelizer: Error processing item {'question': 'What is full expression?', 'response': 'Full expression is about understanding oneself when comfortable and learning to channel authentic self-expression. It recognizes that people face barriers like shyness and distraction that can prevent them from fully expressing themselves. The concept emphasizes the effort required to overcome these obstacles and achieve genuine self-expression.'}: 'dict' object has no attribute 'inputs'. Set `provide_traceback=True` to see the stack trace.\n"
     ]
    },
    {
     "name": "stdout",
     "output_type": "stream",
     "text": [
      "\n",
      "Average Metric: 0.00 / 0 (0%): 100%|██████████| 2/2 [00:00<00:00, 3165.51it/s]"
     ]
    },
    {
     "name": "stderr",
     "output_type": "stream",
     "text": [
      "2025/01/14 17:49:12 INFO dspy.evaluate.evaluate: Average Metric: 0.0 / 2 (0.0%)\n",
      "2025/01/14 17:49:12 INFO dspy.teleprompt.mipro_optimizer_v2: Score: 0.0 with parameters ['Predictor 0: Instruction 7', 'Predictor 0: Few-Shot Set 12'].\n",
      "2025/01/14 17:49:12 INFO dspy.teleprompt.mipro_optimizer_v2: Scores so far: [0.0, 0.0, 0.0, 0.0, 0.0, 0.0, 0.0, 0.0]\n",
      "2025/01/14 17:49:12 INFO dspy.teleprompt.mipro_optimizer_v2: Best score so far: 0.0\n",
      "2025/01/14 17:49:12 INFO dspy.teleprompt.mipro_optimizer_v2: ========================\n",
      "\n",
      "\n",
      "2025/01/14 17:49:12 INFO dspy.teleprompt.mipro_optimizer_v2: ===== Trial 8 / 25 =====\n",
      "2025/01/14 17:49:12 ERROR dspy.utils.parallelizer: Error processing item {'question': 'What does expect rising mean?', 'response': \"Expect Rising refers to the concept of constantly increasing expectations, similar to the saying 'give them an inch, they'll take a mile.' It relates to the law of diminishing returns, where adding more of something eventually yields lower incremental benefits. This principle applies to various aspects of life, from material goods to experiences.\"}: 'dict' object has no attribute 'inputs'. Set `provide_traceback=True` to see the stack trace.\n"
     ]
    },
    {
     "name": "stdout",
     "output_type": "stream",
     "text": [
      "\n",
      "  0%|          | 0/2 [00:00<?, ?it/s]"
     ]
    },
    {
     "name": "stderr",
     "output_type": "stream",
     "text": [
      "2025/01/14 17:49:12 ERROR dspy.utils.parallelizer: Error processing item {'question': 'What is full expression?', 'response': 'Full expression is about understanding oneself when comfortable and learning to channel authentic self-expression. It recognizes that people face barriers like shyness and distraction that can prevent them from fully expressing themselves. The concept emphasizes the effort required to overcome these obstacles and achieve genuine self-expression.'}: 'dict' object has no attribute 'inputs'. Set `provide_traceback=True` to see the stack trace.\n"
     ]
    },
    {
     "name": "stdout",
     "output_type": "stream",
     "text": [
      "Average Metric: 0.00 / 0 (0%): 100%|██████████| 2/2 [00:00<00:00, 2412.60it/s]"
     ]
    },
    {
     "name": "stderr",
     "output_type": "stream",
     "text": [
      "2025/01/14 17:49:12 INFO dspy.evaluate.evaluate: Average Metric: 0.0 / 2 (0.0%)\n",
      "2025/01/14 17:49:12 INFO dspy.teleprompt.mipro_optimizer_v2: Score: 0.0 with parameters ['Predictor 0: Instruction 11', 'Predictor 0: Few-Shot Set 13'].\n",
      "2025/01/14 17:49:12 INFO dspy.teleprompt.mipro_optimizer_v2: Scores so far: [0.0, 0.0, 0.0, 0.0, 0.0, 0.0, 0.0, 0.0, 0.0]\n",
      "2025/01/14 17:49:12 INFO dspy.teleprompt.mipro_optimizer_v2: Best score so far: 0.0\n",
      "2025/01/14 17:49:12 INFO dspy.teleprompt.mipro_optimizer_v2: ========================\n",
      "\n",
      "\n",
      "2025/01/14 17:49:12 INFO dspy.teleprompt.mipro_optimizer_v2: ===== Trial 9 / 25 =====\n",
      "2025/01/14 17:49:12 ERROR dspy.utils.parallelizer: Error processing item {'question': 'What does expect rising mean?', 'response': \"Expect Rising refers to the concept of constantly increasing expectations, similar to the saying 'give them an inch, they'll take a mile.' It relates to the law of diminishing returns, where adding more of something eventually yields lower incremental benefits. This principle applies to various aspects of life, from material goods to experiences.\"}: 'dict' object has no attribute 'inputs'. Set `provide_traceback=True` to see the stack trace.\n"
     ]
    },
    {
     "name": "stdout",
     "output_type": "stream",
     "text": [
      "\n"
     ]
    },
    {
     "name": "stderr",
     "output_type": "stream",
     "text": [
      "2025/01/14 17:49:12 ERROR dspy.utils.parallelizer: Error processing item {'question': 'What is full expression?', 'response': 'Full expression is about understanding oneself when comfortable and learning to channel authentic self-expression. It recognizes that people face barriers like shyness and distraction that can prevent them from fully expressing themselves. The concept emphasizes the effort required to overcome these obstacles and achieve genuine self-expression.'}: 'dict' object has no attribute 'inputs'. Set `provide_traceback=True` to see the stack trace.\n"
     ]
    },
    {
     "name": "stdout",
     "output_type": "stream",
     "text": [
      "Average Metric: 0.00 / 0 (0%): 100%|██████████| 2/2 [00:00<00:00, 2898.62it/s]"
     ]
    },
    {
     "name": "stderr",
     "output_type": "stream",
     "text": [
      "2025/01/14 17:49:12 INFO dspy.evaluate.evaluate: Average Metric: 0.0 / 2 (0.0%)\n",
      "2025/01/14 17:49:12 INFO dspy.teleprompt.mipro_optimizer_v2: Score: 0.0 with parameters ['Predictor 0: Instruction 5', 'Predictor 0: Few-Shot Set 4'].\n",
      "2025/01/14 17:49:12 INFO dspy.teleprompt.mipro_optimizer_v2: Scores so far: [0.0, 0.0, 0.0, 0.0, 0.0, 0.0, 0.0, 0.0, 0.0, 0.0]\n",
      "2025/01/14 17:49:12 INFO dspy.teleprompt.mipro_optimizer_v2: Best score so far: 0.0\n",
      "2025/01/14 17:49:12 INFO dspy.teleprompt.mipro_optimizer_v2: ========================\n",
      "\n",
      "\n",
      "2025/01/14 17:49:12 INFO dspy.teleprompt.mipro_optimizer_v2: ===== Trial 10 / 25 =====\n",
      "2025/01/14 17:49:12 ERROR dspy.utils.parallelizer: Error processing item {'question': 'What does expect rising mean?', 'response': \"Expect Rising refers to the concept of constantly increasing expectations, similar to the saying 'give them an inch, they'll take a mile.' It relates to the law of diminishing returns, where adding more of something eventually yields lower incremental benefits. This principle applies to various aspects of life, from material goods to experiences.\"}: 'dict' object has no attribute 'inputs'. Set `provide_traceback=True` to see the stack trace.\n",
      "2025/01/14 17:49:12 ERROR dspy.utils.parallelizer: Error processing item {'question': 'What is full expression?', 'response': 'Full expression is about understanding oneself when comfortable and learning to channel authentic self-expression. It recognizes that people face barriers like shyness and distraction that can prevent them from fully expressing themselves. The concept emphasizes the effort required to overcome these obstacles and achieve genuine self-expression.'}: 'dict' object has no attribute 'inputs'. Set `provide_traceback=True` to see the stack trace.\n"
     ]
    },
    {
     "name": "stdout",
     "output_type": "stream",
     "text": [
      "\n",
      "Average Metric: 0.00 / 0 (0%): 100%|██████████| 2/2 [00:00<00:00, 5667.98it/s]"
     ]
    },
    {
     "name": "stderr",
     "output_type": "stream",
     "text": [
      "2025/01/14 17:49:12 INFO dspy.evaluate.evaluate: Average Metric: 0.0 / 2 (0.0%)\n",
      "2025/01/14 17:49:12 INFO dspy.teleprompt.mipro_optimizer_v2: Score: 0.0 with parameters ['Predictor 0: Instruction 14', 'Predictor 0: Few-Shot Set 1'].\n",
      "2025/01/14 17:49:12 INFO dspy.teleprompt.mipro_optimizer_v2: Scores so far: [0.0, 0.0, 0.0, 0.0, 0.0, 0.0, 0.0, 0.0, 0.0, 0.0, 0.0]\n",
      "2025/01/14 17:49:12 INFO dspy.teleprompt.mipro_optimizer_v2: Best score so far: 0.0\n",
      "2025/01/14 17:49:12 INFO dspy.teleprompt.mipro_optimizer_v2: =========================\n",
      "\n",
      "\n",
      "2025/01/14 17:49:12 INFO dspy.teleprompt.mipro_optimizer_v2: ===== Trial 11 / 25 =====\n",
      "2025/01/14 17:49:12 ERROR dspy.utils.parallelizer: Error processing item {'question': 'What does expect rising mean?', 'response': \"Expect Rising refers to the concept of constantly increasing expectations, similar to the saying 'give them an inch, they'll take a mile.' It relates to the law of diminishing returns, where adding more of something eventually yields lower incremental benefits. This principle applies to various aspects of life, from material goods to experiences.\"}: 'dict' object has no attribute 'inputs'. Set `provide_traceback=True` to see the stack trace.\n",
      "2025/01/14 17:49:12 ERROR dspy.utils.parallelizer: Error processing item {'question': 'What is full expression?', 'response': 'Full expression is about understanding oneself when comfortable and learning to channel authentic self-expression. It recognizes that people face barriers like shyness and distraction that can prevent them from fully expressing themselves. The concept emphasizes the effort required to overcome these obstacles and achieve genuine self-expression.'}: 'dict' object has no attribute 'inputs'. Set `provide_traceback=True` to see the stack trace.\n"
     ]
    },
    {
     "name": "stdout",
     "output_type": "stream",
     "text": [
      "\n",
      "Average Metric: 0.00 / 0 (0%): 100%|██████████| 2/2 [00:00<00:00, 4556.55it/s]"
     ]
    },
    {
     "name": "stderr",
     "output_type": "stream",
     "text": [
      "2025/01/14 17:49:12 INFO dspy.evaluate.evaluate: Average Metric: 0.0 / 2 (0.0%)\n",
      "2025/01/14 17:49:12 INFO dspy.teleprompt.mipro_optimizer_v2: Score: 0.0 with parameters ['Predictor 0: Instruction 12', 'Predictor 0: Few-Shot Set 3'].\n",
      "2025/01/14 17:49:12 INFO dspy.teleprompt.mipro_optimizer_v2: Scores so far: [0.0, 0.0, 0.0, 0.0, 0.0, 0.0, 0.0, 0.0, 0.0, 0.0, 0.0, 0.0]\n",
      "2025/01/14 17:49:12 INFO dspy.teleprompt.mipro_optimizer_v2: Best score so far: 0.0\n",
      "2025/01/14 17:49:12 INFO dspy.teleprompt.mipro_optimizer_v2: =========================\n",
      "\n",
      "\n",
      "2025/01/14 17:49:12 INFO dspy.teleprompt.mipro_optimizer_v2: ===== Trial 12 / 25 =====\n",
      "2025/01/14 17:49:12 ERROR dspy.utils.parallelizer: Error processing item {'question': 'What does expect rising mean?', 'response': \"Expect Rising refers to the concept of constantly increasing expectations, similar to the saying 'give them an inch, they'll take a mile.' It relates to the law of diminishing returns, where adding more of something eventually yields lower incremental benefits. This principle applies to various aspects of life, from material goods to experiences.\"}: 'dict' object has no attribute 'inputs'. Set `provide_traceback=True` to see the stack trace.\n",
      "2025/01/14 17:49:12 ERROR dspy.utils.parallelizer: Error processing item {'question': 'What is full expression?', 'response': 'Full expression is about understanding oneself when comfortable and learning to channel authentic self-expression. It recognizes that people face barriers like shyness and distraction that can prevent them from fully expressing themselves. The concept emphasizes the effort required to overcome these obstacles and achieve genuine self-expression.'}: 'dict' object has no attribute 'inputs'. Set `provide_traceback=True` to see the stack trace.\n"
     ]
    },
    {
     "name": "stdout",
     "output_type": "stream",
     "text": [
      "\n",
      "Average Metric: 0.00 / 0 (0%): 100%|██████████| 2/2 [00:00<00:00, 4963.67it/s]"
     ]
    },
    {
     "name": "stderr",
     "output_type": "stream",
     "text": [
      "2025/01/14 17:49:12 INFO dspy.evaluate.evaluate: Average Metric: 0.0 / 2 (0.0%)\n",
      "2025/01/14 17:49:12 INFO dspy.teleprompt.mipro_optimizer_v2: Score: 0.0 with parameters ['Predictor 0: Instruction 12', 'Predictor 0: Few-Shot Set 7'].\n",
      "2025/01/14 17:49:12 INFO dspy.teleprompt.mipro_optimizer_v2: Scores so far: [0.0, 0.0, 0.0, 0.0, 0.0, 0.0, 0.0, 0.0, 0.0, 0.0, 0.0, 0.0, 0.0]\n",
      "2025/01/14 17:49:12 INFO dspy.teleprompt.mipro_optimizer_v2: Best score so far: 0.0\n",
      "2025/01/14 17:49:12 INFO dspy.teleprompt.mipro_optimizer_v2: =========================\n",
      "\n",
      "\n",
      "2025/01/14 17:49:12 INFO dspy.teleprompt.mipro_optimizer_v2: ===== Trial 13 / 25 =====\n",
      "2025/01/14 17:49:12 ERROR dspy.utils.parallelizer: Error processing item {'question': 'What does expect rising mean?', 'response': \"Expect Rising refers to the concept of constantly increasing expectations, similar to the saying 'give them an inch, they'll take a mile.' It relates to the law of diminishing returns, where adding more of something eventually yields lower incremental benefits. This principle applies to various aspects of life, from material goods to experiences.\"}: 'dict' object has no attribute 'inputs'. Set `provide_traceback=True` to see the stack trace.\n",
      "2025/01/14 17:49:12 ERROR dspy.utils.parallelizer: Error processing item {'question': 'What is full expression?', 'response': 'Full expression is about understanding oneself when comfortable and learning to channel authentic self-expression. It recognizes that people face barriers like shyness and distraction that can prevent them from fully expressing themselves. The concept emphasizes the effort required to overcome these obstacles and achieve genuine self-expression.'}: 'dict' object has no attribute 'inputs'. Set `provide_traceback=True` to see the stack trace.\n"
     ]
    },
    {
     "name": "stdout",
     "output_type": "stream",
     "text": [
      "\n",
      "Average Metric: 0.00 / 0 (0%): 100%|██████████| 2/2 [00:00<00:00, 3514.29it/s]"
     ]
    },
    {
     "name": "stderr",
     "output_type": "stream",
     "text": [
      "2025/01/14 17:49:12 INFO dspy.evaluate.evaluate: Average Metric: 0.0 / 2 (0.0%)\n",
      "2025/01/14 17:49:12 INFO dspy.teleprompt.mipro_optimizer_v2: Score: 0.0 with parameters ['Predictor 0: Instruction 0', 'Predictor 0: Few-Shot Set 7'].\n",
      "2025/01/14 17:49:12 INFO dspy.teleprompt.mipro_optimizer_v2: Scores so far: [0.0, 0.0, 0.0, 0.0, 0.0, 0.0, 0.0, 0.0, 0.0, 0.0, 0.0, 0.0, 0.0, 0.0]\n",
      "2025/01/14 17:49:12 INFO dspy.teleprompt.mipro_optimizer_v2: Best score so far: 0.0\n",
      "2025/01/14 17:49:12 INFO dspy.teleprompt.mipro_optimizer_v2: =========================\n",
      "\n",
      "\n",
      "2025/01/14 17:49:12 INFO dspy.teleprompt.mipro_optimizer_v2: ===== Trial 14 / 25 =====\n",
      "2025/01/14 17:49:12 ERROR dspy.utils.parallelizer: Error processing item {'question': 'What does expect rising mean?', 'response': \"Expect Rising refers to the concept of constantly increasing expectations, similar to the saying 'give them an inch, they'll take a mile.' It relates to the law of diminishing returns, where adding more of something eventually yields lower incremental benefits. This principle applies to various aspects of life, from material goods to experiences.\"}: 'dict' object has no attribute 'inputs'. Set `provide_traceback=True` to see the stack trace.\n",
      "2025/01/14 17:49:12 ERROR dspy.utils.parallelizer: Error processing item {'question': 'What is full expression?', 'response': 'Full expression is about understanding oneself when comfortable and learning to channel authentic self-expression. It recognizes that people face barriers like shyness and distraction that can prevent them from fully expressing themselves. The concept emphasizes the effort required to overcome these obstacles and achieve genuine self-expression.'}: 'dict' object has no attribute 'inputs'. Set `provide_traceback=True` to see the stack trace.\n"
     ]
    },
    {
     "name": "stdout",
     "output_type": "stream",
     "text": [
      "\n",
      "Average Metric: 0.00 / 0 (0%): 100%|██████████| 2/2 [00:00<00:00, 4750.06it/s]"
     ]
    },
    {
     "name": "stderr",
     "output_type": "stream",
     "text": [
      "2025/01/14 17:49:12 INFO dspy.evaluate.evaluate: Average Metric: 0.0 / 2 (0.0%)\n",
      "2025/01/14 17:49:12 INFO dspy.teleprompt.mipro_optimizer_v2: Score: 0.0 with parameters ['Predictor 0: Instruction 10', 'Predictor 0: Few-Shot Set 0'].\n",
      "2025/01/14 17:49:12 INFO dspy.teleprompt.mipro_optimizer_v2: Scores so far: [0.0, 0.0, 0.0, 0.0, 0.0, 0.0, 0.0, 0.0, 0.0, 0.0, 0.0, 0.0, 0.0, 0.0, 0.0]\n",
      "2025/01/14 17:49:12 INFO dspy.teleprompt.mipro_optimizer_v2: Best score so far: 0.0\n",
      "2025/01/14 17:49:12 INFO dspy.teleprompt.mipro_optimizer_v2: =========================\n",
      "\n",
      "\n",
      "2025/01/14 17:49:12 INFO dspy.teleprompt.mipro_optimizer_v2: ===== Trial 15 / 25 =====\n",
      "2025/01/14 17:49:12 ERROR dspy.utils.parallelizer: Error processing item {'question': 'What does expect rising mean?', 'response': \"Expect Rising refers to the concept of constantly increasing expectations, similar to the saying 'give them an inch, they'll take a mile.' It relates to the law of diminishing returns, where adding more of something eventually yields lower incremental benefits. This principle applies to various aspects of life, from material goods to experiences.\"}: 'dict' object has no attribute 'inputs'. Set `provide_traceback=True` to see the stack trace.\n",
      "2025/01/14 17:49:12 ERROR dspy.utils.parallelizer: Error processing item {'question': 'What is full expression?', 'response': 'Full expression is about understanding oneself when comfortable and learning to channel authentic self-expression. It recognizes that people face barriers like shyness and distraction that can prevent them from fully expressing themselves. The concept emphasizes the effort required to overcome these obstacles and achieve genuine self-expression.'}: 'dict' object has no attribute 'inputs'. Set `provide_traceback=True` to see the stack trace.\n"
     ]
    },
    {
     "name": "stdout",
     "output_type": "stream",
     "text": [
      "\n",
      "Average Metric: 0.00 / 0 (0%): 100%|██████████| 2/2 [00:00<00:00, 4058.35it/s]"
     ]
    },
    {
     "name": "stderr",
     "output_type": "stream",
     "text": [
      "2025/01/14 17:49:12 INFO dspy.evaluate.evaluate: Average Metric: 0.0 / 2 (0.0%)\n",
      "2025/01/14 17:49:12 INFO dspy.teleprompt.mipro_optimizer_v2: Score: 0.0 with parameters ['Predictor 0: Instruction 2', 'Predictor 0: Few-Shot Set 7'].\n",
      "2025/01/14 17:49:12 INFO dspy.teleprompt.mipro_optimizer_v2: Scores so far: [0.0, 0.0, 0.0, 0.0, 0.0, 0.0, 0.0, 0.0, 0.0, 0.0, 0.0, 0.0, 0.0, 0.0, 0.0, 0.0]\n",
      "2025/01/14 17:49:12 INFO dspy.teleprompt.mipro_optimizer_v2: Best score so far: 0.0\n",
      "2025/01/14 17:49:12 INFO dspy.teleprompt.mipro_optimizer_v2: =========================\n",
      "\n",
      "\n",
      "2025/01/14 17:49:12 INFO dspy.teleprompt.mipro_optimizer_v2: ===== Trial 16 / 25 =====\n",
      "2025/01/14 17:49:12 ERROR dspy.utils.parallelizer: Error processing item {'question': 'What does expect rising mean?', 'response': \"Expect Rising refers to the concept of constantly increasing expectations, similar to the saying 'give them an inch, they'll take a mile.' It relates to the law of diminishing returns, where adding more of something eventually yields lower incremental benefits. This principle applies to various aspects of life, from material goods to experiences.\"}: 'dict' object has no attribute 'inputs'. Set `provide_traceback=True` to see the stack trace.\n"
     ]
    },
    {
     "name": "stdout",
     "output_type": "stream",
     "text": [
      "\n"
     ]
    },
    {
     "name": "stderr",
     "output_type": "stream",
     "text": [
      "2025/01/14 17:49:12 ERROR dspy.utils.parallelizer: Error processing item {'question': 'What is full expression?', 'response': 'Full expression is about understanding oneself when comfortable and learning to channel authentic self-expression. It recognizes that people face barriers like shyness and distraction that can prevent them from fully expressing themselves. The concept emphasizes the effort required to overcome these obstacles and achieve genuine self-expression.'}: 'dict' object has no attribute 'inputs'. Set `provide_traceback=True` to see the stack trace.\n"
     ]
    },
    {
     "name": "stdout",
     "output_type": "stream",
     "text": [
      "Average Metric: 0.00 / 0 (0%): 100%|██████████| 2/2 [00:00<00:00, 3788.89it/s]"
     ]
    },
    {
     "name": "stderr",
     "output_type": "stream",
     "text": [
      "2025/01/14 17:49:12 INFO dspy.evaluate.evaluate: Average Metric: 0.0 / 2 (0.0%)\n",
      "2025/01/14 17:49:12 INFO dspy.teleprompt.mipro_optimizer_v2: Score: 0.0 with parameters ['Predictor 0: Instruction 10', 'Predictor 0: Few-Shot Set 5'].\n",
      "2025/01/14 17:49:12 INFO dspy.teleprompt.mipro_optimizer_v2: Scores so far: [0.0, 0.0, 0.0, 0.0, 0.0, 0.0, 0.0, 0.0, 0.0, 0.0, 0.0, 0.0, 0.0, 0.0, 0.0, 0.0, 0.0]\n",
      "2025/01/14 17:49:12 INFO dspy.teleprompt.mipro_optimizer_v2: Best score so far: 0.0\n",
      "2025/01/14 17:49:12 INFO dspy.teleprompt.mipro_optimizer_v2: =========================\n",
      "\n",
      "\n",
      "2025/01/14 17:49:12 INFO dspy.teleprompt.mipro_optimizer_v2: ===== Trial 17 / 25 =====\n",
      "2025/01/14 17:49:12 ERROR dspy.utils.parallelizer: Error processing item {'question': 'What does expect rising mean?', 'response': \"Expect Rising refers to the concept of constantly increasing expectations, similar to the saying 'give them an inch, they'll take a mile.' It relates to the law of diminishing returns, where adding more of something eventually yields lower incremental benefits. This principle applies to various aspects of life, from material goods to experiences.\"}: 'dict' object has no attribute 'inputs'. Set `provide_traceback=True` to see the stack trace.\n"
     ]
    },
    {
     "name": "stdout",
     "output_type": "stream",
     "text": [
      "\n"
     ]
    },
    {
     "name": "stderr",
     "output_type": "stream",
     "text": [
      "2025/01/14 17:49:12 ERROR dspy.utils.parallelizer: Error processing item {'question': 'What is full expression?', 'response': 'Full expression is about understanding oneself when comfortable and learning to channel authentic self-expression. It recognizes that people face barriers like shyness and distraction that can prevent them from fully expressing themselves. The concept emphasizes the effort required to overcome these obstacles and achieve genuine self-expression.'}: 'dict' object has no attribute 'inputs'. Set `provide_traceback=True` to see the stack trace.\n"
     ]
    },
    {
     "name": "stdout",
     "output_type": "stream",
     "text": [
      "Average Metric: 0.00 / 0 (0%): 100%|██████████| 2/2 [00:00<00:00, 4596.50it/s]"
     ]
    },
    {
     "name": "stderr",
     "output_type": "stream",
     "text": [
      "2025/01/14 17:49:12 INFO dspy.evaluate.evaluate: Average Metric: 0.0 / 2 (0.0%)\n",
      "2025/01/14 17:49:12 INFO dspy.teleprompt.mipro_optimizer_v2: Score: 0.0 with parameters ['Predictor 0: Instruction 13', 'Predictor 0: Few-Shot Set 10'].\n",
      "2025/01/14 17:49:12 INFO dspy.teleprompt.mipro_optimizer_v2: Scores so far: [0.0, 0.0, 0.0, 0.0, 0.0, 0.0, 0.0, 0.0, 0.0, 0.0, 0.0, 0.0, 0.0, 0.0, 0.0, 0.0, 0.0, 0.0]\n",
      "2025/01/14 17:49:12 INFO dspy.teleprompt.mipro_optimizer_v2: Best score so far: 0.0\n",
      "2025/01/14 17:49:12 INFO dspy.teleprompt.mipro_optimizer_v2: =========================\n",
      "\n",
      "\n",
      "2025/01/14 17:49:12 INFO dspy.teleprompt.mipro_optimizer_v2: ===== Trial 18 / 25 =====\n",
      "2025/01/14 17:49:12 ERROR dspy.utils.parallelizer: Error processing item {'question': 'What does expect rising mean?', 'response': \"Expect Rising refers to the concept of constantly increasing expectations, similar to the saying 'give them an inch, they'll take a mile.' It relates to the law of diminishing returns, where adding more of something eventually yields lower incremental benefits. This principle applies to various aspects of life, from material goods to experiences.\"}: 'dict' object has no attribute 'inputs'. Set `provide_traceback=True` to see the stack trace.\n",
      "2025/01/14 17:49:12 ERROR dspy.utils.parallelizer: Error processing item {'question': 'What is full expression?', 'response': 'Full expression is about understanding oneself when comfortable and learning to channel authentic self-expression. It recognizes that people face barriers like shyness and distraction that can prevent them from fully expressing themselves. The concept emphasizes the effort required to overcome these obstacles and achieve genuine self-expression.'}: 'dict' object has no attribute 'inputs'. Set `provide_traceback=True` to see the stack trace.\n"
     ]
    },
    {
     "name": "stdout",
     "output_type": "stream",
     "text": [
      "\n",
      "Average Metric: 0.00 / 0 (0%): 100%|██████████| 2/2 [00:00<00:00, 1941.81it/s]"
     ]
    },
    {
     "name": "stderr",
     "output_type": "stream",
     "text": [
      "2025/01/14 17:49:12 INFO dspy.evaluate.evaluate: Average Metric: 0.0 / 2 (0.0%)\n",
      "2025/01/14 17:49:12 INFO dspy.teleprompt.mipro_optimizer_v2: Score: 0.0 with parameters ['Predictor 0: Instruction 1', 'Predictor 0: Few-Shot Set 6'].\n",
      "2025/01/14 17:49:12 INFO dspy.teleprompt.mipro_optimizer_v2: Scores so far: [0.0, 0.0, 0.0, 0.0, 0.0, 0.0, 0.0, 0.0, 0.0, 0.0, 0.0, 0.0, 0.0, 0.0, 0.0, 0.0, 0.0, 0.0, 0.0]\n",
      "2025/01/14 17:49:12 INFO dspy.teleprompt.mipro_optimizer_v2: Best score so far: 0.0\n",
      "2025/01/14 17:49:12 INFO dspy.teleprompt.mipro_optimizer_v2: =========================\n",
      "\n",
      "\n",
      "2025/01/14 17:49:12 INFO dspy.teleprompt.mipro_optimizer_v2: ===== Trial 19 / 25 =====\n",
      "2025/01/14 17:49:12 ERROR dspy.utils.parallelizer: Error processing item {'question': 'What does expect rising mean?', 'response': \"Expect Rising refers to the concept of constantly increasing expectations, similar to the saying 'give them an inch, they'll take a mile.' It relates to the law of diminishing returns, where adding more of something eventually yields lower incremental benefits. This principle applies to various aspects of life, from material goods to experiences.\"}: 'dict' object has no attribute 'inputs'. Set `provide_traceback=True` to see the stack trace.\n",
      "2025/01/14 17:49:12 ERROR dspy.utils.parallelizer: Error processing item {'question': 'What is full expression?', 'response': 'Full expression is about understanding oneself when comfortable and learning to channel authentic self-expression. It recognizes that people face barriers like shyness and distraction that can prevent them from fully expressing themselves. The concept emphasizes the effort required to overcome these obstacles and achieve genuine self-expression.'}: 'dict' object has no attribute 'inputs'. Set `provide_traceback=True` to see the stack trace.\n"
     ]
    },
    {
     "name": "stdout",
     "output_type": "stream",
     "text": [
      "\n",
      "Average Metric: 0.00 / 0 (0%): 100%|██████████| 2/2 [00:00<00:00, 5555.37it/s]"
     ]
    },
    {
     "name": "stderr",
     "output_type": "stream",
     "text": [
      "2025/01/14 17:49:12 INFO dspy.evaluate.evaluate: Average Metric: 0.0 / 2 (0.0%)\n",
      "2025/01/14 17:49:12 INFO dspy.teleprompt.mipro_optimizer_v2: Score: 0.0 with parameters ['Predictor 0: Instruction 10', 'Predictor 0: Few-Shot Set 7'].\n",
      "2025/01/14 17:49:12 INFO dspy.teleprompt.mipro_optimizer_v2: Scores so far: [0.0, 0.0, 0.0, 0.0, 0.0, 0.0, 0.0, 0.0, 0.0, 0.0, 0.0, 0.0, 0.0, 0.0, 0.0, 0.0, 0.0, 0.0, 0.0, 0.0]\n",
      "2025/01/14 17:49:12 INFO dspy.teleprompt.mipro_optimizer_v2: Best score so far: 0.0\n",
      "2025/01/14 17:49:12 INFO dspy.teleprompt.mipro_optimizer_v2: =========================\n",
      "\n",
      "\n",
      "2025/01/14 17:49:12 INFO dspy.teleprompt.mipro_optimizer_v2: ===== Trial 20 / 25 =====\n",
      "2025/01/14 17:49:12 ERROR dspy.utils.parallelizer: Error processing item {'question': 'What does expect rising mean?', 'response': \"Expect Rising refers to the concept of constantly increasing expectations, similar to the saying 'give them an inch, they'll take a mile.' It relates to the law of diminishing returns, where adding more of something eventually yields lower incremental benefits. This principle applies to various aspects of life, from material goods to experiences.\"}: 'dict' object has no attribute 'inputs'. Set `provide_traceback=True` to see the stack trace.\n",
      "2025/01/14 17:49:12 ERROR dspy.utils.parallelizer: Error processing item {'question': 'What is full expression?', 'response': 'Full expression is about understanding oneself when comfortable and learning to channel authentic self-expression. It recognizes that people face barriers like shyness and distraction that can prevent them from fully expressing themselves. The concept emphasizes the effort required to overcome these obstacles and achieve genuine self-expression.'}: 'dict' object has no attribute 'inputs'. Set `provide_traceback=True` to see the stack trace.\n"
     ]
    },
    {
     "name": "stdout",
     "output_type": "stream",
     "text": [
      "\n",
      "Average Metric: 0.00 / 0 (0%): 100%|██████████| 2/2 [00:00<00:00, 4888.47it/s]"
     ]
    },
    {
     "name": "stderr",
     "output_type": "stream",
     "text": [
      "2025/01/14 17:49:12 INFO dspy.evaluate.evaluate: Average Metric: 0.0 / 2 (0.0%)\n",
      "2025/01/14 17:49:12 INFO dspy.teleprompt.mipro_optimizer_v2: Score: 0.0 with parameters ['Predictor 0: Instruction 12', 'Predictor 0: Few-Shot Set 17'].\n",
      "2025/01/14 17:49:12 INFO dspy.teleprompt.mipro_optimizer_v2: Scores so far: [0.0, 0.0, 0.0, 0.0, 0.0, 0.0, 0.0, 0.0, 0.0, 0.0, 0.0, 0.0, 0.0, 0.0, 0.0, 0.0, 0.0, 0.0, 0.0, 0.0, 0.0]\n",
      "2025/01/14 17:49:12 INFO dspy.teleprompt.mipro_optimizer_v2: Best score so far: 0.0\n",
      "2025/01/14 17:49:12 INFO dspy.teleprompt.mipro_optimizer_v2: =========================\n",
      "\n",
      "\n",
      "2025/01/14 17:49:12 INFO dspy.teleprompt.mipro_optimizer_v2: ===== Trial 21 / 25 =====\n",
      "2025/01/14 17:49:12 ERROR dspy.utils.parallelizer: Error processing item {'question': 'What does expect rising mean?', 'response': \"Expect Rising refers to the concept of constantly increasing expectations, similar to the saying 'give them an inch, they'll take a mile.' It relates to the law of diminishing returns, where adding more of something eventually yields lower incremental benefits. This principle applies to various aspects of life, from material goods to experiences.\"}: 'dict' object has no attribute 'inputs'. Set `provide_traceback=True` to see the stack trace.\n",
      "2025/01/14 17:49:12 ERROR dspy.utils.parallelizer: Error processing item {'question': 'What is full expression?', 'response': 'Full expression is about understanding oneself when comfortable and learning to channel authentic self-expression. It recognizes that people face barriers like shyness and distraction that can prevent them from fully expressing themselves. The concept emphasizes the effort required to overcome these obstacles and achieve genuine self-expression.'}: 'dict' object has no attribute 'inputs'. Set `provide_traceback=True` to see the stack trace.\n"
     ]
    },
    {
     "name": "stdout",
     "output_type": "stream",
     "text": [
      "\n",
      "Average Metric: 0.00 / 0 (0%): 100%|██████████| 2/2 [00:00<00:00, 4536.84it/s]"
     ]
    },
    {
     "name": "stderr",
     "output_type": "stream",
     "text": [
      "2025/01/14 17:49:12 INFO dspy.evaluate.evaluate: Average Metric: 0.0 / 2 (0.0%)\n",
      "2025/01/14 17:49:12 INFO dspy.teleprompt.mipro_optimizer_v2: Score: 0.0 with parameters ['Predictor 0: Instruction 16', 'Predictor 0: Few-Shot Set 15'].\n",
      "2025/01/14 17:49:12 INFO dspy.teleprompt.mipro_optimizer_v2: Scores so far: [0.0, 0.0, 0.0, 0.0, 0.0, 0.0, 0.0, 0.0, 0.0, 0.0, 0.0, 0.0, 0.0, 0.0, 0.0, 0.0, 0.0, 0.0, 0.0, 0.0, 0.0, 0.0]\n",
      "2025/01/14 17:49:12 INFO dspy.teleprompt.mipro_optimizer_v2: Best score so far: 0.0\n",
      "2025/01/14 17:49:12 INFO dspy.teleprompt.mipro_optimizer_v2: =========================\n",
      "\n",
      "\n",
      "2025/01/14 17:49:12 INFO dspy.teleprompt.mipro_optimizer_v2: ===== Trial 22 / 25 =====\n",
      "2025/01/14 17:49:12 ERROR dspy.utils.parallelizer: Error processing item {'question': 'What does expect rising mean?', 'response': \"Expect Rising refers to the concept of constantly increasing expectations, similar to the saying 'give them an inch, they'll take a mile.' It relates to the law of diminishing returns, where adding more of something eventually yields lower incremental benefits. This principle applies to various aspects of life, from material goods to experiences.\"}: 'dict' object has no attribute 'inputs'. Set `provide_traceback=True` to see the stack trace.\n"
     ]
    },
    {
     "name": "stdout",
     "output_type": "stream",
     "text": [
      "\n"
     ]
    },
    {
     "name": "stderr",
     "output_type": "stream",
     "text": [
      "2025/01/14 17:49:12 ERROR dspy.utils.parallelizer: Error processing item {'question': 'What is full expression?', 'response': 'Full expression is about understanding oneself when comfortable and learning to channel authentic self-expression. It recognizes that people face barriers like shyness and distraction that can prevent them from fully expressing themselves. The concept emphasizes the effort required to overcome these obstacles and achieve genuine self-expression.'}: 'dict' object has no attribute 'inputs'. Set `provide_traceback=True` to see the stack trace.\n"
     ]
    },
    {
     "name": "stdout",
     "output_type": "stream",
     "text": [
      "Average Metric: 0.00 / 0 (0%): 100%|██████████| 2/2 [00:00<00:00, 3860.38it/s]"
     ]
    },
    {
     "name": "stderr",
     "output_type": "stream",
     "text": [
      "2025/01/14 17:49:12 INFO dspy.evaluate.evaluate: Average Metric: 0.0 / 2 (0.0%)\n",
      "2025/01/14 17:49:12 INFO dspy.teleprompt.mipro_optimizer_v2: Score: 0.0 with parameters ['Predictor 0: Instruction 17', 'Predictor 0: Few-Shot Set 14'].\n",
      "2025/01/14 17:49:12 INFO dspy.teleprompt.mipro_optimizer_v2: Scores so far: [0.0, 0.0, 0.0, 0.0, 0.0, 0.0, 0.0, 0.0, 0.0, 0.0, 0.0, 0.0, 0.0, 0.0, 0.0, 0.0, 0.0, 0.0, 0.0, 0.0, 0.0, 0.0, 0.0]\n",
      "2025/01/14 17:49:12 INFO dspy.teleprompt.mipro_optimizer_v2: Best score so far: 0.0\n",
      "2025/01/14 17:49:12 INFO dspy.teleprompt.mipro_optimizer_v2: =========================\n",
      "\n",
      "\n",
      "2025/01/14 17:49:12 INFO dspy.teleprompt.mipro_optimizer_v2: ===== Trial 23 / 25 =====\n",
      "2025/01/14 17:49:12 ERROR dspy.utils.parallelizer: Error processing item {'question': 'What does expect rising mean?', 'response': \"Expect Rising refers to the concept of constantly increasing expectations, similar to the saying 'give them an inch, they'll take a mile.' It relates to the law of diminishing returns, where adding more of something eventually yields lower incremental benefits. This principle applies to various aspects of life, from material goods to experiences.\"}: 'dict' object has no attribute 'inputs'. Set `provide_traceback=True` to see the stack trace.\n",
      "2025/01/14 17:49:12 ERROR dspy.utils.parallelizer: Error processing item {'question': 'What is full expression?', 'response': 'Full expression is about understanding oneself when comfortable and learning to channel authentic self-expression. It recognizes that people face barriers like shyness and distraction that can prevent them from fully expressing themselves. The concept emphasizes the effort required to overcome these obstacles and achieve genuine self-expression.'}: 'dict' object has no attribute 'inputs'. Set `provide_traceback=True` to see the stack trace.\n"
     ]
    },
    {
     "name": "stdout",
     "output_type": "stream",
     "text": [
      "\n",
      "Average Metric: 0.00 / 0 (0%): 100%|██████████| 2/2 [00:00<00:00, 3371.63it/s]"
     ]
    },
    {
     "name": "stderr",
     "output_type": "stream",
     "text": [
      "2025/01/14 17:49:12 INFO dspy.evaluate.evaluate: Average Metric: 0.0 / 2 (0.0%)\n",
      "2025/01/14 17:49:12 INFO dspy.teleprompt.mipro_optimizer_v2: Score: 0.0 with parameters ['Predictor 0: Instruction 4', 'Predictor 0: Few-Shot Set 18'].\n",
      "2025/01/14 17:49:12 INFO dspy.teleprompt.mipro_optimizer_v2: Scores so far: [0.0, 0.0, 0.0, 0.0, 0.0, 0.0, 0.0, 0.0, 0.0, 0.0, 0.0, 0.0, 0.0, 0.0, 0.0, 0.0, 0.0, 0.0, 0.0, 0.0, 0.0, 0.0, 0.0, 0.0]\n",
      "2025/01/14 17:49:12 INFO dspy.teleprompt.mipro_optimizer_v2: Best score so far: 0.0\n",
      "2025/01/14 17:49:12 INFO dspy.teleprompt.mipro_optimizer_v2: =========================\n",
      "\n",
      "\n",
      "2025/01/14 17:49:12 INFO dspy.teleprompt.mipro_optimizer_v2: ===== Trial 24 / 25 =====\n",
      "2025/01/14 17:49:12 ERROR dspy.utils.parallelizer: Error processing item {'question': 'What does expect rising mean?', 'response': \"Expect Rising refers to the concept of constantly increasing expectations, similar to the saying 'give them an inch, they'll take a mile.' It relates to the law of diminishing returns, where adding more of something eventually yields lower incremental benefits. This principle applies to various aspects of life, from material goods to experiences.\"}: 'dict' object has no attribute 'inputs'. Set `provide_traceback=True` to see the stack trace.\n",
      "2025/01/14 17:49:12 ERROR dspy.utils.parallelizer: Error processing item {'question': 'What is full expression?', 'response': 'Full expression is about understanding oneself when comfortable and learning to channel authentic self-expression. It recognizes that people face barriers like shyness and distraction that can prevent them from fully expressing themselves. The concept emphasizes the effort required to overcome these obstacles and achieve genuine self-expression.'}: 'dict' object has no attribute 'inputs'. Set `provide_traceback=True` to see the stack trace.\n"
     ]
    },
    {
     "name": "stdout",
     "output_type": "stream",
     "text": [
      "\n",
      "Average Metric: 0.00 / 0 (0%): 100%|██████████| 2/2 [00:00<00:00, 4415.06it/s]"
     ]
    },
    {
     "name": "stderr",
     "output_type": "stream",
     "text": [
      "2025/01/14 17:49:12 INFO dspy.evaluate.evaluate: Average Metric: 0.0 / 2 (0.0%)\n",
      "2025/01/14 17:49:12 INFO dspy.teleprompt.mipro_optimizer_v2: Score: 0.0 with parameters ['Predictor 0: Instruction 18', 'Predictor 0: Few-Shot Set 8'].\n",
      "2025/01/14 17:49:12 INFO dspy.teleprompt.mipro_optimizer_v2: Scores so far: [0.0, 0.0, 0.0, 0.0, 0.0, 0.0, 0.0, 0.0, 0.0, 0.0, 0.0, 0.0, 0.0, 0.0, 0.0, 0.0, 0.0, 0.0, 0.0, 0.0, 0.0, 0.0, 0.0, 0.0, 0.0]\n",
      "2025/01/14 17:49:12 INFO dspy.teleprompt.mipro_optimizer_v2: Best score so far: 0.0\n",
      "2025/01/14 17:49:12 INFO dspy.teleprompt.mipro_optimizer_v2: =========================\n",
      "\n",
      "\n",
      "2025/01/14 17:49:12 INFO dspy.teleprompt.mipro_optimizer_v2: ===== Trial 25 / 25 =====\n",
      "2025/01/14 17:49:12 ERROR dspy.utils.parallelizer: Error processing item {'question': 'What does expect rising mean?', 'response': \"Expect Rising refers to the concept of constantly increasing expectations, similar to the saying 'give them an inch, they'll take a mile.' It relates to the law of diminishing returns, where adding more of something eventually yields lower incremental benefits. This principle applies to various aspects of life, from material goods to experiences.\"}: 'dict' object has no attribute 'inputs'. Set `provide_traceback=True` to see the stack trace.\n",
      "2025/01/14 17:49:12 ERROR dspy.utils.parallelizer: Error processing item {'question': 'What is full expression?', 'response': 'Full expression is about understanding oneself when comfortable and learning to channel authentic self-expression. It recognizes that people face barriers like shyness and distraction that can prevent them from fully expressing themselves. The concept emphasizes the effort required to overcome these obstacles and achieve genuine self-expression.'}: 'dict' object has no attribute 'inputs'. Set `provide_traceback=True` to see the stack trace.\n"
     ]
    },
    {
     "name": "stdout",
     "output_type": "stream",
     "text": [
      "\n",
      "Average Metric: 0.00 / 0 (0%): 100%|██████████| 2/2 [00:00<00:00, 1926.64it/s]"
     ]
    },
    {
     "name": "stderr",
     "output_type": "stream",
     "text": [
      "2025/01/14 17:49:12 INFO dspy.evaluate.evaluate: Average Metric: 0.0 / 2 (0.0%)\n",
      "2025/01/14 17:49:12 INFO dspy.teleprompt.mipro_optimizer_v2: Score: 0.0 with parameters ['Predictor 0: Instruction 7', 'Predictor 0: Few-Shot Set 18'].\n",
      "2025/01/14 17:49:12 INFO dspy.teleprompt.mipro_optimizer_v2: Scores so far: [0.0, 0.0, 0.0, 0.0, 0.0, 0.0, 0.0, 0.0, 0.0, 0.0, 0.0, 0.0, 0.0, 0.0, 0.0, 0.0, 0.0, 0.0, 0.0, 0.0, 0.0, 0.0, 0.0, 0.0, 0.0, 0.0]\n",
      "2025/01/14 17:49:12 INFO dspy.teleprompt.mipro_optimizer_v2: Best score so far: 0.0\n",
      "2025/01/14 17:49:12 INFO dspy.teleprompt.mipro_optimizer_v2: =========================\n",
      "\n",
      "\n",
      "2025/01/14 17:49:12 INFO dspy.teleprompt.mipro_optimizer_v2: Returning best identified program with score 0.0!\n"
     ]
    },
    {
     "name": "stdout",
     "output_type": "stream",
     "text": [
      "\n",
      "\n",
      "Question: How do you maximize the beauty?\n",
      "Response: The concept of beauty is subjective and can be influenced by various elements, including historical context, cultural norms, and individual experiences. Maximizing the beauty in a given situation or work of art may require a deep understanding of its intended message, audience, and the emotions it aims to evoke.\n",
      "\n",
      "--------------------------------------------------\n",
      "\n",
      "Question: What is the power of pettiness?\n",
      "Response: Pettiness can be a powerful tool for social manipulation, allowing individuals to exert influence over others without directly confronting them. However, it can also lead to feelings of resentment and frustration among those on the receiving end, ultimately undermining any potential power or control that pettiness may offer.\n",
      "\n",
      "--------------------------------------------------\n",
      "\n",
      "Question: How can we achieve full expression?\n",
      "Response: To achieve full expression in a given statement or condition, it is essential to carefully consider the use of logical operators and grouping techniques. By doing so, we can create complex expressions that accurately convey our intended meaning and avoid ambiguity or errors.\n",
      "\n",
      "--------------------------------------------------\n"
     ]
    }
   ],
   "source": [
    "import pandas as pd\n",
    "import dspy\n",
    "from typing import List, Dict\n",
    "import re\n",
    "\n",
    "# Step 1: CSV handling class\n",
    "class ColBERTv2:\n",
    "    def __init__(self, csv_path: str):\n",
    "        self.data = pd.read_csv(csv_path, quoting=1)\n",
    "        if \"Ideas\" not in self.data.columns:\n",
    "            raise ValueError(\"CSV must contain a column named 'Ideas'.\")\n",
    "        \n",
    "        self.processed_ideas = self._preprocess_ideas()\n",
    "    \n",
    "    def _preprocess_ideas(self) -> List[Dict]:\n",
    "        processed = []\n",
    "        for idea in self.data[\"Ideas\"].values:\n",
    "            text = re.sub(r'^\\d+\\)\\s*', '', str(idea))\n",
    "            parts = text.split('-', 1)\n",
    "            if len(parts) > 1:\n",
    "                title = parts[0].strip()\n",
    "                content = parts[1].strip()\n",
    "            else:\n",
    "                title = \"\"\n",
    "                content = parts[0].strip()\n",
    "            \n",
    "            processed.append({\n",
    "                \"title\": title,\n",
    "                \"content\": content,\n",
    "                \"full_text\": text\n",
    "            })\n",
    "        return processed\n",
    "\n",
    "    def __call__(self, query: str, k: int = 10) -> List[str]:\n",
    "        results = []\n",
    "        query = query.lower()\n",
    "        \n",
    "        for idea in self.processed_ideas:\n",
    "            if (query in idea[\"title\"].lower() or \n",
    "                query in idea[\"content\"].lower()):\n",
    "                results.append(idea[\"full_text\"])\n",
    "                if len(results) >= k:\n",
    "                    break\n",
    "        return results\n",
    "\n",
    "# Step 2: Initialize search\n",
    "colbertv2_csv = ColBERTv2(csv_path=\"151_ideas_updated2.csv\")\n",
    "\n",
    "def search(query: str, k: int = 3) -> List[str]:\n",
    "    results = colbertv2_csv(query, k=k)\n",
    "    return [f\"Relevant idea: {result}\" for result in results]\n",
    "\n",
    "# Step 3: RAG module with fixed signature\n",
    "class RAG(dspy.Module):\n",
    "    def __init__(self, num_docs=3):\n",
    "        super().__init__()\n",
    "        self.num_docs = num_docs\n",
    "        # Simplified signature without additional instructions\n",
    "        self.retrieve_and_respond = dspy.ChainOfThought(\"context, question -> response\")\n",
    "\n",
    "    def forward(self, question):\n",
    "        context = search(question, k=self.num_docs)\n",
    "        prediction = self.retrieve_and_respond(\n",
    "            context=\"\\n\".join(context),\n",
    "            question=question\n",
    "        )\n",
    "        return prediction.response\n",
    "\n",
    "# Step 4: Training examples\n",
    "def generate_training_examples() -> List[Dict]:\n",
    "    return [\n",
    "        {\n",
    "            \"question\": \"How can we maximize beauty?\",\n",
    "            \"response\": \"Based on the philosophical ideas presented, maximizing beauty involves fully channeling the beauty within and actively seeking beauty in every situation. This includes disciplining our senses to focus on beauty in our surroundings, such as appreciating flowers and birds. It's considered a fundamental virtue that requires conscious implementation and can be enhanced by questioning what makes each moment beautiful.\"\n",
    "        },\n",
    "        {\n",
    "            \"question\": \"What is full expression?\",\n",
    "            \"response\": \"Full expression is about understanding oneself when comfortable and learning to channel authentic self-expression. It recognizes that people face barriers like shyness and distraction that can prevent them from fully expressing themselves. The concept emphasizes the effort required to overcome these obstacles and achieve genuine self-expression.\"\n",
    "        },\n",
    "        {\n",
    "            \"question\": \"What does expect rising mean?\",\n",
    "            \"response\": \"Expect Rising refers to the concept of constantly increasing expectations, similar to the saying 'give them an inch, they'll take a mile.' It relates to the law of diminishing returns, where adding more of something eventually yields lower incremental benefits. This principle applies to various aspects of life, from material goods to experiences.\"\n",
    "        }\n",
    "    ]\n",
    "\n",
    "# Step 5: Optimization\n",
    "def optimize_rag():\n",
    "    trainset = generate_training_examples()\n",
    "    \n",
    "    tp = dspy.MIPROv2(\n",
    "        metric=dspy.evaluate.SemanticF1(decompositional=True),\n",
    "        auto=\"medium\",\n",
    "        num_threads=4\n",
    "    )\n",
    "    \n",
    "    optimized_rag = tp.compile(\n",
    "        RAG(),\n",
    "        trainset=trainset,\n",
    "        max_bootstrapped_demos=3,\n",
    "        max_labeled_demos=3\n",
    "    )\n",
    "    \n",
    "    return optimized_rag\n",
    "\n",
    "# Step 6: Main function\n",
    "def main():\n",
    "    try:\n",
    "        print(\"Optimizing RAG system...\")\n",
    "        optimized_rag = optimize_rag()\n",
    "        \n",
    "        test_questions = [\n",
    "            \"How do you maximize the beauty?\",\n",
    "            \"What is the power of pettiness?\",\n",
    "            \"How can we achieve full expression?\"\n",
    "        ]\n",
    "        \n",
    "        for question in test_questions:\n",
    "            print(f\"\\nQuestion: {question}\")\n",
    "            response = optimized_rag(question)\n",
    "            print(f\"Response: {response}\\n\")\n",
    "            print(\"-\" * 50)\n",
    "        \n",
    "    except Exception as e:\n",
    "        print(f\"An error occurred: {str(e)}\")\n",
    "        raise\n",
    "\n",
    "if __name__ == \"__main__\":\n",
    "    main()"
   ]
  },
  {
   "cell_type": "code",
   "execution_count": 25,
   "metadata": {},
   "outputs": [
    {
     "ename": "SyntaxError",
     "evalue": "unterminated string literal (detected at line 2) (<unknown>, line 2)",
     "output_type": "error",
     "traceback": [
      "Traceback \u001b[0;36m(most recent call last)\u001b[0m:\n",
      "\u001b[0m  File \u001b[1;32m/opt/homebrew/Caskroom/miniforge/base/envs/nunu24/lib/python3.12/site-packages/IPython/core/interactiveshell.py:3577\u001b[0m in \u001b[1;35mrun_code\u001b[0m\n    exec(code_obj, self.user_global_ns, self.user_ns)\u001b[0m\n",
      "\u001b[0m  Cell \u001b[1;32mIn[25], line 31\u001b[0m\n    rag = dspy.ChainOfThought(\u001b[0m\n",
      "\u001b[0m  File \u001b[1;32m/opt/homebrew/Caskroom/miniforge/base/envs/nunu24/lib/python3.12/site-packages/dspy/predict/chain_of_thought.py:17\u001b[0m in \u001b[1;35m__init__\u001b[0m\n    self.signature = signature = ensure_signature(signature)\u001b[0m\n",
      "\u001b[0m  File \u001b[1;32m/opt/homebrew/Caskroom/miniforge/base/envs/nunu24/lib/python3.12/site-packages/dspy/signatures/signature.py:315\u001b[0m in \u001b[1;35mensure_signature\u001b[0m\n    return Signature(signature, instructions)\u001b[0m\n",
      "\u001b[0m  File \u001b[1;32m/opt/homebrew/Caskroom/miniforge/base/envs/nunu24/lib/python3.12/site-packages/dspy/signatures/signature.py:39\u001b[0m in \u001b[1;35m__call__\u001b[0m\n    return make_signature(*args, **kwargs)\u001b[0m\n",
      "\u001b[0m  File \u001b[1;32m/opt/homebrew/Caskroom/miniforge/base/envs/nunu24/lib/python3.12/site-packages/dspy/signatures/signature.py:338\u001b[0m in \u001b[1;35mmake_signature\u001b[0m\n    fields = _parse_signature(signature) if isinstance(signature, str) else signature\u001b[0m\n",
      "\u001b[0m  File \u001b[1;32m/opt/homebrew/Caskroom/miniforge/base/envs/nunu24/lib/python3.12/site-packages/dspy/signatures/signature.py:389\u001b[0m in \u001b[1;35m_parse_signature\u001b[0m\n    for name, type_ in _parse_arg_string(outputs_str):\u001b[0m\n",
      "\u001b[0m  File \u001b[1;32m/opt/homebrew/Caskroom/miniforge/base/envs/nunu24/lib/python3.12/site-packages/dspy/signatures/signature.py:396\u001b[0m in \u001b[1;35m_parse_arg_string\u001b[0m\n    args = ast.parse(\"def f(\" + string + \"): pass\").body[0].args.args\u001b[0m\n",
      "\u001b[0;36m  File \u001b[0;32m/opt/homebrew/Caskroom/miniforge/base/envs/nunu24/lib/python3.12/ast.py:52\u001b[0;36m in \u001b[0;35mparse\u001b[0;36m\n\u001b[0;31m    return compile(source, filename, mode, flags,\u001b[0;36m\n",
      "\u001b[0;36m  File \u001b[0;32m<unknown>:2\u001b[0;36m\u001b[0m\n\u001b[0;31m    context: A list of ideas directly retrieved from the CSV based on the user's query.\u001b[0m\n\u001b[0m                                                                              ^\u001b[0m\n\u001b[0;31mSyntaxError\u001b[0m\u001b[0;31m:\u001b[0m unterminated string literal (detected at line 2)\n"
     ]
    }
   ],
   "source": [
    "# failed advanced rag\n",
    "import pandas as pd\n",
    "import dspy\n",
    "from typing import List\n",
    "\n",
    "# Custom ColBERTv2 class for CSV-based search\n",
    "class ColBERTv2:\n",
    "    def __init__(self, csv_path: str):\n",
    "        self.data = pd.read_csv(csv_path)\n",
    "        if \"Ideas\" not in self.data.columns:\n",
    "            raise ValueError(\"CSV must contain a column named 'Ideas'.\")\n",
    "\n",
    "    def __call__(self, query: str, k: int = 10, simplify: bool = False) -> List[dict]:\n",
    "        # Simple substring match search\n",
    "        results = []\n",
    "        for idea in self.data[\"Ideas\"]:\n",
    "            if query.lower() in idea.lower():\n",
    "                results.append({\"text\": idea})\n",
    "                if len(results) >= k:\n",
    "                    break\n",
    "        return results if not simplify else [x[\"text\"] for x in results]\n",
    "\n",
    "# Initialize the ColBERTv2 instance with your CSV file\n",
    "colbertv2_csv = ColBERTv2(csv_path=\"151_ideas_updated2.csv\")\n",
    "\n",
    "# Adapted search function\n",
    "def search_csv(query: str) -> List[str]:\n",
    "    results = colbertv2_csv(query, k=3, simplify=True)\n",
    "    return results\n",
    "\n",
    "# DSPy ChainOfThought setup with explicit CSV dependency\n",
    "rag = dspy.ChainOfThought(\n",
    "    signature=(\n",
    "        \"context, question -> response\\n\"\n",
    "        \"context: A list of ideas directly retrieved from the CSV based on the user's query.\\n\"\n",
    "        \"Only use these ideas to answer the question. If no matches are found, respond with\\n\"\n",
    "        \"'No relevant information available in the CSV.'\\n\"\n",
    "        \"question: The user's query.\\n\"\n",
    "        \"response: A response strictly based on the ideas provided in the context.\"\n",
    "    )\n",
    ")\n",
    "\n",
    "# Example question\n",
    "question = \"How do you maximize the beauty?\"\n",
    "\n",
    "# Pass context from the CSV search to the ChainOfThought model\n",
    "response = rag(context=search_csv(question), question=question)\n",
    "\n",
    "# Output response\n",
    "print(response)"
   ]
  },
  {
   "cell_type": "code",
   "execution_count": null,
   "metadata": {},
   "outputs": [],
   "source": [
    "math = dspy.ChainOfThought(\"question -> answer: float\")\n",
    "math(question=\"Two dice are tossed. What is the probability that the sum equals two?\")"
   ]
  }
 ],
 "metadata": {
  "kernelspec": {
   "display_name": "nunu24",
   "language": "python",
   "name": "python3"
  },
  "language_info": {
   "codemirror_mode": {
    "name": "ipython",
    "version": 3
   },
   "file_extension": ".py",
   "mimetype": "text/x-python",
   "name": "python",
   "nbconvert_exporter": "python",
   "pygments_lexer": "ipython3",
   "version": "3.12.7"
  }
 },
 "nbformat": 4,
 "nbformat_minor": 2
}
