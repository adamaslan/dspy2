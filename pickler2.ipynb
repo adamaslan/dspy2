{
 "cells": [
  {
   "cell_type": "code",
   "execution_count": null,
   "metadata": {
    "vscode": {
     "languageId": "plaintext"
    }
   },
   "outputs": [],
   "source": [
    "import pickle\n",
    "import datetime\n",
    "\n",
    "# Your list that you want to save\n",
    "my_list = [1, 2, 3, 4, 5]\n",
    "\n",
    "# Generate a timestamp\n",
    "timestamp = datetime.datetime.now().strftime(\"%Y%m%d_%H%M%S\")\n",
    "\n",
    "# Create filename with timestamp\n",
    "filename = f'my_list_{timestamp}.pickle'\n",
    "\n",
    "# Save the list to a pickle file in the root directory\n",
    "with open(filename, 'wb') as file:\n",
    "    pickle.dump(my_list, file)\n",
    "\n",
    "print(f\"List saved to: {filename}\")"
   ]
  }
 ],
 "metadata": {
  "language_info": {
   "name": "python"
  }
 },
 "nbformat": 4,
 "nbformat_minor": 2
}
