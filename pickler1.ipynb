{
 "cells": [
  {
   "cell_type": "code",
   "execution_count": null,
   "metadata": {},
   "outputs": [],
   "source": [
    "# a list to pickle\n",
    "import pickle\n",
    "\n",
    "# Your list that you want to save\n",
    "# my_list = [1, 2, 3, 4, 5]\n",
    "ideas = [  \n",
    "    \"reminder to cancel - nu capitalist - cd subscription scheme\",  \n",
    "     ]  \n",
    "\n",
    "# Save the list to a pickle file in the root directory\n",
    "with open('ideas.pickle', 'wb') as file:\n",
    "    pickle.dump(ideas, file)\n"
   ]
  }
 ],
 "metadata": {
  "kernelspec": {
   "display_name": "nunu24",
   "language": "python",
   "name": "python3"
  },
  "language_info": {
   "codemirror_mode": {
    "name": "ipython",
    "version": 3
   },
   "file_extension": ".py",
   "mimetype": "text/x-python",
   "name": "python",
   "nbconvert_exporter": "python",
   "pygments_lexer": "ipython3",
   "version": "3.12.7"
  }
 },
 "nbformat": 4,
 "nbformat_minor": 2
}
