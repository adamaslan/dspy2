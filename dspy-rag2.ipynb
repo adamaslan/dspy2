{
 "cells": [
  {
   "cell_type": "code",
   "execution_count": 18,
   "metadata": {},
   "outputs": [
    {
     "name": "stdout",
     "output_type": "stream",
     "text": [
      "Beauty | Beauty is a characteristic of an animal, idea, object, person or place that provides a perceptual experience of pleasure or satisfaction. Beauty is studied as part of aesthetics, culture, social psychology, philosophy and sociology. An \"ideal beauty\" is an entity which is admired, or possesses features widely attributed to beauty in a particular culture, for perfection.\n",
      "Health in Western Sahara | In Sahrawi ethnic groups, this concept of beauty is embodied through the practice of \"leblouh\" (\"fattening\"). Before marriage, girls intentionally overeat and perform limited physical activity for 40 days in order to be attractive for their soon-to-be husbands. Women will repeat this process if they want to gain weight after marriage. It is believed that traditional clothing of these ethnic groups require a heavier body in order to be attractive.\n",
      "Beauty (disambiguation) | Beauty is an aesthetic characteristic.\n",
      "Michael Dweck | Michael Dweck (born September 26, 1957) is an American visual artist and filmmaker known for his suggestive photographic style. The concept of beauty and its aesthetics are important themes in his work and are explored through both figurative and abstract means. In 2003, he became the first living photographer to have a solo show at Sotheby's in New York. He lives and works in New York City and in Montauk, New York.\n",
      "Feminine beauty ideal | The feminine beauty ideal is \"the socially constructed notion that physical attractiveness is one of women's most important assets, and something all women should strive to achieve and maintain\". Feminine beauty ideals are rooted in heteronormative beliefs, and heavily influence women of all sexual orientations. The feminine beauty ideal, which also includes female body shape, varies from culture to culture. Pressure to conform to a certain definition of \"beautiful\" can have drastic psychological effects. These ideals have been correlated with depression, eating disorders, and low self-esteem, starting from an adolescent age and continuing into adulthood.\n"
     ]
    }
   ],
   "source": [
    "import dspy\n",
    "import pandas as pd\n",
    "\n",
    "# Llama configuration\n",
    "lm = dspy.LM('ollama_chat/llama3.2', api_base='http://localhost:11434')\n",
    "dspy.settings.configure(lm=lm)\n",
    "\n",
    "class IdeaRetriever:\n",
    "    def __init__(self):\n",
    "        # Initialize ColBERTv2 retriever with necessary parameters\n",
    "        self.retriever = dspy.ColBERTv2(url='http://20.102.90.50:2017/wiki17_abstracts')\n",
    "\n",
    "    def __call__(self, csv_path: str, query: str, k: int = 5):\n",
    "        \"\"\"\n",
    "        Load and search ideas\n",
    "        \n",
    "        Args:\n",
    "            csv_path (str): Path to CSV file\n",
    "            query (str): Search query\n",
    "            k (int): Number of results to return\n",
    "        \n",
    "        Returns:\n",
    "            List of retrieved passages\n",
    "        \"\"\"\n",
    "        # Load ideas\n",
    "        data = pd.read_csv(csv_path)\n",
    "        ideas = data['Ideas'].astype(str).tolist()\n",
    "        \n",
    "        # Add ideas to the retriever's corpus\n",
    "        # Note: ColBERTv2 typically requires a pre-indexed corpus; this is a placeholder\n",
    "        # You might need to use a different method to add and index the corpus\n",
    "        # self.retriever.add_corpus(ideas)  # This line is illustrative; actual method may differ\n",
    "\n",
    "        # Perform search\n",
    "        results = self.retriever(query=query, k=k, simplify=True)  # Use the appropriate search method\n",
    "        return results\n",
    "\n",
    "def main():\n",
    "    retriever = IdeaRetriever()\n",
    "    results = retriever('151_ideas_updated2.csv', 'beauty concepts')\n",
    "    \n",
    "    for result in results:\n",
    "        print(result)\n",
    "\n",
    "if __name__ == \"__main__\":\n",
    "    main()\n"
   ]
  },
  {
   "cell_type": "code",
   "execution_count": 21,
   "metadata": {},
   "outputs": [
    {
     "name": "stdout",
     "output_type": "stream",
     "text": [
      "Computed embeddings shape: (150, 384)\n",
      "Similarity Search Results:\n",
      "passages\n"
     ]
    }
   ],
   "source": [
    "import pandas as pd\n",
    "import dspy\n",
    "from sentence_transformers import SentenceTransformer\n",
    "\n",
    "# Load the CSV file\n",
    "csv_path = \"151_ideas_updated2.csv\"\n",
    "data = pd.read_csv(csv_path)\n",
    "\n",
    "# Extract the text data to embed\n",
    "texts = data['Ideas'].astype(str).tolist()  # Replace 'Ideas' with the actual column name\n",
    "\n",
    "# Initialize the embedder with a Hugging Face model\n",
    "# You can choose a model from Hugging Face's model hub, e.g., 'sentence-transformers/all-MiniLM-L6-v2'\n",
    "model = SentenceTransformer('sentence-transformers/all-MiniLM-L6-v2')\n",
    "embedder = dspy.Embedder(model.encode)\n",
    "\n",
    "# Compute embeddings\n",
    "embeddings = embedder(texts)\n",
    "\n",
    "# Print the shape of the embeddings to verify\n",
    "print(f\"Computed embeddings shape: {embeddings.shape}\")\n",
    "\n",
    "import dspy\n",
    "\n",
    "# Assuming `embeddings` is a numpy array of your computed embeddings\n",
    "# and `texts` is the list of original text data\n",
    "\n",
    "# Initialize the retriever\n",
    "retriever = dspy.retrievers.Embeddings(corpus=texts, embedder=embedder, k=5)\n",
    "\n",
    "# Perform a similarity search for a query\n",
    "query = \"beauty concepts\"\n",
    "results = retriever(query)\n",
    "\n",
    "print(\"Similarity Search Results:\")\n",
    "for result in results:\n",
    "    print(result)\n"
   ]
  },
  {
   "cell_type": "code",
   "execution_count": null,
   "metadata": {},
   "outputs": [
    {
     "ename": "FileNotFoundError",
     "evalue": "[Errno 2] No such file or directory: 'articles2.json'",
     "output_type": "error",
     "traceback": [
      "\u001b[0;31m---------------------------------------------------------------------------\u001b[0m",
      "\u001b[0;31mFileNotFoundError\u001b[0m                         Traceback (most recent call last)",
      "Cell \u001b[0;32mIn[1], line 8\u001b[0m\n\u001b[1;32m      6\u001b[0m \u001b[38;5;66;03m# Load the JSON file\u001b[39;00m\n\u001b[1;32m      7\u001b[0m json_path \u001b[38;5;241m=\u001b[39m \u001b[38;5;124m\"\u001b[39m\u001b[38;5;124marticles2.json\u001b[39m\u001b[38;5;124m\"\u001b[39m\n\u001b[0;32m----> 8\u001b[0m \u001b[38;5;28;01mwith\u001b[39;00m \u001b[38;5;28;43mopen\u001b[39;49m\u001b[43m(\u001b[49m\u001b[43mjson_path\u001b[49m\u001b[43m,\u001b[49m\u001b[43m \u001b[49m\u001b[38;5;124;43m\"\u001b[39;49m\u001b[38;5;124;43mr\u001b[39;49m\u001b[38;5;124;43m\"\u001b[39;49m\u001b[43m)\u001b[49m \u001b[38;5;28;01mas\u001b[39;00m file:\n\u001b[1;32m      9\u001b[0m     data \u001b[38;5;241m=\u001b[39m json\u001b[38;5;241m.\u001b[39mload(file)\n\u001b[1;32m     11\u001b[0m \u001b[38;5;66;03m# Filter out empty strings and extract valid content\u001b[39;00m\n",
      "File \u001b[0;32m/opt/homebrew/Caskroom/miniforge/base/envs/nunu24/lib/python3.12/site-packages/IPython/core/interactiveshell.py:324\u001b[0m, in \u001b[0;36m_modified_open\u001b[0;34m(file, *args, **kwargs)\u001b[0m\n\u001b[1;32m    317\u001b[0m \u001b[38;5;28;01mif\u001b[39;00m file \u001b[38;5;129;01min\u001b[39;00m {\u001b[38;5;241m0\u001b[39m, \u001b[38;5;241m1\u001b[39m, \u001b[38;5;241m2\u001b[39m}:\n\u001b[1;32m    318\u001b[0m     \u001b[38;5;28;01mraise\u001b[39;00m \u001b[38;5;167;01mValueError\u001b[39;00m(\n\u001b[1;32m    319\u001b[0m         \u001b[38;5;124mf\u001b[39m\u001b[38;5;124m\"\u001b[39m\u001b[38;5;124mIPython won\u001b[39m\u001b[38;5;124m'\u001b[39m\u001b[38;5;124mt let you open fd=\u001b[39m\u001b[38;5;132;01m{\u001b[39;00mfile\u001b[38;5;132;01m}\u001b[39;00m\u001b[38;5;124m by default \u001b[39m\u001b[38;5;124m\"\u001b[39m\n\u001b[1;32m    320\u001b[0m         \u001b[38;5;124m\"\u001b[39m\u001b[38;5;124mas it is likely to crash IPython. If you know what you are doing, \u001b[39m\u001b[38;5;124m\"\u001b[39m\n\u001b[1;32m    321\u001b[0m         \u001b[38;5;124m\"\u001b[39m\u001b[38;5;124myou can use builtins\u001b[39m\u001b[38;5;124m'\u001b[39m\u001b[38;5;124m open.\u001b[39m\u001b[38;5;124m\"\u001b[39m\n\u001b[1;32m    322\u001b[0m     )\n\u001b[0;32m--> 324\u001b[0m \u001b[38;5;28;01mreturn\u001b[39;00m \u001b[43mio_open\u001b[49m\u001b[43m(\u001b[49m\u001b[43mfile\u001b[49m\u001b[43m,\u001b[49m\u001b[43m \u001b[49m\u001b[38;5;241;43m*\u001b[39;49m\u001b[43margs\u001b[49m\u001b[43m,\u001b[49m\u001b[43m \u001b[49m\u001b[38;5;241;43m*\u001b[39;49m\u001b[38;5;241;43m*\u001b[39;49m\u001b[43mkwargs\u001b[49m\u001b[43m)\u001b[49m\n",
      "\u001b[0;31mFileNotFoundError\u001b[0m: [Errno 2] No such file or directory: 'articles2.json'"
     ]
    }
   ],
   "source": [
    "# seems to save a faiss index\n",
    "import pandas as pd\n",
    "import dspy\n",
    "from sentence_transformers import SentenceTransformer\n",
    "import faiss\n",
    "import numpy as np\n",
    "\n",
    "# Load the CSV file\n",
    "csv_path = \"151_ideas_updated2.csv\"\n",
    "data = pd.read_csv(csv_path)\n",
    "\n",
    "# Extract the text data to embed\n",
    "texts = data['Ideas'].astype(str).tolist()  # Replace 'Ideas' with the actual column name\n",
    "\n",
    "# Initialize the embedder with a Hugging Face model\n",
    "# You can choose a model from Hugging Face's model hub, e.g., 'sentence-transformers/all-MiniLM-L6-v2'\n",
    "model = SentenceTransformer('sentence-transformers/all-MiniLM-L6-v2')\n",
    "embedder = dspy.Embedder(model.encode)\n",
    "\n",
    "# Compute embeddings\n",
    "embeddings = embedder(texts)\n",
    "\n",
    "# Convert embeddings to a numpy array if not already\n",
    "if not isinstance(embeddings, np.ndarray):\n",
    "    embeddings = np.array(embeddings)\n",
    "\n",
    "# Print the shape of the embeddings to verify\n",
    "print(f\"Computed embeddings shape: {embeddings.shape}\")\n",
    "\n",
    "# Save embeddings to FAISS vector database\n",
    "vector_dim = embeddings.shape[1]\n",
    "index = faiss.IndexFlatL2(vector_dim)  # L2 distance (Euclidean)\n",
    "index_with_ids = faiss.IndexIDMap(index)\n",
    "\n",
    "# Assign unique IDs to each embedding\n",
    "ids = np.arange(len(texts))\n",
    "index_with_ids.add_with_ids(embeddings, ids)\n",
    "\n",
    "# Save the index to a file\n",
    "faiss.write_index(index_with_ids, \"vector_database.faiss\")\n",
    "print(\"Embeddings have been saved to 'vector_database.faiss'\")\n",
    "\n",
    "# Assuming `embeddings` is a numpy array of your computed embeddings\n",
    "# and `texts` is the list of original text data\n",
    "\n",
    "# Initialize the retriever\n",
    "retriever = dspy.retrievers.Embeddings(corpus=texts, embedder=embedder, k=5)\n",
    "\n",
    "# Perform a similarity search for a query\n",
    "query = \"beauty concepts\"\n",
    "results = retriever(query)\n",
    "\n",
    "print(\"Similarity Search Results:\")\n",
    "for result in results:\n",
    "    print(result)\n"
   ]
  },
  {
   "cell_type": "code",
   "execution_count": null,
   "metadata": {},
   "outputs": [
    {
     "data": {
      "image/png": "[encoded data removed]",
      "text/plain": [
       "<Figure size 640x480 with 2 Axes>"
      ]
     },
     "metadata": {},
     "output_type": "display_data"
    }
   ],
   "source": [
    "# visualize embedding results\n",
    "\n",
    "from sklearn.cluster import KMeans\n",
    "from sklearn.manifold import TSNE\n",
    "import matplotlib.pyplot as plt\n",
    "\n",
    "# Assuming you have your embeddings data ready\n",
    "# Example embeddings: a 2D NumPy array of shape (n_samples, n_features)\n",
    "# embeddings = ...\n",
    "\n",
    "# Fit k-means clustering\n",
    "n_clusters = 3  # Adjust as needed\n",
    "kmeans = KMeans(n_clusters=n_clusters, random_state=0)\n",
    "kmeans.fit(embeddings)\n",
    "\n",
    "# Reduce dimensions for visualization\n",
    "tsne = TSNE(n_components=2, random_state=0)\n",
    "reduced_embeddings = tsne.fit_transform(embeddings)\n",
    "\n",
    "# Plot the embeddings\n",
    "plt.scatter(reduced_embeddings[:, 0], reduced_embeddings[:, 1], c=kmeans.labels_, cmap='viridis')\n",
    "plt.title(\"t-SNE Visualization of Embeddings\")\n",
    "plt.colorbar()\n",
    "plt.show()\n"
   ]
  },
  {
   "cell_type": "code",
   "execution_count": 8,
   "metadata": {},
   "outputs": [
    {
     "name": "stderr",
     "output_type": "stream",
     "text": [
      "2025/01/24 21:49:02 INFO dspy.teleprompt.mipro_optimizer_v2: \n",
      "RUNNING WITH THE FOLLOWING MEDIUM AUTO RUN SETTINGS:\n",
      "num_trials: 25\n",
      "minibatch: False\n",
      "num_candidates: 19\n",
      "valset size: 1\n",
      "\n",
      "2025/01/24 21:49:16 INFO dspy.teleprompt.mipro_optimizer_v2: \n",
      "==> STEP 1: BOOTSTRAP FEWSHOT EXAMPLES <==\n",
      "2025/01/24 21:49:16 INFO dspy.teleprompt.mipro_optimizer_v2: These will be used as few-shot example candidates for our program and for creating instructions.\n",
      "\n",
      "2025/01/24 21:49:16 INFO dspy.teleprompt.mipro_optimizer_v2: Bootstrapping N=19 sets of demonstrations...\n"
     ]
    },
    {
     "name": "stdout",
     "output_type": "stream",
     "text": [
      "Bootstrapping set 1/19\n",
      "Bootstrapping set 2/19\n",
      "Bootstrapping set 3/19\n"
     ]
    },
    {
     "name": "stderr",
     "output_type": "stream",
     "text": [
      "  0%|          | 0/1 [00:00<?, ?it/s]2025/01/24 21:49:16 ERROR dspy.teleprompt.bootstrap: Failed to run or to evaluate example {'question': 'How can we maximize beauty?', 'response': 'Maximizing beauty involves fully channeling inner beauty and actively seeking beauty in every situation. This includes disciplining our senses to focus on beauty in our surroundings, appreciating subtle details like flowers and birds, and recognizing beauty as a fundamental virtue requiring conscious implementation.'} with module = Predict(StringSignature(question, ground_truth, system_response -> rationale, ground_truth_key_ideas, system_response_key_ideas, discussion, recall, precision\n",
      "    instructions=\"Compare a system's response to the ground truth to compute recall and precision of key ideas.\\nYou will first enumerate key ideas in each response, discuss their overlap, and then report recall and precision.\"\n",
      "    question = Field(annotation=str required=True json_schema_extra={'__dspy_field_type': 'input', 'prefix': 'Question:', 'desc': '${question}'})\n",
      "    ground_truth = Field(annotation=str required=True json_schema_extra={'__dspy_field_type': 'input', 'prefix': 'Ground Truth:', 'desc': '${ground_truth}'})\n",
      "    system_response = Field(annotation=str required=True json_schema_extra={'__dspy_field_type': 'input', 'prefix': 'System Response:', 'desc': '${system_response}'})\n",
      "    rationale = Field(annotation=str required=True json_schema_extra={'prefix': \"Reasoning: Let's think step by step in order to\", 'desc': '${produce the precision}. We ...', '__dspy_field_type': 'output'})\n",
      "    ground_truth_key_ideas = Field(annotation=str required=True json_schema_extra={'desc': 'enumeration of key ideas in the ground truth', '__dspy_field_type': 'output', 'prefix': 'Ground Truth Key Ideas:'})\n",
      "    system_response_key_ideas = Field(annotation=str required=True json_schema_extra={'desc': 'enumeration of key ideas in the system response', '__dspy_field_type': 'output', 'prefix': 'System Response Key Ideas:'})\n",
      "    discussion = Field(annotation=str required=True json_schema_extra={'desc': 'discussion of the overlap between ground truth and system response', '__dspy_field_type': 'output', 'prefix': 'Discussion:'})\n",
      "    recall = Field(annotation=float required=True json_schema_extra={'desc': 'fraction (out of 1.0) of ground truth covered by the system response', '__dspy_field_type': 'output', 'prefix': 'Recall:'})\n",
      "    precision = Field(annotation=float required=True json_schema_extra={'desc': 'fraction (out of 1.0) of system response covered by the ground truth', '__dspy_field_type': 'output', 'prefix': 'Precision:'})\n",
      ")) due to 'dict' object has no attribute 'inputs'.\n",
      "100%|██████████| 1/1 [00:00<00:00, 308.00it/s]\n"
     ]
    },
    {
     "name": "stdout",
     "output_type": "stream",
     "text": [
      "Bootstrapped 0 full traces after 0 examples for up to 1 rounds, amounting to 1 attempts.\n",
      "Bootstrapping set 4/19\n"
     ]
    },
    {
     "name": "stderr",
     "output_type": "stream",
     "text": [
      "  0%|          | 0/1 [00:00<?, ?it/s]2025/01/24 21:49:16 ERROR dspy.teleprompt.bootstrap: Failed to run or to evaluate example {'question': 'How can we maximize beauty?', 'response': 'Maximizing beauty involves fully channeling inner beauty and actively seeking beauty in every situation. This includes disciplining our senses to focus on beauty in our surroundings, appreciating subtle details like flowers and birds, and recognizing beauty as a fundamental virtue requiring conscious implementation.'} with module = Predict(StringSignature(question, ground_truth, system_response -> rationale, ground_truth_key_ideas, system_response_key_ideas, discussion, recall, precision\n",
      "    instructions=\"Compare a system's response to the ground truth to compute recall and precision of key ideas.\\nYou will first enumerate key ideas in each response, discuss their overlap, and then report recall and precision.\"\n",
      "    question = Field(annotation=str required=True json_schema_extra={'__dspy_field_type': 'input', 'prefix': 'Question:', 'desc': '${question}'})\n",
      "    ground_truth = Field(annotation=str required=True json_schema_extra={'__dspy_field_type': 'input', 'prefix': 'Ground Truth:', 'desc': '${ground_truth}'})\n",
      "    system_response = Field(annotation=str required=True json_schema_extra={'__dspy_field_type': 'input', 'prefix': 'System Response:', 'desc': '${system_response}'})\n",
      "    rationale = Field(annotation=str required=True json_schema_extra={'prefix': \"Reasoning: Let's think step by step in order to\", 'desc': '${produce the precision}. We ...', '__dspy_field_type': 'output'})\n",
      "    ground_truth_key_ideas = Field(annotation=str required=True json_schema_extra={'desc': 'enumeration of key ideas in the ground truth', '__dspy_field_type': 'output', 'prefix': 'Ground Truth Key Ideas:'})\n",
      "    system_response_key_ideas = Field(annotation=str required=True json_schema_extra={'desc': 'enumeration of key ideas in the system response', '__dspy_field_type': 'output', 'prefix': 'System Response Key Ideas:'})\n",
      "    discussion = Field(annotation=str required=True json_schema_extra={'desc': 'discussion of the overlap between ground truth and system response', '__dspy_field_type': 'output', 'prefix': 'Discussion:'})\n",
      "    recall = Field(annotation=float required=True json_schema_extra={'desc': 'fraction (out of 1.0) of ground truth covered by the system response', '__dspy_field_type': 'output', 'prefix': 'Recall:'})\n",
      "    precision = Field(annotation=float required=True json_schema_extra={'desc': 'fraction (out of 1.0) of system response covered by the ground truth', '__dspy_field_type': 'output', 'prefix': 'Precision:'})\n",
      ")) due to 'dict' object has no attribute 'inputs'.\n",
      "100%|██████████| 1/1 [00:00<00:00, 2299.51it/s]\n"
     ]
    },
    {
     "name": "stdout",
     "output_type": "stream",
     "text": [
      "Bootstrapped 0 full traces after 0 examples for up to 1 rounds, amounting to 1 attempts.\n",
      "Bootstrapping set 5/19\n"
     ]
    },
    {
     "name": "stderr",
     "output_type": "stream",
     "text": [
      "  0%|          | 0/1 [00:00<?, ?it/s]2025/01/24 21:49:16 ERROR dspy.teleprompt.bootstrap: Failed to run or to evaluate example {'question': 'How can we maximize beauty?', 'response': 'Maximizing beauty involves fully channeling inner beauty and actively seeking beauty in every situation. This includes disciplining our senses to focus on beauty in our surroundings, appreciating subtle details like flowers and birds, and recognizing beauty as a fundamental virtue requiring conscious implementation.'} with module = Predict(StringSignature(question, ground_truth, system_response -> rationale, ground_truth_key_ideas, system_response_key_ideas, discussion, recall, precision\n",
      "    instructions=\"Compare a system's response to the ground truth to compute recall and precision of key ideas.\\nYou will first enumerate key ideas in each response, discuss their overlap, and then report recall and precision.\"\n",
      "    question = Field(annotation=str required=True json_schema_extra={'__dspy_field_type': 'input', 'prefix': 'Question:', 'desc': '${question}'})\n",
      "    ground_truth = Field(annotation=str required=True json_schema_extra={'__dspy_field_type': 'input', 'prefix': 'Ground Truth:', 'desc': '${ground_truth}'})\n",
      "    system_response = Field(annotation=str required=True json_schema_extra={'__dspy_field_type': 'input', 'prefix': 'System Response:', 'desc': '${system_response}'})\n",
      "    rationale = Field(annotation=str required=True json_schema_extra={'prefix': \"Reasoning: Let's think step by step in order to\", 'desc': '${produce the precision}. We ...', '__dspy_field_type': 'output'})\n",
      "    ground_truth_key_ideas = Field(annotation=str required=True json_schema_extra={'desc': 'enumeration of key ideas in the ground truth', '__dspy_field_type': 'output', 'prefix': 'Ground Truth Key Ideas:'})\n",
      "    system_response_key_ideas = Field(annotation=str required=True json_schema_extra={'desc': 'enumeration of key ideas in the system response', '__dspy_field_type': 'output', 'prefix': 'System Response Key Ideas:'})\n",
      "    discussion = Field(annotation=str required=True json_schema_extra={'desc': 'discussion of the overlap between ground truth and system response', '__dspy_field_type': 'output', 'prefix': 'Discussion:'})\n",
      "    recall = Field(annotation=float required=True json_schema_extra={'desc': 'fraction (out of 1.0) of ground truth covered by the system response', '__dspy_field_type': 'output', 'prefix': 'Recall:'})\n",
      "    precision = Field(annotation=float required=True json_schema_extra={'desc': 'fraction (out of 1.0) of system response covered by the ground truth', '__dspy_field_type': 'output', 'prefix': 'Precision:'})\n",
      ")) due to 'dict' object has no attribute 'inputs'.\n",
      "100%|██████████| 1/1 [00:00<00:00, 1231.45it/s]\n"
     ]
    },
    {
     "name": "stdout",
     "output_type": "stream",
     "text": [
      "Bootstrapped 0 full traces after 0 examples for up to 1 rounds, amounting to 1 attempts.\n",
      "Bootstrapping set 6/19\n"
     ]
    },
    {
     "name": "stderr",
     "output_type": "stream",
     "text": [
      "  0%|          | 0/1 [00:00<?, ?it/s]2025/01/24 21:49:16 ERROR dspy.teleprompt.bootstrap: Failed to run or to evaluate example {'question': 'How can we maximize beauty?', 'response': 'Maximizing beauty involves fully channeling inner beauty and actively seeking beauty in every situation. This includes disciplining our senses to focus on beauty in our surroundings, appreciating subtle details like flowers and birds, and recognizing beauty as a fundamental virtue requiring conscious implementation.'} with module = Predict(StringSignature(question, ground_truth, system_response -> rationale, ground_truth_key_ideas, system_response_key_ideas, discussion, recall, precision\n",
      "    instructions=\"Compare a system's response to the ground truth to compute recall and precision of key ideas.\\nYou will first enumerate key ideas in each response, discuss their overlap, and then report recall and precision.\"\n",
      "    question = Field(annotation=str required=True json_schema_extra={'__dspy_field_type': 'input', 'prefix': 'Question:', 'desc': '${question}'})\n",
      "    ground_truth = Field(annotation=str required=True json_schema_extra={'__dspy_field_type': 'input', 'prefix': 'Ground Truth:', 'desc': '${ground_truth}'})\n",
      "    system_response = Field(annotation=str required=True json_schema_extra={'__dspy_field_type': 'input', 'prefix': 'System Response:', 'desc': '${system_response}'})\n",
      "    rationale = Field(annotation=str required=True json_schema_extra={'prefix': \"Reasoning: Let's think step by step in order to\", 'desc': '${produce the precision}. We ...', '__dspy_field_type': 'output'})\n",
      "    ground_truth_key_ideas = Field(annotation=str required=True json_schema_extra={'desc': 'enumeration of key ideas in the ground truth', '__dspy_field_type': 'output', 'prefix': 'Ground Truth Key Ideas:'})\n",
      "    system_response_key_ideas = Field(annotation=str required=True json_schema_extra={'desc': 'enumeration of key ideas in the system response', '__dspy_field_type': 'output', 'prefix': 'System Response Key Ideas:'})\n",
      "    discussion = Field(annotation=str required=True json_schema_extra={'desc': 'discussion of the overlap between ground truth and system response', '__dspy_field_type': 'output', 'prefix': 'Discussion:'})\n",
      "    recall = Field(annotation=float required=True json_schema_extra={'desc': 'fraction (out of 1.0) of ground truth covered by the system response', '__dspy_field_type': 'output', 'prefix': 'Recall:'})\n",
      "    precision = Field(annotation=float required=True json_schema_extra={'desc': 'fraction (out of 1.0) of system response covered by the ground truth', '__dspy_field_type': 'output', 'prefix': 'Precision:'})\n",
      ")) due to 'dict' object has no attribute 'inputs'.\n",
      "100%|██████████| 1/1 [00:00<00:00, 1661.11it/s]\n"
     ]
    },
    {
     "name": "stdout",
     "output_type": "stream",
     "text": [
      "Bootstrapped 0 full traces after 0 examples for up to 1 rounds, amounting to 1 attempts.\n",
      "Bootstrapping set 7/19\n"
     ]
    },
    {
     "name": "stderr",
     "output_type": "stream",
     "text": [
      "  0%|          | 0/1 [00:00<?, ?it/s]2025/01/24 21:49:16 ERROR dspy.teleprompt.bootstrap: Failed to run or to evaluate example {'question': 'How can we maximize beauty?', 'response': 'Maximizing beauty involves fully channeling inner beauty and actively seeking beauty in every situation. This includes disciplining our senses to focus on beauty in our surroundings, appreciating subtle details like flowers and birds, and recognizing beauty as a fundamental virtue requiring conscious implementation.'} with module = Predict(StringSignature(question, ground_truth, system_response -> rationale, ground_truth_key_ideas, system_response_key_ideas, discussion, recall, precision\n",
      "    instructions=\"Compare a system's response to the ground truth to compute recall and precision of key ideas.\\nYou will first enumerate key ideas in each response, discuss their overlap, and then report recall and precision.\"\n",
      "    question = Field(annotation=str required=True json_schema_extra={'__dspy_field_type': 'input', 'prefix': 'Question:', 'desc': '${question}'})\n",
      "    ground_truth = Field(annotation=str required=True json_schema_extra={'__dspy_field_type': 'input', 'prefix': 'Ground Truth:', 'desc': '${ground_truth}'})\n",
      "    system_response = Field(annotation=str required=True json_schema_extra={'__dspy_field_type': 'input', 'prefix': 'System Response:', 'desc': '${system_response}'})\n",
      "    rationale = Field(annotation=str required=True json_schema_extra={'prefix': \"Reasoning: Let's think step by step in order to\", 'desc': '${produce the precision}. We ...', '__dspy_field_type': 'output'})\n",
      "    ground_truth_key_ideas = Field(annotation=str required=True json_schema_extra={'desc': 'enumeration of key ideas in the ground truth', '__dspy_field_type': 'output', 'prefix': 'Ground Truth Key Ideas:'})\n",
      "    system_response_key_ideas = Field(annotation=str required=True json_schema_extra={'desc': 'enumeration of key ideas in the system response', '__dspy_field_type': 'output', 'prefix': 'System Response Key Ideas:'})\n",
      "    discussion = Field(annotation=str required=True json_schema_extra={'desc': 'discussion of the overlap between ground truth and system response', '__dspy_field_type': 'output', 'prefix': 'Discussion:'})\n",
      "    recall = Field(annotation=float required=True json_schema_extra={'desc': 'fraction (out of 1.0) of ground truth covered by the system response', '__dspy_field_type': 'output', 'prefix': 'Recall:'})\n",
      "    precision = Field(annotation=float required=True json_schema_extra={'desc': 'fraction (out of 1.0) of system response covered by the ground truth', '__dspy_field_type': 'output', 'prefix': 'Precision:'})\n",
      ")) due to 'dict' object has no attribute 'inputs'.\n",
      "100%|██████████| 1/1 [00:00<00:00, 815.70it/s]\n"
     ]
    },
    {
     "name": "stdout",
     "output_type": "stream",
     "text": [
      "Bootstrapped 0 full traces after 0 examples for up to 1 rounds, amounting to 1 attempts.\n",
      "Bootstrapping set 8/19\n"
     ]
    },
    {
     "name": "stderr",
     "output_type": "stream",
     "text": [
      "  0%|          | 0/1 [00:00<?, ?it/s]2025/01/24 21:49:16 ERROR dspy.teleprompt.bootstrap: Failed to run or to evaluate example {'question': 'How can we maximize beauty?', 'response': 'Maximizing beauty involves fully channeling inner beauty and actively seeking beauty in every situation. This includes disciplining our senses to focus on beauty in our surroundings, appreciating subtle details like flowers and birds, and recognizing beauty as a fundamental virtue requiring conscious implementation.'} with module = Predict(StringSignature(question, ground_truth, system_response -> rationale, ground_truth_key_ideas, system_response_key_ideas, discussion, recall, precision\n",
      "    instructions=\"Compare a system's response to the ground truth to compute recall and precision of key ideas.\\nYou will first enumerate key ideas in each response, discuss their overlap, and then report recall and precision.\"\n",
      "    question = Field(annotation=str required=True json_schema_extra={'__dspy_field_type': 'input', 'prefix': 'Question:', 'desc': '${question}'})\n",
      "    ground_truth = Field(annotation=str required=True json_schema_extra={'__dspy_field_type': 'input', 'prefix': 'Ground Truth:', 'desc': '${ground_truth}'})\n",
      "    system_response = Field(annotation=str required=True json_schema_extra={'__dspy_field_type': 'input', 'prefix': 'System Response:', 'desc': '${system_response}'})\n",
      "    rationale = Field(annotation=str required=True json_schema_extra={'prefix': \"Reasoning: Let's think step by step in order to\", 'desc': '${produce the precision}. We ...', '__dspy_field_type': 'output'})\n",
      "    ground_truth_key_ideas = Field(annotation=str required=True json_schema_extra={'desc': 'enumeration of key ideas in the ground truth', '__dspy_field_type': 'output', 'prefix': 'Ground Truth Key Ideas:'})\n",
      "    system_response_key_ideas = Field(annotation=str required=True json_schema_extra={'desc': 'enumeration of key ideas in the system response', '__dspy_field_type': 'output', 'prefix': 'System Response Key Ideas:'})\n",
      "    discussion = Field(annotation=str required=True json_schema_extra={'desc': 'discussion of the overlap between ground truth and system response', '__dspy_field_type': 'output', 'prefix': 'Discussion:'})\n",
      "    recall = Field(annotation=float required=True json_schema_extra={'desc': 'fraction (out of 1.0) of ground truth covered by the system response', '__dspy_field_type': 'output', 'prefix': 'Recall:'})\n",
      "    precision = Field(annotation=float required=True json_schema_extra={'desc': 'fraction (out of 1.0) of system response covered by the ground truth', '__dspy_field_type': 'output', 'prefix': 'Precision:'})\n",
      ")) due to 'dict' object has no attribute 'inputs'.\n",
      "100%|██████████| 1/1 [00:00<00:00, 226.56it/s]\n"
     ]
    },
    {
     "name": "stdout",
     "output_type": "stream",
     "text": [
      "Bootstrapped 0 full traces after 0 examples for up to 1 rounds, amounting to 1 attempts.\n",
      "Bootstrapping set 9/19\n"
     ]
    },
    {
     "name": "stderr",
     "output_type": "stream",
     "text": [
      "  0%|          | 0/1 [00:00<?, ?it/s]2025/01/24 21:49:16 ERROR dspy.teleprompt.bootstrap: Failed to run or to evaluate example {'question': 'How can we maximize beauty?', 'response': 'Maximizing beauty involves fully channeling inner beauty and actively seeking beauty in every situation. This includes disciplining our senses to focus on beauty in our surroundings, appreciating subtle details like flowers and birds, and recognizing beauty as a fundamental virtue requiring conscious implementation.'} with module = Predict(StringSignature(question, ground_truth, system_response -> rationale, ground_truth_key_ideas, system_response_key_ideas, discussion, recall, precision\n",
      "    instructions=\"Compare a system's response to the ground truth to compute recall and precision of key ideas.\\nYou will first enumerate key ideas in each response, discuss their overlap, and then report recall and precision.\"\n",
      "    question = Field(annotation=str required=True json_schema_extra={'__dspy_field_type': 'input', 'prefix': 'Question:', 'desc': '${question}'})\n",
      "    ground_truth = Field(annotation=str required=True json_schema_extra={'__dspy_field_type': 'input', 'prefix': 'Ground Truth:', 'desc': '${ground_truth}'})\n",
      "    system_response = Field(annotation=str required=True json_schema_extra={'__dspy_field_type': 'input', 'prefix': 'System Response:', 'desc': '${system_response}'})\n",
      "    rationale = Field(annotation=str required=True json_schema_extra={'prefix': \"Reasoning: Let's think step by step in order to\", 'desc': '${produce the precision}. We ...', '__dspy_field_type': 'output'})\n",
      "    ground_truth_key_ideas = Field(annotation=str required=True json_schema_extra={'desc': 'enumeration of key ideas in the ground truth', '__dspy_field_type': 'output', 'prefix': 'Ground Truth Key Ideas:'})\n",
      "    system_response_key_ideas = Field(annotation=str required=True json_schema_extra={'desc': 'enumeration of key ideas in the system response', '__dspy_field_type': 'output', 'prefix': 'System Response Key Ideas:'})\n",
      "    discussion = Field(annotation=str required=True json_schema_extra={'desc': 'discussion of the overlap between ground truth and system response', '__dspy_field_type': 'output', 'prefix': 'Discussion:'})\n",
      "    recall = Field(annotation=float required=True json_schema_extra={'desc': 'fraction (out of 1.0) of ground truth covered by the system response', '__dspy_field_type': 'output', 'prefix': 'Recall:'})\n",
      "    precision = Field(annotation=float required=True json_schema_extra={'desc': 'fraction (out of 1.0) of system response covered by the ground truth', '__dspy_field_type': 'output', 'prefix': 'Precision:'})\n",
      ")) due to 'dict' object has no attribute 'inputs'.\n",
      "100%|██████████| 1/1 [00:00<00:00, 2007.80it/s]\n"
     ]
    },
    {
     "name": "stdout",
     "output_type": "stream",
     "text": [
      "Bootstrapped 0 full traces after 0 examples for up to 1 rounds, amounting to 1 attempts.\n",
      "Bootstrapping set 10/19\n"
     ]
    },
    {
     "name": "stderr",
     "output_type": "stream",
     "text": [
      "  0%|          | 0/1 [00:00<?, ?it/s]2025/01/24 21:49:16 ERROR dspy.teleprompt.bootstrap: Failed to run or to evaluate example {'question': 'How can we maximize beauty?', 'response': 'Maximizing beauty involves fully channeling inner beauty and actively seeking beauty in every situation. This includes disciplining our senses to focus on beauty in our surroundings, appreciating subtle details like flowers and birds, and recognizing beauty as a fundamental virtue requiring conscious implementation.'} with module = Predict(StringSignature(question, ground_truth, system_response -> rationale, ground_truth_key_ideas, system_response_key_ideas, discussion, recall, precision\n",
      "    instructions=\"Compare a system's response to the ground truth to compute recall and precision of key ideas.\\nYou will first enumerate key ideas in each response, discuss their overlap, and then report recall and precision.\"\n",
      "    question = Field(annotation=str required=True json_schema_extra={'__dspy_field_type': 'input', 'prefix': 'Question:', 'desc': '${question}'})\n",
      "    ground_truth = Field(annotation=str required=True json_schema_extra={'__dspy_field_type': 'input', 'prefix': 'Ground Truth:', 'desc': '${ground_truth}'})\n",
      "    system_response = Field(annotation=str required=True json_schema_extra={'__dspy_field_type': 'input', 'prefix': 'System Response:', 'desc': '${system_response}'})\n",
      "    rationale = Field(annotation=str required=True json_schema_extra={'prefix': \"Reasoning: Let's think step by step in order to\", 'desc': '${produce the precision}. We ...', '__dspy_field_type': 'output'})\n",
      "    ground_truth_key_ideas = Field(annotation=str required=True json_schema_extra={'desc': 'enumeration of key ideas in the ground truth', '__dspy_field_type': 'output', 'prefix': 'Ground Truth Key Ideas:'})\n",
      "    system_response_key_ideas = Field(annotation=str required=True json_schema_extra={'desc': 'enumeration of key ideas in the system response', '__dspy_field_type': 'output', 'prefix': 'System Response Key Ideas:'})\n",
      "    discussion = Field(annotation=str required=True json_schema_extra={'desc': 'discussion of the overlap between ground truth and system response', '__dspy_field_type': 'output', 'prefix': 'Discussion:'})\n",
      "    recall = Field(annotation=float required=True json_schema_extra={'desc': 'fraction (out of 1.0) of ground truth covered by the system response', '__dspy_field_type': 'output', 'prefix': 'Recall:'})\n",
      "    precision = Field(annotation=float required=True json_schema_extra={'desc': 'fraction (out of 1.0) of system response covered by the ground truth', '__dspy_field_type': 'output', 'prefix': 'Precision:'})\n",
      ")) due to 'dict' object has no attribute 'inputs'.\n",
      "100%|██████████| 1/1 [00:00<00:00, 53.08it/s]\n"
     ]
    },
    {
     "name": "stdout",
     "output_type": "stream",
     "text": [
      "Bootstrapped 0 full traces after 0 examples for up to 1 rounds, amounting to 1 attempts.\n",
      "Bootstrapping set 11/19\n"
     ]
    },
    {
     "name": "stderr",
     "output_type": "stream",
     "text": [
      "  0%|          | 0/1 [00:00<?, ?it/s]2025/01/24 21:49:16 ERROR dspy.teleprompt.bootstrap: Failed to run or to evaluate example {'question': 'How can we maximize beauty?', 'response': 'Maximizing beauty involves fully channeling inner beauty and actively seeking beauty in every situation. This includes disciplining our senses to focus on beauty in our surroundings, appreciating subtle details like flowers and birds, and recognizing beauty as a fundamental virtue requiring conscious implementation.'} with module = Predict(StringSignature(question, ground_truth, system_response -> rationale, ground_truth_key_ideas, system_response_key_ideas, discussion, recall, precision\n",
      "    instructions=\"Compare a system's response to the ground truth to compute recall and precision of key ideas.\\nYou will first enumerate key ideas in each response, discuss their overlap, and then report recall and precision.\"\n",
      "    question = Field(annotation=str required=True json_schema_extra={'__dspy_field_type': 'input', 'prefix': 'Question:', 'desc': '${question}'})\n",
      "    ground_truth = Field(annotation=str required=True json_schema_extra={'__dspy_field_type': 'input', 'prefix': 'Ground Truth:', 'desc': '${ground_truth}'})\n",
      "    system_response = Field(annotation=str required=True json_schema_extra={'__dspy_field_type': 'input', 'prefix': 'System Response:', 'desc': '${system_response}'})\n",
      "    rationale = Field(annotation=str required=True json_schema_extra={'prefix': \"Reasoning: Let's think step by step in order to\", 'desc': '${produce the precision}. We ...', '__dspy_field_type': 'output'})\n",
      "    ground_truth_key_ideas = Field(annotation=str required=True json_schema_extra={'desc': 'enumeration of key ideas in the ground truth', '__dspy_field_type': 'output', 'prefix': 'Ground Truth Key Ideas:'})\n",
      "    system_response_key_ideas = Field(annotation=str required=True json_schema_extra={'desc': 'enumeration of key ideas in the system response', '__dspy_field_type': 'output', 'prefix': 'System Response Key Ideas:'})\n",
      "    discussion = Field(annotation=str required=True json_schema_extra={'desc': 'discussion of the overlap between ground truth and system response', '__dspy_field_type': 'output', 'prefix': 'Discussion:'})\n",
      "    recall = Field(annotation=float required=True json_schema_extra={'desc': 'fraction (out of 1.0) of ground truth covered by the system response', '__dspy_field_type': 'output', 'prefix': 'Recall:'})\n",
      "    precision = Field(annotation=float required=True json_schema_extra={'desc': 'fraction (out of 1.0) of system response covered by the ground truth', '__dspy_field_type': 'output', 'prefix': 'Precision:'})\n",
      ")) due to 'dict' object has no attribute 'inputs'.\n",
      "100%|██████████| 1/1 [00:00<00:00, 2227.46it/s]\n"
     ]
    },
    {
     "name": "stdout",
     "output_type": "stream",
     "text": [
      "Bootstrapped 0 full traces after 0 examples for up to 1 rounds, amounting to 1 attempts.\n",
      "Bootstrapping set 12/19\n"
     ]
    },
    {
     "name": "stderr",
     "output_type": "stream",
     "text": [
      "  0%|          | 0/1 [00:00<?, ?it/s]2025/01/24 21:49:16 ERROR dspy.teleprompt.bootstrap: Failed to run or to evaluate example {'question': 'How can we maximize beauty?', 'response': 'Maximizing beauty involves fully channeling inner beauty and actively seeking beauty in every situation. This includes disciplining our senses to focus on beauty in our surroundings, appreciating subtle details like flowers and birds, and recognizing beauty as a fundamental virtue requiring conscious implementation.'} with module = Predict(StringSignature(question, ground_truth, system_response -> rationale, ground_truth_key_ideas, system_response_key_ideas, discussion, recall, precision\n",
      "    instructions=\"Compare a system's response to the ground truth to compute recall and precision of key ideas.\\nYou will first enumerate key ideas in each response, discuss their overlap, and then report recall and precision.\"\n",
      "    question = Field(annotation=str required=True json_schema_extra={'__dspy_field_type': 'input', 'prefix': 'Question:', 'desc': '${question}'})\n",
      "    ground_truth = Field(annotation=str required=True json_schema_extra={'__dspy_field_type': 'input', 'prefix': 'Ground Truth:', 'desc': '${ground_truth}'})\n",
      "    system_response = Field(annotation=str required=True json_schema_extra={'__dspy_field_type': 'input', 'prefix': 'System Response:', 'desc': '${system_response}'})\n",
      "    rationale = Field(annotation=str required=True json_schema_extra={'prefix': \"Reasoning: Let's think step by step in order to\", 'desc': '${produce the precision}. We ...', '__dspy_field_type': 'output'})\n",
      "    ground_truth_key_ideas = Field(annotation=str required=True json_schema_extra={'desc': 'enumeration of key ideas in the ground truth', '__dspy_field_type': 'output', 'prefix': 'Ground Truth Key Ideas:'})\n",
      "    system_response_key_ideas = Field(annotation=str required=True json_schema_extra={'desc': 'enumeration of key ideas in the system response', '__dspy_field_type': 'output', 'prefix': 'System Response Key Ideas:'})\n",
      "    discussion = Field(annotation=str required=True json_schema_extra={'desc': 'discussion of the overlap between ground truth and system response', '__dspy_field_type': 'output', 'prefix': 'Discussion:'})\n",
      "    recall = Field(annotation=float required=True json_schema_extra={'desc': 'fraction (out of 1.0) of ground truth covered by the system response', '__dspy_field_type': 'output', 'prefix': 'Recall:'})\n",
      "    precision = Field(annotation=float required=True json_schema_extra={'desc': 'fraction (out of 1.0) of system response covered by the ground truth', '__dspy_field_type': 'output', 'prefix': 'Precision:'})\n",
      ")) due to 'dict' object has no attribute 'inputs'.\n",
      "100%|██████████| 1/1 [00:00<00:00, 1574.44it/s]\n"
     ]
    },
    {
     "name": "stdout",
     "output_type": "stream",
     "text": [
      "Bootstrapped 0 full traces after 0 examples for up to 1 rounds, amounting to 1 attempts.\n",
      "Bootstrapping set 13/19\n"
     ]
    },
    {
     "name": "stderr",
     "output_type": "stream",
     "text": [
      "  0%|          | 0/1 [00:00<?, ?it/s]2025/01/24 21:49:16 ERROR dspy.teleprompt.bootstrap: Failed to run or to evaluate example {'question': 'How can we maximize beauty?', 'response': 'Maximizing beauty involves fully channeling inner beauty and actively seeking beauty in every situation. This includes disciplining our senses to focus on beauty in our surroundings, appreciating subtle details like flowers and birds, and recognizing beauty as a fundamental virtue requiring conscious implementation.'} with module = Predict(StringSignature(question, ground_truth, system_response -> rationale, ground_truth_key_ideas, system_response_key_ideas, discussion, recall, precision\n",
      "    instructions=\"Compare a system's response to the ground truth to compute recall and precision of key ideas.\\nYou will first enumerate key ideas in each response, discuss their overlap, and then report recall and precision.\"\n",
      "    question = Field(annotation=str required=True json_schema_extra={'__dspy_field_type': 'input', 'prefix': 'Question:', 'desc': '${question}'})\n",
      "    ground_truth = Field(annotation=str required=True json_schema_extra={'__dspy_field_type': 'input', 'prefix': 'Ground Truth:', 'desc': '${ground_truth}'})\n",
      "    system_response = Field(annotation=str required=True json_schema_extra={'__dspy_field_type': 'input', 'prefix': 'System Response:', 'desc': '${system_response}'})\n",
      "    rationale = Field(annotation=str required=True json_schema_extra={'prefix': \"Reasoning: Let's think step by step in order to\", 'desc': '${produce the precision}. We ...', '__dspy_field_type': 'output'})\n",
      "    ground_truth_key_ideas = Field(annotation=str required=True json_schema_extra={'desc': 'enumeration of key ideas in the ground truth', '__dspy_field_type': 'output', 'prefix': 'Ground Truth Key Ideas:'})\n",
      "    system_response_key_ideas = Field(annotation=str required=True json_schema_extra={'desc': 'enumeration of key ideas in the system response', '__dspy_field_type': 'output', 'prefix': 'System Response Key Ideas:'})\n",
      "    discussion = Field(annotation=str required=True json_schema_extra={'desc': 'discussion of the overlap between ground truth and system response', '__dspy_field_type': 'output', 'prefix': 'Discussion:'})\n",
      "    recall = Field(annotation=float required=True json_schema_extra={'desc': 'fraction (out of 1.0) of ground truth covered by the system response', '__dspy_field_type': 'output', 'prefix': 'Recall:'})\n",
      "    precision = Field(annotation=float required=True json_schema_extra={'desc': 'fraction (out of 1.0) of system response covered by the ground truth', '__dspy_field_type': 'output', 'prefix': 'Precision:'})\n",
      ")) due to 'dict' object has no attribute 'inputs'.\n",
      "100%|██████████| 1/1 [00:00<00:00, 1709.87it/s]\n"
     ]
    },
    {
     "name": "stdout",
     "output_type": "stream",
     "text": [
      "Bootstrapped 0 full traces after 0 examples for up to 1 rounds, amounting to 1 attempts.\n",
      "Bootstrapping set 14/19\n"
     ]
    },
    {
     "name": "stderr",
     "output_type": "stream",
     "text": [
      "  0%|          | 0/1 [00:00<?, ?it/s]2025/01/24 21:49:16 ERROR dspy.teleprompt.bootstrap: Failed to run or to evaluate example {'question': 'How can we maximize beauty?', 'response': 'Maximizing beauty involves fully channeling inner beauty and actively seeking beauty in every situation. This includes disciplining our senses to focus on beauty in our surroundings, appreciating subtle details like flowers and birds, and recognizing beauty as a fundamental virtue requiring conscious implementation.'} with module = Predict(StringSignature(question, ground_truth, system_response -> rationale, ground_truth_key_ideas, system_response_key_ideas, discussion, recall, precision\n",
      "    instructions=\"Compare a system's response to the ground truth to compute recall and precision of key ideas.\\nYou will first enumerate key ideas in each response, discuss their overlap, and then report recall and precision.\"\n",
      "    question = Field(annotation=str required=True json_schema_extra={'__dspy_field_type': 'input', 'prefix': 'Question:', 'desc': '${question}'})\n",
      "    ground_truth = Field(annotation=str required=True json_schema_extra={'__dspy_field_type': 'input', 'prefix': 'Ground Truth:', 'desc': '${ground_truth}'})\n",
      "    system_response = Field(annotation=str required=True json_schema_extra={'__dspy_field_type': 'input', 'prefix': 'System Response:', 'desc': '${system_response}'})\n",
      "    rationale = Field(annotation=str required=True json_schema_extra={'prefix': \"Reasoning: Let's think step by step in order to\", 'desc': '${produce the precision}. We ...', '__dspy_field_type': 'output'})\n",
      "    ground_truth_key_ideas = Field(annotation=str required=True json_schema_extra={'desc': 'enumeration of key ideas in the ground truth', '__dspy_field_type': 'output', 'prefix': 'Ground Truth Key Ideas:'})\n",
      "    system_response_key_ideas = Field(annotation=str required=True json_schema_extra={'desc': 'enumeration of key ideas in the system response', '__dspy_field_type': 'output', 'prefix': 'System Response Key Ideas:'})\n",
      "    discussion = Field(annotation=str required=True json_schema_extra={'desc': 'discussion of the overlap between ground truth and system response', '__dspy_field_type': 'output', 'prefix': 'Discussion:'})\n",
      "    recall = Field(annotation=float required=True json_schema_extra={'desc': 'fraction (out of 1.0) of ground truth covered by the system response', '__dspy_field_type': 'output', 'prefix': 'Recall:'})\n",
      "    precision = Field(annotation=float required=True json_schema_extra={'desc': 'fraction (out of 1.0) of system response covered by the ground truth', '__dspy_field_type': 'output', 'prefix': 'Precision:'})\n",
      ")) due to 'dict' object has no attribute 'inputs'.\n",
      "100%|██████████| 1/1 [00:00<00:00, 2010.69it/s]\n"
     ]
    },
    {
     "name": "stdout",
     "output_type": "stream",
     "text": [
      "Bootstrapped 0 full traces after 0 examples for up to 1 rounds, amounting to 1 attempts.\n",
      "Bootstrapping set 15/19\n"
     ]
    },
    {
     "name": "stderr",
     "output_type": "stream",
     "text": [
      "  0%|          | 0/1 [00:00<?, ?it/s]2025/01/24 21:49:16 ERROR dspy.teleprompt.bootstrap: Failed to run or to evaluate example {'question': 'How can we maximize beauty?', 'response': 'Maximizing beauty involves fully channeling inner beauty and actively seeking beauty in every situation. This includes disciplining our senses to focus on beauty in our surroundings, appreciating subtle details like flowers and birds, and recognizing beauty as a fundamental virtue requiring conscious implementation.'} with module = Predict(StringSignature(question, ground_truth, system_response -> rationale, ground_truth_key_ideas, system_response_key_ideas, discussion, recall, precision\n",
      "    instructions=\"Compare a system's response to the ground truth to compute recall and precision of key ideas.\\nYou will first enumerate key ideas in each response, discuss their overlap, and then report recall and precision.\"\n",
      "    question = Field(annotation=str required=True json_schema_extra={'__dspy_field_type': 'input', 'prefix': 'Question:', 'desc': '${question}'})\n",
      "    ground_truth = Field(annotation=str required=True json_schema_extra={'__dspy_field_type': 'input', 'prefix': 'Ground Truth:', 'desc': '${ground_truth}'})\n",
      "    system_response = Field(annotation=str required=True json_schema_extra={'__dspy_field_type': 'input', 'prefix': 'System Response:', 'desc': '${system_response}'})\n",
      "    rationale = Field(annotation=str required=True json_schema_extra={'prefix': \"Reasoning: Let's think step by step in order to\", 'desc': '${produce the precision}. We ...', '__dspy_field_type': 'output'})\n",
      "    ground_truth_key_ideas = Field(annotation=str required=True json_schema_extra={'desc': 'enumeration of key ideas in the ground truth', '__dspy_field_type': 'output', 'prefix': 'Ground Truth Key Ideas:'})\n",
      "    system_response_key_ideas = Field(annotation=str required=True json_schema_extra={'desc': 'enumeration of key ideas in the system response', '__dspy_field_type': 'output', 'prefix': 'System Response Key Ideas:'})\n",
      "    discussion = Field(annotation=str required=True json_schema_extra={'desc': 'discussion of the overlap between ground truth and system response', '__dspy_field_type': 'output', 'prefix': 'Discussion:'})\n",
      "    recall = Field(annotation=float required=True json_schema_extra={'desc': 'fraction (out of 1.0) of ground truth covered by the system response', '__dspy_field_type': 'output', 'prefix': 'Recall:'})\n",
      "    precision = Field(annotation=float required=True json_schema_extra={'desc': 'fraction (out of 1.0) of system response covered by the ground truth', '__dspy_field_type': 'output', 'prefix': 'Precision:'})\n",
      ")) due to 'dict' object has no attribute 'inputs'.\n",
      "100%|██████████| 1/1 [00:00<00:00, 2598.70it/s]\n"
     ]
    },
    {
     "name": "stdout",
     "output_type": "stream",
     "text": [
      "Bootstrapped 0 full traces after 0 examples for up to 1 rounds, amounting to 1 attempts.\n",
      "Bootstrapping set 16/19\n"
     ]
    },
    {
     "name": "stderr",
     "output_type": "stream",
     "text": [
      "  0%|          | 0/1 [00:00<?, ?it/s]2025/01/24 21:49:16 ERROR dspy.teleprompt.bootstrap: Failed to run or to evaluate example {'question': 'How can we maximize beauty?', 'response': 'Maximizing beauty involves fully channeling inner beauty and actively seeking beauty in every situation. This includes disciplining our senses to focus on beauty in our surroundings, appreciating subtle details like flowers and birds, and recognizing beauty as a fundamental virtue requiring conscious implementation.'} with module = Predict(StringSignature(question, ground_truth, system_response -> rationale, ground_truth_key_ideas, system_response_key_ideas, discussion, recall, precision\n",
      "    instructions=\"Compare a system's response to the ground truth to compute recall and precision of key ideas.\\nYou will first enumerate key ideas in each response, discuss their overlap, and then report recall and precision.\"\n",
      "    question = Field(annotation=str required=True json_schema_extra={'__dspy_field_type': 'input', 'prefix': 'Question:', 'desc': '${question}'})\n",
      "    ground_truth = Field(annotation=str required=True json_schema_extra={'__dspy_field_type': 'input', 'prefix': 'Ground Truth:', 'desc': '${ground_truth}'})\n",
      "    system_response = Field(annotation=str required=True json_schema_extra={'__dspy_field_type': 'input', 'prefix': 'System Response:', 'desc': '${system_response}'})\n",
      "    rationale = Field(annotation=str required=True json_schema_extra={'prefix': \"Reasoning: Let's think step by step in order to\", 'desc': '${produce the precision}. We ...', '__dspy_field_type': 'output'})\n",
      "    ground_truth_key_ideas = Field(annotation=str required=True json_schema_extra={'desc': 'enumeration of key ideas in the ground truth', '__dspy_field_type': 'output', 'prefix': 'Ground Truth Key Ideas:'})\n",
      "    system_response_key_ideas = Field(annotation=str required=True json_schema_extra={'desc': 'enumeration of key ideas in the system response', '__dspy_field_type': 'output', 'prefix': 'System Response Key Ideas:'})\n",
      "    discussion = Field(annotation=str required=True json_schema_extra={'desc': 'discussion of the overlap between ground truth and system response', '__dspy_field_type': 'output', 'prefix': 'Discussion:'})\n",
      "    recall = Field(annotation=float required=True json_schema_extra={'desc': 'fraction (out of 1.0) of ground truth covered by the system response', '__dspy_field_type': 'output', 'prefix': 'Recall:'})\n",
      "    precision = Field(annotation=float required=True json_schema_extra={'desc': 'fraction (out of 1.0) of system response covered by the ground truth', '__dspy_field_type': 'output', 'prefix': 'Precision:'})\n",
      ")) due to 'dict' object has no attribute 'inputs'.\n",
      "100%|██████████| 1/1 [00:00<00:00, 523.57it/s]\n"
     ]
    },
    {
     "name": "stdout",
     "output_type": "stream",
     "text": [
      "Bootstrapped 0 full traces after 0 examples for up to 1 rounds, amounting to 1 attempts.\n",
      "Bootstrapping set 17/19\n"
     ]
    },
    {
     "name": "stderr",
     "output_type": "stream",
     "text": [
      "  0%|          | 0/1 [00:00<?, ?it/s]2025/01/24 21:49:16 ERROR dspy.teleprompt.bootstrap: Failed to run or to evaluate example {'question': 'How can we maximize beauty?', 'response': 'Maximizing beauty involves fully channeling inner beauty and actively seeking beauty in every situation. This includes disciplining our senses to focus on beauty in our surroundings, appreciating subtle details like flowers and birds, and recognizing beauty as a fundamental virtue requiring conscious implementation.'} with module = Predict(StringSignature(question, ground_truth, system_response -> rationale, ground_truth_key_ideas, system_response_key_ideas, discussion, recall, precision\n",
      "    instructions=\"Compare a system's response to the ground truth to compute recall and precision of key ideas.\\nYou will first enumerate key ideas in each response, discuss their overlap, and then report recall and precision.\"\n",
      "    question = Field(annotation=str required=True json_schema_extra={'__dspy_field_type': 'input', 'prefix': 'Question:', 'desc': '${question}'})\n",
      "    ground_truth = Field(annotation=str required=True json_schema_extra={'__dspy_field_type': 'input', 'prefix': 'Ground Truth:', 'desc': '${ground_truth}'})\n",
      "    system_response = Field(annotation=str required=True json_schema_extra={'__dspy_field_type': 'input', 'prefix': 'System Response:', 'desc': '${system_response}'})\n",
      "    rationale = Field(annotation=str required=True json_schema_extra={'prefix': \"Reasoning: Let's think step by step in order to\", 'desc': '${produce the precision}. We ...', '__dspy_field_type': 'output'})\n",
      "    ground_truth_key_ideas = Field(annotation=str required=True json_schema_extra={'desc': 'enumeration of key ideas in the ground truth', '__dspy_field_type': 'output', 'prefix': 'Ground Truth Key Ideas:'})\n",
      "    system_response_key_ideas = Field(annotation=str required=True json_schema_extra={'desc': 'enumeration of key ideas in the system response', '__dspy_field_type': 'output', 'prefix': 'System Response Key Ideas:'})\n",
      "    discussion = Field(annotation=str required=True json_schema_extra={'desc': 'discussion of the overlap between ground truth and system response', '__dspy_field_type': 'output', 'prefix': 'Discussion:'})\n",
      "    recall = Field(annotation=float required=True json_schema_extra={'desc': 'fraction (out of 1.0) of ground truth covered by the system response', '__dspy_field_type': 'output', 'prefix': 'Recall:'})\n",
      "    precision = Field(annotation=float required=True json_schema_extra={'desc': 'fraction (out of 1.0) of system response covered by the ground truth', '__dspy_field_type': 'output', 'prefix': 'Precision:'})\n",
      ")) due to 'dict' object has no attribute 'inputs'.\n",
      "100%|██████████| 1/1 [00:00<00:00, 2597.09it/s]\n"
     ]
    },
    {
     "name": "stdout",
     "output_type": "stream",
     "text": [
      "Bootstrapped 0 full traces after 0 examples for up to 1 rounds, amounting to 1 attempts.\n",
      "Bootstrapping set 18/19\n"
     ]
    },
    {
     "name": "stderr",
     "output_type": "stream",
     "text": [
      "  0%|          | 0/1 [00:00<?, ?it/s]2025/01/24 21:49:16 ERROR dspy.teleprompt.bootstrap: Failed to run or to evaluate example {'question': 'How can we maximize beauty?', 'response': 'Maximizing beauty involves fully channeling inner beauty and actively seeking beauty in every situation. This includes disciplining our senses to focus on beauty in our surroundings, appreciating subtle details like flowers and birds, and recognizing beauty as a fundamental virtue requiring conscious implementation.'} with module = Predict(StringSignature(question, ground_truth, system_response -> rationale, ground_truth_key_ideas, system_response_key_ideas, discussion, recall, precision\n",
      "    instructions=\"Compare a system's response to the ground truth to compute recall and precision of key ideas.\\nYou will first enumerate key ideas in each response, discuss their overlap, and then report recall and precision.\"\n",
      "    question = Field(annotation=str required=True json_schema_extra={'__dspy_field_type': 'input', 'prefix': 'Question:', 'desc': '${question}'})\n",
      "    ground_truth = Field(annotation=str required=True json_schema_extra={'__dspy_field_type': 'input', 'prefix': 'Ground Truth:', 'desc': '${ground_truth}'})\n",
      "    system_response = Field(annotation=str required=True json_schema_extra={'__dspy_field_type': 'input', 'prefix': 'System Response:', 'desc': '${system_response}'})\n",
      "    rationale = Field(annotation=str required=True json_schema_extra={'prefix': \"Reasoning: Let's think step by step in order to\", 'desc': '${produce the precision}. We ...', '__dspy_field_type': 'output'})\n",
      "    ground_truth_key_ideas = Field(annotation=str required=True json_schema_extra={'desc': 'enumeration of key ideas in the ground truth', '__dspy_field_type': 'output', 'prefix': 'Ground Truth Key Ideas:'})\n",
      "    system_response_key_ideas = Field(annotation=str required=True json_schema_extra={'desc': 'enumeration of key ideas in the system response', '__dspy_field_type': 'output', 'prefix': 'System Response Key Ideas:'})\n",
      "    discussion = Field(annotation=str required=True json_schema_extra={'desc': 'discussion of the overlap between ground truth and system response', '__dspy_field_type': 'output', 'prefix': 'Discussion:'})\n",
      "    recall = Field(annotation=float required=True json_schema_extra={'desc': 'fraction (out of 1.0) of ground truth covered by the system response', '__dspy_field_type': 'output', 'prefix': 'Recall:'})\n",
      "    precision = Field(annotation=float required=True json_schema_extra={'desc': 'fraction (out of 1.0) of system response covered by the ground truth', '__dspy_field_type': 'output', 'prefix': 'Precision:'})\n",
      ")) due to 'dict' object has no attribute 'inputs'.\n",
      "100%|██████████| 1/1 [00:00<00:00, 2590.68it/s]\n"
     ]
    },
    {
     "name": "stdout",
     "output_type": "stream",
     "text": [
      "Bootstrapped 0 full traces after 0 examples for up to 1 rounds, amounting to 1 attempts.\n",
      "Bootstrapping set 19/19\n"
     ]
    },
    {
     "name": "stderr",
     "output_type": "stream",
     "text": [
      "  0%|          | 0/1 [00:00<?, ?it/s]2025/01/24 21:49:16 ERROR dspy.teleprompt.bootstrap: Failed to run or to evaluate example {'question': 'How can we maximize beauty?', 'response': 'Maximizing beauty involves fully channeling inner beauty and actively seeking beauty in every situation. This includes disciplining our senses to focus on beauty in our surroundings, appreciating subtle details like flowers and birds, and recognizing beauty as a fundamental virtue requiring conscious implementation.'} with module = Predict(StringSignature(question, ground_truth, system_response -> rationale, ground_truth_key_ideas, system_response_key_ideas, discussion, recall, precision\n",
      "    instructions=\"Compare a system's response to the ground truth to compute recall and precision of key ideas.\\nYou will first enumerate key ideas in each response, discuss their overlap, and then report recall and precision.\"\n",
      "    question = Field(annotation=str required=True json_schema_extra={'__dspy_field_type': 'input', 'prefix': 'Question:', 'desc': '${question}'})\n",
      "    ground_truth = Field(annotation=str required=True json_schema_extra={'__dspy_field_type': 'input', 'prefix': 'Ground Truth:', 'desc': '${ground_truth}'})\n",
      "    system_response = Field(annotation=str required=True json_schema_extra={'__dspy_field_type': 'input', 'prefix': 'System Response:', 'desc': '${system_response}'})\n",
      "    rationale = Field(annotation=str required=True json_schema_extra={'prefix': \"Reasoning: Let's think step by step in order to\", 'desc': '${produce the precision}. We ...', '__dspy_field_type': 'output'})\n",
      "    ground_truth_key_ideas = Field(annotation=str required=True json_schema_extra={'desc': 'enumeration of key ideas in the ground truth', '__dspy_field_type': 'output', 'prefix': 'Ground Truth Key Ideas:'})\n",
      "    system_response_key_ideas = Field(annotation=str required=True json_schema_extra={'desc': 'enumeration of key ideas in the system response', '__dspy_field_type': 'output', 'prefix': 'System Response Key Ideas:'})\n",
      "    discussion = Field(annotation=str required=True json_schema_extra={'desc': 'discussion of the overlap between ground truth and system response', '__dspy_field_type': 'output', 'prefix': 'Discussion:'})\n",
      "    recall = Field(annotation=float required=True json_schema_extra={'desc': 'fraction (out of 1.0) of ground truth covered by the system response', '__dspy_field_type': 'output', 'prefix': 'Recall:'})\n",
      "    precision = Field(annotation=float required=True json_schema_extra={'desc': 'fraction (out of 1.0) of system response covered by the ground truth', '__dspy_field_type': 'output', 'prefix': 'Precision:'})\n",
      ")) due to 'dict' object has no attribute 'inputs'.\n",
      "100%|██████████| 1/1 [00:00<00:00, 719.93it/s]\n",
      "2025/01/24 21:49:16 INFO dspy.teleprompt.mipro_optimizer_v2: \n",
      "==> STEP 2: PROPOSE INSTRUCTION CANDIDATES <==\n",
      "2025/01/24 21:49:16 INFO dspy.teleprompt.mipro_optimizer_v2: We will use the few-shot examples from the previous step, a generated dataset summary, a summary of the program code, and a randomly selected prompting tip to propose instructions.\n",
      "2025/01/24 21:49:16 INFO dspy.teleprompt.mipro_optimizer_v2: \n",
      "Proposing instructions...\n",
      "\n"
     ]
    },
    {
     "name": "stdout",
     "output_type": "stream",
     "text": [
      "Bootstrapped 0 full traces after 0 examples for up to 1 rounds, amounting to 1 attempts.\n",
      "Error getting data summary: No LM is loaded..\n",
      "\n",
      "Running without data aware proposer.\n",
      "\n",
      "Unexpected error in main execution: 'NoneType' object has no attribute 'kwargs'\n"
     ]
    }
   ],
   "source": [
    "import pandas as pd\n",
    "import dspy\n",
    "from typing import List, Dict, Optional\n",
    "import re\n",
    "\n",
    "class Passage:\n",
    "    def __init__(self, text, score=None, metadata=None):\n",
    "        self.text = text\n",
    "        self.score = score\n",
    "        self.metadata = metadata or {}\n",
    "\n",
    "class DataLoader:\n",
    "    @staticmethod\n",
    "    def load_ideas(csv_path: str) -> List[Dict]:\n",
    "        \"\"\"\n",
    "        Load and process ideas from a CSV file with robust error handling.\n",
    "        \n",
    "        Args:\n",
    "            csv_path (str): Path to the CSV file\n",
    "        \n",
    "        Returns:\n",
    "            List[Dict]: Processed ideas with title, content, and full text\n",
    "        \"\"\"\n",
    "        try:\n",
    "            data = pd.read_csv(csv_path, quoting=1)\n",
    "            \n",
    "            # Validate required columns\n",
    "            required_columns = [\"Ideas\"]\n",
    "            for col in required_columns:\n",
    "                if col not in data.columns:\n",
    "                    raise ValueError(f\"CSV must contain a column named '{col}'.\")\n",
    "            \n",
    "            processed_ideas = []\n",
    "            for idea in data[\"Ideas\"].dropna().values:\n",
    "                text = str(idea).strip()\n",
    "                parts = text.split('-', 1)\n",
    "                \n",
    "                title = parts[0].strip() if len(parts) > 1 else \"\"\n",
    "                content = parts[1].strip() if len(parts) > 1 else text\n",
    "                \n",
    "                processed_ideas.append({\n",
    "                    \"title\": title,\n",
    "                    \"content\": content,\n",
    "                    \"full_text\": text\n",
    "                })\n",
    "            \n",
    "            return processed_ideas\n",
    "        except FileNotFoundError:\n",
    "            print(f\"Error: File not found at {csv_path}\")\n",
    "            return []\n",
    "        except pd.errors.EmptyDataError:\n",
    "            print(f\"Error: No data in file {csv_path}\")\n",
    "            return []\n",
    "        except Exception as e:\n",
    "            print(f\"Unexpected error loading CSV: {e}\")\n",
    "            return []\n",
    "\n",
    "class SemanticRetriever:\n",
    "    def __init__(self, ideas: List[Dict]):\n",
    "        \"\"\"\n",
    "        Initialize semantic retriever with ideas.\n",
    "        \n",
    "        Args:\n",
    "            ideas (List[Dict]): Processed ideas to search through\n",
    "        \"\"\"\n",
    "        self.ideas = ideas\n",
    "\n",
    "    def __call__(self, query: str, k: int = 10) -> List[Passage]:\n",
    "        \"\"\"\n",
    "        Retrieve relevant passages based on query.\n",
    "        \n",
    "        Args:\n",
    "            query (str): Search query\n",
    "            k (int): Maximum number of results to return\n",
    "        \n",
    "        Returns:\n",
    "            List[Passage]: Relevant passages\n",
    "        \"\"\"\n",
    "        results = []\n",
    "        query_lower = query.lower()\n",
    "        \n",
    "        for idea in self.ideas:\n",
    "            # More sophisticated matching\n",
    "            match_score = (\n",
    "                (query_lower in idea[\"title\"].lower()) * 2 +\n",
    "                (query_lower in idea[\"content\"].lower())\n",
    "            )\n",
    "            \n",
    "            if match_score > 0:\n",
    "                results.append(Passage(\n",
    "                    text=idea[\"full_text\"], \n",
    "                    score=match_score\n",
    "                ))\n",
    "        \n",
    "        # Sort by relevance and limit results\n",
    "        return sorted(results, key=lambda x: x.score, reverse=True)[:k]\n",
    "\n",
    "class RAGSystem(dspy.Module):\n",
    "    def __init__(self, retriever, num_docs: int = 3):\n",
    "        \"\"\"\n",
    "        Initialize RAG system with semantic retriever.\n",
    "        \n",
    "        Args:\n",
    "            retriever (SemanticRetriever): Semantic retrieval system\n",
    "            num_docs (int): Number of documents to retrieve\n",
    "        \"\"\"\n",
    "        super().__init__()\n",
    "        self.retriever = retriever\n",
    "        self.num_docs = num_docs\n",
    "        self.generate_response = dspy.ChainOfThought(\"context, question -> response\")\n",
    "\n",
    "    def forward(self, question: str) -> str:\n",
    "        \"\"\"\n",
    "        Generate response with retrieved context.\n",
    "        \n",
    "        Args:\n",
    "            question (str): Input question\n",
    "        \n",
    "        Returns:\n",
    "            str: Generated response\n",
    "        \"\"\"\n",
    "        context = self.retriever(question, k=self.num_docs)\n",
    "        \n",
    "        if not context:\n",
    "            return \"I couldn't find relevant information to answer this question.\"\n",
    "        \n",
    "        prediction = self.generate_response(\n",
    "            context=\"\\n\".join([p.text for p in context]),\n",
    "            question=question\n",
    "        )\n",
    "        \n",
    "        return prediction.response\n",
    "\n",
    "def optimize_rag(retriever, trainset):\n",
    "    \"\"\"\n",
    "    Optimize RAG system using MIPROv2.\n",
    "    \n",
    "    Args:\n",
    "        retriever (SemanticRetriever): Semantic retrieval system\n",
    "        trainset (List[Dict]): Training examples\n",
    "    \n",
    "    Returns:\n",
    "        Optimized RAG system\n",
    "    \"\"\"\n",
    "    tp = dspy.MIPROv2(\n",
    "        metric=dspy.evaluate.SemanticF1(decompositional=True),\n",
    "        auto=\"medium\",\n",
    "        num_threads=4\n",
    "    )\n",
    "    \n",
    "    optimized_rag = tp.compile(\n",
    "        RAGSystem(retriever),\n",
    "        trainset=trainset,\n",
    "        max_bootstrapped_demos=3,\n",
    "        max_labeled_demos=3\n",
    "    )\n",
    "    \n",
    "    return optimized_rag\n",
    "\n",
    "def generate_training_examples() -> List[Dict]:\n",
    "    \"\"\"\n",
    "    Generate training examples for RAG system.\n",
    "    \n",
    "    Returns:\n",
    "        List[Dict]: Training question-response pairs\n",
    "    \"\"\"\n",
    "    return [\n",
    "        {\n",
    "            \"question\": \"How can we maximize beauty?\",\n",
    "            \"response\": \"Maximizing beauty involves fully channeling inner beauty and actively seeking beauty in every situation. This includes disciplining our senses to focus on beauty in our surroundings, appreciating subtle details like flowers and birds, and recognizing beauty as a fundamental virtue requiring conscious implementation.\"\n",
    "        },\n",
    "        {\n",
    "            \"question\": \"What is full expression?\",\n",
    "            \"response\": \"Full expression is about understanding oneself when comfortable and learning to channel authentic self-expression. It recognizes that people face barriers like shyness and distraction that can prevent genuine communication. The concept emphasizes the effort required to overcome these obstacles and achieve genuine, uninhibited self-presentation.\"\n",
    "        }\n",
    "    ]\n",
    "\n",
    "def main():\n",
    "    \"\"\"\n",
    "    Main execution function with comprehensive error handling.\n",
    "    \"\"\"\n",
    "    try:\n",
    "        # Load ideas\n",
    "        ideas = DataLoader.load_ideas(\"151_ideas_updated2.csv\")\n",
    "        \n",
    "        if not ideas:\n",
    "            print(\"No ideas loaded. Exiting.\")\n",
    "            return\n",
    "        \n",
    "        # Create retriever\n",
    "        retriever = SemanticRetriever(ideas)\n",
    "        \n",
    "        # Generate training examples\n",
    "        trainset = generate_training_examples()\n",
    "        \n",
    "        # Optimize RAG system\n",
    "        optimized_rag = optimize_rag(retriever, trainset)\n",
    "        \n",
    "        # Test questions\n",
    "        test_questions = [\n",
    "            \"How do you maximize beauty?\",\n",
    "            \"What is the power of full expression?\"\n",
    "        ]\n",
    "        \n",
    "        # Execute queries\n",
    "        for question in test_questions:\n",
    "            print(f\"\\nQuestion: {question}\")\n",
    "            response = optimized_rag(question)\n",
    "            print(f\"Response: {response}\\n{'-'*50}\")\n",
    "    \n",
    "    except Exception as e:\n",
    "        print(f\"Unexpected error in main execution: {e}\")\n",
    "\n",
    "if __name__ == \"__main__\":\n",
    "    main()"
   ]
  },
  {
   "cell_type": "code",
   "execution_count": null,
   "metadata": {},
   "outputs": [],
   "source": [
    "import pandas as pd\n",
    "\n",
    "def load_ideas(csv_path: str) -> List[Dict]:\n",
    "    data = pd.read_csv(csv_path, quoting=1)\n",
    "    if \"Ideas\" not in data.columns:\n",
    "        raise ValueError(\"CSV must contain a column named 'Ideas'.\")\n",
    "    \n",
    "    processed_ideas = []\n",
    "    for idea in data[\"Ideas\"].values:\n",
    "        text = str(idea).strip()\n",
    "        parts = text.split('-', 1)\n",
    "        title = parts[0].strip() if len(parts) > 1 else \"\"\n",
    "        content = parts[1].strip() if len(parts) > 1 else text\n",
    "        processed_ideas.append({\n",
    "            \"title\": title,\n",
    "            \"content\": content,\n",
    "            \"full_text\": text\n",
    "        })\n",
    "    return processed_ideas\n",
    "\n",
    "# Load ideas from CSV\n",
    "ideas = load_ideas(\"151_ideas_updated2.csv\")"
   ]
  },
  {
   "cell_type": "code",
   "execution_count": null,
   "metadata": {},
   "outputs": [],
   "source": [
    "from dspy import Passage\n",
    "\n",
    "def get_context(query: str, k: int = 3) -> List[Passage]:\n",
    "    results = [Passage(text=f\"Relevant idea: {idea}\") for idea in colbertv2_csv(query, k=k)]\n",
    "    return results"
   ]
  }
 ],
 "metadata": {
  "kernelspec": {
   "display_name": "nunu24",
   "language": "python",
   "name": "python3"
  },
  "language_info": {
   "codemirror_mode": {
    "name": "ipython",
    "version": 3
   },
   "file_extension": ".py",
   "mimetype": "text/x-python",
   "name": "python",
   "nbconvert_exporter": "python",
   "pygments_lexer": "ipython3",
   "version": "3.12.7"
  }
 },
 "nbformat": 4,
 "nbformat_minor": 2
}
