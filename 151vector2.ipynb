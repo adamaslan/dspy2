{
 "cells": [
  {
   "cell_type": "code",
   "execution_count": null,
   "metadata": {},
   "outputs": [],
   "source": [
    "import faiss\n",
    "import numpy as np\n",
    "import matplotlib.pyplot as plt\n",
    "from sklearn.manifold import TSNE\n",
    "\n",
    "# Load the index\n",
    "index = faiss.read_index(\"ideas1.faiss\")\n",
    "\n",
    "print(\"Main index type:\", type(index))\n",
    "\n",
    "# For IndexIDMap, we need to access the underlying index\n",
    "if isinstance(index, faiss.IndexIDMap):\n",
    "    base_index = faiss.downcast_index(index.index)\n",
    "    print(\"Base index type:\", type(base_index))\n",
    "    print(\"Base index attributes:\", dir(base_index))\n",
    "    \n",
    "    # Try different methods to access vectors\n",
    "    if hasattr(base_index, 'xb'):\n",
    "        print(\"Index has xb attribute\")\n",
    "        vectors = np.array(base_index.xb).reshape(base_index.ntotal, base_index.d)\n",
    "    elif hasattr(base_index, 'reconstruct_n'):\n",
    "        print(\"Index has reconstruct_n method\")\n",
    "        vectors = np.empty((base_index.ntotal, base_index.d), dtype=np.float32)\n",
    "        base_index.reconstruct_n(0, base_index.ntotal, vectors)\n",
    "    elif hasattr(base_index, 'ivf'):\n",
    "        print(\"Index has ivf attribute\")\n",
    "        invlists = base_index.invlists\n",
    "        vectors = []\n",
    "        for i in range(base_index.nlist):\n",
    "            list_size = invlists.list_size(i)\n",
    "            if list_size > 0:\n",
    "                list_vectors = faiss.rev_swig_ptr(invlists.get_codes(i), list_size * base_index.code_size)\n",
    "                vectors.extend(list_vectors)\n",
    "        vectors = np.array(vectors, dtype=np.float32)\n",
    "    else:\n",
    "        print(\"Could not find a way to access vectors. Available attributes:\", dir(base_index))\n",
    "        raise ValueError(\"Cannot access vectors from this index type\")\n",
    "else:\n",
    "    print(\"Not an IndexIDMap\")\n",
    "    raise ValueError(\"Unexpected index type\")\n",
    "\n",
    "print(\"Vector shape:\", vectors.shape)\n",
    "\n",
    "# Perform t-SNE\n",
    "tsne = TSNE(n_components=2, random_state=42)\n",
    "reduced_vectors = tsne.fit_transform(vectors)\n",
    "\n",
    "# Plot\n",
    "plt.figure(figsize=(10, 8))\n",
    "plt.scatter(reduced_vectors[:, 0], reduced_vectors[:, 1], s=30, alpha=0.7)\n",
    "plt.title(\"FAISS Vector Visualization with t-SNE\", fontsize=14)\n",
    "plt.xlabel(\"t-SNE Component 1\")\n",
    "plt.ylabel(\"t-SNE Component 2\")\n",
    "plt.show()"
   ]
  }
 ],
 "metadata": {
  "kernelspec": {
   "display_name": "nunu24",
   "language": "python",
   "name": "python3"
  },
  "language_info": {
   "codemirror_mode": {
    "name": "ipython",
    "version": 3
   },
   "file_extension": ".py",
   "mimetype": "text/x-python",
   "name": "python",
   "nbconvert_exporter": "python",
   "pygments_lexer": "ipython3",
   "version": "3.12.7"
  }
 },
 "nbformat": 4,
 "nbformat_minor": 2
}
