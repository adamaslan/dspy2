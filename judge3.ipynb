{
 "cells": [
  {
   "cell_type": "code",
   "execution_count": null,
   "id": "b3490d7b",
   "metadata": {},
   "outputs": [
    {
     "ename": "ImportError",
     "evalue": "cannot import name 'HFModel' from 'dspy' (unknown location)",
     "output_type": "error",
     "traceback": [
      "\u001b[0;31m---------------------------------------------------------------------------\u001b[0m",
      "\u001b[0;31mImportError\u001b[0m                               Traceback (most recent call last)",
      "Cell \u001b[0;32mIn[3], line 6\u001b[0m\n\u001b[1;32m      3\u001b[0m \u001b[38;5;28;01mfrom\u001b[39;00m \u001b[38;5;21;01mdataclasses\u001b[39;00m \u001b[38;5;28;01mimport\u001b[39;00m dataclass\n\u001b[1;32m      5\u001b[0m \u001b[38;5;66;03m# Import specific components from the dspy library\u001b[39;00m\n\u001b[0;32m----> 6\u001b[0m \u001b[38;5;28;01mfrom\u001b[39;00m \u001b[38;5;21;01mdspy\u001b[39;00m \u001b[38;5;28;01mimport\u001b[39;00m (\n\u001b[1;32m      7\u001b[0m     HFModel,  \u001b[38;5;66;03m# Changed from HuggingFaceClient\u001b[39;00m\n\u001b[1;32m      8\u001b[0m     ChainOfThought,\n\u001b[1;32m      9\u001b[0m     Signature,\n\u001b[1;32m     10\u001b[0m     InputField,\n\u001b[1;32m     11\u001b[0m     OutputField,\n\u001b[1;32m     12\u001b[0m     Module,\n\u001b[1;32m     13\u001b[0m     Prediction,\n\u001b[1;32m     14\u001b[0m     configure,\n\u001b[1;32m     15\u001b[0m     Example\n\u001b[1;32m     16\u001b[0m )\n\u001b[1;32m     18\u001b[0m \u001b[38;5;66;03m# --- LLM Configuration ---\u001b[39;00m\n\u001b[1;32m     19\u001b[0m \u001b[38;5;66;03m# 1. Configure the Language Model (LLM)\u001b[39;00m\n\u001b[1;32m     20\u001b[0m \u001b[38;5;66;03m# Using 'google/flan-t5-small' (~300 MB) for local execution.\u001b[39;00m\n\u001b[1;32m     21\u001b[0m \u001b[38;5;66;03m# The class is now HFModel, not HuggingFaceClient.\u001b[39;00m\n\u001b[1;32m     22\u001b[0m llm \u001b[38;5;241m=\u001b[39m HFModel(model\u001b[38;5;241m=\u001b[39m\u001b[38;5;124m'\u001b[39m\u001b[38;5;124mgoogle/flan-t5-small\u001b[39m\u001b[38;5;124m'\u001b[39m)\n",
      "\u001b[0;31mImportError\u001b[0m: cannot import name 'HFModel' from 'dspy' (unknown location)"
     ]
    }
   ],
   "source": [
    "import random\n",
    "from typing import List, Dict, Any\n",
    "from dataclasses import dataclass\n",
    "\n",
    "# Corrected: Import HFModel from its specific submodule\n",
    "from dspy.models.hf import HFModel\n",
    "\n",
    "# Import other necessary DSPy components\n",
    "from dspy import (\n",
    "    ChainOfThought,\n",
    "    Signature,\n",
    "    InputField,\n",
    "    OutputField,\n",
    "    Module,\n",
    "    Prediction,\n",
    "    configure,\n",
    "    Example\n",
    ")\n",
    "\n",
    "# --- LLM Configuration ---\n",
    "# 1. Configure the Language Model (LLM)\n",
    "# This will now use the locally cached 'google/flan-t5-small' model.\n",
    "# No download will occur here if you've run the download_model.py script.\n",
    "llm = HFModel(model='google/flan-t5-small')\n",
    "\n",
    "# 2. Configure DSPy to use this LLM\n",
    "configure(lm=llm)\n",
    "\n",
    "# --- Data and Corpus ---\n",
    "MY_CORPUS_PASSAGES = [\n",
    "    \"1) Maximize the Beauty - fully channel the beauty with in. Maybe ask what makes this moment beautiful? See if beauty can be increased in every situation. MtB also could be taken as a use of reason and also a disciplining of the senses to focus on beauty (i.e. all the pretty flowers, all the pretty birds). (Update 3-16-21 -This is one of the first 4 points created because they were on the top of my mind when I first started this project. Maximize the Beauty and Full Expression still are some of the concepts I am most influenced by, create an ethos around, consider to be primary to my concept of virtue, and aim to implement as much as possible.) \",\n",
    "    \"2) Full Expression - it takes a lot of effort for one to understand who they are when they are comfortable and how to channel the most real expressions of themselves what holds people back? Shyness, distraction (inability to focus on that which they want express)\",\n",
    "    \"3) Expect Rising - this means our expectations are constantly rising. Kind of in line with \\\"give em an inch they'll take a mile\\\" also related to law of diminishing returns -\\\"The law of diminishing returns states that in all productive processes, adding more of one factor of production, while holding all others constant (\\\"ceteris paribus\\\"), will at some point yield lower incremental per-unit returns.\\\" Tooo much ice cream too much cash\",\n",
    "    \"4) The Power of Pettiness - is the idea that pettiness is the destroyer of all people. That even the best of us can't truly be unaffected by the petty bullshit around us. They can however minimize its effects. In my own life I am obliterated by friends and coworker's snide remarks and judgments. How do I minimize its effects? By talking myself down, deep breaths, weed, alcohol, revenge...(this is the end of the first four points that were the strongest when I first started making these ideas on a small scrap of paper from the sides on union film sets.)\",\n",
    "    \"5) Various meditation - I am a big fan of meditation techniques that help train the mind from moment to moment. There are various techniques that help provide concentration and awareness in the passing moments within shorter intervals than traditional formal meditation. While using a timer to make sure you meditate for at least 10 minutes is helpful. A stopwatch to monitor your awareness of time and to also use time to monitor your concentration and awareness. A and C are essential to have Full Expression. Update 2-26-19 - Passive observation ala Krishnamurti. Just chill. Dont do anything. Just observe whatever is present. Don't react to thoughts just observe them. Don't interact with them. If they are mind blowing write them down. Then return to just chilling and observing.\"\n",
    "]\n",
    "\n",
    "# --- Signatures for DSPy Modules ---\n",
    "\n",
    "class GenerateAnswer(Signature):\n",
    "    \"\"\"Answer questions based on the provided context of personal philosophical ideas.\"\"\"\n",
    "    context = InputField(desc=\"Relevant personal philosophical ideas.\")\n",
    "    question = InputField(desc=\"The user's question.\")\n",
    "    answer = OutputField(desc=\"A thoughtful answer that aligns with the provided context.\")\n",
    "\n",
    "class IdeaConsistencyJudge(Signature):\n",
    "    \"\"\"Judge if the answer is consistent with the personal philosophical ideas and concepts in the context.\"\"\"\n",
    "    context = InputField(desc=\"Philosophical context from personal ideas corpus.\")\n",
    "    question = InputField(desc=\"Question about life philosophy or personal growth.\")\n",
    "    answer = InputField(desc=\"Answer to evaluate for consistency.\")\n",
    "    consistent_with_ideas: bool = OutputField(desc=\"Is the answer consistent with the philosophical ideas in the context?\")\n",
    "    explanation = OutputField(desc=\"Detailed reasoning for why the answer is or isn't consistent with the ideas.\")\n",
    "\n",
    "# --- DSPy Modules ---\n",
    "\n",
    "# Create the judge with Chain of Thought reasoning\n",
    "judge = ChainOfThought(IdeaConsistencyJudge)\n",
    "\n",
    "class MyIdeasRAGProgram(Module):\n",
    "    \"\"\"RAG program that retrieves from personal ideas corpus and includes context in predictions.\"\"\"\n",
    "    def __init__(self, corpus_passages: List[str]):\n",
    "        super().__init__()\n",
    "        self.corpus = corpus_passages\n",
    "        self.generator = ChainOfThought(GenerateAnswer)\n",
    "\n",
    "    def retrieve_relevant_ideas(self, question: str, top_k: int = 2) -> List[str]:\n",
    "        \"\"\"Simple keyword-based retrieval.\"\"\"\n",
    "        keywords = question.lower().split()\n",
    "        scored_passages = []\n",
    "        for passage in self.corpus:\n",
    "            score = sum(1 for keyword in keywords if keyword in passage.lower())\n",
    "            scored_passages.append((score, passage))\n",
    "        \n",
    "        scored_passages.sort(key=lambda x: x[0], reverse=True)\n",
    "        return [passage for _, passage in scored_passages[:top_k]]\n",
    "\n",
    "    def forward(self, question: str):\n",
    "        relevant_ideas = self.retrieve_relevant_ideas(question)\n",
    "        context = \"\\n\\n\".join(relevant_ideas)\n",
    "        prediction = self.generator(context=context, question=question)\n",
    "        \n",
    "        return Prediction(\n",
    "            answer=prediction.answer,\n",
    "            context=context,\n",
    "            retrieved_ideas=relevant_ideas\n",
    "        )\n",
    "\n",
    "# --- Evaluation Logic ---\n",
    "\n",
    "def idea_consistency_metric(example: Example, pred: Prediction) -> dict:\n",
    "    \"\"\"Evaluate how well an answer aligns with the personal philosophy corpus.\"\"\"\n",
    "    judgment = judge(\n",
    "        context=example.context,\n",
    "        question=example.question,\n",
    "        answer=pred.answer\n",
    "    )\n",
    "    score = 1.0 if judgment.consistent_with_ideas else 0.0\n",
    "    return {\n",
    "        'consistent': judgment.consistent_with_ideas,\n",
    "        'explanation': judgment.explanation,\n",
    "        'score': score\n",
    "    }\n",
    "\n",
    "# --- Main Application Pipeline ---\n",
    "\n",
    "class IdeasConsistencyPipeline:\n",
    "    \"\"\"A pipeline for evaluating answers against a personal philosophy.\"\"\"\n",
    "    def __init__(self, corpus_passages: List[str]):\n",
    "        self.rag_program = MyIdeasRAGProgram(corpus_passages)\n",
    "\n",
    "    def evaluate_answer(self, question: str, answer: str, context: str):\n",
    "        \"\"\"Evaluate a single answer against the ideas corpus.\"\"\"\n",
    "        eval_example = Example(question=question, context=context)\n",
    "        prediction = Prediction(answer=answer)\n",
    "        return idea_consistency_metric(eval_example, prediction)\n",
    "\n",
    "    def interactive_mode(self):\n",
    "        \"\"\"Interactive mode for testing custom questions.\"\"\"\n",
    "        print(\"\\n\\n🎮 Interactive Ideas Consistency Checker\")\n",
    "        print(\"Ask questions about life philosophy and get evaluated answers!\")\n",
    "        print(\"Model: google/flan-t5-small\")\n",
    "        print(\"Type 'quit' to exit\\n\")\n",
    "\n",
    "        while True:\n",
    "            question = input(\"💭 Your question: \").strip()\n",
    "            if question.lower() == 'quit':\n",
    "                print(\"Exiting interactive mode. Goodbye! 👋\")\n",
    "                break\n",
    "            if not question:\n",
    "                continue\n",
    "\n",
    "            pred = self.rag_program(question)\n",
    "            print(f\"\\n🤖 Answer: {pred.answer}\")\n",
    "\n",
    "            result = self.evaluate_answer(question, pred.answer, pred.context)\n",
    "\n",
    "            print(f\"\\n✅ Consistent with your ideas: {result['consistent']}\")\n",
    "            print(f\"📊 Consistency score: {result['score']}\")\n",
    "            print(f\"💭 Judge's reasoning: {result['explanation']}\")\n",
    "            print(f\"📚 Context used: {pred.context[:150]}...\")\n",
    "            print(\"-\" * 60)\n",
    "\n",
    "# --- Execution ---\n",
    "\n",
    "if __name__ == \"__main__\":\n",
    "    pipeline = IdeasConsistencyPipeline(MY_corpus_passages)\n",
    "    pipeline.interactive_mode()"
   ]
  },
  {
   "cell_type": "code",
   "execution_count": 1,
   "id": "3e6dd6e5",
   "metadata": {},
   "outputs": [
    {
     "name": "stdout",
     "output_type": "stream",
     "text": [
      "📥 Starting download for model: google/flan-t5-small\n"
     ]
    },
    {
     "data": {
      "application/vnd.jupyter.widget-view+json": {
       "model_id": "76245cfc1adb4e588745663899deadd4",
       "version_major": 2,
       "version_minor": 0
      },
      "text/plain": [
       "Fetching 12 files:   0%|          | 0/12 [00:00<?, ?it/s]"
      ]
     },
     "metadata": {},
     "output_type": "display_data"
    },
    {
     "name": "stderr",
     "output_type": "stream",
     "text": [
      "Xet Storage is enabled for this repo, but the 'hf_xet' package is not installed. Falling back to regular HTTP download. For better performance, install the package with: `pip install huggingface_hub[hf_xet]` or `pip install hf_xet`\n",
      "Xet Storage is enabled for this repo, but the 'hf_xet' package is not installed. Falling back to regular HTTP download. For better performance, install the package with: `pip install huggingface_hub[hf_xet]` or `pip install hf_xet`\n",
      "Xet Storage is enabled for this repo, but the 'hf_xet' package is not installed. Falling back to regular HTTP download. For better performance, install the package with: `pip install huggingface_hub[hf_xet]` or `pip install hf_xet`\n",
      "Xet Storage is enabled for this repo, but the 'hf_xet' package is not installed. Falling back to regular HTTP download. For better performance, install the package with: `pip install huggingface_hub[hf_xet]` or `pip install hf_xet`\n"
     ]
    },
    {
     "data": {
      "application/vnd.jupyter.widget-view+json": {
       "model_id": "fbc6a64fdfd44430bd41e359fd81d716",
       "version_major": 2,
       "version_minor": 0
      },
      "text/plain": [
       "model.safetensors:  14%|#3        | 41.9M/308M [00:00<?, ?B/s]"
      ]
     },
     "metadata": {},
     "output_type": "display_data"
    },
    {
     "data": {
      "application/vnd.jupyter.widget-view+json": {
       "model_id": "f11fe4c029a2477ba9382cdcd5f52dfe",
       "version_major": 2,
       "version_minor": 0
      },
      "text/plain": [
       "pytorch_model.bin:  17%|#7        | 52.4M/308M [00:00<?, ?B/s]"
      ]
     },
     "metadata": {},
     "output_type": "display_data"
    },
    {
     "data": {
      "application/vnd.jupyter.widget-view+json": {
       "model_id": "2f03d19cbdae4b4d92da08ab58a1e916",
       "version_major": 2,
       "version_minor": 0
      },
      "text/plain": [
       "(…)4d0ad38fca5173b09393b22b864ab8a55ba03d7c:  10%|9         | 41.9M/440M [00:00<?, ?B/s]"
      ]
     },
     "metadata": {},
     "output_type": "display_data"
    },
    {
     "data": {
      "application/vnd.jupyter.widget-view+json": {
       "model_id": "6e880c65e34942cba3ebb3b308ec6a2d",
       "version_major": 2,
       "version_minor": 0
      },
      "text/plain": [
       "(…)66c868570469993386a093bca18aff3c1e13b065:  17%|#7        | 52.4M/308M [00:00<?, ?B/s]"
      ]
     },
     "metadata": {},
     "output_type": "display_data"
    },
    {
     "name": "stdout",
     "output_type": "stream",
     "text": [
      "✅ Download complete. Model 'google/flan-t5-small' is cached locally.\n"
     ]
    }
   ],
   "source": [
    "from huggingface_hub import snapshot_download\n",
    "\n",
    "# The Hugging Face model we want to use\n",
    "MODEL_ID = \"google/flan-t5-small\"\n",
    "\n",
    "def download_hf_model():\n",
    "    \"\"\"\n",
    "    Downloads and caches the model and tokenizer files from Hugging Face.\n",
    "    \"\"\"\n",
    "    print(f\"📥 Starting download for model: {MODEL_ID}\")\n",
    "    \n",
    "    # This function downloads the entire model repository to the local cache.\n",
    "    # The cache is typically located at ~/.cache/huggingface/hub/\n",
    "    snapshot_download(repo_id=MODEL_ID)\n",
    "    \n",
    "    print(f\"✅ Download complete. Model '{MODEL_ID}' is cached locally.\")\n",
    "\n",
    "if __name__ == \"__main__\":\n",
    "    # To run this script and download the model, open your terminal and type:\n",
    "    # pip install huggingface_hub\n",
    "    # python download_model.py\n",
    "    download_hf_model()"
   ]
  },
  {
   "cell_type": "code",
   "execution_count": null,
   "id": "04ed91e9",
   "metadata": {},
   "outputs": [
    {
     "ename": "AttributeError",
     "evalue": "module 'dspy' has no attribute 'OllamaLocal'",
     "output_type": "error",
     "traceback": [
      "\u001b[0;31m---------------------------------------------------------------------------\u001b[0m",
      "\u001b[0;31mAttributeError\u001b[0m                            Traceback (most recent call last)",
      "Cell \u001b[0;32mIn[4], line 9\u001b[0m\n\u001b[1;32m      4\u001b[0m \u001b[38;5;66;03m# --- Fix 1: Use a specific LM client and instantiate it correctly ---\u001b[39;00m\n\u001b[1;32m      5\u001b[0m \u001b[38;5;66;03m# This example uses dspy.OllamaLocal, which requires Ollama to be running.\u001b[39;00m\n\u001b[1;32m      6\u001b[0m \u001b[38;5;66;03m# Make sure you have pulled the model first by running:\u001b[39;00m\n\u001b[1;32m      7\u001b[0m \u001b[38;5;66;03m# ollama pull flan-t5-small\u001b[39;00m\n\u001b[1;32m      8\u001b[0m model_name \u001b[38;5;241m=\u001b[39m \u001b[38;5;124m\"\u001b[39m\u001b[38;5;124mflan-t5-small\u001b[39m\u001b[38;5;124m\"\u001b[39m \n\u001b[0;32m----> 9\u001b[0m lm \u001b[38;5;241m=\u001b[39m \u001b[43mdspy\u001b[49m\u001b[38;5;241;43m.\u001b[39;49m\u001b[43mOllamaLocal\u001b[49m(model\u001b[38;5;241m=\u001b[39mmodel_name, max_tokens\u001b[38;5;241m=\u001b[39m\u001b[38;5;241m2000\u001b[39m)\n\u001b[1;32m     11\u001b[0m \u001b[38;5;66;03m# --- Alternative: Using an API like OpenAI (uncomment to use) ---\u001b[39;00m\n\u001b[1;32m     12\u001b[0m \u001b[38;5;66;03m# Make sure to set your OPENAI_API_KEY environment variable\u001b[39;00m\n\u001b[1;32m     13\u001b[0m \u001b[38;5;66;03m# os.environ[\"OPENAI_API_KEY\"] = \"your_openai_api_key_here\"\u001b[39;00m\n\u001b[1;32m     14\u001b[0m \u001b[38;5;66;03m# lm = dspy.OpenAI(model=\"gpt-3.5-turbo\", max_tokens=2000)\u001b[39;00m\n\u001b[1;32m     15\u001b[0m \n\u001b[1;32m     16\u001b[0m \u001b[38;5;66;03m# --- Fix 2: Configure the LM globally using dspy.settings ---\u001b[39;00m\n\u001b[1;32m     17\u001b[0m dspy\u001b[38;5;241m.\u001b[39msettings\u001b[38;5;241m.\u001b[39mconfigure(lm\u001b[38;5;241m=\u001b[39mlm)\n",
      "\u001b[0;31mAttributeError\u001b[0m: module 'dspy' has no attribute 'OllamaLocal'"
     ]
    }
   ],
   "source": [
    "import dspy\n",
    "from dspy.clients.lm_local import LocalProvider\n",
    "model_name = \"google/flan-t5-small\"\n",
    "lm = dspy.LM(model=model_name, provider=LocalProvider(model_name))\n",
    "# Example DSPy module usage\n",
    "qa = dspy.ChainOfThought(\"question -> answer\")\n",
    "qa.set_lm(lm)\n",
    "response = qa(question=\"What is the capital of France?\")\n",
    "print(response.answer)"
   ]
  },
  {
   "cell_type": "code",
   "execution_count": 2,
   "id": "43ed83c6",
   "metadata": {},
   "outputs": [
    {
     "ename": "AttributeError",
     "evalue": "module 'dspy' has no attribute 'HFModel'",
     "output_type": "error",
     "traceback": [
      "\u001b[0;31m---------------------------------------------------------------------------\u001b[0m",
      "\u001b[0;31mAttributeError\u001b[0m                            Traceback (most recent call last)",
      "Cell \u001b[0;32mIn[2], line 7\u001b[0m\n\u001b[1;32m      2\u001b[0m \u001b[38;5;28;01mfrom\u001b[39;00m \u001b[38;5;21;01mtyping\u001b[39;00m \u001b[38;5;28;01mimport\u001b[39;00m List\n\u001b[1;32m      4\u001b[0m \u001b[38;5;66;03m# --- LLM Configuration ---\u001b[39;00m\n\u001b[1;32m      5\u001b[0m \u001b[38;5;66;03m# Configure the Language Model. DSPy will automatically cache the model\u001b[39;00m\n\u001b[1;32m      6\u001b[0m \u001b[38;5;66;03m# locally in ~/.cache/huggingface/hub/. No separate download script is needed.\u001b[39;00m\n\u001b[0;32m----> 7\u001b[0m llm \u001b[38;5;241m=\u001b[39m \u001b[43mdspy\u001b[49m\u001b[38;5;241;43m.\u001b[39;49m\u001b[43mHFModel\u001b[49m(model\u001b[38;5;241m=\u001b[39m\u001b[38;5;124m'\u001b[39m\u001b[38;5;124mgoogle/flan-t5-small\u001b[39m\u001b[38;5;124m'\u001b[39m)\n\u001b[1;32m      8\u001b[0m dspy\u001b[38;5;241m.\u001b[39mconfigure(lm\u001b[38;5;241m=\u001b[39mllm)\n\u001b[1;32m     10\u001b[0m \u001b[38;5;66;03m# --- Data and Corpus ---\u001b[39;00m\n",
      "\u001b[0;31mAttributeError\u001b[0m: module 'dspy' has no attribute 'HFModel'"
     ]
    }
   ],
   "source": [
    "import dspy\n",
    "from typing import List\n",
    "\n",
    "# --- LLM Configuration ---\n",
    "# Configure the Language Model. DSPy will automatically cache the model\n",
    "# locally in ~/.cache/huggingface/hub/. No separate download script is needed.\n",
    "llm = dspy.HFModel(model='google/flan-t5-small')\n",
    "dspy.configure(lm=llm)\n",
    "\n",
    "# --- Data and Corpus ---\n",
    "MY_CORPUS_PASSAGES = [\n",
    "    \"1) Maximize the Beauty - fully channel the beauty with in. Maybe ask what makes this moment beautiful? See if beauty can be increased in every situation. MtB also could be taken as a use of reason and also a disciplining of the senses to focus on beauty (i.e. all the pretty flowers, all the pretty birds). (Update 3-16-21 -This is one of the first 4 points created because they were on the top of my mind when I first started this project. Maximize the Beauty and Full Expression still are some of the concepts I am most influenced by, create an ethos around, consider to be primary to my concept of virtue, and aim to implement as much as possible.) \",\n",
    "    \"2) Full Expression - it takes a lot of effort for one to understand who they are when they are comfortable and how to channel the most real expressions of themselves what holds people back? Shyness, distraction (inability to focus on that which they want express)\",\n",
    "    \"3) Expect Rising - this means our expectations are constantly rising. Kind of in line with \\\"give em an inch they'll take a mile\\\" also related to law of diminishing returns -\\\"The law of diminishing returns states that in all productive processes, adding more of one factor of production, while holding all others constant (\\\"ceteris paribus\\\"), will at some point yield lower incremental per-unit returns.\\\" Tooo much ice cream too much cash\",\n",
    "    \"4) The Power of Pettiness - is the idea that pettiness is the destroyer of all people. That even the best of us can't truly be unaffected by the petty bullshit around us. They can however minimize its effects. In my own life I am obliterated by friends and coworker's snide remarks and judgments. How do I minimize its effects? By talking myself down, deep breaths, weed, alcohol, revenge...(this is the end of the first four points that were the strongest when I first started making these ideas on a small scrap of paper from the sides on union film sets.)\",\n",
    "    \"5) Various meditation - I am a big fan of meditation techniques that help train the mind from moment to moment. There are various techniques that help provide concentration and awareness in the passing moments within shorter intervals than traditional formal meditation. While using a timer to make sure you meditate for at least 10 minutes is helpful. A stopwatch to monitor your awareness of time and to also use time to monitor your concentration and awareness. A and C are essential to have Full Expression. Update 2-26-19 - Passive observation ala Krishnamurti. Just chill. Dont do anything. Just observe whatever is present. Don't react to thoughts just observe them. Don't interact with them. If they are mind blowing write them down. Then return to just chilling and observing.\"\n",
    "]\n",
    "\n",
    "# --- Signatures for DSPy Modules ---\n",
    "\n",
    "class GenerateAnswer(dspy.Signature):\n",
    "    \"\"\"Answer questions based on the provided context of personal philosophical ideas.\"\"\"\n",
    "    context = dspy.InputField(desc=\"Relevant personal philosophical ideas.\")\n",
    "    question = dspy.InputField(desc=\"The user's question.\")\n",
    "    answer = dspy.OutputField(desc=\"A thoughtful answer that aligns with the provided context.\")\n",
    "\n",
    "class IdeaConsistencyJudge(dspy.Signature):\n",
    "    \"\"\"Judge if the answer is consistent with the personal philosophical ideas and concepts in the context.\"\"\"\n",
    "    context = dspy.InputField(desc=\"Philosophical context from personal ideas corpus.\")\n",
    "    question = dspy.InputField(desc=\"Question about life philosophy or personal growth.\")\n",
    "    answer = dspy.InputField(desc=\"Answer to evaluate for consistency.\")\n",
    "    consistent_with_ideas: bool = dspy.OutputField(desc=\"Is the answer consistent with the philosophical ideas in the context?\")\n",
    "    explanation = dspy.OutputField(desc=\"Detailed reasoning for why the answer is or isn't consistent with the ideas.\")\n",
    "\n",
    "# --- Optimized DSPy Program ---\n",
    "\n",
    "class SimpleKeywordRetriever(dspy.Module):\n",
    "    \"\"\"A simple, dependency-free retriever module based on keyword matching.\"\"\"\n",
    "    def __init__(self, passages: List[str], k: int = 2):\n",
    "        super().__init__()\n",
    "        self.passages = passages\n",
    "        self.k = k\n",
    "\n",
    "    def forward(self, query: str) -> dspy.Prediction:\n",
    "        keywords = query.lower().split()\n",
    "        scored_passages = []\n",
    "        for passage in self.passages:\n",
    "            score = sum(1 for keyword in keywords if keyword in passage.lower())\n",
    "            scored_passages.append((score, passage))\n",
    "        \n",
    "        scored_passages.sort(key=lambda x: x[0], reverse=True)\n",
    "        top_passages = [passage for _, passage in scored_passages[:self.k]]\n",
    "        return dspy.Prediction(passages=top_passages)\n",
    "\n",
    "class JudgedRAG(dspy.Module):\n",
    "    \"\"\"A RAG program that retrieves, generates an answer, and then judges its own answer for consistency.\"\"\"\n",
    "    def __init__(self, passages: List[str], num_passages: int = 2):\n",
    "        super().__init__()\n",
    "        # Combines retrieval, generation, and judging in one module\n",
    "        self.retrieve = SimpleKeywordRetriever(passages=passages, k=num_passages)\n",
    "        self.generate_answer = dspy.ChainOfThought(GenerateAnswer)\n",
    "        self.judge_answer = dspy.ChainOfThought(IdeaConsistencyJudge)\n",
    "\n",
    "    def forward(self, question: str):\n",
    "        # 1. Retrieve context\n",
    "        retrieved_passages = self.retrieve(query=question).passages\n",
    "        context = \"\\n\\n\".join(retrieved_passages)\n",
    "        \n",
    "        # 2. Generate an answer\n",
    "        prediction = self.generate_answer(context=context, question=question)\n",
    "        \n",
    "        # 3. Judge the answer\n",
    "        judgment = self.judge_answer(context=context, question=question, answer=prediction.answer)\n",
    "        \n",
    "        # Return a rich object with all information\n",
    "        return dspy.Prediction(\n",
    "            context=context,\n",
    "            answer=prediction.answer,\n",
    "            consistent=judgment.consistent_with_ideas,\n",
    "            explanation=judgment.explanation,\n",
    "        )\n",
    "\n",
    "# --- Main Application ---\n",
    "if __name__ == \"__main__\":\n",
    "    # Instantiate our self-judging RAG program\n",
    "    rag_pipeline = JudgedRAG(passages=MY_CORPUS_PASSAGES, num_passages=2)\n",
    "\n",
    "    print(\"\\n\\n🎮 Interactive Ideas Consistency Checker\")\n",
    "    print(\"Ask questions about life philosophy and get evaluated answers!\")\n",
    "    print(\"Model: google/flan-t5-small\")\n",
    "    print(\"Type 'quit' to exit\\n\")\n",
    "\n",
    "    while True:\n",
    "        question = input(\"💭 Your question: \").strip()\n",
    "        if question.lower() == 'quit':\n",
    "            print(\"Exiting interactive mode. Goodbye! 👋\")\n",
    "            break\n",
    "        if not question:\n",
    "            continue\n",
    "\n",
    "        # Run the entire pipeline with a single call\n",
    "        result = rag_pipeline(question=question)\n",
    "\n",
    "        # Display the results\n",
    "        print(f\"\\n🤖 Answer: {result.answer}\")\n",
    "        print(\"-\" * 30)\n",
    "        print(f\"✅ Consistent with your ideas? {'Yes' if result.consistent else 'No'}\")\n",
    "        print(f\"🤔 Judge's Reasoning: {result.explanation}\")\n",
    "        print(f\"\\n📚 Context Used: {result.context[:250]}...\")\n",
    "        print(\"-\" * 60)"
   ]
  }
 ],
 "metadata": {
  "kernelspec": {
   "display_name": "nunu24",
   "language": "python",
   "name": "python3"
  },
  "language_info": {
   "codemirror_mode": {
    "name": "ipython",
    "version": 3
   },
   "file_extension": ".py",
   "mimetype": "text/x-python",
   "name": "python",
   "nbconvert_exporter": "python",
   "pygments_lexer": "ipython3",
   "version": "3.12.7"
  }
 },
 "nbformat": 4,
 "nbformat_minor": 5
}
