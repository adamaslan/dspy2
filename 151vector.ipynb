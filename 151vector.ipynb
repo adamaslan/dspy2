{
 "cells": [
  {
   "cell_type": "code",
   "execution_count": 3,
   "metadata": {},
   "outputs": [
    {
     "ename": "RuntimeError",
     "evalue": "Error in virtual void faiss::Index::reconstruct(idx_t, float *) const at /Users/runner/miniforge3/conda-bld/faiss-split_1723208685316/work/faiss/Index.cpp:54: reconstruct not implemented for this type of index",
     "output_type": "error",
     "traceback": [
      "\u001b[0;31m---------------------------------------------------------------------------\u001b[0m",
      "\u001b[0;31mRuntimeError\u001b[0m                              Traceback (most recent call last)",
      "\u001b[0;32m/var/folders/49/6ydqkbq172ngzt6p49xfm6b00000gn/T/ipykernel_83860/2555417370.py\u001b[0m in \u001b[0;36m?\u001b[0;34m()\u001b[0m\n\u001b[1;32m     10\u001b[0m \u001b[0;32mif\u001b[0m \u001b[0mhasattr\u001b[0m\u001b[0;34m(\u001b[0m\u001b[0mindex\u001b[0m\u001b[0;34m,\u001b[0m \u001b[0;34m\"reconstruct\"\u001b[0m\u001b[0;34m)\u001b[0m\u001b[0;34m:\u001b[0m\u001b[0;34m\u001b[0m\u001b[0;34m\u001b[0m\u001b[0m\n\u001b[1;32m     11\u001b[0m     \u001b[0mnum_vectors\u001b[0m \u001b[0;34m=\u001b[0m \u001b[0mindex\u001b[0m\u001b[0;34m.\u001b[0m\u001b[0mntotal\u001b[0m\u001b[0;34m\u001b[0m\u001b[0;34m\u001b[0m\u001b[0m\n\u001b[1;32m     12\u001b[0m     \u001b[0mvectors\u001b[0m \u001b[0;34m=\u001b[0m \u001b[0mnp\u001b[0m\u001b[0;34m.\u001b[0m\u001b[0mempty\u001b[0m\u001b[0;34m(\u001b[0m\u001b[0;34m(\u001b[0m\u001b[0mnum_vectors\u001b[0m\u001b[0;34m,\u001b[0m \u001b[0mindex\u001b[0m\u001b[0;34m.\u001b[0m\u001b[0md\u001b[0m\u001b[0;34m)\u001b[0m\u001b[0;34m,\u001b[0m \u001b[0mdtype\u001b[0m\u001b[0;34m=\u001b[0m\u001b[0;34m\"float32\"\u001b[0m\u001b[0;34m)\u001b[0m\u001b[0;34m\u001b[0m\u001b[0;34m\u001b[0m\u001b[0m\n\u001b[1;32m     13\u001b[0m     \u001b[0;32mfor\u001b[0m \u001b[0mi\u001b[0m \u001b[0;32min\u001b[0m \u001b[0mrange\u001b[0m\u001b[0;34m(\u001b[0m\u001b[0mnum_vectors\u001b[0m\u001b[0;34m)\u001b[0m\u001b[0;34m:\u001b[0m\u001b[0;34m\u001b[0m\u001b[0;34m\u001b[0m\u001b[0m\n\u001b[0;32m---> 14\u001b[0;31m         \u001b[0mvectors\u001b[0m\u001b[0;34m[\u001b[0m\u001b[0mi\u001b[0m\u001b[0;34m]\u001b[0m \u001b[0;34m=\u001b[0m \u001b[0mfaiss\u001b[0m\u001b[0;34m.\u001b[0m\u001b[0mvector_to_array\u001b[0m\u001b[0;34m(\u001b[0m\u001b[0mindex\u001b[0m\u001b[0;34m.\u001b[0m\u001b[0mreconstruct\u001b[0m\u001b[0;34m(\u001b[0m\u001b[0mi\u001b[0m\u001b[0;34m)\u001b[0m\u001b[0;34m)\u001b[0m\u001b[0;34m\u001b[0m\u001b[0;34m\u001b[0m\u001b[0m\n\u001b[0m\u001b[1;32m     15\u001b[0m \u001b[0;32melse\u001b[0m\u001b[0;34m:\u001b[0m\u001b[0;34m\u001b[0m\u001b[0;34m\u001b[0m\u001b[0m\n\u001b[1;32m     16\u001b[0m     \u001b[0;31m# If reconstruction is not supported, try approximate extraction using stored centroids\u001b[0m\u001b[0;34m\u001b[0m\u001b[0;34m\u001b[0m\u001b[0m\n\u001b[1;32m     17\u001b[0m     \u001b[0;32mif\u001b[0m \u001b[0mhasattr\u001b[0m\u001b[0;34m(\u001b[0m\u001b[0mindex\u001b[0m\u001b[0;34m,\u001b[0m \u001b[0;34m\"pq\"\u001b[0m\u001b[0;34m)\u001b[0m\u001b[0;34m:\u001b[0m\u001b[0;34m\u001b[0m\u001b[0;34m\u001b[0m\u001b[0m\n",
      "\u001b[0;32m/opt/homebrew/Caskroom/miniforge/base/envs/nunu24/lib/python3.12/site-packages/faiss/class_wrappers.py\u001b[0m in \u001b[0;36m?\u001b[0;34m(self, key, x)\u001b[0m\n\u001b[1;32m    516\u001b[0m             \u001b[0mx\u001b[0m \u001b[0;34m=\u001b[0m \u001b[0mnp\u001b[0m\u001b[0;34m.\u001b[0m\u001b[0mempty\u001b[0m\u001b[0;34m(\u001b[0m\u001b[0mself\u001b[0m\u001b[0;34m.\u001b[0m\u001b[0md\u001b[0m\u001b[0;34m,\u001b[0m \u001b[0mdtype\u001b[0m\u001b[0;34m=\u001b[0m\u001b[0mnp\u001b[0m\u001b[0;34m.\u001b[0m\u001b[0mfloat32\u001b[0m\u001b[0;34m)\u001b[0m\u001b[0;34m\u001b[0m\u001b[0;34m\u001b[0m\u001b[0m\n\u001b[1;32m    517\u001b[0m         \u001b[0;32melse\u001b[0m\u001b[0;34m:\u001b[0m\u001b[0;34m\u001b[0m\u001b[0;34m\u001b[0m\u001b[0m\n\u001b[1;32m    518\u001b[0m             \u001b[0;32massert\u001b[0m \u001b[0mx\u001b[0m\u001b[0;34m.\u001b[0m\u001b[0mshape\u001b[0m \u001b[0;34m==\u001b[0m \u001b[0;34m(\u001b[0m\u001b[0mself\u001b[0m\u001b[0;34m.\u001b[0m\u001b[0md\u001b[0m\u001b[0;34m,\u001b[0m \u001b[0;34m)\u001b[0m\u001b[0;34m\u001b[0m\u001b[0;34m\u001b[0m\u001b[0m\n\u001b[1;32m    519\u001b[0m \u001b[0;34m\u001b[0m\u001b[0m\n\u001b[0;32m--> 520\u001b[0;31m         \u001b[0mself\u001b[0m\u001b[0;34m.\u001b[0m\u001b[0mreconstruct_c\u001b[0m\u001b[0;34m(\u001b[0m\u001b[0mkey\u001b[0m\u001b[0;34m,\u001b[0m \u001b[0mswig_ptr\u001b[0m\u001b[0;34m(\u001b[0m\u001b[0mx\u001b[0m\u001b[0;34m)\u001b[0m\u001b[0;34m)\u001b[0m\u001b[0;34m\u001b[0m\u001b[0;34m\u001b[0m\u001b[0m\n\u001b[0m\u001b[1;32m    521\u001b[0m         \u001b[0;32mreturn\u001b[0m \u001b[0mx\u001b[0m\u001b[0;34m\u001b[0m\u001b[0;34m\u001b[0m\u001b[0m\n",
      "\u001b[0;32m/opt/homebrew/Caskroom/miniforge/base/envs/nunu24/lib/python3.12/site-packages/faiss/swigfaiss.py\u001b[0m in \u001b[0;36m?\u001b[0;34m(self, key, recons)\u001b[0m\n\u001b[1;32m   1996\u001b[0m         \u001b[0;34m:\u001b[0m\u001b[0mparam\u001b[0m \u001b[0mkey\u001b[0m\u001b[0;34m:\u001b[0m         \u001b[0mid\u001b[0m \u001b[0mof\u001b[0m \u001b[0mthe\u001b[0m \u001b[0mvector\u001b[0m \u001b[0mto\u001b[0m \u001b[0mreconstruct\u001b[0m\u001b[0;34m\u001b[0m\u001b[0;34m\u001b[0m\u001b[0m\n\u001b[1;32m   1997\u001b[0m         \u001b[0;34m:\u001b[0m\u001b[0mtype\u001b[0m \u001b[0mrecons\u001b[0m\u001b[0;34m:\u001b[0m \u001b[0mfloat\u001b[0m\u001b[0;34m\u001b[0m\u001b[0;34m\u001b[0m\u001b[0m\n\u001b[1;32m   1998\u001b[0m         \u001b[0;34m:\u001b[0m\u001b[0mparam\u001b[0m \u001b[0mrecons\u001b[0m\u001b[0;34m:\u001b[0m      \u001b[0mreconstucted\u001b[0m \u001b[0mvector\u001b[0m \u001b[0;34m(\u001b[0m\u001b[0msize\u001b[0m \u001b[0md\u001b[0m\u001b[0;34m)\u001b[0m\u001b[0;34m\u001b[0m\u001b[0;34m\u001b[0m\u001b[0m\n\u001b[1;32m   1999\u001b[0m         \"\"\"\n\u001b[0;32m-> 2000\u001b[0;31m         \u001b[0;32mreturn\u001b[0m \u001b[0m_swigfaiss\u001b[0m\u001b[0;34m.\u001b[0m\u001b[0mIndex_reconstruct\u001b[0m\u001b[0;34m(\u001b[0m\u001b[0mself\u001b[0m\u001b[0;34m,\u001b[0m \u001b[0mkey\u001b[0m\u001b[0;34m,\u001b[0m \u001b[0mrecons\u001b[0m\u001b[0;34m)\u001b[0m\u001b[0;34m\u001b[0m\u001b[0;34m\u001b[0m\u001b[0m\n\u001b[0m",
      "\u001b[0;31mRuntimeError\u001b[0m: Error in virtual void faiss::Index::reconstruct(idx_t, float *) const at /Users/runner/miniforge3/conda-bld/faiss-split_1723208685316/work/faiss/Index.cpp:54: reconstruct not implemented for this type of index"
     ]
    }
   ],
   "source": [
    "import faiss\n",
    "import numpy as np\n",
    "import matplotlib.pyplot as plt\n",
    "from sklearn.manifold import TSNE\n",
    "\n",
    "# Load the FAISS index\n",
    "index = faiss.read_index(\"151vector.faiss\")\n",
    "\n",
    "# Check if the index supports direct reconstruction\n",
    "if hasattr(index, \"reconstruct\"):\n",
    "    num_vectors = index.ntotal\n",
    "    vectors = np.empty((num_vectors, index.d), dtype=\"float32\")\n",
    "    for i in range(num_vectors):\n",
    "        vectors[i] = faiss.vector_to_array(index.reconstruct(i))\n",
    "else:\n",
    "    # If reconstruction is not supported, try approximate extraction using stored centroids\n",
    "    if hasattr(index, \"pq\"):\n",
    "        vectors = index.pq.centroids.T  # Extract product quantizer centroids\n",
    "    else:\n",
    "        raise RuntimeError(\"Cannot extract vectors. Ensure the index is compatible or use original data.\")\n",
    "\n",
    "# Perform dimensionality reduction using t-SNE\n",
    "tsne = TSNE(n_components=2, random_state=42)\n",
    "reduced_vectors = tsne.fit_transform(vectors)\n",
    "\n",
    "# Visualize the results\n",
    "plt.figure(figsize=(10, 8))\n",
    "plt.scatter(reduced_vectors[:, 0], reduced_vectors[:, 1], s=10, alpha=0.7)\n",
    "plt.title(\"FAISS Vectors Visualized with t-SNE\", fontsize=14)\n",
    "plt.xlabel(\"Component 1\")\n",
    "plt.ylabel(\"Component 2\")\n",
    "plt.show()\n"
   ]
  },
  {
   "cell_type": "code",
   "execution_count": 4,
   "metadata": {},
   "outputs": [
    {
     "name": "stdout",
     "output_type": "stream",
     "text": [
      "Index type: <class 'faiss.swigfaiss.IndexIDMap'>\n",
      "Total number of vectors: 150\n",
      "Vector dimensionality: 384\n"
     ]
    }
   ],
   "source": [
    "import faiss\n",
    "\n",
    "# Load the FAISS index\n",
    "index = faiss.read_index(\"151vector.faiss\")\n",
    "\n",
    "# Get basic metrics\n",
    "print(\"Index type:\", type(index))  # Type of the FAISS index\n",
    "print(\"Total number of vectors:\", index.ntotal)  # Total number of vectors in the index\n",
    "print(\"Vector dimensionality:\", index.d)  # Dimensionality of vectors in the index\n"
   ]
  },
  {
   "cell_type": "code",
   "execution_count": 5,
   "metadata": {},
   "outputs": [
    {
     "name": "stdout",
     "output_type": "stream",
     "text": [
      "Query Results:\n",
      "Query 1:\n",
      "  Nearest neighbor distances: [117.697655 117.85494  118.0235   118.14925  118.18328  118.19527\n",
      " 118.24588  118.29262  118.37459  118.40091 ]\n",
      "  Nearest neighbor indices: [ 61 139 102   2  20  74 110  81   9 134]\n",
      "Query 2:\n",
      "  Nearest neighbor distances: [135.36436 135.38535 135.41605 135.43025 135.56174 135.69043 135.69205\n",
      " 135.72473 135.7445  135.7641 ]\n",
      "  Nearest neighbor indices: [110  85 123  14 104  79 139 143 121 144]\n",
      "Query 3:\n",
      "  Nearest neighbor distances: [129.57281 129.82973 129.89774 129.91023 129.95175 129.95514 129.97098\n",
      " 129.97417 130.01773 130.04318]\n",
      "  Nearest neighbor indices: [ 41  35  52 139  37  48  22  20  32  61]\n",
      "Query 4:\n",
      "  Nearest neighbor distances: [135.46259 135.50572 135.57841 135.5999  135.6352  135.69493 135.74667\n",
      " 135.78978 135.7948  135.85426]\n",
      "  Nearest neighbor indices: [116 127 148  60 113  40 137  10  62 129]\n",
      "Query 5:\n",
      "  Nearest neighbor distances: [130.43816 130.49734 130.50299 130.57205 130.59286 130.61615 130.63475\n",
      " 130.68912 130.71939 130.76279]\n",
      "  Nearest neighbor indices: [ 91 126 118  55  74   9 128  49  82  97]\n"
     ]
    }
   ],
   "source": [
    "import faiss\n",
    "import numpy as np\n",
    "\n",
    "# Load the FAISS index\n",
    "index = faiss.read_index(\"151vector.faiss\")\n",
    "\n",
    "# Generate some random query vectors (use real data if available)\n",
    "query_vectors = np.random.random((5, index.d)).astype(\"float32\")  # 5 queries\n",
    "\n",
    "# Perform a search on the index\n",
    "k = 10  # Number of nearest neighbors to retrieve\n",
    "distances, indices = index.search(query_vectors, k)\n",
    "\n",
    "# Display results\n",
    "print(\"Query Results:\")\n",
    "for i, (d, idx) in enumerate(zip(distances, indices)):\n",
    "    print(f\"Query {i+1}:\")\n",
    "    print(\"  Nearest neighbor distances:\", d)\n",
    "    print(\"  Nearest neighbor indices:\", idx)\n"
   ]
  },
  {
   "cell_type": "code",
   "execution_count": 6,
   "metadata": {},
   "outputs": [
    {
     "ename": "TypeError",
     "evalue": "'ellipsis' object is not iterable",
     "output_type": "error",
     "traceback": [
      "\u001b[0;31m---------------------------------------------------------------------------\u001b[0m",
      "\u001b[0;31mTypeError\u001b[0m                                 Traceback (most recent call last)",
      "Cell \u001b[0;32mIn[6], line 8\u001b[0m\n\u001b[1;32m      6\u001b[0m \u001b[38;5;28;01mfor\u001b[39;00m i, gt \u001b[38;5;129;01min\u001b[39;00m \u001b[38;5;28menumerate\u001b[39m(ground_truth):\n\u001b[1;32m      7\u001b[0m     retrieved \u001b[38;5;241m=\u001b[39m \u001b[38;5;28mset\u001b[39m(indices[i])\n\u001b[0;32m----> 8\u001b[0m     recall \u001b[38;5;241m+\u001b[39m\u001b[38;5;241m=\u001b[39m \u001b[38;5;28mlen\u001b[39m(\u001b[38;5;28;43mset\u001b[39;49m\u001b[43m(\u001b[49m\u001b[43mgt\u001b[49m\u001b[43m)\u001b[49m \u001b[38;5;241m&\u001b[39m retrieved) \u001b[38;5;241m/\u001b[39m \u001b[38;5;28mlen\u001b[39m(gt)\n\u001b[1;32m     10\u001b[0m recall \u001b[38;5;241m/\u001b[39m\u001b[38;5;241m=\u001b[39m \u001b[38;5;28mlen\u001b[39m(ground_truth)\n\u001b[1;32m     11\u001b[0m \u001b[38;5;28mprint\u001b[39m(\u001b[38;5;124m\"\u001b[39m\u001b[38;5;124mRecall:\u001b[39m\u001b[38;5;124m\"\u001b[39m, recall)\n",
      "\u001b[0;31mTypeError\u001b[0m: 'ellipsis' object is not iterable"
     ]
    }
   ],
   "source": [
    "# Assuming you have ground truth neighbors for each query\n",
    "ground_truth = [[0, 1, 2], [3, 4, 5], ...]  # Example ground truth indices\n",
    "\n",
    "# Calculate recall\n",
    "recall = 0\n",
    "for i, gt in enumerate(ground_truth):\n",
    "    retrieved = set(indices[i])\n",
    "    recall += len(set(gt) & retrieved) / len(gt)\n",
    "\n",
    "recall /= len(ground_truth)\n",
    "print(\"Recall:\", recall)\n"
   ]
  },
  {
   "cell_type": "code",
   "execution_count": 8,
   "metadata": {},
   "outputs": [],
   "source": [
    "if isinstance(index, faiss.IndexIVF):\n",
    "    print(\"Number of centroids:\", index.nlist)\n",
    "\n",
    "if isinstance(index, faiss.IndexHNSW):\n",
    "    print(\"HNSW graph size:\", index.hnsw.nb_neighbors())\n"
   ]
  },
  {
   "cell_type": "code",
   "execution_count": 9,
   "metadata": {},
   "outputs": [
    {
     "name": "stdout",
     "output_type": "stream",
     "text": [
      "Index type: <class 'faiss.swigfaiss.IndexIDMap'>\n",
      "Total number of vectors: 150\n",
      "Vector dimensionality: 384\n",
      "\n",
      "Query Results:\n",
      "Query 1:\n",
      "  Nearest neighbor distances: [128.36996 128.759   128.91304 128.91353 128.94388 129.01703 129.04842\n",
      " 129.0509  129.10396 129.10602]\n",
      "  Nearest neighbor indices: [ 15 127 132  28  11 142  91  37 129 126]\n",
      "Query 2:\n",
      "  Nearest neighbor distances: [131.49994 131.54587 131.59146 131.60416 131.64996 131.68205 131.71709\n",
      " 131.75531 131.766   131.79218]\n",
      "  Nearest neighbor indices: [  0  43  91 128  18 134 119  90 104  13]\n",
      "Query 3:\n",
      "  Nearest neighbor distances: [134.60004 134.8996  135.00937 135.11104 135.26534 135.29013 135.33966\n",
      " 135.34982 135.36504 135.44463]\n",
      "  Nearest neighbor indices: [126  91 110 117  79  76  56 116  98   9]\n",
      "Query 4:\n",
      "  Nearest neighbor distances: [127.33923 127.63579 127.64788 127.8627  127.93192 128.03268 128.11331\n",
      " 128.13553 128.1389  128.17932]\n",
      "  Nearest neighbor indices: [56 79 49 96  6 30 67 15 29 13]\n",
      "Query 5:\n",
      "  Nearest neighbor distances: [128.64508 128.67363 128.73181 128.89125 128.93524 129.00946 129.04475\n",
      " 129.08705 129.10452 129.16965]\n",
      "  Nearest neighbor indices: [142 148 126  63  29 110  75 134  95 109]\n"
     ]
    }
   ],
   "source": [
    "import faiss\n",
    "import numpy as np\n",
    "\n",
    "# Load the FAISS index\n",
    "index = faiss.read_index(\"151vector.faiss\")\n",
    "\n",
    "# Basic metrics\n",
    "print(\"Index type:\", type(index))\n",
    "print(\"Total number of vectors:\", index.ntotal)\n",
    "print(\"Vector dimensionality:\", index.d)\n",
    "\n",
    "# Generate synthetic query vectors for evaluation\n",
    "query_vectors = np.random.random((5, index.d)).astype(\"float32\")  # 5 queries\n",
    "k = 10  # Number of nearest neighbors\n",
    "\n",
    "# Perform a search\n",
    "distances, indices = index.search(query_vectors, k)\n",
    "\n",
    "# Display query results\n",
    "print(\"\\nQuery Results:\")\n",
    "for i, (d, idx) in enumerate(zip(distances, indices)):\n",
    "    print(f\"Query {i+1}:\")\n",
    "    print(\"  Nearest neighbor distances:\", d)\n",
    "    print(\"  Nearest neighbor indices:\", idx)\n"
   ]
  },
  {
   "cell_type": "code",
   "execution_count": 10,
   "metadata": {},
   "outputs": [
    {
     "ename": "AttributeError",
     "evalue": "module 'faiss' has no attribute 'IDMap'",
     "output_type": "error",
     "traceback": [
      "\u001b[0;31m---------------------------------------------------------------------------\u001b[0m",
      "\u001b[0;31mAttributeError\u001b[0m                            Traceback (most recent call last)",
      "Cell \u001b[0;32mIn[10], line 5\u001b[0m\n\u001b[1;32m      2\u001b[0m index \u001b[38;5;241m=\u001b[39m faiss\u001b[38;5;241m.\u001b[39mread_index(\u001b[38;5;124m\"\u001b[39m\u001b[38;5;124m151vector.faiss\u001b[39m\u001b[38;5;124m\"\u001b[39m)\n\u001b[1;32m      4\u001b[0m \u001b[38;5;66;03m# Retrieve the mapped IDs\u001b[39;00m\n\u001b[0;32m----> 5\u001b[0m id_map \u001b[38;5;241m=\u001b[39m \u001b[43mfaiss\u001b[49m\u001b[38;5;241;43m.\u001b[39;49m\u001b[43mIDMap\u001b[49m(index)\n\u001b[1;32m      6\u001b[0m all_ids \u001b[38;5;241m=\u001b[39m id_map\u001b[38;5;241m.\u001b[39mid_map\n\u001b[1;32m      8\u001b[0m \u001b[38;5;28mprint\u001b[39m(\u001b[38;5;124m\"\u001b[39m\u001b[38;5;124mMapped IDs:\u001b[39m\u001b[38;5;124m\"\u001b[39m, all_ids[:\u001b[38;5;241m10\u001b[39m])  \u001b[38;5;66;03m# Print the first 10 IDs\u001b[39;00m\n",
      "\u001b[0;31mAttributeError\u001b[0m: module 'faiss' has no attribute 'IDMap'"
     ]
    }
   ],
   "source": [
    "# Load the index\n",
    "index = faiss.read_index(\"151vector.faiss\")\n",
    "\n",
    "# Retrieve the mapped IDs\n",
    "id_map = faiss.IDMap(index)\n",
    "all_ids = id_map.id_map\n",
    "\n",
    "print(\"Mapped IDs:\", all_ids[:10])  # Print the first 10 IDs\n"
   ]
  },
  {
   "cell_type": "code",
   "execution_count": 15,
   "metadata": {},
   "outputs": [
    {
     "ename": "RuntimeError",
     "evalue": "Error in virtual void faiss::Index::reconstruct(idx_t, float *) const at /Users/runner/miniforge3/conda-bld/faiss-split_1723208685316/work/faiss/Index.cpp:54: reconstruct not implemented for this type of index",
     "output_type": "error",
     "traceback": [
      "\u001b[0;31m---------------------------------------------------------------------------\u001b[0m",
      "\u001b[0;31mRuntimeError\u001b[0m                              Traceback (most recent call last)",
      "\u001b[0;32m/var/folders/49/6ydqkbq172ngzt6p49xfm6b00000gn/T/ipykernel_83860/3374230567.py\u001b[0m in \u001b[0;36m?\u001b[0;34m()\u001b[0m\n\u001b[1;32m      9\u001b[0m \u001b[0mvectors\u001b[0m \u001b[0;34m=\u001b[0m \u001b[0mnp\u001b[0m\u001b[0;34m.\u001b[0m\u001b[0mempty\u001b[0m\u001b[0;34m(\u001b[0m\u001b[0;34m(\u001b[0m\u001b[0mnum_vectors\u001b[0m\u001b[0;34m,\u001b[0m \u001b[0mindex\u001b[0m\u001b[0;34m.\u001b[0m\u001b[0md\u001b[0m\u001b[0;34m)\u001b[0m\u001b[0;34m,\u001b[0m \u001b[0mdtype\u001b[0m\u001b[0;34m=\u001b[0m\u001b[0;34m\"float32\"\u001b[0m\u001b[0;34m)\u001b[0m\u001b[0;34m\u001b[0m\u001b[0;34m\u001b[0m\u001b[0m\n\u001b[1;32m     10\u001b[0m \u001b[0mids\u001b[0m \u001b[0;34m=\u001b[0m \u001b[0;34m[\u001b[0m\u001b[0;34m]\u001b[0m\u001b[0;34m\u001b[0m\u001b[0;34m\u001b[0m\u001b[0m\n\u001b[1;32m     11\u001b[0m \u001b[0;34m\u001b[0m\u001b[0m\n\u001b[1;32m     12\u001b[0m \u001b[0;32mfor\u001b[0m \u001b[0mi\u001b[0m \u001b[0;32min\u001b[0m \u001b[0mrange\u001b[0m\u001b[0;34m(\u001b[0m\u001b[0mnum_vectors\u001b[0m\u001b[0;34m)\u001b[0m\u001b[0;34m:\u001b[0m\u001b[0;34m\u001b[0m\u001b[0;34m\u001b[0m\u001b[0m\n\u001b[0;32m---> 13\u001b[0;31m     \u001b[0mvectors\u001b[0m\u001b[0;34m[\u001b[0m\u001b[0mi\u001b[0m\u001b[0;34m]\u001b[0m \u001b[0;34m=\u001b[0m \u001b[0mfaiss\u001b[0m\u001b[0;34m.\u001b[0m\u001b[0mvector_to_array\u001b[0m\u001b[0;34m(\u001b[0m\u001b[0mindex\u001b[0m\u001b[0;34m.\u001b[0m\u001b[0mreconstruct\u001b[0m\u001b[0;34m(\u001b[0m\u001b[0mi\u001b[0m\u001b[0;34m)\u001b[0m\u001b[0;34m)\u001b[0m\u001b[0;34m\u001b[0m\u001b[0;34m\u001b[0m\u001b[0m\n\u001b[0m\u001b[1;32m     14\u001b[0m     \u001b[0mids\u001b[0m\u001b[0;34m.\u001b[0m\u001b[0mappend\u001b[0m\u001b[0;34m(\u001b[0m\u001b[0mi\u001b[0m\u001b[0;34m)\u001b[0m\u001b[0;34m\u001b[0m\u001b[0;34m\u001b[0m\u001b[0m\n\u001b[1;32m     15\u001b[0m \u001b[0;34m\u001b[0m\u001b[0m\n\u001b[1;32m     16\u001b[0m \u001b[0;31m# Dimensionality reduction using t-SNE\u001b[0m\u001b[0;34m\u001b[0m\u001b[0;34m\u001b[0m\u001b[0m\n",
      "\u001b[0;32m/opt/homebrew/Caskroom/miniforge/base/envs/nunu24/lib/python3.12/site-packages/faiss/class_wrappers.py\u001b[0m in \u001b[0;36m?\u001b[0;34m(self, key, x)\u001b[0m\n\u001b[1;32m    516\u001b[0m             \u001b[0mx\u001b[0m \u001b[0;34m=\u001b[0m \u001b[0mnp\u001b[0m\u001b[0;34m.\u001b[0m\u001b[0mempty\u001b[0m\u001b[0;34m(\u001b[0m\u001b[0mself\u001b[0m\u001b[0;34m.\u001b[0m\u001b[0md\u001b[0m\u001b[0;34m,\u001b[0m \u001b[0mdtype\u001b[0m\u001b[0;34m=\u001b[0m\u001b[0mnp\u001b[0m\u001b[0;34m.\u001b[0m\u001b[0mfloat32\u001b[0m\u001b[0;34m)\u001b[0m\u001b[0;34m\u001b[0m\u001b[0;34m\u001b[0m\u001b[0m\n\u001b[1;32m    517\u001b[0m         \u001b[0;32melse\u001b[0m\u001b[0;34m:\u001b[0m\u001b[0;34m\u001b[0m\u001b[0;34m\u001b[0m\u001b[0m\n\u001b[1;32m    518\u001b[0m             \u001b[0;32massert\u001b[0m \u001b[0mx\u001b[0m\u001b[0;34m.\u001b[0m\u001b[0mshape\u001b[0m \u001b[0;34m==\u001b[0m \u001b[0;34m(\u001b[0m\u001b[0mself\u001b[0m\u001b[0;34m.\u001b[0m\u001b[0md\u001b[0m\u001b[0;34m,\u001b[0m \u001b[0;34m)\u001b[0m\u001b[0;34m\u001b[0m\u001b[0;34m\u001b[0m\u001b[0m\n\u001b[1;32m    519\u001b[0m \u001b[0;34m\u001b[0m\u001b[0m\n\u001b[0;32m--> 520\u001b[0;31m         \u001b[0mself\u001b[0m\u001b[0;34m.\u001b[0m\u001b[0mreconstruct_c\u001b[0m\u001b[0;34m(\u001b[0m\u001b[0mkey\u001b[0m\u001b[0;34m,\u001b[0m \u001b[0mswig_ptr\u001b[0m\u001b[0;34m(\u001b[0m\u001b[0mx\u001b[0m\u001b[0;34m)\u001b[0m\u001b[0;34m)\u001b[0m\u001b[0;34m\u001b[0m\u001b[0;34m\u001b[0m\u001b[0m\n\u001b[0m\u001b[1;32m    521\u001b[0m         \u001b[0;32mreturn\u001b[0m \u001b[0mx\u001b[0m\u001b[0;34m\u001b[0m\u001b[0;34m\u001b[0m\u001b[0m\n",
      "\u001b[0;32m/opt/homebrew/Caskroom/miniforge/base/envs/nunu24/lib/python3.12/site-packages/faiss/swigfaiss.py\u001b[0m in \u001b[0;36m?\u001b[0;34m(self, key, recons)\u001b[0m\n\u001b[1;32m   1996\u001b[0m         \u001b[0;34m:\u001b[0m\u001b[0mparam\u001b[0m \u001b[0mkey\u001b[0m\u001b[0;34m:\u001b[0m         \u001b[0mid\u001b[0m \u001b[0mof\u001b[0m \u001b[0mthe\u001b[0m \u001b[0mvector\u001b[0m \u001b[0mto\u001b[0m \u001b[0mreconstruct\u001b[0m\u001b[0;34m\u001b[0m\u001b[0;34m\u001b[0m\u001b[0m\n\u001b[1;32m   1997\u001b[0m         \u001b[0;34m:\u001b[0m\u001b[0mtype\u001b[0m \u001b[0mrecons\u001b[0m\u001b[0;34m:\u001b[0m \u001b[0mfloat\u001b[0m\u001b[0;34m\u001b[0m\u001b[0;34m\u001b[0m\u001b[0m\n\u001b[1;32m   1998\u001b[0m         \u001b[0;34m:\u001b[0m\u001b[0mparam\u001b[0m \u001b[0mrecons\u001b[0m\u001b[0;34m:\u001b[0m      \u001b[0mreconstucted\u001b[0m \u001b[0mvector\u001b[0m \u001b[0;34m(\u001b[0m\u001b[0msize\u001b[0m \u001b[0md\u001b[0m\u001b[0;34m)\u001b[0m\u001b[0;34m\u001b[0m\u001b[0;34m\u001b[0m\u001b[0m\n\u001b[1;32m   1999\u001b[0m         \"\"\"\n\u001b[0;32m-> 2000\u001b[0;31m         \u001b[0;32mreturn\u001b[0m \u001b[0m_swigfaiss\u001b[0m\u001b[0;34m.\u001b[0m\u001b[0mIndex_reconstruct\u001b[0m\u001b[0;34m(\u001b[0m\u001b[0mself\u001b[0m\u001b[0;34m,\u001b[0m \u001b[0mkey\u001b[0m\u001b[0;34m,\u001b[0m \u001b[0mrecons\u001b[0m\u001b[0;34m)\u001b[0m\u001b[0;34m\u001b[0m\u001b[0;34m\u001b[0m\u001b[0m\n\u001b[0m",
      "\u001b[0;31mRuntimeError\u001b[0m: Error in virtual void faiss::Index::reconstruct(idx_t, float *) const at /Users/runner/miniforge3/conda-bld/faiss-split_1723208685316/work/faiss/Index.cpp:54: reconstruct not implemented for this type of index"
     ]
    }
   ],
   "source": [
    "import faiss\n",
    "import numpy as np\n",
    "import matplotlib.pyplot as plt\n",
    "from sklearn.manifold import TSNE\n",
    "\n",
    "# Load the index and extract vectors\n",
    "index = faiss.read_index(\"ideas1.faiss\")\n",
    "num_vectors = index.ntotal\n",
    "vectors = np.empty((num_vectors, index.d), dtype=\"float32\")\n",
    "ids = []\n",
    "\n",
    "for i in range(num_vectors):\n",
    "    vectors[i] = faiss.vector_to_array(index.reconstruct(i))\n",
    "    ids.append(i)\n",
    "\n",
    "# Dimensionality reduction using t-SNE\n",
    "tsne = TSNE(n_components=2, random_state=42)\n",
    "reduced_vectors = tsne.fit_transform(vectors)\n",
    "\n",
    "# Plot the results\n",
    "plt.figure(figsize=(10, 8))\n",
    "plt.scatter(reduced_vectors[:, 0], reduced_vectors[:, 1], s=30, alpha=0.7, label=\"Vectors\")\n",
    "plt.title(\"FAISS Vector Visualization with t-SNE\", fontsize=14)\n",
    "plt.xlabel(\"t-SNE Component 1\")\n",
    "plt.ylabel(\"t-SNE Component 2\")\n",
    "plt.legend()\n",
    "plt.show()\n"
   ]
  },
  {
   "cell_type": "code",
   "execution_count": 12,
   "metadata": {},
   "outputs": [
    {
     "name": "stdout",
     "output_type": "stream",
     "text": [
      "Mapped IDs (first 10): [0 1 2 3 4 5 6 7 8 9]\n"
     ]
    }
   ],
   "source": [
    "import faiss\n",
    "\n",
    "# Load the FAISS index\n",
    "index = faiss.read_index(\"151vector.faiss\")\n",
    "\n",
    "# Check if the index is an IDMap\n",
    "if isinstance(index, faiss.IndexIDMap):\n",
    "    # Retrieve all IDs from the index\n",
    "    ids = faiss.vector_to_array(index.id_map)\n",
    "    print(\"Mapped IDs (first 10):\", ids[:10])\n",
    "else:\n",
    "    print(\"Index is not an IndexIDMap.\")\n"
   ]
  },
  {
   "cell_type": "code",
   "execution_count": 13,
   "metadata": {},
   "outputs": [
    {
     "name": "stdout",
     "output_type": "stream",
     "text": [
      "Created and saved FAISS index with 150 vectors.\n",
      "\n",
      "Query Results:\n",
      "Distance: 0.8613 | Idea: 2) Full Expression - it takes a lot of effort for one to understand who they are when they are comfortable and how to channel the most real expressions of themselves what holds people back? Shyness, distraction (inability to focus on that which they want express)\n",
      "Distance: 1.1096 | Idea: 16) games – Be a good lil sociopath path and self-monitor as they say “fake it b4 u make it\" - so much is a game, but it’s usually played with people we are not so close to, so maybe we can transcend games but the give and take of life seems so entrenched... to see how you can improve your self-monitoring consult Snyder’s guide to self-monitoring (SELF-MONITORING SCALE by Mark Snyder (1974)) Self – Monitor http://en.wikipedia.org/wiki/Self-monitoring Snyder’s scale - http://faculty.washington.edu/janegf/selfmonitoring.htm Sociopath – be a good sociopath\n",
      "Distance: 1.1305 | Idea: 54) Inability to step Back -> Why? 1) Delusion -> No/too much feelings 2) Subj - NYC clouds the mind. Imprisons you in never ending concrete with a couple flimsy tree scattered about. Imprisons you with high rents. Imprisons you with culture that distracts you from your own cultural self. Imprisons you with cultivated personalities challenging and distracting you from your own archetypes to be developed and cared for. All of this makes stepping back and smelling the roses sunk in your skin so dificil. Hurrying about never able to ask “why don’t I feel worse about being so self-obsessed?” “Why don’t I feel better about being a genuinely open and available person?” Lastly, these questions are needed but how can you be sure about the answers when everything is so damn subjective???? I have no answers.\n",
      "Distance: 1.2104 | Idea: 21) talk to yourself - rap to yourself - sing to yourself - write to yourself - think to yourself - make your mind as healthy and flexible as possible - this weird interior dialogue may help\n",
      "Distance: 1.2339 | Idea: 4) The Power of Pettiness - is the idea that pettiness is the destroyer of all people. That even the best of us can’t truly be unaffected by the petty bullshit around us. They can however minimize its effects. In my own life I am obliterated by friends and coworker’s snide remarks and judgments. How do I minimize its effects? By talking myself down, deep breaths, weed, alcohol, revenge...(this is the end of the first four points that were the strongest when I first started making these ideas on a small scrap of paper from the sides on union film sets.)\n"
     ]
    }
   ],
   "source": [
    "import pandas as pd\n",
    "import numpy as np\n",
    "import faiss\n",
    "from sentence_transformers import SentenceTransformer\n",
    "\n",
    "# Step 1: Load the CSV file\n",
    "file_path = \"151_ideas_updated2.csv\"\n",
    "df = pd.read_csv(file_path)\n",
    "\n",
    "# Extract the \"Ideas\" column\n",
    "ideas = df[\"Ideas\"].tolist()\n",
    "\n",
    "# Step 2: Convert text to embeddings\n",
    "model = SentenceTransformer(\"all-MiniLM-L6-v2\")  # Load a pre-trained embedding model\n",
    "embeddings = model.encode(ideas, convert_to_numpy=True)\n",
    "\n",
    "# Step 3: Create a FAISS index\n",
    "dimension = embeddings.shape[1]  # Dimensionality of the embeddings\n",
    "index = faiss.IndexFlatL2(dimension)  # Use L2 distance for similarity\n",
    "id_map = faiss.IndexIDMap(index)  # Wrap the index with ID mapping\n",
    "\n",
    "# Step 4: Add embeddings and IDs to the index\n",
    "ids = np.arange(len(ideas))  # Generate unique IDs for each idea\n",
    "id_map.add_with_ids(embeddings, ids)\n",
    "\n",
    "# Step 5: Save the FAISS index\n",
    "faiss.write_index(id_map, \"ideas_vector_db.faiss\")\n",
    "print(f\"Created and saved FAISS index with {id_map.ntotal} vectors.\")\n",
    "\n",
    "# Optional: Query the index\n",
    "def query_index(query_text, top_k=5):\n",
    "    query_vector = model.encode([query_text], convert_to_numpy=True)\n",
    "    distances, indices = id_map.search(query_vector, top_k)\n",
    "    results = [{\"idea\": ideas[idx], \"distance\": dist} for idx, dist in zip(indices[0], distances[0])]\n",
    "    return results\n",
    "\n",
    "# Example query\n",
    "example_query = \"How to focus on self-expression?\"\n",
    "results = query_index(example_query)\n",
    "print(\"\\nQuery Results:\")\n",
    "for result in results:\n",
    "    print(f\"Distance: {result['distance']:.4f} | Idea: {result['idea']}\")\n"
   ]
  },
  {
   "cell_type": "code",
   "execution_count": 14,
   "metadata": {},
   "outputs": [
    {
     "name": "stdout",
     "output_type": "stream",
     "text": [
      "Error reconstructing vector with ID 0: Error in virtual void faiss::Index::reconstruct(idx_t, float *) const at /Users/runner/miniforge3/conda-bld/faiss-split_1723208685316/work/faiss/Index.cpp:54: reconstruct not implemented for this type of index\n",
      "Failed to reconstruct vector for ID 0.\n"
     ]
    }
   ],
   "source": [
    "# Load the saved FAISS index\n",
    "index = faiss.read_index(\"ideas_vector_db.faiss\")\n",
    "\n",
    "# Reconstruct vectors by ID\n",
    "def reconstruct_vector(vector_id):\n",
    "    try:\n",
    "        reconstructed_vector = index.reconstruct(vector_id)\n",
    "        return reconstructed_vector\n",
    "    except Exception as e:\n",
    "        print(f\"Error reconstructing vector with ID {vector_id}: {e}\")\n",
    "        return None\n",
    "\n",
    "# Example: Reconstruct a vector\n",
    "example_id = 0  # Replace with the ID you want to reconstruct\n",
    "reconstructed = reconstruct_vector(example_id)\n",
    "\n",
    "if reconstructed is not None:\n",
    "    print(f\"Reconstructed vector for ID {example_id}: {reconstructed}\")\n",
    "else:\n",
    "    print(f\"Failed to reconstruct vector for ID {example_id}.\")\n"
   ]
  }
 ],
 "metadata": {
  "kernelspec": {
   "display_name": "nunu24",
   "language": "python",
   "name": "python3"
  },
  "language_info": {
   "codemirror_mode": {
    "name": "ipython",
    "version": 3
   },
   "file_extension": ".py",
   "mimetype": "text/x-python",
   "name": "python",
   "nbconvert_exporter": "python",
   "pygments_lexer": "ipython3",
   "version": "3.12.7"
  }
 },
 "nbformat": 4,
 "nbformat_minor": 2
}
