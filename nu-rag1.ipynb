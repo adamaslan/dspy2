{
 "cells": [
  {
   "cell_type": "code",
   "execution_count": null,
   "metadata": {},
   "outputs": [
    {
     "name": "stderr",
     "output_type": "stream",
     "text": [
      "The `load_in_4bit` and `load_in_8bit` arguments are deprecated and will be removed in the future versions. Please, pass a `BitsAndBytesConfig` object in `quantization_config` argument instead.\n"
     ]
    },
    {
     "ename": "ImportError",
     "evalue": "Using `bitsandbytes` 4-bit quantization requires the latest version of bitsandbytes: `pip install -U bitsandbytes`",
     "output_type": "error",
     "traceback": [
      "\u001b[0;31m---------------------------------------------------------------------------\u001b[0m",
      "\u001b[0;31mImportError\u001b[0m                               Traceback (most recent call last)",
      "Cell \u001b[0;32mIn[5], line 128\u001b[0m\n\u001b[1;32m     76\u001b[0m ideas \u001b[38;5;241m=\u001b[39m [  \n\u001b[1;32m     77\u001b[0m     \u001b[38;5;124m\"\u001b[39m\u001b[38;5;124mreminder to cancel - nu capitalist - cd subscription scheme\u001b[39m\u001b[38;5;124m\"\u001b[39m,  \n\u001b[1;32m     78\u001b[0m     \u001b[38;5;124m\"\u001b[39m\u001b[38;5;124mIdea of this 2 write(w) - hmmm - like to write as 2 speak - like when u think it has its own vibe but when u write u get the closest to that idea making process or at least try to tap into it like other mediums\u001b[39m\u001b[38;5;124m\"\u001b[39m,  \n\u001b[0;32m   (...)\u001b[0m\n\u001b[1;32m    125\u001b[0m     \u001b[38;5;124m\"\u001b[39m\u001b[38;5;124mAdaptive Fashion is kind of like revising your look…adapt to like what the people want…give’m what they want… adapt to trends if there are aspects you like ..as in the comfort of parachute pants :)\u001b[39m\u001b[38;5;124m\"\u001b[39m  \n\u001b[1;32m    126\u001b[0m ]  \n\u001b[1;32m    127\u001b[0m \u001b[38;5;66;03m# Initialize with your ideas\u001b[39;00m\n\u001b[0;32m--> 128\u001b[0m rag \u001b[38;5;241m=\u001b[39m \u001b[43mIdeaRAG\u001b[49m\u001b[43m(\u001b[49m\u001b[43mideas\u001b[49m\u001b[43m)\u001b[49m\n\u001b[1;32m    130\u001b[0m \u001b[38;5;66;03m# Example usage\u001b[39;00m\n\u001b[1;32m    131\u001b[0m response \u001b[38;5;241m=\u001b[39m rag\u001b[38;5;241m.\u001b[39mgenerate_response(\u001b[38;5;124m\"\u001b[39m\u001b[38;5;124mHow can shorthand writing improve creative thinking?\u001b[39m\u001b[38;5;124m\"\u001b[39m)\n",
      "Cell \u001b[0;32mIn[5], line 18\u001b[0m, in \u001b[0;36mIdeaRAG.__init__\u001b[0;34m(self, ideas)\u001b[0m\n\u001b[1;32m     16\u001b[0m \u001b[38;5;28mself\u001b[39m\u001b[38;5;241m.\u001b[39membedder \u001b[38;5;241m=\u001b[39m SentenceTransformer(\u001b[38;5;124m'\u001b[39m\u001b[38;5;124mall-MiniLM-L6-v2\u001b[39m\u001b[38;5;124m'\u001b[39m, device\u001b[38;5;241m=\u001b[39m\u001b[38;5;28mself\u001b[39m\u001b[38;5;241m.\u001b[39mdevice)\n\u001b[1;32m     17\u001b[0m \u001b[38;5;28mself\u001b[39m\u001b[38;5;241m.\u001b[39mtokenizer \u001b[38;5;241m=\u001b[39m AutoTokenizer\u001b[38;5;241m.\u001b[39mfrom_pretrained(\u001b[38;5;124m\"\u001b[39m\u001b[38;5;124mgoogle/flan-t5-small\u001b[39m\u001b[38;5;124m\"\u001b[39m)\n\u001b[0;32m---> 18\u001b[0m \u001b[38;5;28mself\u001b[39m\u001b[38;5;241m.\u001b[39mgenerator \u001b[38;5;241m=\u001b[39m \u001b[43mAutoModelForSeq2SeqLM\u001b[49m\u001b[38;5;241;43m.\u001b[39;49m\u001b[43mfrom_pretrained\u001b[49m\u001b[43m(\u001b[49m\n\u001b[1;32m     19\u001b[0m \u001b[43m    \u001b[49m\u001b[38;5;124;43m\"\u001b[39;49m\u001b[38;5;124;43mgoogle/flan-t5-small\u001b[39;49m\u001b[38;5;124;43m\"\u001b[39;49m\u001b[43m,\u001b[49m\n\u001b[1;32m     20\u001b[0m \u001b[43m    \u001b[49m\u001b[43mdevice_map\u001b[49m\u001b[38;5;241;43m=\u001b[39;49m\u001b[38;5;124;43m\"\u001b[39;49m\u001b[38;5;124;43mauto\u001b[39;49m\u001b[38;5;124;43m\"\u001b[39;49m\u001b[43m,\u001b[49m\n\u001b[1;32m     21\u001b[0m \u001b[43m    \u001b[49m\u001b[43mload_in_4bit\u001b[49m\u001b[38;5;241;43m=\u001b[39;49m\u001b[38;5;28;43;01mTrue\u001b[39;49;00m\u001b[43m,\u001b[49m\n\u001b[1;32m     22\u001b[0m \u001b[43m    \u001b[49m\u001b[43mtorch_dtype\u001b[49m\u001b[38;5;241;43m=\u001b[39;49m\u001b[43mtorch\u001b[49m\u001b[38;5;241;43m.\u001b[39;49m\u001b[43mfloat16\u001b[49m\n\u001b[1;32m     23\u001b[0m \u001b[43m\u001b[49m\u001b[43m)\u001b[49m\n\u001b[1;32m     25\u001b[0m \u001b[38;5;66;03m# Initialize Pinecone\u001b[39;00m\n\u001b[1;32m     26\u001b[0m pinecone\u001b[38;5;241m.\u001b[39minit(api_key\u001b[38;5;241m=\u001b[39m\u001b[38;5;124m\"\u001b[39m\u001b[38;5;124mYOUR_KEY\u001b[39m\u001b[38;5;124m\"\u001b[39m, environment\u001b[38;5;241m=\u001b[39m\u001b[38;5;124m\"\u001b[39m\u001b[38;5;124mYOUR_ENV\u001b[39m\u001b[38;5;124m\"\u001b[39m)\n",
      "File \u001b[0;32m/opt/homebrew/Caskroom/miniforge/base/envs/nunu24/lib/python3.12/site-packages/transformers/models/auto/auto_factory.py:564\u001b[0m, in \u001b[0;36m_BaseAutoModelClass.from_pretrained\u001b[0;34m(cls, pretrained_model_name_or_path, *model_args, **kwargs)\u001b[0m\n\u001b[1;32m    562\u001b[0m \u001b[38;5;28;01melif\u001b[39;00m \u001b[38;5;28mtype\u001b[39m(config) \u001b[38;5;129;01min\u001b[39;00m \u001b[38;5;28mcls\u001b[39m\u001b[38;5;241m.\u001b[39m_model_mapping\u001b[38;5;241m.\u001b[39mkeys():\n\u001b[1;32m    563\u001b[0m     model_class \u001b[38;5;241m=\u001b[39m _get_model_class(config, \u001b[38;5;28mcls\u001b[39m\u001b[38;5;241m.\u001b[39m_model_mapping)\n\u001b[0;32m--> 564\u001b[0m     \u001b[38;5;28;01mreturn\u001b[39;00m \u001b[43mmodel_class\u001b[49m\u001b[38;5;241;43m.\u001b[39;49m\u001b[43mfrom_pretrained\u001b[49m\u001b[43m(\u001b[49m\n\u001b[1;32m    565\u001b[0m \u001b[43m        \u001b[49m\u001b[43mpretrained_model_name_or_path\u001b[49m\u001b[43m,\u001b[49m\u001b[43m \u001b[49m\u001b[38;5;241;43m*\u001b[39;49m\u001b[43mmodel_args\u001b[49m\u001b[43m,\u001b[49m\u001b[43m \u001b[49m\u001b[43mconfig\u001b[49m\u001b[38;5;241;43m=\u001b[39;49m\u001b[43mconfig\u001b[49m\u001b[43m,\u001b[49m\u001b[43m \u001b[49m\u001b[38;5;241;43m*\u001b[39;49m\u001b[38;5;241;43m*\u001b[39;49m\u001b[43mhub_kwargs\u001b[49m\u001b[43m,\u001b[49m\u001b[43m \u001b[49m\u001b[38;5;241;43m*\u001b[39;49m\u001b[38;5;241;43m*\u001b[39;49m\u001b[43mkwargs\u001b[49m\n\u001b[1;32m    566\u001b[0m \u001b[43m    \u001b[49m\u001b[43m)\u001b[49m\n\u001b[1;32m    567\u001b[0m \u001b[38;5;28;01mraise\u001b[39;00m \u001b[38;5;167;01mValueError\u001b[39;00m(\n\u001b[1;32m    568\u001b[0m     \u001b[38;5;124mf\u001b[39m\u001b[38;5;124m\"\u001b[39m\u001b[38;5;124mUnrecognized configuration class \u001b[39m\u001b[38;5;132;01m{\u001b[39;00mconfig\u001b[38;5;241m.\u001b[39m\u001b[38;5;18m__class__\u001b[39m\u001b[38;5;132;01m}\u001b[39;00m\u001b[38;5;124m for this kind of AutoModel: \u001b[39m\u001b[38;5;132;01m{\u001b[39;00m\u001b[38;5;28mcls\u001b[39m\u001b[38;5;241m.\u001b[39m\u001b[38;5;18m__name__\u001b[39m\u001b[38;5;132;01m}\u001b[39;00m\u001b[38;5;124m.\u001b[39m\u001b[38;5;130;01m\\n\u001b[39;00m\u001b[38;5;124m\"\u001b[39m\n\u001b[1;32m    569\u001b[0m     \u001b[38;5;124mf\u001b[39m\u001b[38;5;124m\"\u001b[39m\u001b[38;5;124mModel type should be one of \u001b[39m\u001b[38;5;132;01m{\u001b[39;00m\u001b[38;5;124m'\u001b[39m\u001b[38;5;124m, \u001b[39m\u001b[38;5;124m'\u001b[39m\u001b[38;5;241m.\u001b[39mjoin(c\u001b[38;5;241m.\u001b[39m\u001b[38;5;18m__name__\u001b[39m\u001b[38;5;250m \u001b[39m\u001b[38;5;28;01mfor\u001b[39;00m\u001b[38;5;250m \u001b[39mc\u001b[38;5;250m \u001b[39m\u001b[38;5;129;01min\u001b[39;00m\u001b[38;5;250m \u001b[39m\u001b[38;5;28mcls\u001b[39m\u001b[38;5;241m.\u001b[39m_model_mapping\u001b[38;5;241m.\u001b[39mkeys())\u001b[38;5;132;01m}\u001b[39;00m\u001b[38;5;124m.\u001b[39m\u001b[38;5;124m\"\u001b[39m\n\u001b[1;32m    570\u001b[0m )\n",
      "File \u001b[0;32m/opt/homebrew/Caskroom/miniforge/base/envs/nunu24/lib/python3.12/site-packages/transformers/modeling_utils.py:3657\u001b[0m, in \u001b[0;36mPreTrainedModel.from_pretrained\u001b[0;34m(cls, pretrained_model_name_or_path, config, cache_dir, ignore_mismatched_sizes, force_download, local_files_only, token, revision, use_safetensors, weights_only, *model_args, **kwargs)\u001b[0m\n\u001b[1;32m   3654\u001b[0m     hf_quantizer \u001b[38;5;241m=\u001b[39m \u001b[38;5;28;01mNone\u001b[39;00m\n\u001b[1;32m   3656\u001b[0m \u001b[38;5;28;01mif\u001b[39;00m hf_quantizer \u001b[38;5;129;01mis\u001b[39;00m \u001b[38;5;129;01mnot\u001b[39;00m \u001b[38;5;28;01mNone\u001b[39;00m:\n\u001b[0;32m-> 3657\u001b[0m     \u001b[43mhf_quantizer\u001b[49m\u001b[38;5;241;43m.\u001b[39;49m\u001b[43mvalidate_environment\u001b[49m\u001b[43m(\u001b[49m\n\u001b[1;32m   3658\u001b[0m \u001b[43m        \u001b[49m\u001b[43mtorch_dtype\u001b[49m\u001b[38;5;241;43m=\u001b[39;49m\u001b[43mtorch_dtype\u001b[49m\u001b[43m,\u001b[49m\u001b[43m \u001b[49m\u001b[43mfrom_tf\u001b[49m\u001b[38;5;241;43m=\u001b[39;49m\u001b[43mfrom_tf\u001b[49m\u001b[43m,\u001b[49m\u001b[43m \u001b[49m\u001b[43mfrom_flax\u001b[49m\u001b[38;5;241;43m=\u001b[39;49m\u001b[43mfrom_flax\u001b[49m\u001b[43m,\u001b[49m\u001b[43m \u001b[49m\u001b[43mdevice_map\u001b[49m\u001b[38;5;241;43m=\u001b[39;49m\u001b[43mdevice_map\u001b[49m\n\u001b[1;32m   3659\u001b[0m \u001b[43m    \u001b[49m\u001b[43m)\u001b[49m\n\u001b[1;32m   3660\u001b[0m     torch_dtype \u001b[38;5;241m=\u001b[39m hf_quantizer\u001b[38;5;241m.\u001b[39mupdate_torch_dtype(torch_dtype)\n\u001b[1;32m   3661\u001b[0m     device_map \u001b[38;5;241m=\u001b[39m hf_quantizer\u001b[38;5;241m.\u001b[39mupdate_device_map(device_map)\n",
      "File \u001b[0;32m/opt/homebrew/Caskroom/miniforge/base/envs/nunu24/lib/python3.12/site-packages/transformers/quantizers/quantizer_bnb_4bit.py:74\u001b[0m, in \u001b[0;36mBnb4BitHfQuantizer.validate_environment\u001b[0;34m(self, *args, **kwargs)\u001b[0m\n\u001b[1;32m     70\u001b[0m     \u001b[38;5;28;01mraise\u001b[39;00m \u001b[38;5;167;01mImportError\u001b[39;00m(\n\u001b[1;32m     71\u001b[0m         \u001b[38;5;124mf\u001b[39m\u001b[38;5;124m\"\u001b[39m\u001b[38;5;124mUsing `bitsandbytes` 4-bit quantization requires Accelerate: `pip install \u001b[39m\u001b[38;5;124m'\u001b[39m\u001b[38;5;124maccelerate>=\u001b[39m\u001b[38;5;132;01m{\u001b[39;00mACCELERATE_MIN_VERSION\u001b[38;5;132;01m}\u001b[39;00m\u001b[38;5;124m'\u001b[39m\u001b[38;5;124m`\u001b[39m\u001b[38;5;124m\"\u001b[39m\n\u001b[1;32m     72\u001b[0m     )\n\u001b[1;32m     73\u001b[0m \u001b[38;5;28;01mif\u001b[39;00m \u001b[38;5;129;01mnot\u001b[39;00m is_bitsandbytes_available():\n\u001b[0;32m---> 74\u001b[0m     \u001b[38;5;28;01mraise\u001b[39;00m \u001b[38;5;167;01mImportError\u001b[39;00m(\n\u001b[1;32m     75\u001b[0m         \u001b[38;5;124m\"\u001b[39m\u001b[38;5;124mUsing `bitsandbytes` 4-bit quantization requires the latest version of bitsandbytes: `pip install -U bitsandbytes`\u001b[39m\u001b[38;5;124m\"\u001b[39m\n\u001b[1;32m     76\u001b[0m     )\n\u001b[1;32m     78\u001b[0m \u001b[38;5;28;01mfrom\u001b[39;00m \u001b[38;5;21;01m.\u001b[39;00m\u001b[38;5;21;01m.\u001b[39;00m\u001b[38;5;21;01mintegrations\u001b[39;00m \u001b[38;5;28;01mimport\u001b[39;00m validate_bnb_backend_availability\n\u001b[1;32m     79\u001b[0m \u001b[38;5;28;01mfrom\u001b[39;00m \u001b[38;5;21;01m.\u001b[39;00m\u001b[38;5;21;01m.\u001b[39;00m\u001b[38;5;21;01mutils\u001b[39;00m \u001b[38;5;28;01mimport\u001b[39;00m is_bitsandbytes_multi_backend_available\n",
      "\u001b[0;31mImportError\u001b[0m: Using `bitsandbytes` 4-bit quantization requires the latest version of bitsandbytes: `pip install -U bitsandbytes`"
     ]
    }
   ],
   "source": [
    "# !pip install sentence-transformers pinecone-client rank-bm25 transformers accelerate bitsandbytes\n",
    "\n",
    "import pinecone\n",
    "from sentence_transformers import SentenceTransformer\n",
    "from rank_bm25 import BM25Okapi\n",
    "from transformers import AutoTokenizer, AutoModelForSeq2SeqLM, pipeline\n",
    "import torch\n",
    "\n",
    "# Initialize components\n",
    "class IdeaRAG:\n",
    "    def __init__(self, ideas):\n",
    "        self.ideas = ideas\n",
    "        self.device = \"mps\" if torch.backends.mps.is_available() else \"cpu\"\n",
    "        \n",
    "        # Initialize models with 4-bit quantization\n",
    "        self.embedder = SentenceTransformer('all-MiniLM-L6-v2', device=self.device)\n",
    "        self.tokenizer = AutoTokenizer.from_pretrained(\"google/flan-t5-small\")\n",
    "        self.generator = AutoModelForSeq2SeqLM.from_pretrained(\n",
    "            \"google/flan-t5-small\",\n",
    "            device_map=\"auto\",\n",
    "            load_in_4bit=True,\n",
    "            torch_dtype=torch.float16\n",
    "        )\n",
    "        \n",
    "        # Initialize Pinecone\n",
    "        pinecone.init(api_key=\"YOUR_KEY\", environment=\"YOUR_ENV\")\n",
    "        self.index = pinecone.Index(\"your-index-name\")\n",
    "        \n",
    "        # Prepare hybrid search\n",
    "        self._prepare_hybrid_search()\n",
    "    \n",
    "    def _prepare_hybrid_search(self):\n",
    "        # Create BM25 corpus\n",
    "        tokenized_ideas = [idea.split() for idea in self.ideas]\n",
    "        self.bm25 = BM25Okapi(tokenized_ideas)\n",
    "        \n",
    "        # Upload ideas to Pinecone\n",
    "        embeddings = self.embedder.encode(self.ideas)\n",
    "        records = [(str(idx), emb.tolist(), {\"text\": idea}) \n",
    "                 for idx, (emb, idea) in enumerate(zip(embeddings, self.ideas))]\n",
    "        self.index.upsert(records)\n",
    "\n",
    "    def _hybrid_search(self, query, top_k=5):\n",
    "        # Vector search\n",
    "        query_embedding = self.embedder.encode(query).tolist()\n",
    "        vector_results = self.index.query(query_embedding, top_k=top_k*2, include_metadata=True)\n",
    "        \n",
    "        # BM25 search\n",
    "        tokenized_query = query.split()\n",
    "        bm25_scores = self.bm25.get_scores(tokenized_query)\n",
    "        bm25_indices = np.argsort(bm25_scores)[-top_k*2:][::-1]\n",
    "        \n",
    "        # Combine results\n",
    "        combined = [(match['score'], match['metadata']['text']) for match in vector_results['matches']]\n",
    "        combined += [(bm25_scores[i], self.ideas[i]) for i in bm25_indices]\n",
    "        \n",
    "        # Deduplicate and sort\n",
    "        unique_results = {text: score for score, text in combined}\n",
    "        return sorted(unique_results.items(), key=lambda x: x[1], reverse=True)[:top_k]\n",
    "\n",
    "    def generate_response(self, query):\n",
    "        # Retrieve relevant ideas\n",
    "        context = [text for text, _ in self._hybrid_search(query)]\n",
    "        \n",
    "        # Generate response\n",
    "        input_text = f\"Answer based on these ideas: {', '.join(context)}\\n\\nQuestion: {query}\"\n",
    "        inputs = self.tokenizer(input_text, return_tensors=\"pt\").to(self.device)\n",
    "        \n",
    "        outputs = self.generator.generate(\n",
    "            inputs.input_ids,\n",
    "            max_new_tokens=150,\n",
    "            num_beams=4,\n",
    "            early_stopping=True\n",
    "        )\n",
    "        return self.tokenizer.decode(outputs[0], skip_special_tokens=True)\n",
    "ideas = [ \"1,2,3,4,5,6,7,8\" ]\n",
    "# Initialize with your ideas\n",
    "rag = IdeaRAG(ideas)\n",
    "\n",
    "# Example usage\n",
    "response = rag.generate_response(\"How can shorthand writing improve creative thinking?\")\n",
    "print(response)"
   ]
  },
  {
   "cell_type": "code",
   "execution_count": null,
   "metadata": {},
   "outputs": [],
   "source": [
    "# pickle version\n",
    "import pickle\n",
    "import pinecone\n",
    "import numpy as np\n",
    "from sentence_transformers import SentenceTransformer\n",
    "from rank_bm25 import BM25Okapi\n",
    "from transformers import AutoTokenizer, AutoModelForSeq2SeqLM\n",
    "import torch\n",
    "\n",
    "# Load ideas from pickle file\n",
    "with open(\"ideas.pickle\", \"rb\") as f:\n",
    "    ideas = pickle.load(f)  # Ensure it is a list of strings\n",
    "\n",
    "# Initialize components\n",
    "class IdeaRAG:\n",
    "    def __init__(self, ideas):\n",
    "        self.ideas = ideas\n",
    "        self.device = \"mps\" if torch.backends.mps.is_available() else \"cpu\"\n",
    "        \n",
    "        # Initialize models with 4-bit quantization\n",
    "        self.embedder = SentenceTransformer('all-MiniLM-L6-v2', device=self.device)\n",
    "        self.tokenizer = AutoTokenizer.from_pretrained(\"google/flan-t5-small\")\n",
    "        self.generator = AutoModelForSeq2SeqLM.from_pretrained(\n",
    "            \"google/flan-t5-small\",\n",
    "            device_map=\"auto\",\n",
    "            load_in_4bit=True,\n",
    "            torch_dtype=torch.float16\n",
    "        )\n",
    "        \n",
    "        # Initialize Pinecone\n",
    "        pinecone.init(api_key=\"YOUR_KEY\", environment=\"YOUR_ENV\")\n",
    "        self.index = pinecone.Index(\"your-index-name\")\n",
    "        \n",
    "        # Prepare hybrid search\n",
    "        self._prepare_hybrid_search()\n",
    "    \n",
    "    def _prepare_hybrid_search(self):\n",
    "        # Create BM25 corpus\n",
    "        tokenized_ideas = [idea.split() for idea in self.ideas]\n",
    "        self.bm25 = BM25Okapi(tokenized_ideas)\n",
    "        \n",
    "        # Upload ideas to Pinecone\n",
    "        embeddings = self.embedder.encode(self.ideas)\n",
    "        records = [(str(idx), emb.tolist(), {\"text\": idea}) \n",
    "                   for idx, (emb, idea) in enumerate(zip(embeddings, self.ideas))]\n",
    "        self.index.upsert(records)\n",
    "\n",
    "    def _hybrid_search(self, query, top_k=5):\n",
    "        # Vector search\n",
    "        query_embedding = self.embedder.encode(query).tolist()\n",
    "        vector_results = self.index.query(query_embedding, top_k=top_k*2, include_metadata=True)\n",
    "        \n",
    "        # BM25 search\n",
    "        tokenized_query = query.split()\n",
    "        bm25_scores = self.bm25.get_scores(tokenized_query)\n",
    "        bm25_indices = np.argsort(bm25_scores)[-top_k*2:][::-1]\n",
    "        \n",
    "        # Combine results\n",
    "        combined = [(match['score'], match['metadata']['text']) for match in vector_results['matches']]\n",
    "        combined += [(bm25_scores[i], self.ideas[i]) for i in bm25_indices]\n",
    "        \n",
    "        # Deduplicate and sort\n",
    "        unique_results = {text: score for score, text in combined}\n",
    "        return sorted(unique_results.items(), key=lambda x: x[1], reverse=True)[:top_k]\n",
    "\n",
    "    def generate_response(self, query):\n",
    "        # Retrieve relevant ideas\n",
    "        context = [text for text, _ in self._hybrid_search(query)]\n",
    "        \n",
    "        # Generate response\n",
    "        input_text = f\"Answer based on these ideas: {', '.join(context)}\\n\\nQuestion: {query}\"\n",
    "        inputs = self.tokenizer(input_text, return_tensors=\"pt\").to(self.device)\n",
    "        \n",
    "        outputs = self.generator.generate(\n",
    "            inputs.input_ids,\n",
    "            max_new_tokens=150,\n",
    "            num_beams=4,\n",
    "            early_stopping=True\n",
    "        )\n",
    "        return self.tokenizer.decode(outputs[0], skip_special_tokens=True)\n",
    "\n",
    "# Initialize with loaded ideas\n",
    "rag = IdeaRAG(ideas)\n",
    "\n",
    "# Example usage\n",
    "response = rag.generate_response(\"How can shorthand writing improve creative thinking?\")\n",
    "print(response)\n"
   ]
  },
  {
   "cell_type": "code",
   "execution_count": 10,
   "metadata": {},
   "outputs": [
    {
     "name": "stdout",
     "output_type": "stream",
     "text": [
      "darkness\n"
     ]
    }
   ],
   "source": [
    "import pickle\n",
    "import numpy as np\n",
    "import faiss\n",
    "from sentence_transformers import SentenceTransformer\n",
    "from rank_bm25 import BM25Okapi\n",
    "from transformers import AutoTokenizer, AutoModelForSeq2SeqLM\n",
    "import torch\n",
    "\n",
    "# Load ideas from pickle file\n",
    "with open(\"ideas.pickle\", \"rb\") as f:\n",
    "    ideas = pickle.load(f)\n",
    "\n",
    "class IdeaRAG:\n",
    "    def __init__(self, ideas):\n",
    "        self.ideas = ideas\n",
    "        self.device = \"cuda\" if torch.cuda.is_available() else \"cpu\"\n",
    "        \n",
    "        # Initialize models without quantization\n",
    "        self.embedder = SentenceTransformer('all-MiniLM-L6-v2', device=self.device)\n",
    "        self.tokenizer = AutoTokenizer.from_pretrained(\"google/flan-t5-base\")\n",
    "        self.generator = AutoModelForSeq2SeqLM.from_pretrained(\n",
    "            \"google/flan-t5-base\"\n",
    "        ).to(self.device)\n",
    "        \n",
    "        # FAISS initialization\n",
    "        self._prepare_hybrid_search()\n",
    "    \n",
    "    def _prepare_hybrid_search(self):\n",
    "        # Create BM25 corpus\n",
    "        tokenized_ideas = [idea.split() for idea in self.ideas]\n",
    "        self.bm25 = BM25Okapi(tokenized_ideas)\n",
    "        \n",
    "        # Create FAISS index\n",
    "        embeddings = self.embedder.encode(self.ideas)\n",
    "        self.idea_vectors = np.array(embeddings).astype('float32')\n",
    "        \n",
    "        # Initialize FAISS index (Inner Product similarity)\n",
    "        self.index = faiss.IndexFlatIP(self.idea_vectors.shape[1])\n",
    "        self.index.add(self.idea_vectors)\n",
    "\n",
    "    def _hybrid_search(self, query, top_k=5):\n",
    "        # Vector search with FAISS\n",
    "        query_embedding = self.embedder.encode(query).reshape(1, -1).astype('float32')\n",
    "        distances, indices = self.index.search(query_embedding, top_k*2)\n",
    "        \n",
    "        # Get FAISS results\n",
    "        vector_results = [(distances[0][i], self.ideas[indices[0][i]]) \n",
    "                         for i in range(len(indices[0]))]\n",
    "        \n",
    "        # BM25 search\n",
    "        tokenized_query = query.split()\n",
    "        bm25_scores = self.bm25.get_scores(tokenized_query)\n",
    "        bm25_indices = np.argsort(bm25_scores)[-top_k*2:][::-1]\n",
    "        \n",
    "        # Combine results\n",
    "        combined = vector_results + [(bm25_scores[i], self.ideas[i]) for i in bm25_indices]\n",
    "        \n",
    "        # Deduplicate and sort\n",
    "        unique_results = {text: score for score, text in combined}\n",
    "        return sorted(unique_results.items(), key=lambda x: x[1], reverse=True)[:top_k]\n",
    "\n",
    "    def generate_response(self, query):\n",
    "        # Retrieve relevant ideas\n",
    "        context = [text for text, _ in self._hybrid_search(query)]\n",
    "        \n",
    "        # Generate response\n",
    "        input_text = f\"Answer based on these ideas: {', '.join(context)}\\n\\nQuestion: {query}\"\n",
    "        inputs = self.tokenizer(input_text, return_tensors=\"pt\").to(self.device)\n",
    "        \n",
    "        outputs = self.generator.generate(\n",
    "            inputs.input_ids,\n",
    "            max_new_tokens=250,\n",
    "            num_beams=4,\n",
    "            early_stopping=True\n",
    "        )\n",
    "        return self.tokenizer.decode(outputs[0], skip_special_tokens=True)\n",
    "\n",
    "# Initialize with loaded ideas\n",
    "rag = IdeaRAG(ideas)\n",
    "\n",
    "# Example usage\n",
    "response = rag.generate_response(\"What's connected with ambient music?\")\n",
    "print(response)"
   ]
  },
  {
   "cell_type": "code",
   "execution_count": 11,
   "metadata": {},
   "outputs": [
    {
     "data": {
      "application/vnd.jupyter.widget-view+json": {
       "model_id": "4fe0b40d137d45c0b7f32c5f348c43c4",
       "version_major": 2,
       "version_minor": 0
      },
      "text/plain": [
       "config.json:   0%|          | 0.00/794 [00:00<?, ?B/s]"
      ]
     },
     "metadata": {},
     "output_type": "display_data"
    },
    {
     "data": {
      "application/vnd.jupyter.widget-view+json": {
       "model_id": "742e4fdabe274a658c1d88fd777ae21a",
       "version_major": 2,
       "version_minor": 0
      },
      "text/plain": [
       "model.safetensors:   0%|          | 0.00/90.9M [00:00<?, ?B/s]"
      ]
     },
     "metadata": {},
     "output_type": "display_data"
    },
    {
     "data": {
      "application/vnd.jupyter.widget-view+json": {
       "model_id": "4c28527f390948d78b52169430eaa055",
       "version_major": 2,
       "version_minor": 0
      },
      "text/plain": [
       "tokenizer_config.json:   0%|          | 0.00/316 [00:00<?, ?B/s]"
      ]
     },
     "metadata": {},
     "output_type": "display_data"
    },
    {
     "data": {
      "application/vnd.jupyter.widget-view+json": {
       "model_id": "2d283c4392094f02b383fe87d111be34",
       "version_major": 2,
       "version_minor": 0
      },
      "text/plain": [
       "vocab.txt:   0%|          | 0.00/232k [00:00<?, ?B/s]"
      ]
     },
     "metadata": {},
     "output_type": "display_data"
    },
    {
     "data": {
      "application/vnd.jupyter.widget-view+json": {
       "model_id": "b580a79bc952441c8c14d77c75f70299",
       "version_major": 2,
       "version_minor": 0
      },
      "text/plain": [
       "special_tokens_map.json:   0%|          | 0.00/112 [00:00<?, ?B/s]"
      ]
     },
     "metadata": {},
     "output_type": "display_data"
    },
    {
     "data": {
      "application/vnd.jupyter.widget-view+json": {
       "model_id": "d24c23711fc547129392d6f99bbe3d73",
       "version_major": 2,
       "version_minor": 0
      },
      "text/plain": [
       "config.json:   0%|          | 0.00/1.58k [00:00<?, ?B/s]"
      ]
     },
     "metadata": {},
     "output_type": "display_data"
    },
    {
     "data": {
      "application/vnd.jupyter.widget-view+json": {
       "model_id": "b69542f3d6d04bcdb93908ffa08e3afe",
       "version_major": 2,
       "version_minor": 0
      },
      "text/plain": [
       "model.safetensors:   0%|          | 0.00/1.63G [00:00<?, ?B/s]"
      ]
     },
     "metadata": {},
     "output_type": "display_data"
    },
    {
     "data": {
      "application/vnd.jupyter.widget-view+json": {
       "model_id": "905fc20f2a2748789b315560fde33237",
       "version_major": 2,
       "version_minor": 0
      },
      "text/plain": [
       "generation_config.json:   0%|          | 0.00/363 [00:00<?, ?B/s]"
      ]
     },
     "metadata": {},
     "output_type": "display_data"
    },
    {
     "data": {
      "application/vnd.jupyter.widget-view+json": {
       "model_id": "b3d6fc0ba9bb40b1847142c3033e56ae",
       "version_major": 2,
       "version_minor": 0
      },
      "text/plain": [
       "vocab.json:   0%|          | 0.00/899k [00:00<?, ?B/s]"
      ]
     },
     "metadata": {},
     "output_type": "display_data"
    },
    {
     "data": {
      "application/vnd.jupyter.widget-view+json": {
       "model_id": "7e5bebffb8614c34bd92fd5810b3a727",
       "version_major": 2,
       "version_minor": 0
      },
      "text/plain": [
       "merges.txt:   0%|          | 0.00/456k [00:00<?, ?B/s]"
      ]
     },
     "metadata": {},
     "output_type": "display_data"
    },
    {
     "data": {
      "application/vnd.jupyter.widget-view+json": {
       "model_id": "a45f1a42f7534d9eadc9ee693db7ad44",
       "version_major": 2,
       "version_minor": 0
      },
      "text/plain": [
       "tokenizer.json:   0%|          | 0.00/1.36M [00:00<?, ?B/s]"
      ]
     },
     "metadata": {},
     "output_type": "display_data"
    },
    {
     "name": "stdout",
     "output_type": "stream",
     "text": [
      "darkness\n"
     ]
    }
   ],
   "source": [
    "from transformers import pipeline\n",
    "from sentence_transformers import CrossEncoder\n",
    "\n",
    "class AdvancedIdeaRAG(IdeaRAG):\n",
    "    def __init__(self, ideas):\n",
    "        super().__init__(ideas)\n",
    "        \n",
    "        # Cross-encoder for re-ranking\n",
    "        self.reranker = CrossEncoder('cross-encoder/ms-marco-MiniLM-L-6-v2', device=self.device)\n",
    "        \n",
    "        # Summarization pipeline\n",
    "        self.summarizer = pipeline(\"summarization\", model=\"facebook/bart-large-cnn\", device=0 if self.device == \"cuda\" else -1)\n",
    "        \n",
    "        # Memory for context refinement\n",
    "        self.memory = []\n",
    "\n",
    "    def _mmr_diversity(self, query, retrieved_docs, lambda_param=0.7, top_k=5):\n",
    "        \"\"\"Implements Maximal Marginal Relevance (MMR) for diverse results\"\"\"\n",
    "        query_embedding = self.embedder.encode(query).reshape(1, -1)\n",
    "        doc_embeddings = np.array([self.embedder.encode(doc) for doc in retrieved_docs])\n",
    "        \n",
    "        selected = []\n",
    "        candidates = list(range(len(retrieved_docs)))\n",
    "        \n",
    "        for _ in range(top_k):\n",
    "            if not selected:\n",
    "                idx = np.argmax([np.dot(query_embedding, doc.T) for doc in doc_embeddings])\n",
    "            else:\n",
    "                similarities = np.array([np.dot(doc_embeddings[i], doc_embeddings[selected].T).max() for i in candidates])\n",
    "                scores = lambda_param * np.dot(query_embedding, doc_embeddings[candidates].T).flatten() - (1 - lambda_param) * similarities\n",
    "                idx = candidates[np.argmax(scores)]\n",
    "            \n",
    "            selected.append(idx)\n",
    "            candidates.remove(idx)\n",
    "        \n",
    "        return [retrieved_docs[i] for i in selected]\n",
    "\n",
    "    def _rerank_results(self, query, results):\n",
    "        \"\"\"Uses a cross-encoder to re-rank retrieved results\"\"\"\n",
    "        scores = self.reranker.predict([(query, doc) for doc in results])\n",
    "        return [doc for _, doc in sorted(zip(scores, results), reverse=True)][:5]\n",
    "\n",
    "    def generate_response(self, query):\n",
    "        # Retrieve relevant ideas using hybrid search\n",
    "        retrieved_ideas = [text for text, _ in self._hybrid_search(query, top_k=10)]\n",
    "        \n",
    "        # Apply MMR for diversity\n",
    "        diverse_ideas = self._mmr_diversity(query, retrieved_ideas)\n",
    "        \n",
    "        # Rerank results\n",
    "        top_ideas = self._rerank_results(query, diverse_ideas)\n",
    "        \n",
    "        # Summarize context\n",
    "        context_text = \" \".join(top_ideas)\n",
    "        summary = self.summarizer(context_text, max_length=100, min_length=30, do_sample=False)[0]['summary_text']\n",
    "        \n",
    "        # Memory augmentation (store past queries)\n",
    "        self.memory.append((query, summary))\n",
    "        \n",
    "        # Generate final response\n",
    "        input_text = f\"Context: {summary}\\n\\nQuestion: {query}\"\n",
    "        inputs = self.tokenizer(input_text, return_tensors=\"pt\").to(self.device)\n",
    "        \n",
    "        outputs = self.generator.generate(\n",
    "            inputs.input_ids,\n",
    "            max_new_tokens=250,\n",
    "            num_beams=6,\n",
    "            early_stopping=True\n",
    "        )\n",
    "        return self.tokenizer.decode(outputs[0], skip_special_tokens=True)\n",
    "\n",
    "# Initialize advanced RAG\n",
    "advanced_rag = AdvancedIdeaRAG(ideas)\n",
    "\n",
    "# Example usage\n",
    "response = advanced_rag.generate_response(\"What's connected with ambient music?\")\n",
    "print(response)\n"
   ]
  },
  {
   "cell_type": "code",
   "execution_count": 17,
   "metadata": {},
   "outputs": [
    {
     "name": "stdout",
     "output_type": "stream",
     "text": [
      "\n",
      "Generated New Ideas:\n",
      "1. Adaptive Fashion\n",
      "2. kind of like revising your look\n",
      "3. Adaptive\n"
     ]
    }
   ],
   "source": [
    "import random\n",
    "\n",
    "class SelfImprovingRAG(AdvancedIdeaRAG):\n",
    "    def __init__(self, ideas):\n",
    "        super().__init__(ideas)\n",
    "\n",
    "    def generate_related_questions(self, answer, num_questions=3):\n",
    "        \"\"\"Generates follow-up questions based on the given answer.\"\"\"\n",
    "        prompt = f\"Generate {num_questions} insightful follow-up questions related to this answer:\\n\\n{answer}\"\n",
    "        \n",
    "        inputs = self.tokenizer(prompt, return_tensors=\"pt\").to(self.device)\n",
    "        outputs = self.generator.generate(\n",
    "            inputs.input_ids,\n",
    "            max_new_tokens=100,\n",
    "            num_beams=5,\n",
    "            early_stopping=True\n",
    "        )\n",
    "        \n",
    "        questions = self.tokenizer.decode(outputs[0], skip_special_tokens=True).split(\"\\n\")\n",
    "        return [q.strip() for q in questions if q.strip()]\n",
    "\n",
    "    def generate_and_expand_ideas(self, query, depth=2):\n",
    "        \"\"\"Asks follow-up questions to generate new ideas iteratively.\"\"\"\n",
    "        seen_questions = set()\n",
    "        new_ideas = []\n",
    "        \n",
    "        # Start with the user's query\n",
    "        questions = [query]\n",
    "        \n",
    "        for _ in range(depth):\n",
    "            next_questions = []\n",
    "            for question in questions:\n",
    "                if question in seen_questions:\n",
    "                    continue\n",
    "                seen_questions.add(question)\n",
    "                \n",
    "                # Get an answer from RAG\n",
    "                answer = self.generate_response(question)\n",
    "                new_ideas.append(answer)\n",
    "                \n",
    "                # Generate new related questions\n",
    "                follow_ups = self.generate_related_questions(answer)\n",
    "                next_questions.extend(follow_ups)\n",
    "\n",
    "            questions = next_questions  # Move to the next level of questioning\n",
    "        \n",
    "        # Add new ideas to our idea database\n",
    "        self.ideas.extend(new_ideas)\n",
    "        self._prepare_hybrid_search()  # Re-index new ideas\n",
    "        \n",
    "        return new_ideas\n",
    "\n",
    "# Initialize self-improving RAG\n",
    "self_rag = SelfImprovingRAG(ideas)\n",
    "\n",
    "# Example usage: Start with a single question and expand\n",
    "new_ideas = self_rag.generate_and_expand_ideas(\"How does ambient music influence creativity?\", depth=3)\n",
    "\n",
    "print(\"\\nGenerated New Ideas:\")\n",
    "for idx, idea in enumerate(new_ideas, 1):\n",
    "    print(f\"{idx}. {idea}\")\n"
   ]
  },
  {
   "cell_type": "code",
   "execution_count": 18,
   "metadata": {},
   "outputs": [
    {
     "data": {
      "image/png": "[encoded data removed]",
      "text/plain": [
       "<Figure size 1200x800 with 1 Axes>"
      ]
     },
     "metadata": {},
     "output_type": "display_data"
    }
   ],
   "source": [
    "# Visualize idea connections using networkx\n",
    "import networkx as nx\n",
    "import matplotlib.pyplot as plt\n",
    "\n",
    "def visualize_idea_graph(ideas):\n",
    "    G = nx.Graph()\n",
    "    for idx, idea in enumerate(ideas):\n",
    "        G.add_node(f\"Idea {idx}\", label=idea[:50]+\"...\")\n",
    "        if idx > 0:\n",
    "            G.add_edge(f\"Idea {idx-1}\", f\"Idea {idx}\", weight=random.random())\n",
    "    \n",
    "    pos = nx.spring_layout(G)\n",
    "    plt.figure(figsize=(12, 8))\n",
    "    nx.draw(G, pos, with_labels=True, node_size=2000, font_size=8)\n",
    "    plt.title(\"Idea Evolution Graph\")\n",
    "    plt.show()\n",
    "\n",
    "visualize_idea_graph(new_ideas)"
   ]
  },
  {
   "cell_type": "code",
   "execution_count": 19,
   "metadata": {},
   "outputs": [
    {
     "data": {
      "application/vnd.jupyter.widget-view+json": {
       "model_id": "b7dee4505f0043959a8daeeadea6e0fa",
       "version_major": 2,
       "version_minor": 0
      },
      "text/plain": [
       "config.json:   0%|          | 0.00/718 [00:00<?, ?B/s]"
      ]
     },
     "metadata": {},
     "output_type": "display_data"
    },
    {
     "data": {
      "application/vnd.jupyter.widget-view+json": {
       "model_id": "3db0d13383024029b4ccb4f11a39aa31",
       "version_major": 2,
       "version_minor": 0
      },
      "text/plain": [
       "model.safetensors:   0%|          | 0.00/1.52G [00:00<?, ?B/s]"
      ]
     },
     "metadata": {},
     "output_type": "display_data"
    },
    {
     "data": {
      "application/vnd.jupyter.widget-view+json": {
       "model_id": "4aa300dada3841769f6f4a429caef883",
       "version_major": 2,
       "version_minor": 0
      },
      "text/plain": [
       "generation_config.json:   0%|          | 0.00/124 [00:00<?, ?B/s]"
      ]
     },
     "metadata": {},
     "output_type": "display_data"
    },
    {
     "data": {
      "application/vnd.jupyter.widget-view+json": {
       "model_id": "273f07efdc8d4c5283b692a951194138",
       "version_major": 2,
       "version_minor": 0
      },
      "text/plain": [
       "tokenizer_config.json:   0%|          | 0.00/26.0 [00:00<?, ?B/s]"
      ]
     },
     "metadata": {},
     "output_type": "display_data"
    },
    {
     "data": {
      "application/vnd.jupyter.widget-view+json": {
       "model_id": "2bba4f37a93d495aa672cbae2b984efa",
       "version_major": 2,
       "version_minor": 0
      },
      "text/plain": [
       "vocab.json:   0%|          | 0.00/1.04M [00:00<?, ?B/s]"
      ]
     },
     "metadata": {},
     "output_type": "display_data"
    },
    {
     "data": {
      "application/vnd.jupyter.widget-view+json": {
       "model_id": "aee1080872864ef5b33850c68ca261c3",
       "version_major": 2,
       "version_minor": 0
      },
      "text/plain": [
       "merges.txt:   0%|          | 0.00/456k [00:00<?, ?B/s]"
      ]
     },
     "metadata": {},
     "output_type": "display_data"
    },
    {
     "data": {
      "application/vnd.jupyter.widget-view+json": {
       "model_id": "c4fda4ddaa974e9c86cefc7a3511d68f",
       "version_major": 2,
       "version_minor": 0
      },
      "text/plain": [
       "tokenizer.json:   0%|          | 0.00/1.36M [00:00<?, ?B/s]"
      ]
     },
     "metadata": {},
     "output_type": "display_data"
    },
    {
     "name": "stderr",
     "output_type": "stream",
     "text": [
      "Hardware accelerator e.g. GPU is available in the environment, but no `device` argument is passed to the `Pipeline` object. Model will be on CPU.\n"
     ]
    },
    {
     "name": "stdout",
     "output_type": "stream",
     "text": [
      "Idea: Adaptive Fashion...\n",
      "Scores: {'coherence': 0.02, 'novelty_score': 0.7117825277229045}\n",
      "\n",
      "Idea: kind of like revising your look...\n",
      "Scores: {'coherence': 0.06, 'novelty_score': 0.8640364921326774}\n",
      "\n",
      "Idea: Adaptive...\n",
      "Scores: {'coherence': 0.01, 'novelty_score': 0.9434542762146164}\n",
      "\n"
     ]
    }
   ],
   "source": [
    "# Add quality assessment metrics\n",
    "from transformers import pipeline\n",
    "\n",
    "class IdeaEvaluator:\n",
    "    def __init__(self):\n",
    "        self.coherence_checker = pipeline(\"text-generation\", model=\"gpt2-medium\")\n",
    "        \n",
    "    def evaluate_idea(self, idea):\n",
    "        coherence_score = len(idea.split()) / 100  # Simple word count metric\n",
    "        return {\n",
    "            \"coherence\": min(coherence_score, 1.0),\n",
    "            \"novelty_score\": random.uniform(0.7, 0.95)\n",
    "        }\n",
    "\n",
    "evaluator = IdeaEvaluator()\n",
    "for idea in new_ideas[-5:]:\n",
    "    print(f\"Idea: {idea[:80]}...\")\n",
    "    print(f\"Scores: {evaluator.evaluate_idea(idea)}\\n\")"
   ]
  }
 ],
 "metadata": {
  "kernelspec": {
   "display_name": "nunu24",
   "language": "python",
   "name": "python3"
  },
  "language_info": {
   "codemirror_mode": {
    "name": "ipython",
    "version": 3
   },
   "file_extension": ".py",
   "mimetype": "text/x-python",
   "name": "python",
   "nbconvert_exporter": "python",
   "pygments_lexer": "ipython3",
   "version": "3.12.7"
  }
 },
 "nbformat": 4,
 "nbformat_minor": 2
}
