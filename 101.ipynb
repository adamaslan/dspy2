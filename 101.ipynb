{
 "cells": [
  {
   "cell_type": "code",
   "execution_count": 1,
   "metadata": {},
   "outputs": [
    {
     "name": "stdout",
     "output_type": "stream",
     "text": [
      "Prediction(\n",
      "    category='Dogs',\n",
      "    confidence=0.75\n",
      ")\n"
     ]
    }
   ],
   "source": [
    "# DSPy Prompting Guide\n",
    "\n",
    "# Quick Start\n",
    "import dspy\n",
    "\n",
    "lm = dspy.LM('ollama_chat/llama3.2:1b', api_base='http://localhost:11434')\n",
    "dspy.configure(lm=lm)\n",
    "\n",
    "# Defining a Signature\n",
    "from typing import Literal\n",
    "\n",
    "class Categorize(dspy.Signature):\n",
    "    event: str = dspy.InputField()\n",
    "    category: Literal['Animals', 'Dogs', 'Cats', 'Other', 'Philosophy', 'History'] = dspy.OutputField()\n",
    "    confidence: float = dspy.OutputField()\n",
    "\n",
    "# Calling the Module\n",
    "classify = dspy.Predict(Categorize)\n",
    "classification = classify(event=\"[Origin of English Bulldog]\")\n",
    "print(classification)\n",
    "\n",
    "# # Define a placeholder for the validate_category function\n",
    "# def validate_category(example, prediction, trace=None):\n",
    "#     return prediction.category == example.category\n",
    "    \n",
    "# # Optimizing Prompts\n",
    "\n",
    "\n",
    "# # Optimize\n",
    "# tp = dspy.MIPROv2(metric=validate_category, auto=\"light\")\n",
    "# optimized_classify = tp.compile(classify, trainset=trainset, max_labeled_demos=0, max_bootstrapped_demos=0)\n",
    "\n",
    "# from dspy.teleprompt import *\n",
    "# tp = dspy.MIPROv2(metric=validate_category, auto=\"light\")\n",
    "# optimized_classify = tp.compile(classify, trainset=trainset)\n",
    "\n",
    "# # Saving Optimized Systems\n",
    "# optimized_classify.save(\"optimized_event_classifier.json\")\n"
   ]
  },
  {
   "cell_type": "code",
   "execution_count": null,
   "metadata": {},
   "outputs": [],
   "source": []
  },
  {
   "cell_type": "code",
   "execution_count": null,
   "metadata": {},
   "outputs": [],
   "source": [
    "with open(\"0101_events.json\", 'r') as file:\n",
    "    data = json.load(file)\n",
    "    events = pd.DataFrame(data['events'])\n",
    "    \n",
    "    # Using our small model\n",
    "    with dspy.context(lm=dspy.LM('ollama_chat/llama3.2:1b', api_base='http://localhost:11434')):\n",
    "        events['category_32_1b'], events['confidence_32_1b'] = zip(*events['description'].apply(classify_event))\n"
   ]
  },
  {
   "cell_type": "code",
   "execution_count": 3,
   "metadata": {},
   "outputs": [
    {
     "ename": "FileNotFoundError",
     "evalue": "[Errno 2] No such file or directory: 'events'",
     "output_type": "error",
     "traceback": [
      "\u001b[0;31m---------------------------------------------------------------------------\u001b[0m",
      "\u001b[0;31mFileNotFoundError\u001b[0m                         Traceback (most recent call last)",
      "Cell \u001b[0;32mIn[3], line 19\u001b[0m\n\u001b[1;32m     16\u001b[0m events_dir \u001b[38;5;241m=\u001b[39m \u001b[38;5;124m'\u001b[39m\u001b[38;5;124mevents\u001b[39m\u001b[38;5;124m'\u001b[39m\n\u001b[1;32m     18\u001b[0m \u001b[38;5;66;03m# Iterate over all files in the directory\u001b[39;00m\n\u001b[0;32m---> 19\u001b[0m \u001b[38;5;28;01mfor\u001b[39;00m filename \u001b[38;5;129;01min\u001b[39;00m \u001b[43mos\u001b[49m\u001b[38;5;241;43m.\u001b[39;49m\u001b[43mlistdir\u001b[49m\u001b[43m(\u001b[49m\u001b[43mevents_dir\u001b[49m\u001b[43m)\u001b[49m:\n\u001b[1;32m     20\u001b[0m     \u001b[38;5;28;01mif\u001b[39;00m filename\u001b[38;5;241m.\u001b[39mendswith(\u001b[38;5;124m'\u001b[39m\u001b[38;5;124m.json\u001b[39m\u001b[38;5;124m'\u001b[39m):\n\u001b[1;32m     21\u001b[0m         filepath \u001b[38;5;241m=\u001b[39m os\u001b[38;5;241m.\u001b[39mpath\u001b[38;5;241m.\u001b[39mjoin(events_dir, filename)\n",
      "\u001b[0;31mFileNotFoundError\u001b[0m: [Errno 2] No such file or directory: 'events'"
     ]
    }
   ],
   "source": [
    "# Generating example predictions from Llama 3.3\n",
    "import os\n",
    "import json\n",
    "import pandas as pd\n",
    "\n",
    "# Define a function to classify the event description\n",
    "def classify_event(description):\n",
    "    try:\n",
    "        prediction = classify(event=description)\n",
    "        return prediction.category, prediction.confidence\n",
    "    except Exception as e:\n",
    "        return 0, 0\n",
    "\n",
    "with dspy.context(lm=dspy.LM('ollama_chat/llama3.2:1b', api_base='http://localhost:11434')):\n",
    "    # Directory containing the JSON files\n",
    "    events_dir = 'events'\n",
    "\n",
    "    # Iterate over all files in the directory\n",
    "    for filename in os.listdir(events_dir):\n",
    "        if filename.endswith('.json'):\n",
    "            filepath = os.path.join(events_dir, filename)\n",
    "            with open(filepath, 'r') as file:\n",
    "                data = json.load(file)\n",
    "                events = pd.DataFrame(data['events'])\n",
    "                with dspy.context(lm=dspy.LM('ollama_chat/llama3.3', api_base='http://localhost:11434')):\n",
    "                    events['category'], events['confidence'] = zip(*events['description'].progress_apply(classify_event))\n",
    "                # Append the results to a global dataframe\n",
    "                if 'lmma_events' not in globals():\n",
    "                    lmma_events = events\n",
    "                else:\n",
    "                    lmma_events = pd.concat([lmma_events, events], ignore_index=True)\n",
    "                \n",
    "                # Break if the dataframe has more than 300 rows\n",
    "                if len(lmma_events) > 300:\n",
    "                    print('Breaking...')\n",
    "                    break\n",
    "\n",
    "# Save the results to a CSV file\n",
    "lmma_events.to_csv('llama_3_3_trainset.csv', index=False)"
   ]
  },
  {
   "cell_type": "code",
   "execution_count": null,
   "metadata": {},
   "outputs": [],
   "source": [
    "import csv\n",
    "import dspy\n",
    "from dspy.evaluate import Evaluate\n",
    "\n",
    "# Load the trainset\n",
    "trainset = []\n",
    "with open('llama_3_3_trainset.csv', 'r') as file:\n",
    "    reader = csv.DictReader(file)\n",
    "    for row in reader:\n",
    "        example = dspy.Example(event=row['description'], category=row['category']).with_inputs(\"event\")\n",
    "        trainset.append(example)\n",
    "\n",
    "# Evaluate our existing function\n",
    "evaluator = Evaluate(devset=trainset, num_threads=1, display_progress=True, display_table=5)\n",
    "evaluator(classify, metric=validate_category)"
   ]
  },
  {
   "cell_type": "code",
   "execution_count": 1,
   "metadata": {},
   "outputs": [
    {
     "ename": "NameError",
     "evalue": "name 'dspy' is not defined",
     "output_type": "error",
     "traceback": [
      "\u001b[0;31m---------------------------------------------------------------------------\u001b[0m",
      "\u001b[0;31mNameError\u001b[0m                                 Traceback (most recent call last)",
      "Cell \u001b[0;32mIn[1], line 2\u001b[0m\n\u001b[1;32m      1\u001b[0m \u001b[38;5;66;03m# Load our model\u001b[39;00m\n\u001b[0;32m----> 2\u001b[0m lm \u001b[38;5;241m=\u001b[39m \u001b[43mdspy\u001b[49m\u001b[38;5;241m.\u001b[39mLM(\u001b[38;5;124m'\u001b[39m\u001b[38;5;124mollama_chat/llama3.2:1b\u001b[39m\u001b[38;5;124m'\u001b[39m, api_base\u001b[38;5;241m=\u001b[39m\u001b[38;5;124m'\u001b[39m\u001b[38;5;124mhttp://localhost:11434\u001b[39m\u001b[38;5;124m'\u001b[39m)\n\u001b[1;32m      3\u001b[0m dspy\u001b[38;5;241m.\u001b[39mconfigure(lm\u001b[38;5;241m=\u001b[39mlm)\n\u001b[1;32m      5\u001b[0m \u001b[38;5;66;03m# Optimize\u001b[39;00m\n",
      "\u001b[0;31mNameError\u001b[0m: name 'dspy' is not defined"
     ]
    }
   ],
   "source": [
    "\n",
    "# Load our model\n",
    "lm = dspy.LM('ollama_chat/llama3.2:1b', api_base='http://localhost:11434')\n",
    "dspy.configure(lm=lm)\n",
    "\n",
    "# Optimize\n",
    "tp = dspy.MIPROv2(metric=validate_category, auto=\"light\")\n",
    "optimized_classify = tp.compile(classify, trainset=trainset, max_labeled_demos=0, max_bootstrapped_demos=0)"
   ]
  },
  {
   "cell_type": "code",
   "execution_count": null,
   "metadata": {},
   "outputs": [],
   "source": []
  }
 ],
 "metadata": {
  "kernelspec": {
   "display_name": "nunu24",
   "language": "python",
   "name": "python3"
  },
  "language_info": {
   "codemirror_mode": {
    "name": "ipython",
    "version": 3
   },
   "file_extension": ".py",
   "mimetype": "text/x-python",
   "name": "python",
   "nbconvert_exporter": "python",
   "pygments_lexer": "ipython3",
   "version": "3.12.7"
  }
 },
 "nbformat": 4,
 "nbformat_minor": 2
}
